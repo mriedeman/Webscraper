{
 "cells": [
  {
   "cell_type": "code",
   "execution_count": 1,
   "metadata": {
    "scrolled": true
   },
   "outputs": [
    {
     "data": {
      "text/html": [
       "<style>.container { width:100% !important; }</style>"
      ],
      "text/plain": [
       "<IPython.core.display.HTML object>"
      ]
     },
     "metadata": {},
     "output_type": "display_data"
    },
    {
     "data": {
      "text/html": [
       "<style>.output_result { max-width:100% !important; }</style>"
      ],
      "text/plain": [
       "<IPython.core.display.HTML object>"
      ]
     },
     "metadata": {},
     "output_type": "display_data"
    }
   ],
   "source": [
    "\n",
    "import os\n",
    "import pandas as pd\n",
    "#import requests\n",
    "from selenium import webdriver\n",
    "from selenium.common.exceptions import ElementClickInterceptedException, TimeoutException, ElementNotInteractableException, JavascriptException\n",
    "from selenium.webdriver.common.by import By\n",
    "from selenium.webdriver.common.keys import Keys\n",
    "from datetime import date, datetime, timedelta\n",
    "import holidays\n",
    "import time\n",
    "\n",
    "import json\n",
    "\n",
    "from functions import country_holidays, intHolidayClosures, allMondays, buildBrowser, createFilename\n",
    "\n",
    "# makes it easier to see dataframes\n",
    "from IPython.display import display, HTML\n",
    "display(HTML(\"<style>.container { width:100% !important; }</style>\"))\n",
    "display(HTML(\"<style>.output_result { max-width:100% !important; }</style>\"))\n",
    "pd.set_option('expand_frame_repr', False)\n",
    "\n"
   ]
  },
  {
   "cell_type": "markdown",
   "metadata": {},
   "source": [
    "### Creates a list of trips starting on Mondays and lasting 17 days. International holidays closures and country holidays are taken into account."
   ]
  },
  {
   "cell_type": "code",
   "execution_count": 2,
   "metadata": {},
   "outputs": [],
   "source": [
    "int_stop_date = date(2022, 12, 31)\n",
    "dom_stop_date = date(2022, 12, 31)\n",
    "\n",
    "\n",
    "# function to generate list of trips from (Specific to Camper Travel USA)\n",
    "def create_trips(int_stop_date, US):\n",
    "    for pu_d in allMondays(int_stop_date):\n",
    "        # drop off date is 17 days after today, average internation reservation is 17 days\n",
    "        do_d = pu_d + timedelta(17)\n",
    "        # for all mondays after today (weeks = 36, is the following year)\n",
    "        if pu_d > date.today() + timedelta(10):\n",
    "            # if monday is a holiday, change pickup to Tuesday\n",
    "            if pu_d in intHolidayClosures(country_holidays, US):\n",
    "                pu_d += timedelta(1)\n",
    "            # if Thursday is a holiday, change drop off to Wednesday\n",
    "            if do_d in intHolidayClosures(country_holidays, US):\n",
    "                do_d -= timedelta(1)\n",
    "            #We should use yield when we want to iterate over a sequence, but don’t want to store the entire sequence in memory. \n",
    "            yield {'start_date':pu_d.strftime('%Y-%m-%d'),\n",
    "                    'start_day': pu_d.strftime('%d').lstrip('0'),\n",
    "                    'start_month': pu_d.strftime('%b'),\n",
    "                    'start_year': pu_d.strftime('%Y'),\n",
    "                    'start_date_out':pu_d.strftime('%m-%d-%Y'),\n",
    "                    'end_date':do_d.strftime('%Y-%m-%d'),\n",
    "                    'end_day':do_d.strftime('%d').lstrip('0'),\n",
    "                    'end_month':do_d.strftime('%b'),\n",
    "                    'end_year':do_d.strftime('%Y')}\n",
    "\n",
    "# create list of dictionaries to store cities that will be searched\n",
    "cities = [{'city':'San Francisco','state':'CA', 'abbr':'SFO', 'country':'USA'},\n",
    "          {'city':'Las Vegas','state':'NV', 'abbr':'LAS', 'country':'USA'},\n",
    "          {'city':'Los Angeles','state':'CA', 'abbr':'LAX', 'country':'USA'},\n",
    "          {'city':'Seattle','state':'WA', 'abbr':'SEA', 'country':'USA'},\n",
    "          {'city':'Salt Lake City','state':'UT', 'abbr':'SLC', 'country':'USA'},\n",
    "          {'city':'Denver','state':'CO', 'abbr':'DEN', 'country':'USA'},\n",
    "          {'city':'Chicago','state':'IL', 'abbr':'CHI', 'country':'USA'},\n",
    "          {'city':'Dallas','state':'TX', 'abbr':'DFW', 'country':'USA'},\n",
    "          {'city':'Orlando','state':'FL', 'abbr':'MCO', 'country':'USA'}]\n",
    "\n",
    "# add a 'done' key to each city and set it to False\n",
    "for city in cities: city['done'] = False"
   ]
  },
  {
   "cell_type": "code",
   "execution_count": 2,
   "metadata": {},
   "outputs": [],
   "source": [
    "\n",
    "#locates the chromedriver to be used in webdriver.chrome() selenium webapp creator function (so you can see the bot)\n",
    "#executable_path = {'executable_path':'C:/Users/rbandrowski/AppData/Local/Continuum/anaconda3/chromedriver.exe'}\n",
    "executable_path = \"C:\\Program Files\\Chromedriver\\chromedriver.exe\"\n",
    "#site to be webscraped\n",
    "url = 'https://www.campertravelusa.com/'\n",
    "\n",
    "\n",
    "#must find the createFilename function to determine what this does, likely it creates a saved file in the working directory\n",
    "log_file = createFilename('Camper Travel', True)"
   ]
  },
  {
   "cell_type": "code",
   "execution_count": 3,
   "metadata": {},
   "outputs": [
    {
     "data": {
      "text/plain": [
       "'../Output Data/08-25-2022/Logs/Camper Travel Data Log.txt'"
      ]
     },
     "execution_count": 3,
     "metadata": {},
     "output_type": "execute_result"
    }
   ],
   "source": [
    "log_file"
   ]
  },
  {
   "cell_type": "code",
   "execution_count": 4,
   "metadata": {},
   "outputs": [],
   "source": [
    "\n",
    "#javascript logic, not sure how this works\n",
    "click_chat_js = \"\"\"\n",
    "                    var button = document.querySelector('button.olark-launch-button.olark-size-md');\n",
    "                    function eventFire(elem, etype) {\n",
    "                      if (elem.fireEvent) {\n",
    "                        elem.fireEvent('on' + etype);\n",
    "                      } \n",
    "                      else {\n",
    "                        var evObj = document.createEvent('Events');\n",
    "                        evObj.initEvent(etype, true, false);\n",
    "                        elem.dispatchEvent(evObj);\n",
    "                      }\n",
    "                    }\n",
    "                    eventFire(button, 'click');\n",
    "                \"\"\""
   ]
  },
  {
   "cell_type": "code",
   "execution_count": 5,
   "metadata": {},
   "outputs": [],
   "source": [
    "#if the file created by createFilename and stored in log_file variable exists,\n",
    "#open the file, iterate though it and store it as json in the data variable\n",
    "\n",
    "if os.path.exists(log_file):\n",
    "\n",
    "    with open(log_file, 'r') as fin:\n",
    "\n",
    "        #json.loads is a decoder\n",
    "        data = [json.loads(x) for x in fin]\n",
    "\n",
    "    #drils down into the json to find the last location and last pickup date, to define where the loop will stop\n",
    "    last_city = data[-1]['Location'].split(',')[0]\n",
    "    last_date = date[-1]['Pickup Date']\n",
    "#iterate through the cities dictionary, stop the loop if equal to last city and else change city['done'] from False to True\n",
    "    for city in cities:\n",
    "        if city['city'] == last_city: break\n",
    "        else: city['done'] = True\n",
    "    # enumerate through the list of created trips, if pickup date out is equal to the last date iterate to the next index of the created trips dictionary and store it as the lt variable\n",
    "    # THE ISSUE HERE IS pu_date_out is not key in the create trips dictionary, \n",
    "    # TWO OPTION HERES, EITHER IT IS MISNAMED AND IT SHOULD BE start_date_out, or ONE OF THE UNKNOWN FUNCTIONS IS ADDING A pu_date_out key\n",
    "    lt = next((t for t, trip in enumerate(create_trips(dom_stop_date, True)) if trip['pu_date_out'] == last_date))\n",
    "\n",
    "else:\n",
    "    lt = -1"
   ]
  },
  {
   "cell_type": "code",
   "execution_count": 6,
   "metadata": {},
   "outputs": [
    {
     "ename": "NoSuchElementException",
     "evalue": "Message: no such element: Unable to locate element: {\"method\":\"xpath\",\"selector\":\"//input[contains(@id, 'pickupLocation')]\"}\n  (Session info: chrome=104.0.5112.80)\nStacktrace:\nBacktrace:\n\tOrdinal0 [0x005E78B3+2193587]\n\tOrdinal0 [0x00580681+1771137]\n\tOrdinal0 [0x004941A8+803240]\n\tOrdinal0 [0x004C24A0+992416]\n\tOrdinal0 [0x004C273B+993083]\n\tOrdinal0 [0x004EF7C2+1177538]\n\tOrdinal0 [0x004DD7F4+1103860]\n\tOrdinal0 [0x004EDAE2+1170146]\n\tOrdinal0 [0x004DD5C6+1103302]\n\tOrdinal0 [0x004B77E0+948192]\n\tOrdinal0 [0x004B86E6+952038]\n\tGetHandleVerifier [0x00890CB2+2738370]\n\tGetHandleVerifier [0x008821B8+2678216]\n\tGetHandleVerifier [0x006717AA+512954]\n\tGetHandleVerifier [0x00670856+509030]\n\tOrdinal0 [0x0058743B+1799227]\n\tOrdinal0 [0x0058BB68+1817448]\n\tOrdinal0 [0x0058BC55+1817685]\n\tOrdinal0 [0x00595230+1856048]\n\tBaseThreadInitThunk [0x75ABFA29+25]\n\tRtlGetAppContainerNamedObjectPath [0x77607A9E+286]\n\tRtlGetAppContainerNamedObjectPath [0x77607A6E+238]\n",
     "output_type": "error",
     "traceback": [
      "\u001b[1;31m---------------------------------------------------------------------------\u001b[0m",
      "\u001b[1;31mNoSuchElementException\u001b[0m                    Traceback (most recent call last)",
      "\u001b[1;32mc:\\Users\\mriedeman\\Documents\\Python Scripts\\Webscraper\\code\\Camper Travel USA_revised.ipynb Cell 7\u001b[0m in \u001b[0;36m<cell line: 3>\u001b[1;34m()\u001b[0m\n\u001b[0;32m      <a href='vscode-notebook-cell:/c%3A/Users/mriedeman/Documents/Python%20Scripts/Webscraper/code/Camper%20Travel%20USA_revised.ipynb#X11sZmlsZQ%3D%3D?line=8'>9</a>\u001b[0m browser\u001b[39m.\u001b[39mget(url)\n\u001b[0;32m     <a href='vscode-notebook-cell:/c%3A/Users/mriedeman/Documents/Python%20Scripts/Webscraper/code/Camper%20Travel%20USA_revised.ipynb#X11sZmlsZQ%3D%3D?line=10'>11</a>\u001b[0m \u001b[39m# select city for pickup and dropoff inputs\u001b[39;00m\n\u001b[1;32m---> <a href='vscode-notebook-cell:/c%3A/Users/mriedeman/Documents/Python%20Scripts/Webscraper/code/Camper%20Travel%20USA_revised.ipynb#X11sZmlsZQ%3D%3D?line=11'>12</a>\u001b[0m browser\u001b[39m.\u001b[39;49mfind_element(By\u001b[39m.\u001b[39;49mXPATH,\u001b[39m\"\u001b[39;49m\u001b[39m//input[contains(@id, \u001b[39;49m\u001b[39m'\u001b[39;49m\u001b[39mpickupLocation\u001b[39;49m\u001b[39m'\u001b[39;49m\u001b[39m)]\u001b[39;49m\u001b[39m\"\u001b[39;49m)\u001b[39m.\u001b[39mclick()\n\u001b[0;32m     <a href='vscode-notebook-cell:/c%3A/Users/mriedeman/Documents/Python%20Scripts/Webscraper/code/Camper%20Travel%20USA_revised.ipynb#X11sZmlsZQ%3D%3D?line=12'>13</a>\u001b[0m browser\u001b[39m.\u001b[39mfind_element(By\u001b[39m.\u001b[39mXPATH,\u001b[39mf\u001b[39m\u001b[39m\"\u001b[39m\u001b[39m//div[@class = \u001b[39m\u001b[39m'\u001b[39m\u001b[39mautocomplete-suggestion\u001b[39m\u001b[39m'\u001b[39m\u001b[39m][@data-val = \u001b[39m\u001b[39m'\u001b[39m\u001b[39m{\u001b[39;00mcity[\u001b[39m'\u001b[39m\u001b[39mcity\u001b[39m\u001b[39m'\u001b[39m]\u001b[39m}\u001b[39;00m\u001b[39m'\u001b[39m\u001b[39m]\u001b[39m\u001b[39m\"\u001b[39m)\u001b[39m.\u001b[39mclick()\n\u001b[0;32m     <a href='vscode-notebook-cell:/c%3A/Users/mriedeman/Documents/Python%20Scripts/Webscraper/code/Camper%20Travel%20USA_revised.ipynb#X11sZmlsZQ%3D%3D?line=14'>15</a>\u001b[0m \u001b[39m# choose international driver's license\u001b[39;00m\n",
      "File \u001b[1;32mc:\\Users\\mriedeman\\Anaconda3\\lib\\site-packages\\selenium\\webdriver\\remote\\webdriver.py:857\u001b[0m, in \u001b[0;36mWebDriver.find_element\u001b[1;34m(self, by, value)\u001b[0m\n\u001b[0;32m    854\u001b[0m     by \u001b[39m=\u001b[39m By\u001b[39m.\u001b[39mCSS_SELECTOR\n\u001b[0;32m    855\u001b[0m     value \u001b[39m=\u001b[39m \u001b[39m'\u001b[39m\u001b[39m[name=\u001b[39m\u001b[39m\"\u001b[39m\u001b[39m%s\u001b[39;00m\u001b[39m\"\u001b[39m\u001b[39m]\u001b[39m\u001b[39m'\u001b[39m \u001b[39m%\u001b[39m value\n\u001b[1;32m--> 857\u001b[0m \u001b[39mreturn\u001b[39;00m \u001b[39mself\u001b[39;49m\u001b[39m.\u001b[39;49mexecute(Command\u001b[39m.\u001b[39;49mFIND_ELEMENT, {\n\u001b[0;32m    858\u001b[0m     \u001b[39m'\u001b[39;49m\u001b[39musing\u001b[39;49m\u001b[39m'\u001b[39;49m: by,\n\u001b[0;32m    859\u001b[0m     \u001b[39m'\u001b[39;49m\u001b[39mvalue\u001b[39;49m\u001b[39m'\u001b[39;49m: value})[\u001b[39m'\u001b[39m\u001b[39mvalue\u001b[39m\u001b[39m'\u001b[39m]\n",
      "File \u001b[1;32mc:\\Users\\mriedeman\\Anaconda3\\lib\\site-packages\\selenium\\webdriver\\remote\\webdriver.py:435\u001b[0m, in \u001b[0;36mWebDriver.execute\u001b[1;34m(self, driver_command, params)\u001b[0m\n\u001b[0;32m    433\u001b[0m response \u001b[39m=\u001b[39m \u001b[39mself\u001b[39m\u001b[39m.\u001b[39mcommand_executor\u001b[39m.\u001b[39mexecute(driver_command, params)\n\u001b[0;32m    434\u001b[0m \u001b[39mif\u001b[39;00m response:\n\u001b[1;32m--> 435\u001b[0m     \u001b[39mself\u001b[39;49m\u001b[39m.\u001b[39;49merror_handler\u001b[39m.\u001b[39;49mcheck_response(response)\n\u001b[0;32m    436\u001b[0m     response[\u001b[39m'\u001b[39m\u001b[39mvalue\u001b[39m\u001b[39m'\u001b[39m] \u001b[39m=\u001b[39m \u001b[39mself\u001b[39m\u001b[39m.\u001b[39m_unwrap_value(\n\u001b[0;32m    437\u001b[0m         response\u001b[39m.\u001b[39mget(\u001b[39m'\u001b[39m\u001b[39mvalue\u001b[39m\u001b[39m'\u001b[39m, \u001b[39mNone\u001b[39;00m))\n\u001b[0;32m    438\u001b[0m     \u001b[39mreturn\u001b[39;00m response\n",
      "File \u001b[1;32mc:\\Users\\mriedeman\\Anaconda3\\lib\\site-packages\\selenium\\webdriver\\remote\\errorhandler.py:247\u001b[0m, in \u001b[0;36mErrorHandler.check_response\u001b[1;34m(self, response)\u001b[0m\n\u001b[0;32m    245\u001b[0m         alert_text \u001b[39m=\u001b[39m value[\u001b[39m'\u001b[39m\u001b[39malert\u001b[39m\u001b[39m'\u001b[39m]\u001b[39m.\u001b[39mget(\u001b[39m'\u001b[39m\u001b[39mtext\u001b[39m\u001b[39m'\u001b[39m)\n\u001b[0;32m    246\u001b[0m     \u001b[39mraise\u001b[39;00m exception_class(message, screen, stacktrace, alert_text)  \u001b[39m# type: ignore[call-arg]  # mypy is not smart enough here\u001b[39;00m\n\u001b[1;32m--> 247\u001b[0m \u001b[39mraise\u001b[39;00m exception_class(message, screen, stacktrace)\n",
      "\u001b[1;31mNoSuchElementException\u001b[0m: Message: no such element: Unable to locate element: {\"method\":\"xpath\",\"selector\":\"//input[contains(@id, 'pickupLocation')]\"}\n  (Session info: chrome=104.0.5112.80)\nStacktrace:\nBacktrace:\n\tOrdinal0 [0x005E78B3+2193587]\n\tOrdinal0 [0x00580681+1771137]\n\tOrdinal0 [0x004941A8+803240]\n\tOrdinal0 [0x004C24A0+992416]\n\tOrdinal0 [0x004C273B+993083]\n\tOrdinal0 [0x004EF7C2+1177538]\n\tOrdinal0 [0x004DD7F4+1103860]\n\tOrdinal0 [0x004EDAE2+1170146]\n\tOrdinal0 [0x004DD5C6+1103302]\n\tOrdinal0 [0x004B77E0+948192]\n\tOrdinal0 [0x004B86E6+952038]\n\tGetHandleVerifier [0x00890CB2+2738370]\n\tGetHandleVerifier [0x008821B8+2678216]\n\tGetHandleVerifier [0x006717AA+512954]\n\tGetHandleVerifier [0x00670856+509030]\n\tOrdinal0 [0x0058743B+1799227]\n\tOrdinal0 [0x0058BB68+1817448]\n\tOrdinal0 [0x0058BC55+1817685]\n\tOrdinal0 [0x00595230+1856048]\n\tBaseThreadInitThunk [0x75ABFA29+25]\n\tRtlGetAppContainerNamedObjectPath [0x77607A9E+286]\n\tRtlGetAppContainerNamedObjectPath [0x77607A6E+238]\n"
     ]
    }
   ],
   "source": [
    "deals_df = pd.DataFrame()\n",
    "# search dates for each city\n",
    "for c, city in enumerate(cities):\n",
    "    #this executes when city['done'] is equal to False\n",
    "    if not city['done']:\n",
    "        \n",
    "        US = True if city['country'] == 'USA' else False\n",
    "        browser = buildBrowser(executable_path)\n",
    "        browser.get(url)\n",
    "\n",
    "        # select city for pickup and dropoff inputs\n",
    "        browser.find_element(By.XPATH,\"//input[contains(@id, 'pickupLocation')]\").click()\n",
    "        browser.find_element(By.XPATH,f\"//div[@class = 'autocomplete-suggestion'][@data-val = '{city['city']}']\").click()\n",
    "\n",
    "        # choose international driver's license\n",
    "        browser.find_element(By.CSS_SELECTOR,'input.form-control.X-CountryOfResidence.AutoCompleteSelectInput').click()\n",
    "        browser.find_element(By.XPATH, \"//div[@class = 'autocomplete-suggestion'][@data-val = 'International']\").click()\n",
    "\n",
    "        \n",
    "\n",
    "        for t, trip in enumerate(create_trips(int_stop_date, US)):\n",
    "\n",
    "            if t > lt:\n",
    "                deals = []\n",
    "            \n",
    "                browser.find_element(By.XPATH, \"//button[contains(@id, 'pickupDate')]\").click()\n",
    "\n",
    "                cal_month = browser.find_element(By.XPATH, \"//div[@class = 'dr-cal-start']/div/div/div\").find_element(By.CSS_SELECTOR, 'button.dp-cal-month').text[0:3]\n",
    "\n",
    "                while cal_month != trip['start_month']:\n",
    "                    browser.find_element(By.XPATH, \"//div[@class = 'dr-cal-end']/div/div/div/header/button[@class = 'dp-next']\").click()\n",
    "                    cal_month = browser.find_element(By.XPATH, \"//div[@class = 'dr-cal-start']/div/div/div\").find_element(By.CSS_SELECTOR,'button.dp-cal-month').text[0:3]\n",
    "\n",
    "                pu_d = browser.find_element(By.XPATH, f\"//div[@class = 'dr-cal-start']/div/div/div/div/button[not(contains(@class, 'edge-day'))][text() = {trip['start_day']}]\")\n",
    "                pu_d.click()\n",
    "\n",
    "                if int(trip['start_day']) < int(trip['end_day']):\n",
    "                    do_d = browser.find_element(By.XPATH, f\"//div[@class = 'dr-cal-start']/div/div/div/div/button[not(contains(@class, 'edge-day'))][text() = {trip['end_day']}]\")\n",
    "                else:\n",
    "                    do_d = browser.find_element(By.XPATH, f\"//div[@class = 'dr-cal-end']/div/div/div/div/button[not(contains(@class, 'edge-day'))][text() = {trip['end_day']}]\")\n",
    "                do_d.click()\n",
    "\n",
    "                browser.find_element(By.CSS_SELECTOR, 'button.btn.btn-success.btn-lg.btn-block.X-SearchButton').click()\n",
    "                browser.windows.current = browser.windows[1]\n",
    "\n",
    "                while browser.is_element_not_present_by_css('div.campervan-result'):\n",
    "                    continue\n",
    "\n",
    "                #browser.execute_script(\"window.scrollTo(500, $(document).height());\")\n",
    "                browser.execute_script(\"window.scrollTo(500, 0);\")\n",
    "                while True:\n",
    "                    try:\n",
    "                        browser.execute_script(\"document.querySelector('#hbl-live-chat-wrapper').style.display = 'none';\")\n",
    "                        break\n",
    "                    except JavascriptException:\n",
    "                        continue\n",
    "\n",
    "                results = browser.find_element(By.CSS_SELECTOR, 'div.campervan-result')\n",
    "                \n",
    "                for result in results:\n",
    "\n",
    "                    browser.execute_script(\"document.querySelector('#hbl-live-chat-wrapper').style.display = 'none';\")\n",
    "                    \n",
    "                    if len(result.find_element(By.CSS_SELECTOR, 'span.X-VPrice-ConvertedFrom-Amount')) > 0:\n",
    "                    \n",
    "                        daily_rate = float(result.find_element(By.CSS_SELECTOR, 'span.X-VPrice-ConvertedFrom-Amount').text)\n",
    "                        pu_date = trip['start_date']\n",
    "                        do_date = trip['end_date']\n",
    "                        location = f'{city[\"city\"]}, {city[\"state\"]}'\n",
    "\n",
    "                        if browser.find_element(By.CSS_SELECTOR, 'div#olark-container').isDisplayed():\n",
    "                            browser.execute_script(click_chat_js)\n",
    "\n",
    "                        while True:\n",
    "                            try:\n",
    "                                result.find_by_text('Check Availability').click()\n",
    "                                break\n",
    "                            except ElementClickInterceptedException:\n",
    "                                try:\n",
    "                                    browser.execute_script(\"window.scrollTo(0, window.scrollY + 200);\")\n",
    "                                except JavascriptException:\n",
    "                                    continue\n",
    "\n",
    "                        browser.windows.current = browser.windows[2]\n",
    "                        start = time.time()\n",
    "                        while True:\n",
    "                            try:\n",
    "                                if time.time() > start + 30:\n",
    "                                    browser.reload()\n",
    "                                    # browser.windows.current.close()\n",
    "                                    # browser.windows.current = browser.windows[1]\n",
    "                                    # result.find_by_css('a.button-green.button-book').click()\n",
    "                                    # browser.windows.current = browser.windows[2]\n",
    "                                    start = time.time()\n",
    "                            except TimeoutException:\n",
    "                                continue\n",
    "                            try:\n",
    "                                company = browser.find_by_css('img.vehicle-image')['src'].split('/')[-2].replace('-', ' ').lower().rstrip('us').strip().title()\n",
    "                                print(company)\n",
    "                                break\n",
    "                            except ElementDoesNotExist:\n",
    "                                continue\n",
    "                        rv_class = browser.find_by_css('div.vehicle-name').text\n",
    "                        try:\n",
    "                            section = browser.find_by_css('span.X-VPrice-ConvertedFrom.v-price-total.v-price-converted-from').last\n",
    "                            total = float(section.find_by_css('span.X-VPrice-ConvertedFrom-Amount').text)\n",
    "                            print(total)\n",
    "                        except ElementDoesNotExist:\n",
    "                            total = 'Not Listed'\n",
    "\n",
    "                        browser.windows.current.close()\n",
    "                        browser.windows.current = browser.windows[1]\n",
    "\n",
    "                        deals.append({'Pickup Date':pu_date,'Dropoff Date':do_date,'Class':rv_class,'Company':company,\n",
    "                                    'Daily Rate':daily_rate,'Price':total,'Location':location})\n",
    "\n",
    "                        deals_df = deals_df.append(deals, ignore_index=True)\n",
    "                \n",
    "                browser.windows.current.close()\n",
    "\n",
    "        browser.quit()\n",
    "        "
   ]
  },
  {
   "cell_type": "code",
   "execution_count": 115,
   "metadata": {},
   "outputs": [
    {
     "name": "stdout",
     "output_type": "stream",
     "text": [
      "     Pickup Date Dropoff Date                             Class             Company  Daily Rate    Price           Location\n",
      "0     2022-05-16   2022-06-02                     Station Wagon  Travellersautobarn       99.31  1787.50  San Francisco, CA\n",
      "1     2022-05-16   2022-06-02                     Station Wagon  Travellersautobarn       99.31  1787.50  San Francisco, CA\n",
      "2     2022-05-16   2022-06-02               Class C 23-25ft (M)            Roadbear      162.49  4320.38  San Francisco, CA\n",
      "3     2022-05-16   2022-06-02                     Station Wagon  Travellersautobarn       99.31  1787.50  San Francisco, CA\n",
      "4     2022-05-16   2022-06-02               Class C 23-25ft (M)            Roadbear      162.49  4320.38  San Francisco, CA\n",
      "...          ...          ...                               ...                 ...         ...      ...                ...\n",
      "6609  2022-12-27   2023-01-12               C30 Large Motorhome      Cruise America       79.35  2707.02        Orlando, FL\n",
      "6610  2022-12-27   2023-01-12             C19 Compact Motorhome      Cruise America       87.17  2780.46        Orlando, FL\n",
      "6611  2022-12-27   2023-01-12        C21 Compact Plus Motorhome      Cruise America      102.53  2956.20        Orlando, FL\n",
      "6612  2022-12-27   2023-01-12  Mighty Camper M22 Class C Medium             Elmonte      130.93  4139.94        Orlando, FL\n",
      "6613  2022-12-27   2023-01-12   Mighty Camper M28 Class C Large             Elmonte      134.88  4228.62        Orlando, FL\n",
      "\n",
      "[6614 rows x 7 columns]\n"
     ]
    }
   ],
   "source": [
    "print(deals_df)"
   ]
  },
  {
   "cell_type": "code",
   "execution_count": 116,
   "metadata": {},
   "outputs": [],
   "source": [
    "deals_df.to_csv('camper_travel_data_us.csv', index=False)"
   ]
  },
  {
   "cell_type": "code",
   "execution_count": null,
   "metadata": {},
   "outputs": [],
   "source": []
  }
 ],
 "metadata": {
  "kernelspec": {
   "display_name": "Python 3.9.12 ('webscraper')",
   "language": "python",
   "name": "python3"
  },
  "language_info": {
   "codemirror_mode": {
    "name": "ipython",
    "version": 3
   },
   "file_extension": ".py",
   "mimetype": "text/x-python",
   "name": "python",
   "nbconvert_exporter": "python",
   "pygments_lexer": "ipython3",
   "version": "3.9.12"
  },
  "vscode": {
   "interpreter": {
    "hash": "c780947fbb818c7495fd9532412a3eb8d06e8fa4b61a49db8737789eaef9d63e"
   }
  }
 },
 "nbformat": 4,
 "nbformat_minor": 2
}

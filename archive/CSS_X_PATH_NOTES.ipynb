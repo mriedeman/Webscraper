{
 "cells": [
  {
   "cell_type": "markdown",
   "metadata": {},
   "source": [
    "### CSS Selector Notes\n",
    "\n",
    "1. CSS_SELECTOR SYNTAX: tagName[AttributeName = 'AttributeValue']\n",
    "\n",
    "                EXAMPLE: input[id='first_name']\n",
    "\n",
    "2. If the web element has the CLASS attribute you can use CLASS attribute details in CSS selector. CLASS attribute in CSS SELECTOR is symbolised by the DOT (.) sign  \n",
    "                   \n",
    "                SYNTAX : tagName.elementID\n",
    "                   \n",
    "                EXAMPLE: input.signup\n",
    "\n",
    "\n",
    "3. ID attribute in CSS Selector is symbolised by the # sign.\n",
    "                   \n",
    "                SYNTAX: tagName#elementID\n",
    "                EXAMPLE: input#first_name\n",
    "\n",
    "4. Using mix of ID or CLASSNAME and other attributes of webelement. Add brackets witht he attribute name and value to uniquely identify webelement.\n",
    "  \n",
    "                SYNTAX: tagName.classValue[AttributeName='AttributeValue']\n",
    "                EXAMPLES: input.signup[type='submit'][value = 'Sign me up']\n",
    "                input#email[placeholder = 'Your email address'][name = 'user[email]']\n",
    "5. Sub-string matches are very helpful in identifying dynamic webelementswith the help of partial string matches. \n",
    "                 \n",
    "                \n",
    "                ^ Sign - Signify's the prefix of the text\n",
    "                $ Sign - Signify's the suffix of the text\n",
    "                * Sign - Signify's the sub-string of the text\n",
    "\n",
    "                EXAMPLES:\n",
    "                Match prefix of text\n",
    "                input[name^='country_c']\n",
    "\n",
    "                Match suffix of text\n",
    "                input[name$='y_client']\n",
    "\n",
    "                Match sub-string of the text\n",
    "                    input[name*='try_cl']\n",
    "\n",
    "6. Finding Child or SubChild Elements\n",
    "            \n",
    "                Direct Child - Child comhinator (>) is used to select direct child\n",
    "                SYNTAX: tagName[AttributeName = 'AttributeValue'] > tagName[AttributeName = 'AttributeValue']\n",
    "                EXAMPLES: select#country > option[value = 'AU']\n",
    "                          select#job_role>option[value = 'Developer']\n",
    "                          form#deorg_form>div\n",
    "\n",
    "                Child or SubChild - Descendant combinator () is used to select Child or Subchild\n",
    "                SYNTAX: tagName[AttributeName='AttributeValue'] tagName[AttributeName='AttributeValue']\n",
    "                EXAMPLE: form#deorg_form div\n",
    "\n",
    "7. Next Sibling Elements - Located using the + operator\n",
    "\n",
    "                Adjacent sibling combinator (+) separates two CSS selectors and matches the second webelement\n",
    "                only if it immediately follows the first webelement, and both are the child of the same parent webelement\n",
    "\n",
    "                SYNTAX: tagName[attributeName='AttributeValue']+tagName[AttributeName='AttributeValue']"
   ]
  }
 ],
 "metadata": {
  "kernelspec": {
   "display_name": "Python 3.9.12 ('webscraper')",
   "language": "python",
   "name": "python3"
  },
  "language_info": {
   "name": "python",
   "version": "3.9.12"
  },
  "orig_nbformat": 4,
  "vscode": {
   "interpreter": {
    "hash": "c780947fbb818c7495fd9532412a3eb8d06e8fa4b61a49db8737789eaef9d63e"
   }
  }
 },
 "nbformat": 4,
 "nbformat_minor": 2
}

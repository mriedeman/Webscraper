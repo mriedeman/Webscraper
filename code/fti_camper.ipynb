{
 "cells": [
  {
   "cell_type": "code",
   "execution_count": 72,
   "metadata": {},
   "outputs": [],
   "source": [
    "from selenium import webdriver\n",
    "from webdriver_manager.chrome import ChromeDriverManager\n",
    "from selenium.webdriver.chrome.service import Service\n",
    "from selenium.webdriver.common.by import By\n",
    "from selenium.webdriver.common.keys import Keys\n",
    "from selenium.webdriver.support.ui import WebDriverWait\n",
    "from selenium.webdriver.support import expected_conditions as EC\n",
    "from selenium.webdriver.support.ui import Select\n",
    "from selenium.common.exceptions import TimeoutException\n",
    "from selenium.common.exceptions import ElementClickInterceptedException, JavascriptException, NoSuchElementException\n",
    "import time\n",
    "from datetime import date, datetime, timedelta \n",
    "import numpy as np\n",
    "import pandas as pd\n",
    "import os\n",
    "import re\n",
    "from functions import allMondays, intHolidayClosures, create_trips, country_holidays"
   ]
  },
  {
   "cell_type": "code",
   "execution_count": 75,
   "metadata": {},
   "outputs": [],
   "source": [
    "#constants\n",
    "URL = 'https://camper.fti.de/'\n",
    "DELAY = 3\n",
    "PAGE_LOAD_ID = \"SearchMask\"\n",
    "COOKIE_ID = '//*[@id=\"uc-center-container\"]/div[2]/div/div[1]/div/button'\n",
    "COOKIE_JS_PATH = 'document.querySelector(\"#usercentrics-root\").shadowRoot.querySelector(\"#uc-center-container > div.sc-gWXbKe.fSIThp > div > div.sc-cxpSdN.ihpUDX > div > button\")'\n",
    "NOTIFICATION_JS_PATH = 'document.querySelector(\"#pid-14572 > div.cleverpush-confirm.cleverpush-confirm-modal.cleverpush-confirm-windows.cleverpush-confirm-chrome.cleverpush-confirm-chrome.cleverpush-confirm-1 > div.cleverpush-confirm-wrap > div.cleverpush-clearfix.cleverpush-clearfix-bottom > div.cleverpush-confirm-buttons > button.cleverpush-confirm-btn.cleverpush-confirm-btn-deny\")'\n",
    "POPUP_JS_PATH = 'document.querySelector(\"#trboModule_12920_202268_88_container > div.trbo-closeButton.trbo-theme-0.trboType-icon > i\")'\n",
    "CITY = 'Los Angeles'\n",
    "CITY_JS_PATH = 'document.querySelector(\"#SearchMask > div.flexContainer.location > div:nth-child(1) > div:nth-child(1) > div > div > input\")'\n",
    "CAL_ELEMS_XPATH = \"//span[contains(@class, 'cell day')]\"\n",
    "PU_CALENDAR_JS_PATH = 'document.querySelector(\"#SearchMask > div:nth-child(2) > div:nth-child(1) > div > div > div:nth-child(1) > input\")'\n",
    "DO_CALENDAR_JS_PATH = \"document.querySelector('#SearchMask > div:nth-child(2) > div:nth-child(2) > div > div > div:nth-child(1) > input')\"\n",
    "DO_MONTH_JS_PATH = \"document.querySelector('#SearchMask > div:nth-child(2) > div:nth-child(2) > div > div > div:nth-child(2) > header > span.day__month_btn.up')\"\n",
    "PU_MONTH_TEXT_CLASS_NAME = \"vdp-datepicker__calendar\"\n",
    "PU_MONTH_NEXT_BTN_CLASS_NAME = \"span[class = 'next']\"\n",
    "DO_MONTH_TEXT_XPATH = \"//*[@id='SearchMask']/div[2]/div[2]/div/div/div[2]/header/span[3]\"\n",
    "SUBMIT_BUTTON_ID = \"SubmitButton\"\n",
    "LOAD_MORE_RESULTS = \"document.querySelector('#ResultList > button')\"\n",
    "# PICKUP_LOC_ID = 'pickUpLocation'\n",
    "# PICKUP_LOC_XPATH = \"//select[@id = 'pickUpLocation]\""
   ]
  },
  {
   "cell_type": "code",
   "execution_count": 4,
   "metadata": {},
   "outputs": [
    {
     "name": "stdout",
     "output_type": "stream",
     "text": [
      "Page is ready!\n"
     ]
    }
   ],
   "source": [
    "def create_browser(URL, ELEMENT_ID):\n",
    "\n",
    "    \"\"\"Creates the browser and loads the page given url and webelement\"\"\"\n",
    "    \n",
    "    s=Service(ChromeDriverManager().install())\n",
    "    browser = webdriver.Chrome(service=s)\n",
    "\n",
    "    browser.get(URL)\n",
    "\n",
    "    try:\n",
    "        myElem = WebDriverWait(browser, DELAY).until(EC.presence_of_element_located((By.ID, ELEMENT_ID)))\n",
    "        print (\"Page is ready!\")\n",
    "    except TimeoutException:\n",
    "        print (\"Couldn't find element\")\n",
    "\n",
    "    return browser\n",
    "\n",
    "\n",
    "browser = create_browser(URL, PAGE_LOAD_ID)"
   ]
  },
  {
   "cell_type": "code",
   "execution_count": 5,
   "metadata": {},
   "outputs": [],
   "source": [
    "#accept cookies\n",
    "browser.execute_script(f\"return {COOKIE_JS_PATH}\").click()"
   ]
  },
  {
   "cell_type": "code",
   "execution_count": 7,
   "metadata": {},
   "outputs": [],
   "source": [
    "#deny news\n",
    "browser.execute_script(f\"return {NOTIFICATION_JS_PATH}\").click()"
   ]
  },
  {
   "cell_type": "code",
   "execution_count": null,
   "metadata": {},
   "outputs": [],
   "source": [
    "#close popup\n",
    "browser.execute_script(f\"return {POPUP_JS_PATH}\").click()"
   ]
  },
  {
   "cell_type": "code",
   "execution_count": 6,
   "metadata": {},
   "outputs": [],
   "source": [
    "#use if running code below more than once\n",
    "\n",
    "browser.execute_script(f\"return {CITY_JS_PATH}\").click()\n",
    "time.sleep(1)\n",
    "browser.execute_script(f\"return {CITY_JS_PATH}\").clear()"
   ]
  },
  {
   "cell_type": "code",
   "execution_count": 8,
   "metadata": {},
   "outputs": [],
   "source": [
    "browser.execute_script(f\"return {CITY_JS_PATH}\").send_keys(f'{CITY}')\n",
    "time.sleep(1)\n",
    "browser.execute_script(f\"return {CITY_JS_PATH}\").send_keys(Keys.RETURN)"
   ]
  },
  {
   "cell_type": "code",
   "execution_count": 54,
   "metadata": {},
   "outputs": [],
   "source": [
    "#simulate a single trip\n",
    "german_months = {\n",
    "    1 : 'Jan',\n",
    "    2 : 'Feb',\n",
    "    3 : 'Mär',\n",
    "    4 : 'Apr',\n",
    "    5 : 'Mai',\n",
    "    6 : 'Jun',\n",
    "    7 : 'Jul',\n",
    "    8 : 'Aug',\n",
    "    9 : 'Sep',\n",
    "    10: 'Okt',\n",
    "    11: 'Nov',\n",
    "    12: 'Dez'\n",
    "\n",
    "}\n",
    "\n",
    "start_date = date(2022, 11, 14)\n",
    "end_date = start_date + timedelta(17)\n",
    "trip = {}\n",
    "trip['start_date'] = start_date\n",
    "trip['start_month'] = german_months[start_date.month]\n",
    "trip['start_day'] = start_date.day\n",
    "trip['end_date'] = end_date\n",
    "trip['end_day'] = end_date.day\n",
    "trip['end_month'] = german_months[end_date.month]\n",
    "trip['end_day']\n",
    "trip['city'] = CITY"
   ]
  },
  {
   "cell_type": "code",
   "execution_count": 30,
   "metadata": {},
   "outputs": [],
   "source": [
    "#open the pickup month calendar\n",
    "browser.execute_script(f\"return {PU_CALENDAR_JS_PATH}\").click()"
   ]
  },
  {
   "cell_type": "code",
   "execution_count": 31,
   "metadata": {},
   "outputs": [
    {
     "name": "stdout",
     "output_type": "stream",
     "text": [
      "Nov\n"
     ]
    }
   ],
   "source": [
    "#select the pickup month\n",
    "cal_month = browser.find_element(By.CLASS_NAME, f\"{PU_MONTH_TEXT_CLASS_NAME}\").text[2:5]\n",
    "\n",
    "while cal_month != trip['start_month']:\n",
    "    \n",
    "    browser.find_element(By.CSS_SELECTOR, f\"{PU_MONTH_NEXT_BTN_CLASS_NAME }\").click()\n",
    "    time.sleep(1)\n",
    "    cal_month = browser.find_element(By.CLASS_NAME, f\"{PU_MONTH_TEXT_CLASS_NAME}\").text[2:5]\n",
    "    print(cal_month)\n",
    "    "
   ]
  },
  {
   "cell_type": "code",
   "execution_count": 32,
   "metadata": {},
   "outputs": [],
   "source": [
    "#click on the pickup day\n",
    "cal_elems = browser.find_elements(By.XPATH, f\"{CAL_ELEMS_XPATH}\")\n",
    "cal_elems_dict = {}\n",
    "for ele in cal_elems:\n",
    "\n",
    "    if ele.text.isdigit():\n",
    "\n",
    "        cal_elems_dict[ele.text] = ele\n",
    "        \n",
    "cal_elems_dict[str(trip['start_day'])].click()"
   ]
  },
  {
   "cell_type": "code",
   "execution_count": 36,
   "metadata": {},
   "outputs": [],
   "source": [
    "#open the drop off calendar\n",
    "\n",
    "browser.execute_script(f\"return {DO_CALENDAR_JS_PATH}\").click()"
   ]
  },
  {
   "cell_type": "code",
   "execution_count": 37,
   "metadata": {},
   "outputs": [
    {
     "name": "stdout",
     "output_type": "stream",
     "text": [
      "Dez\n"
     ]
    }
   ],
   "source": [
    "#select the drop off month\n",
    "cal_month = browser.execute_script(f\"return {DO_MONTH_JS_PATH}\").text[:3]\n",
    "while cal_month != trip['end_month']:\n",
    "    browser.find_element(By.XPATH, f\"{DO_MONTH_TEXT_XPATH}\").click()\n",
    "    #updates cal_month variable to whatever date you are currently on\n",
    "    time.sleep(int(np.random.rand(1)*3))\n",
    "    cal_month = browser.execute_script(f\"return {DO_MONTH_JS_PATH}\").text[:3]\n",
    "    print(cal_month)"
   ]
  },
  {
   "cell_type": "code",
   "execution_count": 38,
   "metadata": {},
   "outputs": [],
   "source": [
    "#select drop off day\n",
    "cal_elems = browser.find_elements(By.XPATH, f\"{CAL_ELEMS_XPATH}\")\n",
    "cal_elems_dict = {}\n",
    "for ele in cal_elems:\n",
    "\n",
    "    if ele.text.isdigit():\n",
    "\n",
    "        cal_elems_dict[ele.text] = ele\n",
    "        \n",
    "cal_elems_dict[str(trip['end_day'])].click()"
   ]
  },
  {
   "cell_type": "code",
   "execution_count": 39,
   "metadata": {},
   "outputs": [],
   "source": [
    "#click search\n",
    "browser.find_element(By.ID, f\"{SUBMIT_BUTTON_ID }\").click()"
   ]
  },
  {
   "cell_type": "code",
   "execution_count": 40,
   "metadata": {},
   "outputs": [],
   "source": [
    "#ADD LOGIC TO WAIT FOR PAGE TO LOAD AND GO BACK IF THERE ARE NO RESULTS"
   ]
  },
  {
   "cell_type": "code",
   "execution_count": null,
   "metadata": {},
   "outputs": [],
   "source": [
    "#load all the results\n",
    "browser.execute_script(f\"return {LOAD_MORE_RESULTS}\").click()"
   ]
  },
  {
   "cell_type": "code",
   "execution_count": 77,
   "metadata": {},
   "outputs": [
    {
     "data": {
      "text/plain": [
       "[<selenium.webdriver.remote.webelement.WebElement (session=\"35034376c8ab8d7d27196c8da259d86f\", element=\"b85cc637-3060-4026-a55a-8cdc3243a9c7\")>,\n",
       " <selenium.webdriver.remote.webelement.WebElement (session=\"35034376c8ab8d7d27196c8da259d86f\", element=\"b6e69b34-ac94-4da8-95e0-feb8fc78dc61\")>,\n",
       " <selenium.webdriver.remote.webelement.WebElement (session=\"35034376c8ab8d7d27196c8da259d86f\", element=\"e05b9b93-6ee7-4776-b0a9-d4eb83c6141c\")>,\n",
       " <selenium.webdriver.remote.webelement.WebElement (session=\"35034376c8ab8d7d27196c8da259d86f\", element=\"d6f985b7-6423-405c-b00e-2e2a87fe3723\")>,\n",
       " <selenium.webdriver.remote.webelement.WebElement (session=\"35034376c8ab8d7d27196c8da259d86f\", element=\"c02511e4-3e33-4db5-84df-f937c7da71b5\")>,\n",
       " <selenium.webdriver.remote.webelement.WebElement (session=\"35034376c8ab8d7d27196c8da259d86f\", element=\"98a9e4f4-5a0d-4db8-bd26-bc4309fe01b1\")>,\n",
       " <selenium.webdriver.remote.webelement.WebElement (session=\"35034376c8ab8d7d27196c8da259d86f\", element=\"12cc1351-6417-4803-8009-e9bb5f94b231\")>,\n",
       " <selenium.webdriver.remote.webelement.WebElement (session=\"35034376c8ab8d7d27196c8da259d86f\", element=\"85c1d353-f8b3-4c38-a07d-dc91a3e73e16\")>,\n",
       " <selenium.webdriver.remote.webelement.WebElement (session=\"35034376c8ab8d7d27196c8da259d86f\", element=\"8901668c-50ea-4283-a796-2f1b1ea9dcfb\")>,\n",
       " <selenium.webdriver.remote.webelement.WebElement (session=\"35034376c8ab8d7d27196c8da259d86f\", element=\"2537af7e-646e-4040-a992-270d4b70e089\")>,\n",
       " <selenium.webdriver.remote.webelement.WebElement (session=\"35034376c8ab8d7d27196c8da259d86f\", element=\"1743051d-3a13-4c5d-9ed2-63a8b49577d9\")>,\n",
       " <selenium.webdriver.remote.webelement.WebElement (session=\"35034376c8ab8d7d27196c8da259d86f\", element=\"2bc28083-76c2-4ec7-ade4-3b1d6cd7b52b\")>,\n",
       " <selenium.webdriver.remote.webelement.WebElement (session=\"35034376c8ab8d7d27196c8da259d86f\", element=\"011f589c-fa14-4553-b02c-f093bdbdeb90\")>,\n",
       " <selenium.webdriver.remote.webelement.WebElement (session=\"35034376c8ab8d7d27196c8da259d86f\", element=\"331de5f4-3740-4c07-ac94-67020a70e7d1\")>,\n",
       " <selenium.webdriver.remote.webelement.WebElement (session=\"35034376c8ab8d7d27196c8da259d86f\", element=\"e85d9ad9-84e4-4735-9234-ae9e700f0f78\")>,\n",
       " <selenium.webdriver.remote.webelement.WebElement (session=\"35034376c8ab8d7d27196c8da259d86f\", element=\"428dc348-859f-4bf8-ba12-9de3fae41aa7\")>,\n",
       " <selenium.webdriver.remote.webelement.WebElement (session=\"35034376c8ab8d7d27196c8da259d86f\", element=\"2a19db77-d5d0-4e15-9537-54c60ea4fda4\")>,\n",
       " <selenium.webdriver.remote.webelement.WebElement (session=\"35034376c8ab8d7d27196c8da259d86f\", element=\"3234d246-5d85-4eb3-8f82-0025fd2502d6\")>,\n",
       " <selenium.webdriver.remote.webelement.WebElement (session=\"35034376c8ab8d7d27196c8da259d86f\", element=\"08493433-687a-45bc-9e83-72eae6537942\")>,\n",
       " <selenium.webdriver.remote.webelement.WebElement (session=\"35034376c8ab8d7d27196c8da259d86f\", element=\"f478aad5-d961-4825-9d75-cc073c661f63\")>,\n",
       " <selenium.webdriver.remote.webelement.WebElement (session=\"35034376c8ab8d7d27196c8da259d86f\", element=\"b0207d82-8c4c-44fd-bf4e-6bea3f09661d\")>,\n",
       " <selenium.webdriver.remote.webelement.WebElement (session=\"35034376c8ab8d7d27196c8da259d86f\", element=\"9f783c5c-f879-4259-a3a4-1aa2c334f8d4\")>,\n",
       " <selenium.webdriver.remote.webelement.WebElement (session=\"35034376c8ab8d7d27196c8da259d86f\", element=\"bc9c9a77-6125-4431-b27b-e01d9fac6503\")>,\n",
       " <selenium.webdriver.remote.webelement.WebElement (session=\"35034376c8ab8d7d27196c8da259d86f\", element=\"807377c8-2f51-45c1-a882-5be2bb9d5941\")>,\n",
       " <selenium.webdriver.remote.webelement.WebElement (session=\"35034376c8ab8d7d27196c8da259d86f\", element=\"e6b22a8c-6660-41f5-b51e-c037ee16213d\")>,\n",
       " <selenium.webdriver.remote.webelement.WebElement (session=\"35034376c8ab8d7d27196c8da259d86f\", element=\"f64276c4-50f9-4910-a969-d59ccdf1b07c\")>,\n",
       " <selenium.webdriver.remote.webelement.WebElement (session=\"35034376c8ab8d7d27196c8da259d86f\", element=\"c233e442-ccde-426b-962b-24ca372eb40b\")>,\n",
       " <selenium.webdriver.remote.webelement.WebElement (session=\"35034376c8ab8d7d27196c8da259d86f\", element=\"124fba2d-4aba-4583-972d-7e43c6c5fc85\")>,\n",
       " <selenium.webdriver.remote.webelement.WebElement (session=\"35034376c8ab8d7d27196c8da259d86f\", element=\"2df149ce-d8a6-4ba9-85d0-1d06b1749808\")>,\n",
       " <selenium.webdriver.remote.webelement.WebElement (session=\"35034376c8ab8d7d27196c8da259d86f\", element=\"c587a924-2b16-4ef8-b637-a1ec70e97746\")>,\n",
       " <selenium.webdriver.remote.webelement.WebElement (session=\"35034376c8ab8d7d27196c8da259d86f\", element=\"1f017fd8-e73f-421d-b229-e5985983822b\")>,\n",
       " <selenium.webdriver.remote.webelement.WebElement (session=\"35034376c8ab8d7d27196c8da259d86f\", element=\"1f0f0bd6-6087-4d74-b213-bd8bc3f43dc3\")>,\n",
       " <selenium.webdriver.remote.webelement.WebElement (session=\"35034376c8ab8d7d27196c8da259d86f\", element=\"ecce8004-9b2e-4da7-b70c-86d35ecd6d4d\")>,\n",
       " <selenium.webdriver.remote.webelement.WebElement (session=\"35034376c8ab8d7d27196c8da259d86f\", element=\"dfbe9cc3-7f14-4faf-9f07-665eae8b148c\")>,\n",
       " <selenium.webdriver.remote.webelement.WebElement (session=\"35034376c8ab8d7d27196c8da259d86f\", element=\"25a040f0-368a-4f97-8787-f73ec835b04f\")>,\n",
       " <selenium.webdriver.remote.webelement.WebElement (session=\"35034376c8ab8d7d27196c8da259d86f\", element=\"a02164ed-9c0a-436c-a2d8-cb83e461e543\")>,\n",
       " <selenium.webdriver.remote.webelement.WebElement (session=\"35034376c8ab8d7d27196c8da259d86f\", element=\"90d3adc8-1a7f-45c8-a1a9-d7d71fa59d27\")>,\n",
       " <selenium.webdriver.remote.webelement.WebElement (session=\"35034376c8ab8d7d27196c8da259d86f\", element=\"4eadd410-ac78-40ee-912e-ac1210516fe8\")>,\n",
       " <selenium.webdriver.remote.webelement.WebElement (session=\"35034376c8ab8d7d27196c8da259d86f\", element=\"8ada0ffa-fcfc-4d80-9495-d3bc00ddc499\")>,\n",
       " <selenium.webdriver.remote.webelement.WebElement (session=\"35034376c8ab8d7d27196c8da259d86f\", element=\"5a024bda-9e51-4dd6-af2c-3ff951288f08\")>,\n",
       " <selenium.webdriver.remote.webelement.WebElement (session=\"35034376c8ab8d7d27196c8da259d86f\", element=\"61a85411-d083-4c03-971d-0f58cf0c376f\")>,\n",
       " <selenium.webdriver.remote.webelement.WebElement (session=\"35034376c8ab8d7d27196c8da259d86f\", element=\"11551eb6-d9d0-45f4-9e08-e64bc6c4ddd7\")>,\n",
       " <selenium.webdriver.remote.webelement.WebElement (session=\"35034376c8ab8d7d27196c8da259d86f\", element=\"6936d231-a5ba-4bde-9b70-45101fd504f0\")>,\n",
       " <selenium.webdriver.remote.webelement.WebElement (session=\"35034376c8ab8d7d27196c8da259d86f\", element=\"886b943b-b4bd-44a7-80d7-aa738d285821\")>,\n",
       " <selenium.webdriver.remote.webelement.WebElement (session=\"35034376c8ab8d7d27196c8da259d86f\", element=\"708c7ac4-5dc3-4351-b06a-576c5a1e04a5\")>,\n",
       " <selenium.webdriver.remote.webelement.WebElement (session=\"35034376c8ab8d7d27196c8da259d86f\", element=\"66f33b82-a3f4-4621-863d-505d575c4f0a\")>,\n",
       " <selenium.webdriver.remote.webelement.WebElement (session=\"35034376c8ab8d7d27196c8da259d86f\", element=\"dbbb4424-4546-4718-aa80-c700406bf18d\")>,\n",
       " <selenium.webdriver.remote.webelement.WebElement (session=\"35034376c8ab8d7d27196c8da259d86f\", element=\"33f778d5-70e6-44b8-8be5-51f5baa1e5d0\")>,\n",
       " <selenium.webdriver.remote.webelement.WebElement (session=\"35034376c8ab8d7d27196c8da259d86f\", element=\"02ec34cb-88d8-4697-837f-8e2fe0a7c887\")>,\n",
       " <selenium.webdriver.remote.webelement.WebElement (session=\"35034376c8ab8d7d27196c8da259d86f\", element=\"82657c14-9c51-46e4-a41f-2a409a66f666\")>,\n",
       " <selenium.webdriver.remote.webelement.WebElement (session=\"35034376c8ab8d7d27196c8da259d86f\", element=\"7f9e3d46-1cf3-4ff8-a304-1b6391832928\")>,\n",
       " <selenium.webdriver.remote.webelement.WebElement (session=\"35034376c8ab8d7d27196c8da259d86f\", element=\"fcc6c02b-334a-4547-af84-439038b011ec\")>,\n",
       " <selenium.webdriver.remote.webelement.WebElement (session=\"35034376c8ab8d7d27196c8da259d86f\", element=\"0342957d-fea6-4e60-8e47-ccbff7d2cf36\")>,\n",
       " <selenium.webdriver.remote.webelement.WebElement (session=\"35034376c8ab8d7d27196c8da259d86f\", element=\"af703e58-e065-4a42-ab78-56e72c8cd676\")>,\n",
       " <selenium.webdriver.remote.webelement.WebElement (session=\"35034376c8ab8d7d27196c8da259d86f\", element=\"9e4decc6-58df-4076-83b9-0b4dfc4665be\")>,\n",
       " <selenium.webdriver.remote.webelement.WebElement (session=\"35034376c8ab8d7d27196c8da259d86f\", element=\"1073fb1b-638a-489a-be65-1ec739e386b5\")>,\n",
       " <selenium.webdriver.remote.webelement.WebElement (session=\"35034376c8ab8d7d27196c8da259d86f\", element=\"feee1d4f-a086-4d5e-9de8-85b5402166ed\")>,\n",
       " <selenium.webdriver.remote.webelement.WebElement (session=\"35034376c8ab8d7d27196c8da259d86f\", element=\"9928237d-baca-41e3-b187-3b32bec361b3\")>,\n",
       " <selenium.webdriver.remote.webelement.WebElement (session=\"35034376c8ab8d7d27196c8da259d86f\", element=\"9b0acd36-cb98-4648-936a-c0e20ff66d06\")>,\n",
       " <selenium.webdriver.remote.webelement.WebElement (session=\"35034376c8ab8d7d27196c8da259d86f\", element=\"c0350d60-def9-401d-af1d-6f4459480c13\")>,\n",
       " <selenium.webdriver.remote.webelement.WebElement (session=\"35034376c8ab8d7d27196c8da259d86f\", element=\"5a948ab6-390a-4063-9957-eb30e04f0e79\")>,\n",
       " <selenium.webdriver.remote.webelement.WebElement (session=\"35034376c8ab8d7d27196c8da259d86f\", element=\"d1cc5f23-487f-4280-a44c-0cea1e9f840e\")>,\n",
       " <selenium.webdriver.remote.webelement.WebElement (session=\"35034376c8ab8d7d27196c8da259d86f\", element=\"6169dabc-55c6-4c47-81e2-4bb6e31da676\")>,\n",
       " <selenium.webdriver.remote.webelement.WebElement (session=\"35034376c8ab8d7d27196c8da259d86f\", element=\"2207679f-4c20-4628-8694-0af244a3e532\")>,\n",
       " <selenium.webdriver.remote.webelement.WebElement (session=\"35034376c8ab8d7d27196c8da259d86f\", element=\"6e534de0-5239-4ce6-988d-3b9a8b3be250\")>,\n",
       " <selenium.webdriver.remote.webelement.WebElement (session=\"35034376c8ab8d7d27196c8da259d86f\", element=\"3a6f90bb-bacb-4a83-8e12-21106b4f7821\")>,\n",
       " <selenium.webdriver.remote.webelement.WebElement (session=\"35034376c8ab8d7d27196c8da259d86f\", element=\"4c514e67-5859-4a8a-8d94-426cbd34b339\")>]"
      ]
     },
     "execution_count": 77,
     "metadata": {},
     "output_type": "execute_result"
    }
   ],
   "source": [
    "LISTINGS_CLASS_NAME = \"resultCard\"\n",
    "listings = browser.find_elements(By.CLASS_NAME, f\"{LISTINGS_CLASS_NAME}\")\n",
    "listings"
   ]
  },
  {
   "cell_type": "code",
   "execution_count": 51,
   "metadata": {},
   "outputs": [
    {
     "data": {
      "text/plain": [
       "'Station Wagon'"
      ]
     },
     "execution_count": 51,
     "metadata": {},
     "output_type": "execute_result"
    }
   ],
   "source": [
    "#listings[0].find_element(By.CLASS_NAME, \"provider-data\").text.split(\"\\n\")[0]"
   ]
  },
  {
   "cell_type": "code",
   "execution_count": 57,
   "metadata": {},
   "outputs": [
    {
     "data": {
      "text/plain": [
       "'auf Anfrage\\nUnbegrenzte Freimeilen\\nFahrzeugversicherung mit Selbstbeteiligung USD 3.000\\nZusatzversicherung zur Rückerstattung der Selbstbeteiligung\\nEUR 10 Mio. Zusatz-Haftpflichtversicherung\\nZusatzfahrer\\nGesamtpreis\\n1171,00 EUR\\n68,88 EUR pro Tag'"
      ]
     },
     "execution_count": 57,
     "metadata": {},
     "output_type": "execute_result"
    }
   ],
   "source": [
    "#listings[0].find_element(By.CLASS_NAME, \"camper-details\").text"
   ]
  },
  {
   "cell_type": "code",
   "execution_count": 65,
   "metadata": {},
   "outputs": [],
   "source": [
    "#money = listings[0].find_element(By.CLASS_NAME, \"camper-details\").find_element(By.CSS_SELECTOR, 'div.priceSummary.full > dl > dd').text.split('\\n')"
   ]
  },
  {
   "cell_type": "code",
   "execution_count": 69,
   "metadata": {},
   "outputs": [
    {
     "data": {
      "text/plain": [
       "'1171.00'"
      ]
     },
     "execution_count": 69,
     "metadata": {},
     "output_type": "execute_result"
    }
   ],
   "source": [
    "# import re\n",
    "\n",
    "# '.'.join(re.findall(r'\\d+', money[0]))"
   ]
  },
  {
   "cell_type": "code",
   "execution_count": 78,
   "metadata": {},
   "outputs": [
    {
     "data": {
      "text/html": [
       "<div>\n",
       "<style scoped>\n",
       "    .dataframe tbody tr th:only-of-type {\n",
       "        vertical-align: middle;\n",
       "    }\n",
       "\n",
       "    .dataframe tbody tr th {\n",
       "        vertical-align: top;\n",
       "    }\n",
       "\n",
       "    .dataframe thead th {\n",
       "        text-align: right;\n",
       "    }\n",
       "</style>\n",
       "<table border=\"1\" class=\"dataframe\">\n",
       "  <thead>\n",
       "    <tr style=\"text-align: right;\">\n",
       "      <th></th>\n",
       "      <th>city</th>\n",
       "      <th>start_date</th>\n",
       "      <th>end_date</th>\n",
       "      <th>total_price</th>\n",
       "      <th>daily_price</th>\n",
       "      <th>vehicle_class</th>\n",
       "      <th>company_name</th>\n",
       "    </tr>\n",
       "  </thead>\n",
       "  <tbody>\n",
       "    <tr>\n",
       "      <th>0</th>\n",
       "      <td>Los Angeles</td>\n",
       "      <td>2022-11-14</td>\n",
       "      <td>2022-12-01</td>\n",
       "      <td>1171.00</td>\n",
       "      <td>68.88</td>\n",
       "      <td>Station Wagon</td>\n",
       "      <td>Travellers Autobarn</td>\n",
       "    </tr>\n",
       "    <tr>\n",
       "      <th>1</th>\n",
       "      <td>Los Angeles</td>\n",
       "      <td>2022-11-14</td>\n",
       "      <td>2022-12-01</td>\n",
       "      <td>1610.00</td>\n",
       "      <td>94.71</td>\n",
       "      <td>Hitop Campervan</td>\n",
       "      <td>Travellers Autobarn</td>\n",
       "    </tr>\n",
       "    <tr>\n",
       "      <th>2</th>\n",
       "      <td>Los Angeles</td>\n",
       "      <td>2022-11-14</td>\n",
       "      <td>2022-12-01</td>\n",
       "      <td>1614.00</td>\n",
       "      <td>94.94</td>\n",
       "      <td>Kuga Campervan</td>\n",
       "      <td>Travellers Autobarn</td>\n",
       "    </tr>\n",
       "    <tr>\n",
       "      <th>3</th>\n",
       "      <td>Los Angeles</td>\n",
       "      <td>2022-11-14</td>\n",
       "      <td>2022-12-01</td>\n",
       "      <td>1666.00</td>\n",
       "      <td>98.00</td>\n",
       "      <td>Motorhome C25</td>\n",
       "      <td>Road Bear</td>\n",
       "    </tr>\n",
       "    <tr>\n",
       "      <th>4</th>\n",
       "      <td>Los Angeles</td>\n",
       "      <td>2022-11-14</td>\n",
       "      <td>2022-12-01</td>\n",
       "      <td>1717.00</td>\n",
       "      <td>101.00</td>\n",
       "      <td>Campervan B21</td>\n",
       "      <td>Road Bear</td>\n",
       "    </tr>\n",
       "    <tr>\n",
       "      <th>...</th>\n",
       "      <td>...</td>\n",
       "      <td>...</td>\n",
       "      <td>...</td>\n",
       "      <td>...</td>\n",
       "      <td>...</td>\n",
       "      <td>...</td>\n",
       "      <td>...</td>\n",
       "    </tr>\n",
       "    <tr>\n",
       "      <th>62</th>\n",
       "      <td>Los Angeles</td>\n",
       "      <td>2022-11-14</td>\n",
       "      <td>2022-12-01</td>\n",
       "      <td>4487.00</td>\n",
       "      <td>263.94</td>\n",
       "      <td>Motorhome AF33</td>\n",
       "      <td>El Monte</td>\n",
       "    </tr>\n",
       "    <tr>\n",
       "      <th>63</th>\n",
       "      <td>Los Angeles</td>\n",
       "      <td>2022-11-14</td>\n",
       "      <td>2022-12-01</td>\n",
       "      <td>4708.00</td>\n",
       "      <td>276.94</td>\n",
       "      <td>Motorhome MS31</td>\n",
       "      <td>Mighty</td>\n",
       "    </tr>\n",
       "    <tr>\n",
       "      <th>64</th>\n",
       "      <td>Los Angeles</td>\n",
       "      <td>2022-11-14</td>\n",
       "      <td>2022-12-01</td>\n",
       "      <td>4859.00</td>\n",
       "      <td>285.82</td>\n",
       "      <td>Motorhome FS31</td>\n",
       "      <td>El Monte</td>\n",
       "    </tr>\n",
       "    <tr>\n",
       "      <th>65</th>\n",
       "      <td>Los Angeles</td>\n",
       "      <td>2022-11-14</td>\n",
       "      <td>2022-12-01</td>\n",
       "      <td>5100.00</td>\n",
       "      <td>300.00</td>\n",
       "      <td>Motorhome A32</td>\n",
       "      <td>Road Bear</td>\n",
       "    </tr>\n",
       "    <tr>\n",
       "      <th>66</th>\n",
       "      <td>Los Angeles</td>\n",
       "      <td>2022-11-14</td>\n",
       "      <td>2022-12-01</td>\n",
       "      <td>5150.00</td>\n",
       "      <td>302.94</td>\n",
       "      <td>Motorhome AF33</td>\n",
       "      <td>El Monte</td>\n",
       "    </tr>\n",
       "  </tbody>\n",
       "</table>\n",
       "<p>67 rows × 7 columns</p>\n",
       "</div>"
      ],
      "text/plain": [
       "           city  start_date    end_date total_price daily_price  \\\n",
       "0   Los Angeles  2022-11-14  2022-12-01     1171.00       68.88   \n",
       "1   Los Angeles  2022-11-14  2022-12-01     1610.00       94.71   \n",
       "2   Los Angeles  2022-11-14  2022-12-01     1614.00       94.94   \n",
       "3   Los Angeles  2022-11-14  2022-12-01     1666.00       98.00   \n",
       "4   Los Angeles  2022-11-14  2022-12-01     1717.00      101.00   \n",
       "..          ...         ...         ...         ...         ...   \n",
       "62  Los Angeles  2022-11-14  2022-12-01     4487.00      263.94   \n",
       "63  Los Angeles  2022-11-14  2022-12-01     4708.00      276.94   \n",
       "64  Los Angeles  2022-11-14  2022-12-01     4859.00      285.82   \n",
       "65  Los Angeles  2022-11-14  2022-12-01     5100.00      300.00   \n",
       "66  Los Angeles  2022-11-14  2022-12-01     5150.00      302.94   \n",
       "\n",
       "      vehicle_class         company_name  \n",
       "0     Station Wagon  Travellers Autobarn  \n",
       "1   Hitop Campervan  Travellers Autobarn  \n",
       "2    Kuga Campervan  Travellers Autobarn  \n",
       "3     Motorhome C25            Road Bear  \n",
       "4     Campervan B21            Road Bear  \n",
       "..              ...                  ...  \n",
       "62   Motorhome AF33             El Monte  \n",
       "63   Motorhome MS31               Mighty  \n",
       "64   Motorhome FS31             El Monte  \n",
       "65    Motorhome A32            Road Bear  \n",
       "66   Motorhome AF33             El Monte  \n",
       "\n",
       "[67 rows x 7 columns]"
      ]
     },
     "execution_count": 78,
     "metadata": {},
     "output_type": "execute_result"
    }
   ],
   "source": [
    "trip_data = []\n",
    "for card in listings:\n",
    "\n",
    "    vehicle_class = card.find_element(By.CLASS_NAME, \"provider-data\").text.split(\"\\n\")[0]\n",
    "    company_name = card.find_element(By.CLASS_NAME, \"providerLogo\").get_attribute(\"alt\")\n",
    "    price_string = card.find_element(By.CLASS_NAME, \"camper-details\").find_element(By.CSS_SELECTOR, 'div.priceSummary.full > dl > dd').text.split('\\n')\n",
    "    total_price = '.'.join(re.findall(r'\\d+', price_string[0]))\n",
    "    daily_price = '.'.join(re.findall(r'\\d+', price_string[1]))\n",
    "\n",
    "\n",
    "    trip_data.append({\n",
    "    'city': trip['city'],\n",
    "    'start_date':trip['start_date'],\n",
    "    'end_date':trip['end_date'],\n",
    "    'total_price':total_price,\n",
    "    'daily_price': daily_price,\n",
    "    'vehicle_class':vehicle_class,\n",
    "    'company_name':company_name\n",
    "    })\n",
    "\n",
    "pd.DataFrame(trip_data)"
   ]
  },
  {
   "cell_type": "code",
   "execution_count": 74,
   "metadata": {},
   "outputs": [],
   "source": [
    "LOAD_MORE_RESULTS = \"document.querySelector('#ResultList > button')\"\n",
    "\n",
    "browser.execute_script(f\"return {LOAD_MORE_RESULTS}\").click()"
   ]
  },
  {
   "cell_type": "code",
   "execution_count": null,
   "metadata": {},
   "outputs": [],
   "source": []
  }
 ],
 "metadata": {
  "kernelspec": {
   "display_name": "Python 3.9.12 ('webscraper')",
   "language": "python",
   "name": "python3"
  },
  "language_info": {
   "codemirror_mode": {
    "name": "ipython",
    "version": 3
   },
   "file_extension": ".py",
   "mimetype": "text/x-python",
   "name": "python",
   "nbconvert_exporter": "python",
   "pygments_lexer": "ipython3",
   "version": "3.9.12"
  },
  "orig_nbformat": 4,
  "vscode": {
   "interpreter": {
    "hash": "c780947fbb818c7495fd9532412a3eb8d06e8fa4b61a49db8737789eaef9d63e"
   }
  }
 },
 "nbformat": 4,
 "nbformat_minor": 2
}

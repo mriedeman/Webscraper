{
 "cells": [
  {
   "cell_type": "code",
   "execution_count": 1,
   "metadata": {},
   "outputs": [],
   "source": [
    "from selenium import webdriver\n",
    "from webdriver_manager.chrome import ChromeDriverManager\n",
    "from selenium.webdriver.chrome.service import Service\n",
    "from selenium.webdriver.common.by import By\n",
    "from selenium.webdriver.common.keys import Keys\n",
    "from selenium.webdriver.support.ui import WebDriverWait\n",
    "from selenium.webdriver.support import expected_conditions as EC\n",
    "from selenium.webdriver.support.ui import Select\n",
    "from selenium.common.exceptions import TimeoutException\n",
    "from selenium.common.exceptions import ElementClickInterceptedException, JavascriptException, NoSuchElementException\n",
    "import time\n",
    "from datetime import date, datetime, timedelta \n",
    "import numpy as np\n",
    "import pandas as pd\n",
    "import os\n",
    "from functions import allMondays, intHolidayClosures, create_trips, country_holidays"
   ]
  },
  {
   "cell_type": "code",
   "execution_count": 2,
   "metadata": {},
   "outputs": [],
   "source": [
    "#constants\n",
    "URL = 'https://camper.fti.de/'\n",
    "DELAY = 3\n",
    "PAGE_LOAD_ID = \"SearchMask\"\n",
    "COOKIE_ID = '//*[@id=\"uc-center-container\"]/div[2]/div/div[1]/div/button'\n",
    "# PICKUP_LOC_ID = 'pickUpLocation'\n",
    "# PICKUP_LOC_XPATH = \"//select[@id = 'pickUpLocation]\""
   ]
  },
  {
   "cell_type": "code",
   "execution_count": 3,
   "metadata": {},
   "outputs": [
    {
     "name": "stderr",
     "output_type": "stream",
     "text": [
      "[WDM] - Downloading: 100%|██████████| 6.21M/6.21M [00:01<00:00, 4.98MB/s]\n"
     ]
    },
    {
     "name": "stdout",
     "output_type": "stream",
     "text": [
      "Page is ready!\n"
     ]
    }
   ],
   "source": [
    "def create_browser(URL, ELEMENT_ID):\n",
    "\n",
    "    \"\"\"Creates the browser and loads the page given url and webelement\"\"\"\n",
    "    \n",
    "    s=Service(ChromeDriverManager().install())\n",
    "    browser = webdriver.Chrome(service=s)\n",
    "\n",
    "    browser.get(URL)\n",
    "\n",
    "    try:\n",
    "        myElem = WebDriverWait(browser, DELAY).until(EC.presence_of_element_located((By.ID, ELEMENT_ID)))\n",
    "        print (\"Page is ready!\")\n",
    "    except TimeoutException:\n",
    "        print (\"Couldn't find element\")\n",
    "\n",
    "    return browser\n",
    "\n",
    "\n",
    "browser = create_browser(URL, PAGE_LOAD_ID)"
   ]
  },
  {
   "cell_type": "code",
   "execution_count": 4,
   "metadata": {},
   "outputs": [],
   "source": [
    "#accept cookies\n",
    "browser.execute_script( \"\"\"return document.querySelector(\"#usercentrics-root\").shadowRoot.querySelector(\"#uc-center-container > div.sc-gWXbKe.fSIThp > div > div.sc-cxpSdN.ihpUDX > div > button\")\"\"\").click()"
   ]
  },
  {
   "cell_type": "code",
   "execution_count": 6,
   "metadata": {},
   "outputs": [],
   "source": [
    "#deny news\n",
    "browser.execute_script(\"\"\"return document.querySelector(\"#pid-14572 > div.cleverpush-confirm.cleverpush-confirm-modal.cleverpush-confirm-windows.cleverpush-confirm-chrome.cleverpush-confirm-chrome.cleverpush-confirm-1 > div.cleverpush-confirm-wrap > div.cleverpush-clearfix.cleverpush-clearfix-bottom > div.cleverpush-confirm-buttons > button.cleverpush-confirm-btn.cleverpush-confirm-btn-deny\") \"\"\").click()"
   ]
  },
  {
   "cell_type": "code",
   "execution_count": 13,
   "metadata": {},
   "outputs": [],
   "source": [
    "#close pop-up\n",
    "browser.execute_script(\"\"\"return document.querySelector(\"#trboModule_12920_202268_88_container > div.trbo-closeButton.trbo-theme-0.trboType-icon > i\")\"\"\").click()\n"
   ]
  },
  {
   "cell_type": "code",
   "execution_count": 7,
   "metadata": {},
   "outputs": [],
   "source": [
    "#enter city\n",
    "CITY = 'Chicago'\n",
    "browser.execute_script(f\"\"\"return document.querySelector(\"#SearchMask > div.flexContainer.location > div:nth-child(1) > div:nth-child(1) > div > div > input\") \"\"\").send_keys(f'{CITY}')"
   ]
  },
  {
   "cell_type": "code",
   "execution_count": 8,
   "metadata": {},
   "outputs": [],
   "source": [
    "#pick first selected option\n",
    "browser.execute_script(f\"\"\"return document.querySelector(\"#SearchMask > div.flexContainer.location > div:nth-child(1) > div:nth-child(1) > div > div > input\") \"\"\").send_keys(Keys.RETURN)"
   ]
  },
  {
   "cell_type": "code",
   "execution_count": 39,
   "metadata": {},
   "outputs": [],
   "source": [
    "#open calendar\n",
    "browser.execute_script(\"\"\" return document.querySelector(\"#SearchMask > div:nth-child(2) > div:nth-child(1) > div > div > div:nth-child(1) > input\")\"\"\").click()\n"
   ]
  },
  {
   "cell_type": "code",
   "execution_count": 10,
   "metadata": {},
   "outputs": [
    {
     "data": {
      "text/plain": [
       "1"
      ]
     },
     "execution_count": 10,
     "metadata": {},
     "output_type": "execute_result"
    }
   ],
   "source": [
    "#simulate a single trip\n",
    "german_months = {\n",
    "    1 : 'Jan',\n",
    "    2 : 'Feb',\n",
    "    3 : 'Mär',\n",
    "    4 : 'Apr',\n",
    "    5 : 'Mai',\n",
    "    6 : 'Jun',\n",
    "    7 : 'Jul',\n",
    "    8 : 'Aug',\n",
    "    9 : 'Sep',\n",
    "    10: 'Okt',\n",
    "    11: 'Nov',\n",
    "    12: 'Dez'\n",
    "\n",
    "}\n",
    "\n",
    "start_date = date(2022, 11, 14)\n",
    "end_date = start_date + timedelta(17)\n",
    "trip = {}\n",
    "trip['start_month'] = german_months[start_date.month]\n",
    "trip['start_day'] = start_date.day\n",
    "trip['end_day'] = end_date.day\n",
    "trip['end_month'] = end_date.month\n",
    "trip['end_day']"
   ]
  },
  {
   "cell_type": "code",
   "execution_count": 11,
   "metadata": {},
   "outputs": [
    {
     "name": "stdout",
     "output_type": "stream",
     "text": [
      "Nov\n"
     ]
    }
   ],
   "source": [
    "#find the starting month in the calendar\n",
    "\n",
    "cal_month = browser.find_element(By.CLASS_NAME, \"vdp-datepicker__calendar\").text[2:5]\n",
    "\n",
    "while cal_month != trip['start_month']:\n",
    "    \n",
    "    browser.find_element(By.CSS_SELECTOR, \"span[class = 'next']\").click()\n",
    "\n",
    "    cal_month = browser.find_element(By.CLASS_NAME, \"vdp-datepicker__calendar\").text[2:5]\n",
    "    print(cal_month)\n",
    "    time.sleep(3)"
   ]
  },
  {
   "cell_type": "code",
   "execution_count": 23,
   "metadata": {},
   "outputs": [
    {
     "data": {
      "text/plain": [
       "[]"
      ]
     },
     "execution_count": 23,
     "metadata": {},
     "output_type": "execute_result"
    }
   ],
   "source": [
    "browser.find_elements(By.CLASS_NAME, 'cell day')"
   ]
  },
  {
   "cell_type": "code",
   "execution_count": 29,
   "metadata": {},
   "outputs": [
    {
     "data": {
      "text/plain": [
       "43"
      ]
     },
     "execution_count": 29,
     "metadata": {},
     "output_type": "execute_result"
    }
   ],
   "source": [
    "len(j)"
   ]
  },
  {
   "cell_type": "code",
   "execution_count": 40,
   "metadata": {},
   "outputs": [
    {
     "name": "stdout",
     "output_type": "stream",
     "text": [
      "['Mo.', 'Di.', 'Mi.', 'Do.', 'Fr.', 'Sa.', 'So.', '', '1', '2', '3', '4', '5', '6', '7', '8', '9', '10', '11', '12', '13', '14', '15', '16', '17', '18', '19', '20', '21', '22', '23', '24', '25', '26', '27', '28', '29', '30', '', '', '', '', '', '', '', '', '', '', '', '', '', '', '', '', '', '', '', '', '', '', '', '', '', '', '', '', '', '', '', '', '', '', '', '', '', '']\n"
     ]
    }
   ],
   "source": [
    "j = browser.find_elements(By.XPATH, \"//span[contains(@class, 'cell day')]\")\n",
    "stuff = []\n",
    "for ele in j:\n",
    "\n",
    "    stuff.append(ele.text)\n",
    "\n",
    "print(stuff)"
   ]
  },
  {
   "cell_type": "code",
   "execution_count": 60,
   "metadata": {},
   "outputs": [
    {
     "ename": "InvalidSelectorException",
     "evalue": "Message: invalid selector: Unable to locate an element with the xpath expression //span[contains(text(), 'cell day'] because of the following error:\nSyntaxError: Failed to execute 'evaluate' on 'Document': The string '//span[contains(text(), 'cell day']' is not a valid XPath expression.\n  (Session info: chrome=104.0.5112.102)\nStacktrace:\nBacktrace:\n\tOrdinal0 [0x002878B3+2193587]\n\tOrdinal0 [0x00220681+1771137]\n\tOrdinal0 [0x001341A8+803240]\n\tOrdinal0 [0x00136BB4+814004]\n\tOrdinal0 [0x00136A72+813682]\n\tOrdinal0 [0x00136D00+814336]\n\tOrdinal0 [0x001621B5+991669]\n\tOrdinal0 [0x0016273B+993083]\n\tOrdinal0 [0x0018F7FC+1177596]\n\tOrdinal0 [0x0017D7F4+1103860]\n\tOrdinal0 [0x0018DAE2+1170146]\n\tOrdinal0 [0x0017D5C6+1103302]\n\tOrdinal0 [0x001577E0+948192]\n\tOrdinal0 [0x001586E6+952038]\n\tGetHandleVerifier [0x00530CB2+2738370]\n\tGetHandleVerifier [0x005221B8+2678216]\n\tGetHandleVerifier [0x003117AA+512954]\n\tGetHandleVerifier [0x00310856+509030]\n\tOrdinal0 [0x0022743B+1799227]\n\tOrdinal0 [0x0022BB68+1817448]\n\tOrdinal0 [0x0022BC55+1817685]\n\tOrdinal0 [0x00235230+1856048]\n\tBaseThreadInitThunk [0x76F9FA29+25]\n\tRtlGetAppContainerNamedObjectPath [0x77CC7A9E+286]\n\tRtlGetAppContainerNamedObjectPath [0x77CC7A6E+238]\n\t(No symbol) [0x00000000]\n",
     "output_type": "error",
     "traceback": [
      "\u001b[1;31m---------------------------------------------------------------------------\u001b[0m",
      "\u001b[1;31mInvalidSelectorException\u001b[0m                  Traceback (most recent call last)",
      "\u001b[1;32mc:\\Users\\mriedeman\\Documents\\Python Scripts\\Webscraper\\code\\fti_camper.ipynb Cell 13\u001b[0m in \u001b[0;36m<cell line: 1>\u001b[1;34m()\u001b[0m\n\u001b[1;32m----> <a href='vscode-notebook-cell:/c%3A/Users/mriedeman/Documents/Python%20Scripts/Webscraper/code/fti_camper.ipynb#X25sZmlsZQ%3D%3D?line=0'>1</a>\u001b[0m browser\u001b[39m.\u001b[39;49mfind_elements(By\u001b[39m.\u001b[39;49mXPATH, \u001b[39m\"\u001b[39;49m\u001b[39m//span[contains(text(), \u001b[39;49m\u001b[39m'\u001b[39;49m\u001b[39mcell day\u001b[39;49m\u001b[39m'\u001b[39;49m\u001b[39m]\u001b[39;49m\u001b[39m\"\u001b[39;49m)\n",
      "File \u001b[1;32mc:\\Users\\mriedeman\\Anaconda3\\envs\\webscraper\\lib\\site-packages\\selenium\\webdriver\\remote\\webdriver.py:889\u001b[0m, in \u001b[0;36mWebDriver.find_elements\u001b[1;34m(self, by, value)\u001b[0m\n\u001b[0;32m    885\u001b[0m     value \u001b[39m=\u001b[39m \u001b[39m'\u001b[39m\u001b[39m[name=\u001b[39m\u001b[39m\"\u001b[39m\u001b[39m%s\u001b[39;00m\u001b[39m\"\u001b[39m\u001b[39m]\u001b[39m\u001b[39m'\u001b[39m \u001b[39m%\u001b[39m value\n\u001b[0;32m    887\u001b[0m \u001b[39m# Return empty list if driver returns null\u001b[39;00m\n\u001b[0;32m    888\u001b[0m \u001b[39m# See https://github.com/SeleniumHQ/selenium/issues/4555\u001b[39;00m\n\u001b[1;32m--> 889\u001b[0m \u001b[39mreturn\u001b[39;00m \u001b[39mself\u001b[39;49m\u001b[39m.\u001b[39;49mexecute(Command\u001b[39m.\u001b[39;49mFIND_ELEMENTS, {\n\u001b[0;32m    890\u001b[0m     \u001b[39m'\u001b[39;49m\u001b[39musing\u001b[39;49m\u001b[39m'\u001b[39;49m: by,\n\u001b[0;32m    891\u001b[0m     \u001b[39m'\u001b[39;49m\u001b[39mvalue\u001b[39;49m\u001b[39m'\u001b[39;49m: value})[\u001b[39m'\u001b[39m\u001b[39mvalue\u001b[39m\u001b[39m'\u001b[39m] \u001b[39mor\u001b[39;00m []\n",
      "File \u001b[1;32mc:\\Users\\mriedeman\\Anaconda3\\envs\\webscraper\\lib\\site-packages\\selenium\\webdriver\\remote\\webdriver.py:434\u001b[0m, in \u001b[0;36mWebDriver.execute\u001b[1;34m(self, driver_command, params)\u001b[0m\n\u001b[0;32m    432\u001b[0m response \u001b[39m=\u001b[39m \u001b[39mself\u001b[39m\u001b[39m.\u001b[39mcommand_executor\u001b[39m.\u001b[39mexecute(driver_command, params)\n\u001b[0;32m    433\u001b[0m \u001b[39mif\u001b[39;00m response:\n\u001b[1;32m--> 434\u001b[0m     \u001b[39mself\u001b[39;49m\u001b[39m.\u001b[39;49merror_handler\u001b[39m.\u001b[39;49mcheck_response(response)\n\u001b[0;32m    435\u001b[0m     response[\u001b[39m'\u001b[39m\u001b[39mvalue\u001b[39m\u001b[39m'\u001b[39m] \u001b[39m=\u001b[39m \u001b[39mself\u001b[39m\u001b[39m.\u001b[39m_unwrap_value(\n\u001b[0;32m    436\u001b[0m         response\u001b[39m.\u001b[39mget(\u001b[39m'\u001b[39m\u001b[39mvalue\u001b[39m\u001b[39m'\u001b[39m, \u001b[39mNone\u001b[39;00m))\n\u001b[0;32m    437\u001b[0m     \u001b[39mreturn\u001b[39;00m response\n",
      "File \u001b[1;32mc:\\Users\\mriedeman\\Anaconda3\\envs\\webscraper\\lib\\site-packages\\selenium\\webdriver\\remote\\errorhandler.py:243\u001b[0m, in \u001b[0;36mErrorHandler.check_response\u001b[1;34m(self, response)\u001b[0m\n\u001b[0;32m    241\u001b[0m         alert_text \u001b[39m=\u001b[39m value[\u001b[39m'\u001b[39m\u001b[39malert\u001b[39m\u001b[39m'\u001b[39m]\u001b[39m.\u001b[39mget(\u001b[39m'\u001b[39m\u001b[39mtext\u001b[39m\u001b[39m'\u001b[39m)\n\u001b[0;32m    242\u001b[0m     \u001b[39mraise\u001b[39;00m exception_class(message, screen, stacktrace, alert_text)  \u001b[39m# type: ignore[call-arg]  # mypy is not smart enough here\u001b[39;00m\n\u001b[1;32m--> 243\u001b[0m \u001b[39mraise\u001b[39;00m exception_class(message, screen, stacktrace)\n",
      "\u001b[1;31mInvalidSelectorException\u001b[0m: Message: invalid selector: Unable to locate an element with the xpath expression //span[contains(text(), 'cell day'] because of the following error:\nSyntaxError: Failed to execute 'evaluate' on 'Document': The string '//span[contains(text(), 'cell day']' is not a valid XPath expression.\n  (Session info: chrome=104.0.5112.102)\nStacktrace:\nBacktrace:\n\tOrdinal0 [0x002878B3+2193587]\n\tOrdinal0 [0x00220681+1771137]\n\tOrdinal0 [0x001341A8+803240]\n\tOrdinal0 [0x00136BB4+814004]\n\tOrdinal0 [0x00136A72+813682]\n\tOrdinal0 [0x00136D00+814336]\n\tOrdinal0 [0x001621B5+991669]\n\tOrdinal0 [0x0016273B+993083]\n\tOrdinal0 [0x0018F7FC+1177596]\n\tOrdinal0 [0x0017D7F4+1103860]\n\tOrdinal0 [0x0018DAE2+1170146]\n\tOrdinal0 [0x0017D5C6+1103302]\n\tOrdinal0 [0x001577E0+948192]\n\tOrdinal0 [0x001586E6+952038]\n\tGetHandleVerifier [0x00530CB2+2738370]\n\tGetHandleVerifier [0x005221B8+2678216]\n\tGetHandleVerifier [0x003117AA+512954]\n\tGetHandleVerifier [0x00310856+509030]\n\tOrdinal0 [0x0022743B+1799227]\n\tOrdinal0 [0x0022BB68+1817448]\n\tOrdinal0 [0x0022BC55+1817685]\n\tOrdinal0 [0x00235230+1856048]\n\tBaseThreadInitThunk [0x76F9FA29+25]\n\tRtlGetAppContainerNamedObjectPath [0x77CC7A9E+286]\n\tRtlGetAppContainerNamedObjectPath [0x77CC7A6E+238]\n\t(No symbol) [0x00000000]\n"
     ]
    }
   ],
   "source": [
    "browser.find_elements(By.XPATH, \"span[contains(text(), 'cell day')]\") button[not(contains(@class, 'edge-day'))][text() = {trip['start_day']}]"
   ]
  },
  {
   "cell_type": "code",
   "execution_count": 26,
   "metadata": {},
   "outputs": [],
   "source": [
    "    while cal_month != trip['start_month']:\n",
    "        browser.find_element(By.XPATH, \"//div[@class = 'dr-cal-end']/div/div/div/header/button[@class = 'dp-next']\").click()\n",
    "        #updates cal_month variable to whatever date you are currently on\n",
    "        cal_month = browser.find_element(By.XPATH,\"//div[@class = 'dr-cal-start']/div/div/div\").find_element(By.CSS_SELECTOR,'button.dp-cal-month').text[0:3]\n",
    "        time.sleep(int(np.random.rand(1)*3))\n",
    "        print(cal_month)"
   ]
  },
  {
   "cell_type": "code",
   "execution_count": 32,
   "metadata": {},
   "outputs": [
    {
     "ename": "AttributeError",
     "evalue": "'NoneType' object has no attribute 'text'",
     "output_type": "error",
     "traceback": [
      "\u001b[1;31m---------------------------------------------------------------------------\u001b[0m",
      "\u001b[1;31mAttributeError\u001b[0m                            Traceback (most recent call last)",
      "\u001b[1;32mc:\\Users\\mriedeman\\Documents\\Python Scripts\\Webscraper\\code\\fti_camper.ipynb Cell 12\u001b[0m in \u001b[0;36m<cell line: 1>\u001b[1;34m()\u001b[0m\n\u001b[1;32m----> <a href='vscode-notebook-cell:/c%3A/Users/mriedeman/Documents/Python%20Scripts/Webscraper/code/fti_camper.ipynb#W4sZmlsZQ%3D%3D?line=0'>1</a>\u001b[0m browser\u001b[39m.\u001b[39;49mexecute_script(\u001b[39m\"\"\"\u001b[39;49m\u001b[39mdocument.querySelector(\u001b[39;49m\u001b[39m\"\u001b[39;49m\u001b[39m#SearchMask > div:nth-child(2) > div:nth-child(1) > div > div > div:nth-child(2) > header > span.day__month_btn.up\u001b[39;49m\u001b[39m\"\u001b[39;49m\u001b[39m)\u001b[39;49m\u001b[39m\"\"\"\u001b[39;49m)\u001b[39m.\u001b[39;49mtext()\n",
      "\u001b[1;31mAttributeError\u001b[0m: 'NoneType' object has no attribute 'text'"
     ]
    }
   ],
   "source": [
    "browser.execute_script(\"\"\"document.querySelector(\"#SearchMask > div:nth-child(2) > div:nth-child(1) > div > div > div:nth-child(2) > header > span.day__month_btn.up\")\"\"\").text()"
   ]
  },
  {
   "cell_type": "code",
   "execution_count": 35,
   "metadata": {},
   "outputs": [
    {
     "ename": "NoSuchElementException",
     "evalue": "Message: no such element: Unable to locate element: {\"method\":\"css selector\",\"selector\":\".day__month_btn up\"}\n  (Session info: chrome=104.0.5112.102)\nStacktrace:\nBacktrace:\n\tOrdinal0 [0x002878B3+2193587]\n\tOrdinal0 [0x00220681+1771137]\n\tOrdinal0 [0x001341A8+803240]\n\tOrdinal0 [0x001624A0+992416]\n\tOrdinal0 [0x0016273B+993083]\n\tOrdinal0 [0x0018F7C2+1177538]\n\tOrdinal0 [0x0017D7F4+1103860]\n\tOrdinal0 [0x0018DAE2+1170146]\n\tOrdinal0 [0x0017D5C6+1103302]\n\tOrdinal0 [0x001577E0+948192]\n\tOrdinal0 [0x001586E6+952038]\n\tGetHandleVerifier [0x00530CB2+2738370]\n\tGetHandleVerifier [0x005221B8+2678216]\n\tGetHandleVerifier [0x003117AA+512954]\n\tGetHandleVerifier [0x00310856+509030]\n\tOrdinal0 [0x0022743B+1799227]\n\tOrdinal0 [0x0022BB68+1817448]\n\tOrdinal0 [0x0022BC55+1817685]\n\tOrdinal0 [0x00235230+1856048]\n\tBaseThreadInitThunk [0x76F9FA29+25]\n\tRtlGetAppContainerNamedObjectPath [0x77CC7A9E+286]\n\tRtlGetAppContainerNamedObjectPath [0x77CC7A6E+238]\n\t(No symbol) [0x00000000]\n",
     "output_type": "error",
     "traceback": [
      "\u001b[1;31m---------------------------------------------------------------------------\u001b[0m",
      "\u001b[1;31mNoSuchElementException\u001b[0m                    Traceback (most recent call last)",
      "\u001b[1;32mc:\\Users\\mriedeman\\Documents\\Python Scripts\\Webscraper\\code\\fti_camper.ipynb Cell 13\u001b[0m in \u001b[0;36m<cell line: 1>\u001b[1;34m()\u001b[0m\n\u001b[1;32m----> <a href='vscode-notebook-cell:/c%3A/Users/mriedeman/Documents/Python%20Scripts/Webscraper/code/fti_camper.ipynb#X21sZmlsZQ%3D%3D?line=0'>1</a>\u001b[0m browser\u001b[39m.\u001b[39;49mfind_element(By\u001b[39m.\u001b[39;49mCLASS_NAME, \u001b[39m\"\u001b[39;49m\u001b[39mday__month_btn up\u001b[39;49m\u001b[39m\"\u001b[39;49m)\u001b[39m.\u001b[39mtext\n",
      "File \u001b[1;32mc:\\Users\\mriedeman\\Anaconda3\\envs\\webscraper\\lib\\site-packages\\selenium\\webdriver\\remote\\webdriver.py:856\u001b[0m, in \u001b[0;36mWebDriver.find_element\u001b[1;34m(self, by, value)\u001b[0m\n\u001b[0;32m    853\u001b[0m     by \u001b[39m=\u001b[39m By\u001b[39m.\u001b[39mCSS_SELECTOR\n\u001b[0;32m    854\u001b[0m     value \u001b[39m=\u001b[39m \u001b[39m'\u001b[39m\u001b[39m[name=\u001b[39m\u001b[39m\"\u001b[39m\u001b[39m%s\u001b[39;00m\u001b[39m\"\u001b[39m\u001b[39m]\u001b[39m\u001b[39m'\u001b[39m \u001b[39m%\u001b[39m value\n\u001b[1;32m--> 856\u001b[0m \u001b[39mreturn\u001b[39;00m \u001b[39mself\u001b[39;49m\u001b[39m.\u001b[39;49mexecute(Command\u001b[39m.\u001b[39;49mFIND_ELEMENT, {\n\u001b[0;32m    857\u001b[0m     \u001b[39m'\u001b[39;49m\u001b[39musing\u001b[39;49m\u001b[39m'\u001b[39;49m: by,\n\u001b[0;32m    858\u001b[0m     \u001b[39m'\u001b[39;49m\u001b[39mvalue\u001b[39;49m\u001b[39m'\u001b[39;49m: value})[\u001b[39m'\u001b[39m\u001b[39mvalue\u001b[39m\u001b[39m'\u001b[39m]\n",
      "File \u001b[1;32mc:\\Users\\mriedeman\\Anaconda3\\envs\\webscraper\\lib\\site-packages\\selenium\\webdriver\\remote\\webdriver.py:434\u001b[0m, in \u001b[0;36mWebDriver.execute\u001b[1;34m(self, driver_command, params)\u001b[0m\n\u001b[0;32m    432\u001b[0m response \u001b[39m=\u001b[39m \u001b[39mself\u001b[39m\u001b[39m.\u001b[39mcommand_executor\u001b[39m.\u001b[39mexecute(driver_command, params)\n\u001b[0;32m    433\u001b[0m \u001b[39mif\u001b[39;00m response:\n\u001b[1;32m--> 434\u001b[0m     \u001b[39mself\u001b[39;49m\u001b[39m.\u001b[39;49merror_handler\u001b[39m.\u001b[39;49mcheck_response(response)\n\u001b[0;32m    435\u001b[0m     response[\u001b[39m'\u001b[39m\u001b[39mvalue\u001b[39m\u001b[39m'\u001b[39m] \u001b[39m=\u001b[39m \u001b[39mself\u001b[39m\u001b[39m.\u001b[39m_unwrap_value(\n\u001b[0;32m    436\u001b[0m         response\u001b[39m.\u001b[39mget(\u001b[39m'\u001b[39m\u001b[39mvalue\u001b[39m\u001b[39m'\u001b[39m, \u001b[39mNone\u001b[39;00m))\n\u001b[0;32m    437\u001b[0m     \u001b[39mreturn\u001b[39;00m response\n",
      "File \u001b[1;32mc:\\Users\\mriedeman\\Anaconda3\\envs\\webscraper\\lib\\site-packages\\selenium\\webdriver\\remote\\errorhandler.py:243\u001b[0m, in \u001b[0;36mErrorHandler.check_response\u001b[1;34m(self, response)\u001b[0m\n\u001b[0;32m    241\u001b[0m         alert_text \u001b[39m=\u001b[39m value[\u001b[39m'\u001b[39m\u001b[39malert\u001b[39m\u001b[39m'\u001b[39m]\u001b[39m.\u001b[39mget(\u001b[39m'\u001b[39m\u001b[39mtext\u001b[39m\u001b[39m'\u001b[39m)\n\u001b[0;32m    242\u001b[0m     \u001b[39mraise\u001b[39;00m exception_class(message, screen, stacktrace, alert_text)  \u001b[39m# type: ignore[call-arg]  # mypy is not smart enough here\u001b[39;00m\n\u001b[1;32m--> 243\u001b[0m \u001b[39mraise\u001b[39;00m exception_class(message, screen, stacktrace)\n",
      "\u001b[1;31mNoSuchElementException\u001b[0m: Message: no such element: Unable to locate element: {\"method\":\"css selector\",\"selector\":\".day__month_btn up\"}\n  (Session info: chrome=104.0.5112.102)\nStacktrace:\nBacktrace:\n\tOrdinal0 [0x002878B3+2193587]\n\tOrdinal0 [0x00220681+1771137]\n\tOrdinal0 [0x001341A8+803240]\n\tOrdinal0 [0x001624A0+992416]\n\tOrdinal0 [0x0016273B+993083]\n\tOrdinal0 [0x0018F7C2+1177538]\n\tOrdinal0 [0x0017D7F4+1103860]\n\tOrdinal0 [0x0018DAE2+1170146]\n\tOrdinal0 [0x0017D5C6+1103302]\n\tOrdinal0 [0x001577E0+948192]\n\tOrdinal0 [0x001586E6+952038]\n\tGetHandleVerifier [0x00530CB2+2738370]\n\tGetHandleVerifier [0x005221B8+2678216]\n\tGetHandleVerifier [0x003117AA+512954]\n\tGetHandleVerifier [0x00310856+509030]\n\tOrdinal0 [0x0022743B+1799227]\n\tOrdinal0 [0x0022BB68+1817448]\n\tOrdinal0 [0x0022BC55+1817685]\n\tOrdinal0 [0x00235230+1856048]\n\tBaseThreadInitThunk [0x76F9FA29+25]\n\tRtlGetAppContainerNamedObjectPath [0x77CC7A9E+286]\n\tRtlGetAppContainerNamedObjectPath [0x77CC7A6E+238]\n\t(No symbol) [0x00000000]\n"
     ]
    }
   ],
   "source": [
    "browser.find_element(By.CLASS_NAME, \"day__month_btn up\").text"
   ]
  },
  {
   "cell_type": "code",
   "execution_count": 39,
   "metadata": {},
   "outputs": [
    {
     "data": {
      "text/plain": [
       "'Mai'"
      ]
     },
     "execution_count": 39,
     "metadata": {},
     "output_type": "execute_result"
    }
   ],
   "source": [
    "browser.find_element(By.CLASS_NAME, \"vdp-datepicker__calendar\").text[2:5]"
   ]
  },
  {
   "cell_type": "code",
   "execution_count": null,
   "metadata": {},
   "outputs": [],
   "source": []
  }
 ],
 "metadata": {
  "kernelspec": {
   "display_name": "Python 3.9.12 ('webscraper')",
   "language": "python",
   "name": "python3"
  },
  "language_info": {
   "codemirror_mode": {
    "name": "ipython",
    "version": 3
   },
   "file_extension": ".py",
   "mimetype": "text/x-python",
   "name": "python",
   "nbconvert_exporter": "python",
   "pygments_lexer": "ipython3",
   "version": "3.9.12"
  },
  "orig_nbformat": 4,
  "vscode": {
   "interpreter": {
    "hash": "c780947fbb818c7495fd9532412a3eb8d06e8fa4b61a49db8737789eaef9d63e"
   }
  }
 },
 "nbformat": 4,
 "nbformat_minor": 2
}

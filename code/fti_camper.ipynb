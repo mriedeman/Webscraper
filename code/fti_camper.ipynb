{
 "cells": [
  {
   "cell_type": "code",
   "execution_count": 4,
   "metadata": {},
   "outputs": [],
   "source": [
    "from selenium import webdriver\n",
    "from webdriver_manager.chrome import ChromeDriverManager\n",
    "from selenium.webdriver.chrome.service import Service\n",
    "from selenium.webdriver.common.by import By\n",
    "from selenium.webdriver.common.keys import Keys\n",
    "from selenium.webdriver.support.ui import WebDriverWait\n",
    "from selenium.webdriver.support import expected_conditions as EC\n",
    "from selenium.webdriver.support.ui import Select\n",
    "from selenium.common.exceptions import TimeoutException\n",
    "from selenium.common.exceptions import ElementClickInterceptedException, JavascriptException, NoSuchElementException\n",
    "import time\n",
    "from datetime import date, datetime, timedelta \n",
    "import numpy as np\n",
    "import pandas as pd\n",
    "import os\n",
    "import re\n",
    "from functions import allMondays, intHolidayClosures, create_trips, country_holidays"
   ]
  },
  {
   "cell_type": "code",
   "execution_count": 5,
   "metadata": {},
   "outputs": [],
   "source": [
    "#constants\n",
    "URL = 'https://camper.fti.de/'\n",
    "DELAY = 3\n",
    "PAGE_LOAD_ID = \"SearchMask\"\n",
    "COOKIE_ID = '//*[@id=\"uc-center-container\"]/div[2]/div/div[1]/div/button'\n",
    "COOKIE_JS_PATH = 'document.querySelector(\"#usercentrics-root\").shadowRoot.querySelector(\"#uc-center-container > div.sc-gWXbKe.fSIThp > div > div.sc-cxpSdN.ihpUDX > div > button\")'\n",
    "NOTIFICATION_JS_PATH = 'document.querySelector(\"#pid-14572 > div.cleverpush-confirm.cleverpush-confirm-modal.cleverpush-confirm-windows.cleverpush-confirm-chrome.cleverpush-confirm-chrome.cleverpush-confirm-1 > div.cleverpush-confirm-wrap > div.cleverpush-clearfix.cleverpush-clearfix-bottom > div.cleverpush-confirm-buttons > button.cleverpush-confirm-btn.cleverpush-confirm-btn-deny\")'\n",
    "POPUP_JS_PATH = 'document.querySelector(\"#trboModule_12920_202268_88_container > div.trbo-closeButton.trbo-theme-0.trboType-icon > i\")'\n",
    "CITY = 'Los Angeles'\n",
    "CITY_JS_PATH = 'document.querySelector(\"#SearchMask > div.flexContainer.location > div:nth-child(1) > div:nth-child(1) > div > div > input\")'\n",
    "CAL_ELEMS_XPATH = \"//span[contains(@class, 'cell day')]\"\n",
    "PU_CALENDAR_JS_PATH = 'document.querySelector(\"#SearchMask > div:nth-child(2) > div:nth-child(1) > div > div > div:nth-child(1) > input\")'\n",
    "DO_CALENDAR_JS_PATH = \"document.querySelector('#SearchMask > div:nth-child(2) > div:nth-child(2) > div > div > div:nth-child(1) > input')\"\n",
    "DO_MONTH_JS_PATH = \"document.querySelector('#SearchMask > div:nth-child(2) > div:nth-child(2) > div > div > div:nth-child(2) > header > span.day__month_btn.up')\"\n",
    "PU_MONTH_TEXT_CLASS_NAME = \"vdp-datepicker__calendar\"\n",
    "PU_MONTH_NEXT_BTN_CLASS_NAME = \"span[class = 'next']\"\n",
    "DO_MONTH_TEXT_XPATH = \"//*[@id='SearchMask']/div[2]/div[2]/div/div/div[2]/header/span[3]\"\n",
    "SUBMIT_BUTTON_ID = \"SubmitButton\"\n",
    "LOAD_MORE_RESULTS = \"document.querySelector('#ResultList > button')\"\n",
    "# PICKUP_LOC_ID = 'pickUpLocation'\n",
    "# PICKUP_LOC_XPATH = \"//select[@id = 'pickUpLocation]\""
   ]
  },
  {
   "cell_type": "code",
   "execution_count": 18,
   "metadata": {},
   "outputs": [
    {
     "name": "stderr",
     "output_type": "stream",
     "text": [
      "C:\\Users\\mriedeman\\AppData\\Local\\Temp\\ipykernel_10356\\3865060908.py:12: DeprecationWarning: use options instead of chrome_options\n",
      "  driver = webdriver.Chrome(service=s, chrome_options= options)\n"
     ]
    },
    {
     "data": {
      "text/plain": [
       "['71.86.129.131:8080',\n",
       " '198.11.175.192:8080',\n",
       " '49.0.2.242:8090',\n",
       " '20.54.56.26:8080',\n",
       " '47.252.1.180:3128',\n",
       " '185.125.125.157:80',\n",
       " '83.229.73.175:80',\n",
       " '130.41.55.190:8080',\n",
       " '134.84.66.194:3128',\n",
       " '3.14.253.82:80',\n",
       " '41.65.174.120:1981',\n",
       " '5.202.95.147:8080',\n",
       " '110.238.109.146:8080',\n",
       " '201.229.250.22:8080',\n",
       " '172.104.241.29:8081',\n",
       " '51.159.207.156:3128',\n",
       " '110.238.113.119:8080',\n",
       " '147.139.133.146:8080',\n",
       " '149.129.239.170:8080',\n",
       " '161.97.126.37:8118',\n",
       " '35.187.4.12:8888',\n",
       " '47.245.34.161:8080',\n",
       " '172.104.252.86:80',\n",
       " '45.33.12.251:8080',\n",
       " '178.79.191.47:54417',\n",
       " '45.79.27.210:44554',\n",
       " '149.129.184.250:8080',\n",
       " '172.105.196.53:9000',\n",
       " '154.236.177.100:1981',\n",
       " '95.79.25.77:3128',\n",
       " '213.222.34.200:53281',\n",
       " '103.145.253.237:3128',\n",
       " '96.126.124.197:81',\n",
       " '47.254.195.196:8080',\n",
       " '176.56.107.184:52210',\n",
       " '114.116.2.116:8001',\n",
       " '178.79.138.253:8080',\n",
       " '130.185.119.20:3128',\n",
       " '46.229.214.206:3128',\n",
       " '173.212.200.30:3128',\n",
       " '189.173.168.174:999',\n",
       " '157.100.12.138:999',\n",
       " '43.204.1.146:80',\n",
       " '167.172.178.193:37105',\n",
       " '64.227.7.192:5566',\n",
       " '111.225.152.92:8089',\n",
       " '129.226.162.177:443',\n",
       " '52.47.89.153:8080',\n",
       " '157.230.241.133:33273',\n",
       " '157.230.34.152:41885',\n",
       " '23.224.198.233:24004',\n",
       " '45.153.130.241:10014',\n",
       " '159.223.20.18:10022',\n",
       " '115.96.208.124:8080',\n",
       " '13.37.250.42:12005',\n",
       " '159.192.253.235:8080',\n",
       " '24.109.252.48:80',\n",
       " '103.252.1.137:3128',\n",
       " '106.249.44.10:3128',\n",
       " '14.140.131.82:3128',\n",
       " '92.114.18.11:80',\n",
       " '114.30.79.171:3128',\n",
       " '105.112.191.250:3128',\n",
       " '103.159.168.80:3128',\n",
       " '210.212.227.67:3128',\n",
       " '144.217.131.61:3148',\n",
       " '79.168.38.147:8080',\n",
       " '95.154.104.147:44393',\n",
       " '154.236.184.70:1975',\n",
       " '45.56.83.46:8012',\n",
       " '68.33.238.181:8118',\n",
       " '88.248.104.37:34034',\n",
       " '163.53.208.93:8080',\n",
       " '158.69.71.245:9300',\n",
       " '88.198.180.202:80',\n",
       " '117.121.202.62:8888',\n",
       " '125.63.90.215:80',\n",
       " '198.167.193.87:8118',\n",
       " '158.69.53.132:9300',\n",
       " '1.10.234.53:8080',\n",
       " '167.235.253.64:80',\n",
       " '163.172.210.222:4542',\n",
       " '45.5.119.178:8080',\n",
       " '201.71.2.97:999',\n",
       " '45.70.236.125:999',\n",
       " '209.97.134.22:3128',\n",
       " '103.175.236.189:8080',\n",
       " '163.172.215.211:3128',\n",
       " '51.79.152.70:3128',\n",
       " '45.160.92.9:8080',\n",
       " '186.5.94.202:999',\n",
       " '161.97.160.180:3128',\n",
       " '96.95.164.41:3128',\n",
       " '181.129.2.90:8081',\n",
       " '193.164.17.64:2019',\n",
       " '121.37.203.216:8080',\n",
       " '85.239.54.111:3128',\n",
       " '103.59.42.114:14455',\n",
       " '176.9.218.190:3128',\n",
       " '201.77.108.48:999']"
      ]
     },
     "execution_count": 18,
     "metadata": {},
     "output_type": "execute_result"
    }
   ],
   "source": [
    "def get_proxies():\n",
    "\n",
    "    options = webdriver.ChromeOptions()\n",
    "    #maximize argument\n",
    "    options.add_argument(\"start-maximized\")\n",
    "\n",
    "    #removes \"chrome is being controlled by automated software\"\n",
    "    options.add_experimental_option(\"excludeSwitches\", [\"enable-automation\"])\n",
    "    options.add_experimental_option('useAutomationExtension', False)\n",
    "\n",
    "    s=Service(ChromeDriverManager().install())\n",
    "    driver = webdriver.Chrome(service=s, chrome_options= options)\n",
    "    driver.get(\"https://sslproxies.org/\")\n",
    "\n",
    "    #scroll to the table\n",
    "    driver.execute_script(\"return arguments[0].scrollIntoView(true);\", WebDriverWait(driver, 20).until(EC.visibility_of_element_located((By.XPATH, \"//table[@class='table table-striped table-bordered']//th[contains(., 'IP Address')]\"))))\n",
    "\n",
    "    ips = [my_elem.get_attribute(\"innerHTML\") for my_elem in WebDriverWait(driver, 5).until(EC.visibility_of_all_elements_located((By.XPATH, \"//table[@class='table table-striped table-bordered']//tbody//tr/td[position() = 1]\")))]\n",
    "    ports = [my_elem.get_attribute(\"innerHTML\") for my_elem in WebDriverWait(driver, 5).until(EC.visibility_of_all_elements_located((By.XPATH, \"//table[@class='table table-striped table-bordered']//tbody//tr/td[position() = 2]\")))]\n",
    "\n",
    "    proxies = []\n",
    "    for i in range(0, len(ips)):\n",
    "        proxies.append(ips[i]+':'+ports[i])\n",
    "    #print(proxies)\n",
    "    \n",
    "    driver.quit()\n",
    "\n",
    "    return proxies\n",
    "\n",
    "proxies = get_proxies()\n",
    "\n",
    "\n",
    "proxies"
   ]
  },
  {
   "cell_type": "code",
   "execution_count": null,
   "metadata": {},
   "outputs": [],
   "source": []
  },
  {
   "cell_type": "code",
   "execution_count": 19,
   "metadata": {},
   "outputs": [
    {
     "name": "stdout",
     "output_type": "stream",
     "text": [
      "Page is ready!\n"
     ]
    }
   ],
   "source": [
    "def create_browser(URL, ELEMENT_ID):\n",
    "\n",
    "    \"\"\"Creates the browser and loads the page given url and webelement\"\"\"\n",
    "    \n",
    "    options = webdriver.ChromeOptions()\n",
    "    options.add_argument(f'--proxy-server={proxies[0]}')\n",
    "    s=Service(ChromeDriverManager().install())\n",
    "    browser = webdriver.Chrome(service=s)\n",
    "\n",
    "    browser.get(URL)\n",
    "\n",
    "    try:\n",
    "        myElem = WebDriverWait(browser, DELAY).until(EC.presence_of_element_located((By.ID, ELEMENT_ID)))\n",
    "        print (\"Page is ready!\")\n",
    "    except TimeoutException:\n",
    "        print (\"Couldn't find element\")\n",
    "\n",
    "    return browser\n",
    "\n",
    "\n",
    "browser = create_browser(URL, PAGE_LOAD_ID)"
   ]
  },
  {
   "cell_type": "code",
   "execution_count": 20,
   "metadata": {},
   "outputs": [
    {
     "ename": "TimeoutException",
     "evalue": "Message: Timed out waiting for Accept Cookies alert to appear\n",
     "output_type": "error",
     "traceback": [
      "\u001b[1;31m---------------------------------------------------------------------------\u001b[0m",
      "\u001b[1;31mTimeoutException\u001b[0m                          Traceback (most recent call last)",
      "\u001b[1;32mc:\\Users\\mriedeman\\Documents\\Python Scripts\\Webscraper\\code\\fti_camper.ipynb Cell 6\u001b[0m in \u001b[0;36m<cell line: 4>\u001b[1;34m()\u001b[0m\n\u001b[0;32m      <a href='vscode-notebook-cell:/c%3A/Users/mriedeman/Documents/Python%20Scripts/Webscraper/code/fti_camper.ipynb#W3sZmlsZQ%3D%3D?line=0'>1</a>\u001b[0m \u001b[39m#accept cookies\u001b[39;00m\n\u001b[0;32m      <a href='vscode-notebook-cell:/c%3A/Users/mriedeman/Documents/Python%20Scripts/Webscraper/code/fti_camper.ipynb#W3sZmlsZQ%3D%3D?line=1'>2</a>\u001b[0m \n\u001b[0;32m      <a href='vscode-notebook-cell:/c%3A/Users/mriedeman/Documents/Python%20Scripts/Webscraper/code/fti_camper.ipynb#W3sZmlsZQ%3D%3D?line=2'>3</a>\u001b[0m \u001b[39m#not sure if this will work\u001b[39;00m\n\u001b[1;32m----> <a href='vscode-notebook-cell:/c%3A/Users/mriedeman/Documents/Python%20Scripts/Webscraper/code/fti_camper.ipynb#W3sZmlsZQ%3D%3D?line=3'>4</a>\u001b[0m WebDriverWait(browser, \u001b[39m5\u001b[39;49m, poll_frequency\u001b[39m=\u001b[39;49m\u001b[39m5\u001b[39;49m)\u001b[39m.\u001b[39;49muntil(EC\u001b[39m.\u001b[39;49malert_is_present(), \u001b[39m'\u001b[39;49m\u001b[39mTimed out waiting for Accept Cookies alert to appear\u001b[39;49m\u001b[39m'\u001b[39;49m)\n\u001b[0;32m      <a href='vscode-notebook-cell:/c%3A/Users/mriedeman/Documents/Python%20Scripts/Webscraper/code/fti_camper.ipynb#W3sZmlsZQ%3D%3D?line=7'>8</a>\u001b[0m browser\u001b[39m.\u001b[39mexecute_script(\u001b[39mf\u001b[39m\u001b[39m\"\u001b[39m\u001b[39mreturn \u001b[39m\u001b[39m{\u001b[39;00mCOOKIE_JS_PATH\u001b[39m}\u001b[39;00m\u001b[39m\"\u001b[39m)\u001b[39m.\u001b[39mclick()\n",
      "File \u001b[1;32mc:\\Users\\mriedeman\\Anaconda3\\envs\\webscraper\\lib\\site-packages\\selenium\\webdriver\\support\\wait.py:90\u001b[0m, in \u001b[0;36mWebDriverWait.until\u001b[1;34m(self, method, message)\u001b[0m\n\u001b[0;32m     88\u001b[0m     \u001b[39mif\u001b[39;00m time\u001b[39m.\u001b[39mmonotonic() \u001b[39m>\u001b[39m end_time:\n\u001b[0;32m     89\u001b[0m         \u001b[39mbreak\u001b[39;00m\n\u001b[1;32m---> 90\u001b[0m \u001b[39mraise\u001b[39;00m TimeoutException(message, screen, stacktrace)\n",
      "\u001b[1;31mTimeoutException\u001b[0m: Message: Timed out waiting for Accept Cookies alert to appear\n"
     ]
    }
   ],
   "source": [
    "#accept cookies\n",
    "\n",
    "#not sure if this will work\n",
    "WebDriverWait(browser, 5, poll_frequency=5).until(EC.alert_is_present(), 'Timed out waiting for Accept Cookies alert to appear')\n",
    "\n",
    "\n",
    "\n",
    "browser.execute_script(f\"return {COOKIE_JS_PATH}\").click()"
   ]
  },
  {
   "cell_type": "code",
   "execution_count": 7,
   "metadata": {},
   "outputs": [],
   "source": [
    "#deny news\n",
    "\n",
    "#not sure if this will work\n",
    "WebDriverWait(browser, 15, poll_frequency=5).until(EC.alert_is_present(), 'Timed out waiting for News alert to appear')\n",
    "browser.execute_script(f\"return {NOTIFICATION_JS_PATH}\").click()"
   ]
  },
  {
   "cell_type": "code",
   "execution_count": null,
   "metadata": {},
   "outputs": [],
   "source": [
    "#close popup\n",
    "WebDriverWait(browser, 15, poll_frequency=5).until(EC.alert_is_present(), 'Timed out waiting for News alert to appear')\n",
    "browser.execute_script(f\"return {POPUP_JS_PATH}\").click()"
   ]
  },
  {
   "cell_type": "code",
   "execution_count": 6,
   "metadata": {},
   "outputs": [],
   "source": [
    "#use if running code below more than once\n",
    "\n",
    "browser.execute_script(f\"return {CITY_JS_PATH}\").click()\n",
    "time.sleep(1)\n",
    "browser.execute_script(f\"return {CITY_JS_PATH}\").clear()"
   ]
  },
  {
   "cell_type": "code",
   "execution_count": 7,
   "metadata": {},
   "outputs": [],
   "source": [
    "browser.execute_script(f\"return {CITY_JS_PATH}\").send_keys(f'{CITY}')\n",
    "time.sleep(1)\n",
    "browser.execute_script(f\"return {CITY_JS_PATH}\").send_keys(Keys.RETURN)"
   ]
  },
  {
   "cell_type": "code",
   "execution_count": 8,
   "metadata": {},
   "outputs": [],
   "source": [
    "#simulate a single trip\n",
    "german_months = {\n",
    "    1 : 'Jan',\n",
    "    2 : 'Feb',\n",
    "    3 : 'Mär',\n",
    "    4 : 'Apr',\n",
    "    5 : 'Mai',\n",
    "    6 : 'Jun',\n",
    "    7 : 'Jul',\n",
    "    8 : 'Aug',\n",
    "    9 : 'Sep',\n",
    "    10: 'Okt',\n",
    "    11: 'Nov',\n",
    "    12: 'Dez'\n",
    "\n",
    "}\n",
    "\n",
    "start_date = date(2022, 11, 14)\n",
    "end_date = start_date + timedelta(17)\n",
    "trip = {}\n",
    "trip['start_date'] = start_date\n",
    "trip['start_month'] = german_months[start_date.month]\n",
    "trip['start_day'] = start_date.day\n",
    "trip['end_date'] = end_date\n",
    "trip['end_day'] = end_date.day\n",
    "trip['end_month'] = german_months[end_date.month]\n",
    "trip['end_day']\n",
    "trip['city'] = CITY"
   ]
  },
  {
   "cell_type": "code",
   "execution_count": 9,
   "metadata": {},
   "outputs": [],
   "source": [
    "#open the pickup month calendar\n",
    "browser.execute_script(f\"return {PU_CALENDAR_JS_PATH}\").click()"
   ]
  },
  {
   "cell_type": "code",
   "execution_count": 10,
   "metadata": {},
   "outputs": [],
   "source": [
    "#select the pickup month\n",
    "cal_month = browser.find_element(By.CLASS_NAME, f\"{PU_MONTH_TEXT_CLASS_NAME}\").text[2:5]\n",
    "\n",
    "while cal_month != trip['start_month']:\n",
    "    \n",
    "    browser.find_element(By.CSS_SELECTOR, f\"{PU_MONTH_NEXT_BTN_CLASS_NAME }\").click()\n",
    "    time.sleep(1)\n",
    "    cal_month = browser.find_element(By.CLASS_NAME, f\"{PU_MONTH_TEXT_CLASS_NAME}\").text[2:5]\n",
    "    print(cal_month)\n",
    "    "
   ]
  },
  {
   "cell_type": "code",
   "execution_count": 11,
   "metadata": {},
   "outputs": [],
   "source": [
    "#click on the pickup day\n",
    "cal_elems = browser.find_elements(By.XPATH, f\"{CAL_ELEMS_XPATH}\")\n",
    "cal_elems_dict = {}\n",
    "for ele in cal_elems:\n",
    "\n",
    "    if ele.text.isdigit():\n",
    "\n",
    "        cal_elems_dict[ele.text] = ele\n",
    "        \n",
    "cal_elems_dict[str(trip['start_day'])].click()"
   ]
  },
  {
   "cell_type": "code",
   "execution_count": 12,
   "metadata": {},
   "outputs": [],
   "source": [
    "#open the drop off calendar\n",
    "\n",
    "browser.execute_script(f\"return {DO_CALENDAR_JS_PATH}\").click()"
   ]
  },
  {
   "cell_type": "code",
   "execution_count": 37,
   "metadata": {},
   "outputs": [
    {
     "name": "stdout",
     "output_type": "stream",
     "text": [
      "Dez\n"
     ]
    }
   ],
   "source": [
    "#select the drop off month\n",
    "cal_month = browser.execute_script(f\"return {DO_MONTH_JS_PATH}\").text[:3]\n",
    "while cal_month != trip['end_month']:\n",
    "    browser.find_element(By.XPATH, f\"{DO_MONTH_TEXT_XPATH}\").click()\n",
    "    #updates cal_month variable to whatever date you are currently on\n",
    "    time.sleep(int(np.random.rand(1)*3))\n",
    "    cal_month = browser.execute_script(f\"return {DO_MONTH_JS_PATH}\").text[:3]\n",
    "    print(cal_month)"
   ]
  },
  {
   "cell_type": "code",
   "execution_count": 13,
   "metadata": {},
   "outputs": [],
   "source": [
    "#select drop off day\n",
    "cal_elems = browser.find_elements(By.XPATH, f\"{CAL_ELEMS_XPATH}\")\n",
    "cal_elems_dict = {}\n",
    "for ele in cal_elems:\n",
    "\n",
    "    if ele.text.isdigit():\n",
    "\n",
    "        cal_elems_dict[ele.text] = ele\n",
    "        \n",
    "cal_elems_dict[str(trip['end_day'])].click()"
   ]
  },
  {
   "cell_type": "code",
   "execution_count": 14,
   "metadata": {},
   "outputs": [],
   "source": [
    "#click search\n",
    "browser.find_element(By.ID, f\"{SUBMIT_BUTTON_ID }\").click()"
   ]
  },
  {
   "cell_type": "code",
   "execution_count": 3,
   "metadata": {},
   "outputs": [
    {
     "name": "stdout",
     "output_type": "stream",
     "text": [
      "0\n"
     ]
    }
   ],
   "source": []
  },
  {
   "cell_type": "code",
   "execution_count": null,
   "metadata": {},
   "outputs": [],
   "source": [
    "#explicity wait for load\n",
    "for j in range(1)   \n",
    "    i = 0 \n",
    "    LOADING_ICON = \"MainLoader\"\n",
    "    while i < 5:\n",
    "        try:\n",
    "            myElem = WebDriverWait(browser, DELAY).until_not(EC.presence_of_element_located((By.ID, LOADING_ICON)))\n",
    "            print (\"Page is ready!\")\n",
    "        except TimeoutException:\n",
    "            print (\"still Loading..\")\n",
    "            i+=1\n",
    "            print(\"Trying again...\")\n",
    "\n",
    "            if i == 3:\n",
    "                browser.refresh()\n",
    "                print(\"Refresshing page to try again. Connection May be slow\")\n",
    "                time.sleep(3)\n",
    "        \n",
    "    if i == 5:\n",
    "        print(\"Could not Load page after several attempts. Refreshing the browser and beginning with the next trip.\")\n",
    "        browser.get(URL)\n",
    "        continue\n",
    "\n",
    "    "
   ]
  },
  {
   "cell_type": "code",
   "execution_count": 40,
   "metadata": {},
   "outputs": [],
   "source": [
    "#ADD LOGIC TO WAIT FOR PAGE TO LOAD AND GO BACK IF THERE ARE NO RESULTS"
   ]
  },
  {
   "cell_type": "code",
   "execution_count": 15,
   "metadata": {},
   "outputs": [
    {
     "ename": "AttributeError",
     "evalue": "'NoneType' object has no attribute 'click'",
     "output_type": "error",
     "traceback": [
      "\u001b[1;31m---------------------------------------------------------------------------\u001b[0m",
      "\u001b[1;31mAttributeError\u001b[0m                            Traceback (most recent call last)",
      "\u001b[1;32mc:\\Users\\mriedeman\\Documents\\Python Scripts\\Webscraper\\code\\fti_camper.ipynb Cell 20\u001b[0m in \u001b[0;36m<cell line: 2>\u001b[1;34m()\u001b[0m\n\u001b[0;32m      <a href='vscode-notebook-cell:/c%3A/Users/mriedeman/Documents/Python%20Scripts/Webscraper/code/fti_camper.ipynb#X23sZmlsZQ%3D%3D?line=0'>1</a>\u001b[0m \u001b[39m#load all the results\u001b[39;00m\n\u001b[1;32m----> <a href='vscode-notebook-cell:/c%3A/Users/mriedeman/Documents/Python%20Scripts/Webscraper/code/fti_camper.ipynb#X23sZmlsZQ%3D%3D?line=1'>2</a>\u001b[0m browser\u001b[39m.\u001b[39;49mexecute_script(\u001b[39mf\u001b[39;49m\u001b[39m\"\u001b[39;49m\u001b[39mreturn \u001b[39;49m\u001b[39m{\u001b[39;49;00mLOAD_MORE_RESULTS\u001b[39m}\u001b[39;49;00m\u001b[39m\"\u001b[39;49m)\u001b[39m.\u001b[39;49mclick()\n",
      "\u001b[1;31mAttributeError\u001b[0m: 'NoneType' object has no attribute 'click'"
     ]
    }
   ],
   "source": [
    "#load all the results\n",
    "browser.execute_script(f\"return {LOAD_MORE_RESULTS}\").click()"
   ]
  },
  {
   "cell_type": "code",
   "execution_count": 16,
   "metadata": {},
   "outputs": [
    {
     "data": {
      "text/plain": [
       "[<selenium.webdriver.remote.webelement.WebElement (session=\"2eccb4e978c4e2ce8ae94070023b2d14\", element=\"8fba363d-d05b-4869-a8e1-40636b57a894\")>,\n",
       " <selenium.webdriver.remote.webelement.WebElement (session=\"2eccb4e978c4e2ce8ae94070023b2d14\", element=\"4d219ee3-022f-4eb6-8667-b09f18bf4738\")>,\n",
       " <selenium.webdriver.remote.webelement.WebElement (session=\"2eccb4e978c4e2ce8ae94070023b2d14\", element=\"6474e87a-852b-4d60-90a7-127e615e1b69\")>]"
      ]
     },
     "execution_count": 16,
     "metadata": {},
     "output_type": "execute_result"
    }
   ],
   "source": [
    "LISTINGS_CLASS_NAME = \"resultCard\"\n",
    "listings = browser.find_elements(By.CLASS_NAME, f\"{LISTINGS_CLASS_NAME}\")\n",
    "listings"
   ]
  },
  {
   "cell_type": "code",
   "execution_count": 51,
   "metadata": {},
   "outputs": [
    {
     "data": {
      "text/plain": [
       "'Station Wagon'"
      ]
     },
     "execution_count": 51,
     "metadata": {},
     "output_type": "execute_result"
    }
   ],
   "source": [
    "#listings[0].find_element(By.CLASS_NAME, \"provider-data\").text.split(\"\\n\")[0]"
   ]
  },
  {
   "cell_type": "code",
   "execution_count": 57,
   "metadata": {},
   "outputs": [
    {
     "data": {
      "text/plain": [
       "'auf Anfrage\\nUnbegrenzte Freimeilen\\nFahrzeugversicherung mit Selbstbeteiligung USD 3.000\\nZusatzversicherung zur Rückerstattung der Selbstbeteiligung\\nEUR 10 Mio. Zusatz-Haftpflichtversicherung\\nZusatzfahrer\\nGesamtpreis\\n1171,00 EUR\\n68,88 EUR pro Tag'"
      ]
     },
     "execution_count": 57,
     "metadata": {},
     "output_type": "execute_result"
    }
   ],
   "source": [
    "#listings[0].find_element(By.CLASS_NAME, \"camper-details\").text"
   ]
  },
  {
   "cell_type": "code",
   "execution_count": 65,
   "metadata": {},
   "outputs": [],
   "source": [
    "#money = listings[0].find_element(By.CLASS_NAME, \"camper-details\").find_element(By.CSS_SELECTOR, 'div.priceSummary.full > dl > dd').text.split('\\n')"
   ]
  },
  {
   "cell_type": "code",
   "execution_count": 69,
   "metadata": {},
   "outputs": [
    {
     "data": {
      "text/plain": [
       "'1171.00'"
      ]
     },
     "execution_count": 69,
     "metadata": {},
     "output_type": "execute_result"
    }
   ],
   "source": [
    "# import re\n",
    "\n",
    "# '.'.join(re.findall(r'\\d+', money[0]))"
   ]
  },
  {
   "cell_type": "code",
   "execution_count": 17,
   "metadata": {},
   "outputs": [
    {
     "ename": "IndexError",
     "evalue": "list index out of range",
     "output_type": "error",
     "traceback": [
      "\u001b[1;31m---------------------------------------------------------------------------\u001b[0m",
      "\u001b[1;31mIndexError\u001b[0m                                Traceback (most recent call last)",
      "\u001b[1;32mc:\\Users\\mriedeman\\Documents\\Python Scripts\\Webscraper\\code\\fti_camper.ipynb Cell 26\u001b[0m in \u001b[0;36m<cell line: 2>\u001b[1;34m()\u001b[0m\n\u001b[0;32m      <a href='vscode-notebook-cell:/c%3A/Users/mriedeman/Documents/Python%20Scripts/Webscraper/code/fti_camper.ipynb#X32sZmlsZQ%3D%3D?line=5'>6</a>\u001b[0m     price_string \u001b[39m=\u001b[39m card\u001b[39m.\u001b[39mfind_element(By\u001b[39m.\u001b[39mCLASS_NAME, \u001b[39m\"\u001b[39m\u001b[39mcamper-details\u001b[39m\u001b[39m\"\u001b[39m)\u001b[39m.\u001b[39mfind_element(By\u001b[39m.\u001b[39mCSS_SELECTOR, \u001b[39m'\u001b[39m\u001b[39mdiv.priceSummary.full > dl > dd\u001b[39m\u001b[39m'\u001b[39m)\u001b[39m.\u001b[39mtext\u001b[39m.\u001b[39msplit(\u001b[39m'\u001b[39m\u001b[39m\\n\u001b[39;00m\u001b[39m'\u001b[39m)\n\u001b[0;32m      <a href='vscode-notebook-cell:/c%3A/Users/mriedeman/Documents/Python%20Scripts/Webscraper/code/fti_camper.ipynb#X32sZmlsZQ%3D%3D?line=6'>7</a>\u001b[0m     total_price \u001b[39m=\u001b[39m \u001b[39m'\u001b[39m\u001b[39m.\u001b[39m\u001b[39m'\u001b[39m\u001b[39m.\u001b[39mjoin(re\u001b[39m.\u001b[39mfindall(\u001b[39mr\u001b[39m\u001b[39m'\u001b[39m\u001b[39m\\\u001b[39m\u001b[39md+\u001b[39m\u001b[39m'\u001b[39m, price_string[\u001b[39m0\u001b[39m]))\n\u001b[1;32m----> <a href='vscode-notebook-cell:/c%3A/Users/mriedeman/Documents/Python%20Scripts/Webscraper/code/fti_camper.ipynb#X32sZmlsZQ%3D%3D?line=7'>8</a>\u001b[0m     daily_price \u001b[39m=\u001b[39m \u001b[39m'\u001b[39m\u001b[39m.\u001b[39m\u001b[39m'\u001b[39m\u001b[39m.\u001b[39mjoin(re\u001b[39m.\u001b[39mfindall(\u001b[39mr\u001b[39m\u001b[39m'\u001b[39m\u001b[39m\\\u001b[39m\u001b[39md+\u001b[39m\u001b[39m'\u001b[39m, price_string[\u001b[39m1\u001b[39;49m]))\n\u001b[0;32m     <a href='vscode-notebook-cell:/c%3A/Users/mriedeman/Documents/Python%20Scripts/Webscraper/code/fti_camper.ipynb#X32sZmlsZQ%3D%3D?line=10'>11</a>\u001b[0m     trip_data\u001b[39m.\u001b[39mappend({\n\u001b[0;32m     <a href='vscode-notebook-cell:/c%3A/Users/mriedeman/Documents/Python%20Scripts/Webscraper/code/fti_camper.ipynb#X32sZmlsZQ%3D%3D?line=11'>12</a>\u001b[0m     \u001b[39m'\u001b[39m\u001b[39mcity\u001b[39m\u001b[39m'\u001b[39m: trip[\u001b[39m'\u001b[39m\u001b[39mcity\u001b[39m\u001b[39m'\u001b[39m],\n\u001b[0;32m     <a href='vscode-notebook-cell:/c%3A/Users/mriedeman/Documents/Python%20Scripts/Webscraper/code/fti_camper.ipynb#X32sZmlsZQ%3D%3D?line=12'>13</a>\u001b[0m     \u001b[39m'\u001b[39m\u001b[39mstart_date\u001b[39m\u001b[39m'\u001b[39m:trip[\u001b[39m'\u001b[39m\u001b[39mstart_date\u001b[39m\u001b[39m'\u001b[39m],\n\u001b[1;32m   (...)\u001b[0m\n\u001b[0;32m     <a href='vscode-notebook-cell:/c%3A/Users/mriedeman/Documents/Python%20Scripts/Webscraper/code/fti_camper.ipynb#X32sZmlsZQ%3D%3D?line=17'>18</a>\u001b[0m     \u001b[39m'\u001b[39m\u001b[39mcompany_name\u001b[39m\u001b[39m'\u001b[39m:company_name\n\u001b[0;32m     <a href='vscode-notebook-cell:/c%3A/Users/mriedeman/Documents/Python%20Scripts/Webscraper/code/fti_camper.ipynb#X32sZmlsZQ%3D%3D?line=18'>19</a>\u001b[0m     })\n\u001b[0;32m     <a href='vscode-notebook-cell:/c%3A/Users/mriedeman/Documents/Python%20Scripts/Webscraper/code/fti_camper.ipynb#X32sZmlsZQ%3D%3D?line=20'>21</a>\u001b[0m pd\u001b[39m.\u001b[39mDataFrame(trip_data)\n",
      "\u001b[1;31mIndexError\u001b[0m: list index out of range"
     ]
    }
   ],
   "source": [
    "trip_data = []\n",
    "for card in listings:\n",
    "\n",
    "    vehicle_class = card.find_element(By.CLASS_NAME, \"provider-data\").text.split(\"\\n\")[0]\n",
    "    company_name = card.find_element(By.CLASS_NAME, \"providerLogo\").get_attribute(\"alt\")\n",
    "    price_string = card.find_element(By.CLASS_NAME, \"camper-details\").find_element(By.CSS_SELECTOR, 'div.priceSummary.full > dl > dd').text.split('\\n')\n",
    "    total_price = '.'.join(re.findall(r'\\d+', price_string[0]))\n",
    "    daily_price = '.'.join(re.findall(r'\\d+', price_string[1]))\n",
    "\n",
    "\n",
    "    trip_data.append({\n",
    "    'city': trip['city'],\n",
    "    'start_date':trip['start_date'],\n",
    "    'end_date':trip['end_date'],\n",
    "    'total_price':total_price,\n",
    "    'daily_price': daily_price,\n",
    "    'vehicle_class':vehicle_class,\n",
    "    'company_name':company_name\n",
    "    })\n",
    "\n",
    "pd.DataFrame(trip_data)"
   ]
  },
  {
   "cell_type": "code",
   "execution_count": 79,
   "metadata": {},
   "outputs": [],
   "source": [
    "trip_data_df = pd.DataFrame(trip_data)"
   ]
  },
  {
   "cell_type": "code",
   "execution_count": 81,
   "metadata": {},
   "outputs": [
    {
     "data": {
      "text/plain": [
       "'https://camper.fti.de/'"
      ]
     },
     "execution_count": 81,
     "metadata": {},
     "output_type": "execute_result"
    }
   ],
   "source": [
    "URL"
   ]
  },
  {
   "cell_type": "code",
   "execution_count": 82,
   "metadata": {},
   "outputs": [],
   "source": [
    "try: \n",
    "    os.makedirs(f\"../Output Data/FTI Camper/{trip['city']}\")\n",
    "except FileExistsError:\n",
    "    pass\n",
    "\n",
    "trip_data_df.to_csv(f\"../Output Data/FTI Camper/{trip['city']}/{trip['city']} {date.today()}.csv\", index=False)"
   ]
  },
  {
   "cell_type": "code",
   "execution_count": null,
   "metadata": {},
   "outputs": [],
   "source": []
  }
 ],
 "metadata": {
  "kernelspec": {
   "display_name": "Python 3.9.12 ('webscraper')",
   "language": "python",
   "name": "python3"
  },
  "language_info": {
   "codemirror_mode": {
    "name": "ipython",
    "version": 3
   },
   "file_extension": ".py",
   "mimetype": "text/x-python",
   "name": "python",
   "nbconvert_exporter": "python",
   "pygments_lexer": "ipython3",
   "version": "3.9.12"
  },
  "orig_nbformat": 4,
  "vscode": {
   "interpreter": {
    "hash": "c780947fbb818c7495fd9532412a3eb8d06e8fa4b61a49db8737789eaef9d63e"
   }
  }
 },
 "nbformat": 4,
 "nbformat_minor": 2
}

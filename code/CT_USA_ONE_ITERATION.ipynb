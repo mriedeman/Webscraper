{
 "cells": [
  {
   "cell_type": "code",
   "execution_count": 1,
   "metadata": {},
   "outputs": [],
   "source": [
    "from selenium import webdriver\n",
    "from webdriver_manager.chrome import ChromeDriverManager\n",
    "from selenium.webdriver.chrome.service import Service\n",
    "from selenium.webdriver.common.by import By\n",
    "from selenium.webdriver.common.keys import Keys\n",
    "from selenium.webdriver.support.ui import WebDriverWait\n",
    "from selenium.webdriver.support import expected_conditions as EC\n",
    "from selenium.common.exceptions import TimeoutException\n",
    "from selenium.common.exceptions import ElementClickInterceptedException, JavascriptException, NoSuchElementException\n",
    "import time\n",
    "from datetime import date, datetime, timedelta \n",
    "import numpy as np\n",
    "import pandas as pd\n",
    "\n"
   ]
  },
  {
   "cell_type": "code",
   "execution_count": 51,
   "metadata": {},
   "outputs": [
    {
     "name": "stdout",
     "output_type": "stream",
     "text": [
      "[0.74147957]\n",
      "[0.66160508]\n",
      "[3.14297709]\n",
      "[2.9927166]\n",
      "[2.28143177]\n",
      "[3.15794266]\n",
      "[0.40870888]\n",
      "[3.78185887]\n",
      "[3.57332194]\n",
      "[0.77974959]\n"
     ]
    }
   ],
   "source": [
    "for i in range(10):\n",
    "    print(np.random.rand(1)*4)"
   ]
  },
  {
   "cell_type": "markdown",
   "metadata": {},
   "source": [
    "### Waits for the Pick-Up Location inside the search-widget-form to load"
   ]
  },
  {
   "cell_type": "code",
   "execution_count": 2,
   "metadata": {},
   "outputs": [
    {
     "name": "stderr",
     "output_type": "stream",
     "text": [
      "[WDM] - Downloading: 100%|██████████| 6.21M/6.21M [00:01<00:00, 5.47MB/s]\n"
     ]
    },
    {
     "name": "stdout",
     "output_type": "stream",
     "text": [
      "Page is ready!\n"
     ]
    }
   ],
   "source": [
    "\n",
    "# fixes deprecation error https://stackoverflow.com/questions/64717302/deprecationwarning-executable-path-has-been-deprecated-selenium-python\n",
    "\n",
    "s=Service(ChromeDriverManager().install())\n",
    "browser = webdriver.Chrome(service=s)\n",
    "#browser = webdriver.Chrome(executable_path = \"C:\\Program Files\\Chromedriver\\chromedriver.exe\")\n",
    "url = 'https://www.campertravelusa.com/'\n",
    "browser.get(url)\n",
    "\n",
    "\n",
    "\n",
    "# waits for page elements to load https://stackoverflow.com/questions/26566799/wait-until-page-is-loaded-with-selenium-webdriver-for-python\n",
    "delay = 3 # seconds\n",
    "try:\n",
    "    myElem = WebDriverWait(browser, delay).until(EC.presence_of_element_located((By.XPATH,\"//input[contains(@id, 'pickupLocation')]\")))\n",
    "    print (\"Page is ready!\")\n",
    "except TimeoutException:\n",
    "    print (\"Loading took too much time!\")\n",
    "\n",
    "\n",
    "\n",
    "#browser.find_element(By.XPATH,\"//input[contains(@id, 'pickupLocation')]\").send_keys('Orlando')\n",
    "\n",
    "#//*[@id=\"search_name\"]\n",
    "\n",
    "#for city in cities:\n",
    "#browser.find_element(By.XPATH,\"//input[contains(@id, 'pickupLocation')]\").click()#send_keys(city['city'])\n",
    "    #browser.find_element(By.XPATH,f\"//div[@class = 'autocomplete-suggestion'][@data-val = '{city['city']}']\").click()\n"
   ]
  },
  {
   "cell_type": "markdown",
   "metadata": {},
   "source": [
    "### Step 1: Select Pick-up Location and Driver's License\n"
   ]
  },
  {
   "cell_type": "code",
   "execution_count": 5,
   "metadata": {},
   "outputs": [],
   "source": [
    "browser.find_element(By.XPATH,\"//input[contains(@id, 'pickupLocation')]\").clear()\n",
    "browser.find_element(By.XPATH,\"//input[contains(@id, 'pickupLocation')]\").click()\n",
    "time.sleep(int(np.random.rand(1)*5))\n",
    "\n",
    "browser.find_element(By.XPATH,\"//input[contains(@id, 'pickupLocation')]\").send_keys('Los Angeles')\n",
    "time.sleep(int(np.random.rand(1)*5))\n",
    "browser.find_element(By.XPATH,\"//*[@id='c1-5-2-widget-pickupLocation']\").send_keys(Keys.RETURN)\n",
    "time.sleep(int(np.random.rand(1)*5))\n",
    "\n",
    "#picks the driver's license\n",
    "browser.find_element(By.CSS_SELECTOR, 'input.form-control.X-CountryOfResidence.AutoCompleteSelectInput').click()\n",
    "time.sleep(int(np.random.rand(1)*5))\n",
    "browser.find_element(By.XPATH, \"//div[@class = 'autocomplete-suggestion'][@data-val = 'International']\").click()"
   ]
  },
  {
   "cell_type": "markdown",
   "metadata": {},
   "source": [
    "### Step 2: Enter pickup and drop off dates"
   ]
  },
  {
   "cell_type": "code",
   "execution_count": 6,
   "metadata": {},
   "outputs": [],
   "source": [
    "#create a trip itinerary with start and end dates, trips are 17 days long because that's the average international booking\n",
    "trip_day = date(2023, 1, 18)\n",
    "trip = {}\n",
    "trip['start_month'] = 'Jan'\n",
    "trip['start_day'] = trip_day.strftime(\"%d\")\n",
    "trip['end_day'] = (trip_day + timedelta(17)).strftime(\"%d\").lstrip('0')"
   ]
  },
  {
   "cell_type": "code",
   "execution_count": 7,
   "metadata": {},
   "outputs": [],
   "source": [
    "#open the calendar\n",
    "browser.find_element(By.XPATH, \"//*[@id='c1-5-2-widget-pickupDate']\").click()\n",
    "time.sleep(int(np.random.rand(1)*7))\n",
    "cal_month = browser.find_element(By.XPATH,\"//div[@class = 'dr-cal-start']/div/div/div\").find_element(By.CSS_SELECTOR,'button.dp-cal-month').text[0:3]"
   ]
  },
  {
   "cell_type": "code",
   "execution_count": 8,
   "metadata": {},
   "outputs": [
    {
     "name": "stdout",
     "output_type": "stream",
     "text": [
      "Sep\n",
      "Oct\n",
      "Nov\n",
      "Dec\n",
      "Jan\n"
     ]
    }
   ],
   "source": [
    "#Find the month where the trip starts\n",
    "while cal_month != trip['start_month']:\n",
    "    browser.find_element(By.XPATH, \"//div[@class = 'dr-cal-end']/div/div/div/header/button[@class = 'dp-next']\").click()\n",
    "    #updates cal_month variable to whatever date you are currently on\n",
    "    cal_month = browser.find_element(By.XPATH,\"//div[@class = 'dr-cal-start']/div/div/div\").find_element(By.CSS_SELECTOR,'button.dp-cal-month').text[0:3]\n",
    "    time.sleep(int(np.random.rand(1)*3))\n",
    "    print(cal_month)"
   ]
  },
  {
   "cell_type": "code",
   "execution_count": 9,
   "metadata": {},
   "outputs": [],
   "source": [
    "#picks the start day of the trip\n",
    "pu_d = browser.find_element(By.XPATH, f\"//div[@class = 'dr-cal-start']/div/div/div/div/button[not(contains(@class, 'edge-day'))][text() = {trip['start_day']}]\")\n",
    "pu_d.click()"
   ]
  },
  {
   "cell_type": "code",
   "execution_count": 10,
   "metadata": {},
   "outputs": [],
   "source": [
    "#picks the end day, if the start day is smaller than the end day the first page is picked, otherwise the next month's page is picked\n",
    "if int(trip['start_day']) < int(trip['end_day']):\n",
    "    do_d = browser.find_element(By.XPATH, f\"//div[@class = 'dr-cal-start']/div/div/div/div/button[not(contains(@class, 'edge-day'))][text() = {trip['end_day']}]\")\n",
    "else:\n",
    "    do_d = browser.find_element(By.XPATH, f\"//div[@class = 'dr-cal-end']/div/div/div/div/button[not(contains(@class, 'edge-day'))][text() = {trip['end_day']}]\")\n",
    "do_d.click()"
   ]
  },
  {
   "cell_type": "code",
   "execution_count": 11,
   "metadata": {},
   "outputs": [],
   "source": [
    "#click the search button\n",
    "time.sleep(int(np.random.rand(1)*5))\n",
    "browser.find_element(By.CSS_SELECTOR, 'button.btn.btn-success.btn-lg.btn-block.X-SearchButton').click()\n",
    "\n"
   ]
  },
  {
   "cell_type": "markdown",
   "metadata": {},
   "source": [
    "### Step 3: Collect all the prices for the given trip"
   ]
  },
  {
   "cell_type": "markdown",
   "metadata": {},
   "source": [
    "### CSS Selector Notes\n",
    "\n",
    "1. CSS_SELECTOR SYNTAX: tagName[AttributeName = 'AttributeValue']\n",
    "\n",
    "                EXAMPLE: input[id='first_name']\n",
    "\n",
    "2. If the web element has the CLASS attribute you can use CLASS attribute details in CSS selector. CLASS attribute in CSS SELECTOR is symbolised by the DOT (.) sign  \n",
    "                   \n",
    "                SYNTAX : tagName.elementID\n",
    "                   \n",
    "                EXAMPLE: input.signup\n",
    "\n",
    "\n",
    "3. ID attribute in CSS Selector is symbolised by the # sign.\n",
    "                   \n",
    "                SYNTAX: tagName#elementID\n",
    "                EXAMPLE: input#first_name\n",
    "\n",
    "4. Using mix of ID or CLASSNAME and other attributes of webelement. Add brackets witht he attribute name and value to uniquely identify webelement.\n",
    "  \n",
    "                SYNTAX: tagName.classValue[AttributeName='AttributeValue']\n",
    "                EXAMPLES: input.signup[type='submit'][value = 'Sign me up']\n",
    "                input#email[placeholder = 'Your email address'][name = 'user[email]']\n",
    "5. Sub-string matches are very helpful in identifying dynamic webelementswith the help of partial string matches. \n",
    "                 \n",
    "                \n",
    "                ^ Sign - Signify's the prefix of the text\n",
    "                $ Sign - Signify's the suffix of the text\n",
    "                * Sign - Signify's the sub-string of the text\n",
    "\n",
    "                EXAMPLES:\n",
    "                Match prefix of text\n",
    "                input[name^='country_c']\n",
    "\n",
    "                Match suffix of text\n",
    "                input[name$='y_client']\n",
    "\n",
    "                Match sub-string of the text\n",
    "                    input[name*='try_cl']\n",
    "\n",
    "6. Finding Child or SubChild Elements\n",
    "            \n",
    "                Direct Child - Child comhinator (>) is used to select direct child\n",
    "                SYNTAX: tagName[AttributeName = 'AttributeValue'] > tagName[AttributeName = 'AttributeValue']\n",
    "                EXAMPLES: select#country > option[value = 'AU']\n",
    "                          select#job_role>option[value = 'Developer']\n",
    "                          form#deorg_form>div\n",
    "\n",
    "                Child or SubChild - Descendant combinator () is used to select Child or Subchild\n",
    "                SYNTAX: tagName[AttributeName='AttributeValue'] tagName[AttributeName='AttributeValue']\n",
    "                EXAMPLE: form#deorg_form div\n",
    "\n",
    "7. Next Sibling Elements - Located using the + operator\n",
    "\n",
    "                Adjacent sibling combinator (+) separates two CSS selectors and matches the second webelement\n",
    "                only if it immediately follows the first webelement, and both are the child of the same parent webelement\n",
    "\n",
    "                SYNTAX: tagName[attributeName='AttributeValue']+tagName[AttributeName='AttributeValue']\n",
    "\n"
   ]
  },
  {
   "cell_type": "markdown",
   "metadata": {},
   "source": []
  },
  {
   "cell_type": "code",
   "execution_count": 60,
   "metadata": {},
   "outputs": [],
   "source": [
    "#Why doesn't this work?\n",
    "browser.execute_script(\"window.scrollTo(500, 0);\")"
   ]
  },
  {
   "cell_type": "code",
   "execution_count": 12,
   "metadata": {},
   "outputs": [],
   "source": [
    "#switch to correct window\n",
    "# old method that doesn't work >>> browser.windows.current = browser.windows[1]\n",
    "\n",
    "browser.switch_to.window(browser.window_handles[1])\n",
    "\n",
    "# switch to first window\n",
    "#browser.switch_to.window(browser.window_handles[0])"
   ]
  },
  {
   "cell_type": "code",
   "execution_count": 29,
   "metadata": {},
   "outputs": [],
   "source": [
    "browser.refresh()"
   ]
  },
  {
   "cell_type": "code",
   "execution_count": 46,
   "metadata": {},
   "outputs": [],
   "source": [
    "# will have to tell script to wait for page to load when refactored to a loop\n",
    "results = browser.find_elements(By.CLASS_NAME, 'campervan-result')"
   ]
  },
  {
   "cell_type": "code",
   "execution_count": null,
   "metadata": {},
   "outputs": [],
   "source": []
  },
  {
   "cell_type": "code",
   "execution_count": 47,
   "metadata": {},
   "outputs": [
    {
     "data": {
      "text/plain": [
       "'737'"
      ]
     },
     "execution_count": 47,
     "metadata": {},
     "output_type": "execute_result"
    }
   ],
   "source": [
    "#total price\n",
    "results[0].find_element(By.CLASS_NAME, 'X-VPrice-ConvertedFrom-Amount-Dollars').text"
   ]
  },
  {
   "cell_type": "code",
   "execution_count": 48,
   "metadata": {},
   "outputs": [
    {
     "data": {
      "text/plain": [
       "'MiniVan'"
      ]
     },
     "execution_count": 48,
     "metadata": {},
     "output_type": "execute_result"
    }
   ],
   "source": [
    "#Vehicle class\n",
    "results[0].find_element(By.CSS_SELECTOR, 'span.vehicle-name-text').text"
   ]
  },
  {
   "cell_type": "code",
   "execution_count": null,
   "metadata": {},
   "outputs": [],
   "source": [
    "#daily price\n",
    "results[0].find_element(By.CSS_SELECTOR, 'div.quote-daily-price span.X-VPrice-ConvertedFrom-Amount-Dollars').text"
   ]
  },
  {
   "cell_type": "code",
   "execution_count": 51,
   "metadata": {},
   "outputs": [
    {
     "data": {
      "text/plain": [
       "'Travellers Autobarn USA'"
      ]
     },
     "execution_count": 51,
     "metadata": {},
     "output_type": "execute_result"
    }
   ],
   "source": [
    "#company name\n",
    "results[0].find_element(By.CSS_SELECTOR,'div.result-supplier img').get_attribute('alt')"
   ]
  },
  {
   "cell_type": "code",
   "execution_count": 43,
   "metadata": {},
   "outputs": [
    {
     "ename": "TypeError",
     "evalue": "'WebElement' object is not subscriptable",
     "output_type": "error",
     "traceback": [
      "\u001b[1;31m---------------------------------------------------------------------------\u001b[0m",
      "\u001b[1;31mTypeError\u001b[0m                                 Traceback (most recent call last)",
      "\u001b[1;32mc:\\Users\\mriedeman\\Documents\\Python Scripts\\Webscraper\\code\\CT_USA_ONE_ITERATION.ipynb Cell 24\u001b[0m in \u001b[0;36m<cell line: 1>\u001b[1;34m()\u001b[0m\n\u001b[1;32m----> <a href='vscode-notebook-cell:/c%3A/Users/mriedeman/Documents/Python%20Scripts/Webscraper/code/CT_USA_ONE_ITERATION.ipynb#X61sZmlsZQ%3D%3D?line=0'>1</a>\u001b[0m results[\u001b[39m0\u001b[39;49m]\u001b[39m.\u001b[39;49mfind_element(By\u001b[39m.\u001b[39;49mCSS_SELECTOR, \u001b[39m'\u001b[39;49m\u001b[39mimg.vehicle-image\u001b[39;49m\u001b[39m'\u001b[39;49m)[\u001b[39m'\u001b[39;49m\u001b[39msrc\u001b[39;49m\u001b[39m'\u001b[39;49m]\n",
      "\u001b[1;31mTypeError\u001b[0m: 'WebElement' object is not subscriptable"
     ]
    }
   ],
   "source": [
    "results[0].find_element(By.CSS_SELECTOR, 'img.vehicle-image')['src'].split('/')[-2].replace('-', ' ').lower().rstrip('us').strip().title()"
   ]
  },
  {
   "cell_type": "code",
   "execution_count": 49,
   "metadata": {},
   "outputs": [
    {
     "data": {
      "text/plain": [
       "'40'"
      ]
     },
     "execution_count": 49,
     "metadata": {},
     "output_type": "execute_result"
    }
   ],
   "source": [
    "#daily price\n",
    "results[0].find_element(By.CSS_SELECTOR, 'div.quote-daily-price span.X-VPrice-ConvertedFrom-Amount-Dollars').text\n"
   ]
  },
  {
   "cell_type": "code",
   "execution_count": 52,
   "metadata": {},
   "outputs": [
    {
     "data": {
      "text/plain": [
       "[{'total_price': '737',\n",
       "  'daily_price': '40',\n",
       "  'vehicle_class': 'MiniVan',\n",
       "  'company_name': 'Travellers Autobarn USA'},\n",
       " {'total_price': '888',\n",
       "  'daily_price': '52',\n",
       "  'vehicle_class': 'Wanderer',\n",
       "  'company_name': 'Lost Campers'},\n",
       " {'total_price': '952',\n",
       "  'daily_price': '52',\n",
       "  'vehicle_class': 'Hitop Campervan',\n",
       "  'company_name': 'Travellers Autobarn USA'},\n",
       " {'total_price': '1025',\n",
       "  'daily_price': '56',\n",
       "  'vehicle_class': 'Kuga Campervan',\n",
       "  'company_name': 'Travellers Autobarn USA'}]"
      ]
     },
     "execution_count": 52,
     "metadata": {},
     "output_type": "execute_result"
    }
   ],
   "source": [
    "deals = []\n",
    "for result in results:\n",
    "    total_price = result.find_element(By.CLASS_NAME, 'X-VPrice-ConvertedFrom-Amount-Dollars').text\n",
    "    daily_price = result.find_element(By.CSS_SELECTOR, 'div.quote-daily-price span.X-VPrice-ConvertedFrom-Amount-Dollars').text\n",
    "    vehicle_class = result.find_element(By.CSS_SELECTOR, 'span.vehicle-name-text').text\n",
    "    company_name = result.find_element(By.CSS_SELECTOR,'div.result-supplier img').get_attribute('alt')\n",
    "    deals.append({\n",
    "                'total_price':total_price,\n",
    "                'daily_price': daily_price,\n",
    "                'vehicle_class':vehicle_class,\n",
    "                'company_name':company_name\n",
    "\n",
    "                })\n",
    "\n",
    "\n",
    "deals"
   ]
  },
  {
   "cell_type": "code",
   "execution_count": 79,
   "metadata": {},
   "outputs": [
    {
     "ename": "WebDriverException",
     "evalue": "Message: chrome not reachable\n  (Session info: chrome=104.0.5112.82)\nStacktrace:\nBacktrace:\n\tOrdinal0 [0x00EA78B3+2193587]\n\tOrdinal0 [0x00E40681+1771137]\n\tOrdinal0 [0x00D54070+802928]\n\tOrdinal0 [0x00D49AB2+760498]\n\tOrdinal0 [0x00D3CEAF+708271]\n\tOrdinal0 [0x00D41142+725314]\n\tOrdinal0 [0x00D455C9+742857]\n\tOrdinal0 [0x00D55500+808192]\n\tOrdinal0 [0x00DAD2C2+1168066]\n\tOrdinal0 [0x00D9D5C6+1103302]\n\tOrdinal0 [0x00D777E0+948192]\n\tOrdinal0 [0x00D786E6+952038]\n\tGetHandleVerifier [0x01150CB2+2738370]\n\tGetHandleVerifier [0x011421B8+2678216]\n\tGetHandleVerifier [0x00F317AA+512954]\n\tGetHandleVerifier [0x00F30856+509030]\n\tOrdinal0 [0x00E4743B+1799227]\n\tOrdinal0 [0x00E4BB68+1817448]\n\tOrdinal0 [0x00E4BC55+1817685]\n\tOrdinal0 [0x00E55230+1856048]\n\tBaseThreadInitThunk [0x75F8FA29+25]\n\tRtlGetAppContainerNamedObjectPath [0x77E17A9E+286]\n\tRtlGetAppContainerNamedObjectPath [0x77E17A6E+238]\n",
     "output_type": "error",
     "traceback": [
      "\u001b[1;31m---------------------------------------------------------------------------\u001b[0m",
      "\u001b[1;31mWebDriverException\u001b[0m                        Traceback (most recent call last)",
      "\u001b[1;32mc:\\Users\\mriedeman\\Documents\\Python Scripts\\Webscraper\\code\\CT_USA_ONE_ITERATION.ipynb Cell 22\u001b[0m in \u001b[0;36m<cell line: 3>\u001b[1;34m()\u001b[0m\n\u001b[0;32m      <a href='vscode-notebook-cell:/c%3A/Users/mriedeman/Documents/Python%20Scripts/Webscraper/code/CT_USA_ONE_ITERATION.ipynb#X54sZmlsZQ%3D%3D?line=0'>1</a>\u001b[0m testing \u001b[39m=\u001b[39m results[\u001b[39m0\u001b[39m]\n\u001b[1;32m----> <a href='vscode-notebook-cell:/c%3A/Users/mriedeman/Documents/Python%20Scripts/Webscraper/code/CT_USA_ONE_ITERATION.ipynb#X54sZmlsZQ%3D%3D?line=2'>3</a>\u001b[0m testing\u001b[39m.\u001b[39;49mfind_element(By\u001b[39m.\u001b[39;49mXPATH, \u001b[39m'\u001b[39;49m\u001b[39m.//div[@class=\u001b[39;49m\u001b[39m\"\u001b[39;49m\u001b[39mcampervan-result\u001b[39;49m\u001b[39m\"\u001b[39;49m\u001b[39m]\u001b[39;49m\u001b[39m'\u001b[39;49m)\n",
      "File \u001b[1;32mc:\\Users\\mriedeman\\Anaconda3\\envs\\webscraper\\lib\\site-packages\\selenium\\webdriver\\remote\\webelement.py:419\u001b[0m, in \u001b[0;36mWebElement.find_element\u001b[1;34m(self, by, value)\u001b[0m\n\u001b[0;32m    416\u001b[0m     by \u001b[39m=\u001b[39m By\u001b[39m.\u001b[39mCSS_SELECTOR\n\u001b[0;32m    417\u001b[0m     value \u001b[39m=\u001b[39m \u001b[39m'\u001b[39m\u001b[39m[name=\u001b[39m\u001b[39m\"\u001b[39m\u001b[39m%s\u001b[39;00m\u001b[39m\"\u001b[39m\u001b[39m]\u001b[39m\u001b[39m'\u001b[39m \u001b[39m%\u001b[39m value\n\u001b[1;32m--> 419\u001b[0m \u001b[39mreturn\u001b[39;00m \u001b[39mself\u001b[39;49m\u001b[39m.\u001b[39;49m_execute(Command\u001b[39m.\u001b[39;49mFIND_CHILD_ELEMENT,\n\u001b[0;32m    420\u001b[0m                      {\u001b[39m\"\u001b[39;49m\u001b[39musing\u001b[39;49m\u001b[39m\"\u001b[39;49m: by, \u001b[39m\"\u001b[39;49m\u001b[39mvalue\u001b[39;49m\u001b[39m\"\u001b[39;49m: value})[\u001b[39m'\u001b[39m\u001b[39mvalue\u001b[39m\u001b[39m'\u001b[39m]\n",
      "File \u001b[1;32mc:\\Users\\mriedeman\\Anaconda3\\envs\\webscraper\\lib\\site-packages\\selenium\\webdriver\\remote\\webelement.py:396\u001b[0m, in \u001b[0;36mWebElement._execute\u001b[1;34m(self, command, params)\u001b[0m\n\u001b[0;32m    394\u001b[0m     params \u001b[39m=\u001b[39m {}\n\u001b[0;32m    395\u001b[0m params[\u001b[39m'\u001b[39m\u001b[39mid\u001b[39m\u001b[39m'\u001b[39m] \u001b[39m=\u001b[39m \u001b[39mself\u001b[39m\u001b[39m.\u001b[39m_id\n\u001b[1;32m--> 396\u001b[0m \u001b[39mreturn\u001b[39;00m \u001b[39mself\u001b[39;49m\u001b[39m.\u001b[39;49m_parent\u001b[39m.\u001b[39;49mexecute(command, params)\n",
      "File \u001b[1;32mc:\\Users\\mriedeman\\Anaconda3\\envs\\webscraper\\lib\\site-packages\\selenium\\webdriver\\remote\\webdriver.py:434\u001b[0m, in \u001b[0;36mWebDriver.execute\u001b[1;34m(self, driver_command, params)\u001b[0m\n\u001b[0;32m    432\u001b[0m response \u001b[39m=\u001b[39m \u001b[39mself\u001b[39m\u001b[39m.\u001b[39mcommand_executor\u001b[39m.\u001b[39mexecute(driver_command, params)\n\u001b[0;32m    433\u001b[0m \u001b[39mif\u001b[39;00m response:\n\u001b[1;32m--> 434\u001b[0m     \u001b[39mself\u001b[39;49m\u001b[39m.\u001b[39;49merror_handler\u001b[39m.\u001b[39;49mcheck_response(response)\n\u001b[0;32m    435\u001b[0m     response[\u001b[39m'\u001b[39m\u001b[39mvalue\u001b[39m\u001b[39m'\u001b[39m] \u001b[39m=\u001b[39m \u001b[39mself\u001b[39m\u001b[39m.\u001b[39m_unwrap_value(\n\u001b[0;32m    436\u001b[0m         response\u001b[39m.\u001b[39mget(\u001b[39m'\u001b[39m\u001b[39mvalue\u001b[39m\u001b[39m'\u001b[39m, \u001b[39mNone\u001b[39;00m))\n\u001b[0;32m    437\u001b[0m     \u001b[39mreturn\u001b[39;00m response\n",
      "File \u001b[1;32mc:\\Users\\mriedeman\\Anaconda3\\envs\\webscraper\\lib\\site-packages\\selenium\\webdriver\\remote\\errorhandler.py:243\u001b[0m, in \u001b[0;36mErrorHandler.check_response\u001b[1;34m(self, response)\u001b[0m\n\u001b[0;32m    241\u001b[0m         alert_text \u001b[39m=\u001b[39m value[\u001b[39m'\u001b[39m\u001b[39malert\u001b[39m\u001b[39m'\u001b[39m]\u001b[39m.\u001b[39mget(\u001b[39m'\u001b[39m\u001b[39mtext\u001b[39m\u001b[39m'\u001b[39m)\n\u001b[0;32m    242\u001b[0m     \u001b[39mraise\u001b[39;00m exception_class(message, screen, stacktrace, alert_text)  \u001b[39m# type: ignore[call-arg]  # mypy is not smart enough here\u001b[39;00m\n\u001b[1;32m--> 243\u001b[0m \u001b[39mraise\u001b[39;00m exception_class(message, screen, stacktrace)\n",
      "\u001b[1;31mWebDriverException\u001b[0m: Message: chrome not reachable\n  (Session info: chrome=104.0.5112.82)\nStacktrace:\nBacktrace:\n\tOrdinal0 [0x00EA78B3+2193587]\n\tOrdinal0 [0x00E40681+1771137]\n\tOrdinal0 [0x00D54070+802928]\n\tOrdinal0 [0x00D49AB2+760498]\n\tOrdinal0 [0x00D3CEAF+708271]\n\tOrdinal0 [0x00D41142+725314]\n\tOrdinal0 [0x00D455C9+742857]\n\tOrdinal0 [0x00D55500+808192]\n\tOrdinal0 [0x00DAD2C2+1168066]\n\tOrdinal0 [0x00D9D5C6+1103302]\n\tOrdinal0 [0x00D777E0+948192]\n\tOrdinal0 [0x00D786E6+952038]\n\tGetHandleVerifier [0x01150CB2+2738370]\n\tGetHandleVerifier [0x011421B8+2678216]\n\tGetHandleVerifier [0x00F317AA+512954]\n\tGetHandleVerifier [0x00F30856+509030]\n\tOrdinal0 [0x00E4743B+1799227]\n\tOrdinal0 [0x00E4BB68+1817448]\n\tOrdinal0 [0x00E4BC55+1817685]\n\tOrdinal0 [0x00E55230+1856048]\n\tBaseThreadInitThunk [0x75F8FA29+25]\n\tRtlGetAppContainerNamedObjectPath [0x77E17A9E+286]\n\tRtlGetAppContainerNamedObjectPath [0x77E17A6E+238]\n"
     ]
    }
   ],
   "source": [
    "testing = results[0]\n",
    "\n",
    "\n"
   ]
  },
  {
   "cell_type": "code",
   "execution_count": 41,
   "metadata": {},
   "outputs": [],
   "source": [
    "browser.execute_script(\"document.querySelector('#hbl-live-chat-wrapper').style.display = 'none';\")"
   ]
  },
  {
   "cell_type": "code",
   "execution_count": 47,
   "metadata": {},
   "outputs": [],
   "source": [
    "#before looping through cities we will use a dictionary with only one city\n",
    "city = {'city':'Los Angeles','state':'CA', 'abbr':'LAX', 'country':'USA'}\n",
    "\n",
    "#javascript logic, not sure how this works, used to bypass a chat box?\n",
    "click_chat_js = \"\"\"\n",
    "                    var button = document.querySelector('button.olark-launch-button.olark-size-md');\n",
    "                    function eventFire(elem, etype) {\n",
    "                      if (elem.fireEvent) {\n",
    "                        elem.fireEvent('on' + etype);\n",
    "                      } \n",
    "                      else {\n",
    "                        var evObj = document.createEvent('Events');\n",
    "                        evObj.initEvent(etype, true, false);\n",
    "                        elem.dispatchEvent(evObj);\n",
    "                      }\n",
    "                    }\n",
    "                    eventFire(button, 'click');\n",
    "                \"\"\"\n",
    "\n",
    "deals_df = pd.DataFrame()"
   ]
  },
  {
   "cell_type": "code",
   "execution_count": 49,
   "metadata": {},
   "outputs": [
    {
     "ename": "TypeError",
     "evalue": "'WebElement' object is not iterable",
     "output_type": "error",
     "traceback": [
      "\u001b[1;31m---------------------------------------------------------------------------\u001b[0m",
      "\u001b[1;31mTypeError\u001b[0m                                 Traceback (most recent call last)",
      "\u001b[1;32mc:\\Users\\mriedeman\\Documents\\Python Scripts\\Webscraper\\code\\CT_USA_ONE_ITERATION.ipynb Cell 21\u001b[0m in \u001b[0;36m<cell line: 2>\u001b[1;34m()\u001b[0m\n\u001b[0;32m      <a href='vscode-notebook-cell:/c%3A/Users/mriedeman/Documents/Python%20Scripts/Webscraper/code/CT_USA_ONE_ITERATION.ipynb#X40sZmlsZQ%3D%3D?line=0'>1</a>\u001b[0m deals \u001b[39m=\u001b[39m []\n\u001b[1;32m----> <a href='vscode-notebook-cell:/c%3A/Users/mriedeman/Documents/Python%20Scripts/Webscraper/code/CT_USA_ONE_ITERATION.ipynb#X40sZmlsZQ%3D%3D?line=1'>2</a>\u001b[0m \u001b[39mfor\u001b[39;00m result \u001b[39min\u001b[39;00m results:\n\u001b[0;32m      <a href='vscode-notebook-cell:/c%3A/Users/mriedeman/Documents/Python%20Scripts/Webscraper/code/CT_USA_ONE_ITERATION.ipynb#X40sZmlsZQ%3D%3D?line=3'>4</a>\u001b[0m     browser\u001b[39m.\u001b[39mexecute_script(\u001b[39m\"\u001b[39m\u001b[39mdocument.querySelector(\u001b[39m\u001b[39m'\u001b[39m\u001b[39m#hbl-live-chat-wrapper\u001b[39m\u001b[39m'\u001b[39m\u001b[39m).style.display = \u001b[39m\u001b[39m'\u001b[39m\u001b[39mnone\u001b[39m\u001b[39m'\u001b[39m\u001b[39m;\u001b[39m\u001b[39m\"\u001b[39m)\n\u001b[0;32m      <a href='vscode-notebook-cell:/c%3A/Users/mriedeman/Documents/Python%20Scripts/Webscraper/code/CT_USA_ONE_ITERATION.ipynb#X40sZmlsZQ%3D%3D?line=5'>6</a>\u001b[0m     \u001b[39mif\u001b[39;00m \u001b[39mlen\u001b[39m(result\u001b[39m.\u001b[39mfind_element(By\u001b[39m.\u001b[39mCSS_SELECTOR, \u001b[39m'\u001b[39m\u001b[39mspan.X-VPrice-ConvertedFrom-Amount\u001b[39m\u001b[39m'\u001b[39m)) \u001b[39m>\u001b[39m \u001b[39m0\u001b[39m:\n",
      "\u001b[1;31mTypeError\u001b[0m: 'WebElement' object is not iterable"
     ]
    }
   ],
   "source": [
    "deals = []\n",
    "for result in results:\n",
    "\n",
    "    browser.execute_script(\"document.querySelector('#hbl-live-chat-wrapper').style.display = 'none';\")\n",
    "    \n",
    "    if len(result.find_element(By.CSS_SELECTOR, 'span.X-VPrice-ConvertedFrom-Amount')) > 0:\n",
    "    \n",
    "        daily_rate = float(result.find_element(By.CSS_SELECTOR, 'span.X-VPrice-ConvertedFrom-Amount').text)\n",
    "        pu_date = trip['start_date']\n",
    "        do_date = trip['end_date']\n",
    "        location = f'{city[\"city\"]}, {city[\"state\"]}'\n",
    "\n",
    "        if browser.find_element(By.CSS_SELECTOR, 'div#olark-container').isDisplayed():\n",
    "            browser.execute_script(click_chat_js)\n",
    "\n",
    "        while True:\n",
    "            try:\n",
    "                result.find_by_text('Check Availability').click()\n",
    "                break\n",
    "            except ElementClickInterceptedException:\n",
    "                try:\n",
    "                    browser.execute_script(\"window.scrollTo(0, window.scrollY + 200);\")\n",
    "                except JavascriptException:\n",
    "                    continue\n",
    "        \n",
    "        browser.switch_to.window(browser.window_handles[2])\n",
    "\n",
    "        \n",
    "        start = time.time()\n",
    "        while True:\n",
    "            try:\n",
    "                if time.time() > start + 30:\n",
    "                    browser.refresh()\n",
    "                    # browser.windows.current.close()\n",
    "                    # browser.windows.current = browser.windows[1]\n",
    "                    # result.find_by_css('a.button-green.button-book').click()\n",
    "                    # browser.windows.current = browser.windows[2]\n",
    "                    start = time.time()\n",
    "            except TimeoutException:\n",
    "                continue\n",
    "            try:\n",
    "                company = browser.find_element(By.CSS_SELECTOR, 'img.vehicle-image')['src'].split('/')[-2].replace('-', ' ').lower().rstrip('us').strip().title()\n",
    "                print(company)\n",
    "                break\n",
    "            except NoSuchElementException:\n",
    "                continue\n",
    "        rv_class = browser.find_element(By.CSS_SELECTOR, 'div.vehicle-name').text\n",
    "        try:\n",
    "            section = browser.find_element(By.CSS_SELECTOR,'span.X-VPrice-ConvertedFrom.v-price-total.v-price-converted-from').last\n",
    "            total = float(section.find_element(By.CSS_SELECTOR, 'span.X-VPrice-ConvertedFrom-Amount').text)\n",
    "            print(total)\n",
    "        except NoSuchElementException:\n",
    "            total = 'Not Listed'\n",
    "\n",
    "        browser.close()\n",
    "        browser.switch_to.window(browser.window_handles[1])\n",
    "        \n",
    "\n",
    "        deals.append({'Pickup Date':pu_date,'Dropoff Date':do_date,'Class':rv_class,'Company':company,\n",
    "                    'Daily Rate':daily_rate,'Price':total,'Location':location})\n",
    "\n",
    "        deals_df = deals_df.append(deals, ignore_index=True)\n",
    "\n",
    "browser.close()"
   ]
  },
  {
   "cell_type": "code",
   "execution_count": null,
   "metadata": {},
   "outputs": [],
   "source": []
  },
  {
   "cell_type": "code",
   "execution_count": null,
   "metadata": {},
   "outputs": [],
   "source": [
    "try:\n",
    "    myElem = WebDriverWait(browser, delay).until(EC.presence_of_element_located((By.XPATH,\"//input[contains(@id, 'pickupLocation')]\")))\n",
    "    print (\"Page is ready!\")\n",
    "except TimeoutException:\n",
    "    print (\"Loading took too much time!\")"
   ]
  },
  {
   "cell_type": "markdown",
   "metadata": {},
   "source": [
    "#### Function to create a list of trips"
   ]
  },
  {
   "cell_type": "code",
   "execution_count": 90,
   "metadata": {},
   "outputs": [
    {
     "data": {
      "text/plain": [
       "datetime.date(2023, 1, 17)"
      ]
     },
     "execution_count": 90,
     "metadata": {},
     "output_type": "execute_result"
    }
   ],
   "source": [
    "# # function to generate list of trips from\n",
    "# def create_trips(int_stop_date, US):\n",
    "#     for pu_d in allMondays(int_stop_date):\n",
    "#         # drop off date is 17 days after today, average internation reservation is 17 days\n",
    "#         do_d = pu_d + timedelta(17)\n",
    "#         # for all mondays after today (weeks = 36, is the following year)\n",
    "#         if pu_d > date.today() + timedelta(10):\n",
    "#             # if monday is a holiday, change pickup to Tuesday\n",
    "#             if pu_d in intHolidayClosures(country_holidays, US):\n",
    "#                 pu_d += timedelta(1)\n",
    "#             # if Thursday is a holiday, change drop off to Wednesday\n",
    "#             if do_d in intHolidayClosures(country_holidays, US):\n",
    "#                 do_d -= timedelta(1)\n",
    "#             #We should use yield when we want to iterate over a sequence, but don’t want to store the entire sequence in memory. \n",
    "#             yield {'start_date':pu_d.strftime('%Y-%m-%d'),\n",
    "#                     'start_day': pu_d.strftime('%d').lstrip('0'),\n",
    "#                     'start_month': pu_d.strftime('%b'),\n",
    "#                     'start_year': pu_d.strftime('%Y'),\n",
    "#                     'start_date_out':pu_d.strftime('%m-%d-%Y'),\n",
    "#                     'end_date':do_d.strftime('%Y-%m-%d'),\n",
    "#                     'end_day':do_d.strftime('%d').lstrip('0'),\n",
    "#                     'end_month':do_d.strftime('%b'),\n",
    "#                     'end_year':do_d.strftime('%Y')}"
   ]
  },
  {
   "cell_type": "code",
   "execution_count": 138,
   "metadata": {},
   "outputs": [],
   "source": [
    "\n"
   ]
  },
  {
   "cell_type": "code",
   "execution_count": 139,
   "metadata": {},
   "outputs": [],
   "source": []
  },
  {
   "cell_type": "code",
   "execution_count": 141,
   "metadata": {},
   "outputs": [],
   "source": []
  },
  {
   "cell_type": "code",
   "execution_count": 142,
   "metadata": {},
   "outputs": [],
   "source": [
    "#click the search button\n",
    "browser.find_element(By.CSS_SELECTOR, 'button.btn.btn-success.btn-lg.btn-block.X-SearchButton').click()\n",
    "# browser.windows.current = browser.windows[1]\n",
    "\n",
    "# while browser.is_element_not_present_by_css('div.campervan-result'):\n",
    "#     continue"
   ]
  },
  {
   "cell_type": "code",
   "execution_count": 143,
   "metadata": {},
   "outputs": [
    {
     "ename": "AttributeError",
     "evalue": "'WebDriver' object has no attribute 'windows'",
     "output_type": "error",
     "traceback": [
      "\u001b[1;31m---------------------------------------------------------------------------\u001b[0m",
      "\u001b[1;31mAttributeError\u001b[0m                            Traceback (most recent call last)",
      "\u001b[1;32mc:\\Users\\mriedeman\\Documents\\Python Scripts\\atbs_selenium.ipynb Cell 24\u001b[0m in \u001b[0;36m<cell line: 1>\u001b[1;34m()\u001b[0m\n\u001b[1;32m----> <a href='vscode-notebook-cell:/c%3A/Users/mriedeman/Documents/Python%20Scripts/atbs_selenium.ipynb#X45sZmlsZQ%3D%3D?line=0'>1</a>\u001b[0m browser\u001b[39m.\u001b[39mwindows\u001b[39m.\u001b[39mcurrent \u001b[39m=\u001b[39m browser\u001b[39m.\u001b[39;49mwindows[\u001b[39m1\u001b[39m]\n",
      "\u001b[1;31mAttributeError\u001b[0m: 'WebDriver' object has no attribute 'windows'"
     ]
    }
   ],
   "source": [
    "browser.windows.current = browser.windows[1]"
   ]
  },
  {
   "cell_type": "code",
   "execution_count": null,
   "metadata": {},
   "outputs": [],
   "source": [
    "cities = [{'city':'San Francisco','state':'CA', 'abbr':'SFO', 'country':'USA'},\n",
    "          {'city':'Las Vegas','state':'NV', 'abbr':'LAS', 'country':'USA'},\n",
    "          {'city':'Los Angeles','state':'CA', 'abbr':'LAX', 'country':'USA'},\n",
    "          {'city':'Seattle','state':'WA', 'abbr':'SEA', 'country':'USA'},\n",
    "          {'city':'Salt Lake City','state':'UT', 'abbr':'SLC', 'country':'USA'},\n",
    "          {'city':'Denver','state':'CO', 'abbr':'DEN', 'country':'USA'},\n",
    "          {'city':'Chicago','state':'IL', 'abbr':'CHI', 'country':'USA'},\n",
    "          {'city':'Dallas','state':'TX', 'abbr':'DFW', 'country':'USA'},\n",
    "          {'city':'Orlando','state':'FL', 'abbr':'MCO', 'country':'USA'}]\n",
    "\n",
    "for city in cities:\n",
    "\n",
    "    browser.find_element(By.XPATH,\"//*[@id='c1-5-2-widget-pickupLocation']\").click()\n",
    "    time.sleep(3)    \n",
    "  \n",
    "    browser.find_element(By.XPATH,\"//*[@id='c1-5-2-widget-pickupLocation']\").send_keys(f\"{city['city']}\"+ \" \")\n",
    "    time.sleep(3)\n",
    "\n",
    "    browser.find_element(By.XPATH,\"//*[@id='c1-5-2-widget-pickupLocation']\").send_keys(Keys.RETURN)"
   ]
  }
 ],
 "metadata": {
  "kernelspec": {
   "display_name": "Python 3.9.12 ('webscraper')",
   "language": "python",
   "name": "python3"
  },
  "language_info": {
   "codemirror_mode": {
    "name": "ipython",
    "version": 3
   },
   "file_extension": ".py",
   "mimetype": "text/x-python",
   "name": "python",
   "nbconvert_exporter": "python",
   "pygments_lexer": "ipython3",
   "version": "3.9.12"
  },
  "orig_nbformat": 4,
  "vscode": {
   "interpreter": {
    "hash": "c780947fbb818c7495fd9532412a3eb8d06e8fa4b61a49db8737789eaef9d63e"
   }
  }
 },
 "nbformat": 4,
 "nbformat_minor": 2
}

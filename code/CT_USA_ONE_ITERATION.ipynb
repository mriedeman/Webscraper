{
 "cells": [
  {
   "cell_type": "code",
   "execution_count": 46,
   "metadata": {},
   "outputs": [],
   "source": [
    "from selenium import webdriver\n",
    "from webdriver_manager.chrome import ChromeDriverManager\n",
    "from selenium.webdriver.chrome.service import Service\n",
    "from selenium.webdriver.common.by import By\n",
    "from selenium.webdriver.common.keys import Keys\n",
    "from selenium.webdriver.support.ui import WebDriverWait\n",
    "from selenium.webdriver.support import expected_conditions as EC\n",
    "from selenium.common.exceptions import TimeoutException\n",
    "from selenium.common.exceptions import ElementClickInterceptedException, JavascriptException, NoSuchElementException\n",
    "import time\n",
    "from datetime import date, datetime, timedelta \n",
    "import numpy as np\n",
    "import pandas as pd\n",
    "\n"
   ]
  },
  {
   "cell_type": "code",
   "execution_count": 27,
   "metadata": {},
   "outputs": [
    {
     "name": "stdout",
     "output_type": "stream",
     "text": [
      "[2.06394122]\n",
      "[1.78989016]\n",
      "[3.57362812]\n",
      "[0.1943497]\n",
      "[0.9985213]\n",
      "[3.66431505]\n",
      "[1.29727384]\n",
      "[1.36019843]\n",
      "[1.5632224]\n",
      "[3.47749468]\n"
     ]
    }
   ],
   "source": [
    "for i in range(10):\n",
    "    print(np.random.rand(1)*4)"
   ]
  },
  {
   "cell_type": "markdown",
   "metadata": {},
   "source": [
    "### Waits for the Pick-Up Location inside the search-widget-form to load"
   ]
  },
  {
   "cell_type": "code",
   "execution_count": 24,
   "metadata": {},
   "outputs": [
    {
     "name": "stdout",
     "output_type": "stream",
     "text": [
      "Page is ready!\n"
     ]
    }
   ],
   "source": [
    "\n",
    "# fixes deprecation error https://stackoverflow.com/questions/64717302/deprecationwarning-executable-path-has-been-deprecated-selenium-python\n",
    "\n",
    "s=Service(ChromeDriverManager().install())\n",
    "browser = webdriver.Chrome(service=s)\n",
    "#browser = webdriver.Chrome(executable_path = \"C:\\Program Files\\Chromedriver\\chromedriver.exe\")\n",
    "url = 'https://www.campertravelusa.com/'\n",
    "browser.get(url)\n",
    "\n",
    "\n",
    "\n",
    "# waits for page elements to load https://stackoverflow.com/questions/26566799/wait-until-page-is-loaded-with-selenium-webdriver-for-python\n",
    "delay = 3 # seconds\n",
    "try:\n",
    "    myElem = WebDriverWait(browser, delay).until(EC.presence_of_element_located((By.XPATH,\"//input[contains(@id, 'pickupLocation')]\")))\n",
    "    print (\"Page is ready!\")\n",
    "except TimeoutException:\n",
    "    print (\"Loading took too much time!\")\n",
    "\n",
    "\n",
    "\n",
    "#browser.find_element(By.XPATH,\"//input[contains(@id, 'pickupLocation')]\").send_keys('Orlando')\n",
    "\n",
    "#//*[@id=\"search_name\"]\n",
    "\n",
    "#for city in cities:\n",
    "#browser.find_element(By.XPATH,\"//input[contains(@id, 'pickupLocation')]\").click()#send_keys(city['city'])\n",
    "    #browser.find_element(By.XPATH,f\"//div[@class = 'autocomplete-suggestion'][@data-val = '{city['city']}']\").click()\n"
   ]
  },
  {
   "cell_type": "markdown",
   "metadata": {},
   "source": [
    "### Step 1: Select Pick-up Location and Driver's License\n"
   ]
  },
  {
   "cell_type": "code",
   "execution_count": 25,
   "metadata": {},
   "outputs": [],
   "source": [
    "browser.find_element(By.XPATH,\"//input[contains(@id, 'pickupLocation')]\").click()\n",
    "time.sleep(int(np.random.rand(1)*10))\n",
    "browser.find_element(By.XPATH,\"//input[contains(@id, 'pickupLocation')]\").send_keys('Los Angeles')\n",
    "time.sleep(int(np.random.rand(1)*10))\n",
    "browser.find_element(By.XPATH,\"//*[@id='c1-5-2-widget-pickupLocation']\").send_keys(Keys.RETURN)\n",
    "time.sleep(int(np.random.rand(1)*10))\n",
    "\n",
    "#picks the driver's license\n",
    "browser.find_element(By.CSS_SELECTOR, 'input.form-control.X-CountryOfResidence.AutoCompleteSelectInput').click()\n",
    "time.sleep(int(np.random.rand(1)*10))\n",
    "browser.find_element(By.XPATH, \"//div[@class = 'autocomplete-suggestion'][@data-val = 'International']\").click()"
   ]
  },
  {
   "cell_type": "markdown",
   "metadata": {},
   "source": [
    "### Step 2: Enter pickup and drop off dates"
   ]
  },
  {
   "cell_type": "code",
   "execution_count": 26,
   "metadata": {},
   "outputs": [],
   "source": [
    "#create a trip itinerary with start and end dates, trips are 17 days long because that's the average international booking\n",
    "trip_day = date(2023, 1, 18)\n",
    "trip = {}\n",
    "trip['start_month'] = 'Jan'\n",
    "trip['start_day'] = trip_day.strftime(\"%d\")\n",
    "trip['end_day'] = (trip_day + timedelta(17)).strftime(\"%d\").lstrip('0')"
   ]
  },
  {
   "cell_type": "code",
   "execution_count": 27,
   "metadata": {},
   "outputs": [],
   "source": [
    "#open the calendar\n",
    "browser.find_element(By.XPATH, \"//*[@id='c1-5-2-widget-pickupDate']\").click()\n",
    "time.sleep(int(np.random.rand(1)*7))\n",
    "cal_month = browser.find_element(By.XPATH,\"//div[@class = 'dr-cal-start']/div/div/div\").find_element(By.CSS_SELECTOR,'button.dp-cal-month').text[0:3]"
   ]
  },
  {
   "cell_type": "code",
   "execution_count": 28,
   "metadata": {},
   "outputs": [
    {
     "name": "stdout",
     "output_type": "stream",
     "text": [
      "Sep\n",
      "Oct\n",
      "Nov\n",
      "Dec\n",
      "Jan\n"
     ]
    }
   ],
   "source": [
    "#Find the month where the trip starts\n",
    "while cal_month != trip['start_month']:\n",
    "    browser.find_element(By.XPATH, \"//div[@class = 'dr-cal-end']/div/div/div/header/button[@class = 'dp-next']\").click()\n",
    "    #updates cal_month variable to whatever date you are currently on\n",
    "    cal_month = browser.find_element(By.XPATH,\"//div[@class = 'dr-cal-start']/div/div/div\").find_element(By.CSS_SELECTOR,'button.dp-cal-month').text[0:3]\n",
    "    time.sleep(int(np.random.rand(1)*3))\n",
    "    print(cal_month)"
   ]
  },
  {
   "cell_type": "code",
   "execution_count": 29,
   "metadata": {},
   "outputs": [],
   "source": [
    "#picks the start day of the trip\n",
    "pu_d = browser.find_element(By.XPATH, f\"//div[@class = 'dr-cal-start']/div/div/div/div/button[not(contains(@class, 'edge-day'))][text() = {trip['start_day']}]\")\n",
    "pu_d.click()"
   ]
  },
  {
   "cell_type": "code",
   "execution_count": 30,
   "metadata": {},
   "outputs": [],
   "source": [
    "#picks the end day, if the start day is smaller than the end day the first page is picked, otherwise the next month's page is picked\n",
    "if int(trip['start_day']) < int(trip['end_day']):\n",
    "    do_d = browser.find_element(By.XPATH, f\"//div[@class = 'dr-cal-start']/div/div/div/div/button[not(contains(@class, 'edge-day'))][text() = {trip['end_day']}]\")\n",
    "else:\n",
    "    do_d = browser.find_element(By.XPATH, f\"//div[@class = 'dr-cal-end']/div/div/div/div/button[not(contains(@class, 'edge-day'))][text() = {trip['end_day']}]\")\n",
    "do_d.click()"
   ]
  },
  {
   "cell_type": "code",
   "execution_count": 31,
   "metadata": {},
   "outputs": [],
   "source": [
    "#click the search button\n",
    "time.sleep(int(np.random.rand(1)*5))\n",
    "browser.find_element(By.CSS_SELECTOR, 'button.btn.btn-success.btn-lg.btn-block.X-SearchButton').click()"
   ]
  },
  {
   "cell_type": "markdown",
   "metadata": {},
   "source": [
    "### Step 3: Collect all the prices for the given trip"
   ]
  },
  {
   "cell_type": "markdown",
   "metadata": {},
   "source": []
  },
  {
   "cell_type": "code",
   "execution_count": 32,
   "metadata": {},
   "outputs": [],
   "source": [
    "#Why doesn't this work?\n",
    "browser.execute_script(\"window.scrollTo(500, 0);\")"
   ]
  },
  {
   "cell_type": "code",
   "execution_count": 37,
   "metadata": {},
   "outputs": [],
   "source": [
    "#switch to correct window\n",
    "# old method that doesn't work >>> browser.windows.current = browser.windows[1]\n",
    "\n",
    "browser.switch_to.window(browser.window_handles[1])\n",
    "\n",
    "# switch to first window\n",
    "#browser.switch_to.window(browser.window_handles[0])"
   ]
  },
  {
   "cell_type": "code",
   "execution_count": 39,
   "metadata": {},
   "outputs": [],
   "source": [
    "# will have to tell script to wait for page to load when refactored to a loop\n",
    "results = browser.find_element(By.CLASS_NAME, 'campervan-result')"
   ]
  },
  {
   "cell_type": "code",
   "execution_count": 41,
   "metadata": {},
   "outputs": [],
   "source": [
    "browser.execute_script(\"document.querySelector('#hbl-live-chat-wrapper').style.display = 'none';\")"
   ]
  },
  {
   "cell_type": "code",
   "execution_count": 47,
   "metadata": {},
   "outputs": [],
   "source": [
    "#before looping through cities we will use a dictionary with only one city\n",
    "city = {'city':'Los Angeles','state':'CA', 'abbr':'LAX', 'country':'USA'}\n",
    "\n",
    "#javascript logic, not sure how this works, used to bypass a chat box?\n",
    "click_chat_js = \"\"\"\n",
    "                    var button = document.querySelector('button.olark-launch-button.olark-size-md');\n",
    "                    function eventFire(elem, etype) {\n",
    "                      if (elem.fireEvent) {\n",
    "                        elem.fireEvent('on' + etype);\n",
    "                      } \n",
    "                      else {\n",
    "                        var evObj = document.createEvent('Events');\n",
    "                        evObj.initEvent(etype, true, false);\n",
    "                        elem.dispatchEvent(evObj);\n",
    "                      }\n",
    "                    }\n",
    "                    eventFire(button, 'click');\n",
    "                \"\"\"\n",
    "\n",
    "deals_df = pd.DataFrame()"
   ]
  },
  {
   "cell_type": "code",
   "execution_count": 49,
   "metadata": {},
   "outputs": [
    {
     "ename": "TypeError",
     "evalue": "'WebElement' object is not iterable",
     "output_type": "error",
     "traceback": [
      "\u001b[1;31m---------------------------------------------------------------------------\u001b[0m",
      "\u001b[1;31mTypeError\u001b[0m                                 Traceback (most recent call last)",
      "\u001b[1;32mc:\\Users\\mriedeman\\Documents\\Python Scripts\\Webscraper\\code\\CT_USA_ONE_ITERATION.ipynb Cell 21\u001b[0m in \u001b[0;36m<cell line: 2>\u001b[1;34m()\u001b[0m\n\u001b[0;32m      <a href='vscode-notebook-cell:/c%3A/Users/mriedeman/Documents/Python%20Scripts/Webscraper/code/CT_USA_ONE_ITERATION.ipynb#X40sZmlsZQ%3D%3D?line=0'>1</a>\u001b[0m deals \u001b[39m=\u001b[39m []\n\u001b[1;32m----> <a href='vscode-notebook-cell:/c%3A/Users/mriedeman/Documents/Python%20Scripts/Webscraper/code/CT_USA_ONE_ITERATION.ipynb#X40sZmlsZQ%3D%3D?line=1'>2</a>\u001b[0m \u001b[39mfor\u001b[39;00m result \u001b[39min\u001b[39;00m results:\n\u001b[0;32m      <a href='vscode-notebook-cell:/c%3A/Users/mriedeman/Documents/Python%20Scripts/Webscraper/code/CT_USA_ONE_ITERATION.ipynb#X40sZmlsZQ%3D%3D?line=3'>4</a>\u001b[0m     browser\u001b[39m.\u001b[39mexecute_script(\u001b[39m\"\u001b[39m\u001b[39mdocument.querySelector(\u001b[39m\u001b[39m'\u001b[39m\u001b[39m#hbl-live-chat-wrapper\u001b[39m\u001b[39m'\u001b[39m\u001b[39m).style.display = \u001b[39m\u001b[39m'\u001b[39m\u001b[39mnone\u001b[39m\u001b[39m'\u001b[39m\u001b[39m;\u001b[39m\u001b[39m\"\u001b[39m)\n\u001b[0;32m      <a href='vscode-notebook-cell:/c%3A/Users/mriedeman/Documents/Python%20Scripts/Webscraper/code/CT_USA_ONE_ITERATION.ipynb#X40sZmlsZQ%3D%3D?line=5'>6</a>\u001b[0m     \u001b[39mif\u001b[39;00m \u001b[39mlen\u001b[39m(result\u001b[39m.\u001b[39mfind_element(By\u001b[39m.\u001b[39mCSS_SELECTOR, \u001b[39m'\u001b[39m\u001b[39mspan.X-VPrice-ConvertedFrom-Amount\u001b[39m\u001b[39m'\u001b[39m)) \u001b[39m>\u001b[39m \u001b[39m0\u001b[39m:\n",
      "\u001b[1;31mTypeError\u001b[0m: 'WebElement' object is not iterable"
     ]
    }
   ],
   "source": [
    "deals = []\n",
    "for result in results:\n",
    "\n",
    "    browser.execute_script(\"document.querySelector('#hbl-live-chat-wrapper').style.display = 'none';\")\n",
    "    \n",
    "    if len(result.find_element(By.CSS_SELECTOR, 'span.X-VPrice-ConvertedFrom-Amount')) > 0:\n",
    "    \n",
    "        daily_rate = float(result.find_element(By.CSS_SELECTOR, 'span.X-VPrice-ConvertedFrom-Amount').text)\n",
    "        pu_date = trip['start_date']\n",
    "        do_date = trip['end_date']\n",
    "        location = f'{city[\"city\"]}, {city[\"state\"]}'\n",
    "\n",
    "        if browser.find_element(By.CSS_SELECTOR, 'div#olark-container').isDisplayed():\n",
    "            browser.execute_script(click_chat_js)\n",
    "\n",
    "        while True:\n",
    "            try:\n",
    "                result.find_by_text('Check Availability').click()\n",
    "                break\n",
    "            except ElementClickInterceptedException:\n",
    "                try:\n",
    "                    browser.execute_script(\"window.scrollTo(0, window.scrollY + 200);\")\n",
    "                except JavascriptException:\n",
    "                    continue\n",
    "        \n",
    "        browser.switch_to.window(browser.window_handles[2])\n",
    "\n",
    "        \n",
    "        start = time.time()\n",
    "        while True:\n",
    "            try:\n",
    "                if time.time() > start + 30:\n",
    "                    browser.refresh()\n",
    "                    # browser.windows.current.close()\n",
    "                    # browser.windows.current = browser.windows[1]\n",
    "                    # result.find_by_css('a.button-green.button-book').click()\n",
    "                    # browser.windows.current = browser.windows[2]\n",
    "                    start = time.time()\n",
    "            except TimeoutException:\n",
    "                continue\n",
    "            try:\n",
    "                company = browser.find_element(By.CSS_SELECTOR, 'img.vehicle-image')['src'].split('/')[-2].replace('-', ' ').lower().rstrip('us').strip().title()\n",
    "                print(company)\n",
    "                break\n",
    "            except NoSuchElementException:\n",
    "                continue\n",
    "        rv_class = browser.find_element(By.CSS_SELECTOR, 'div.vehicle-name').text\n",
    "        try:\n",
    "            section = browser.find_element(By.CSS_SELECTOR,'span.X-VPrice-ConvertedFrom.v-price-total.v-price-converted-from').last\n",
    "            total = float(section.find_element(By.CSS_SELECTOR, 'span.X-VPrice-ConvertedFrom-Amount').text)\n",
    "            print(total)\n",
    "        except NoSuchElementException:\n",
    "            total = 'Not Listed'\n",
    "\n",
    "        browser.close()\n",
    "        browser.switch_to.window(browser.window_handles[1])\n",
    "        \n",
    "\n",
    "        deals.append({'Pickup Date':pu_date,'Dropoff Date':do_date,'Class':rv_class,'Company':company,\n",
    "                    'Daily Rate':daily_rate,'Price':total,'Location':location})\n",
    "\n",
    "        deals_df = deals_df.append(deals, ignore_index=True)\n",
    "\n",
    "browser.close()"
   ]
  },
  {
   "cell_type": "code",
   "execution_count": null,
   "metadata": {},
   "outputs": [],
   "source": []
  },
  {
   "cell_type": "code",
   "execution_count": null,
   "metadata": {},
   "outputs": [],
   "source": [
    "try:\n",
    "    myElem = WebDriverWait(browser, delay).until(EC.presence_of_element_located((By.XPATH,\"//input[contains(@id, 'pickupLocation')]\")))\n",
    "    print (\"Page is ready!\")\n",
    "except TimeoutException:\n",
    "    print (\"Loading took too much time!\")"
   ]
  },
  {
   "cell_type": "markdown",
   "metadata": {},
   "source": [
    "#### Function to create a list of trips"
   ]
  },
  {
   "cell_type": "code",
   "execution_count": 90,
   "metadata": {},
   "outputs": [
    {
     "data": {
      "text/plain": [
       "datetime.date(2023, 1, 17)"
      ]
     },
     "execution_count": 90,
     "metadata": {},
     "output_type": "execute_result"
    }
   ],
   "source": [
    "# # function to generate list of trips from\n",
    "# def create_trips(int_stop_date, US):\n",
    "#     for pu_d in allMondays(int_stop_date):\n",
    "#         # drop off date is 17 days after today, average internation reservation is 17 days\n",
    "#         do_d = pu_d + timedelta(17)\n",
    "#         # for all mondays after today (weeks = 36, is the following year)\n",
    "#         if pu_d > date.today() + timedelta(10):\n",
    "#             # if monday is a holiday, change pickup to Tuesday\n",
    "#             if pu_d in intHolidayClosures(country_holidays, US):\n",
    "#                 pu_d += timedelta(1)\n",
    "#             # if Thursday is a holiday, change drop off to Wednesday\n",
    "#             if do_d in intHolidayClosures(country_holidays, US):\n",
    "#                 do_d -= timedelta(1)\n",
    "#             #We should use yield when we want to iterate over a sequence, but don’t want to store the entire sequence in memory. \n",
    "#             yield {'start_date':pu_d.strftime('%Y-%m-%d'),\n",
    "#                     'start_day': pu_d.strftime('%d').lstrip('0'),\n",
    "#                     'start_month': pu_d.strftime('%b'),\n",
    "#                     'start_year': pu_d.strftime('%Y'),\n",
    "#                     'start_date_out':pu_d.strftime('%m-%d-%Y'),\n",
    "#                     'end_date':do_d.strftime('%Y-%m-%d'),\n",
    "#                     'end_day':do_d.strftime('%d').lstrip('0'),\n",
    "#                     'end_month':do_d.strftime('%b'),\n",
    "#                     'end_year':do_d.strftime('%Y')}"
   ]
  },
  {
   "cell_type": "code",
   "execution_count": 138,
   "metadata": {},
   "outputs": [],
   "source": [
    "\n"
   ]
  },
  {
   "cell_type": "code",
   "execution_count": 139,
   "metadata": {},
   "outputs": [],
   "source": []
  },
  {
   "cell_type": "code",
   "execution_count": 141,
   "metadata": {},
   "outputs": [],
   "source": []
  },
  {
   "cell_type": "code",
   "execution_count": 142,
   "metadata": {},
   "outputs": [],
   "source": [
    "#click the search button\n",
    "browser.find_element(By.CSS_SELECTOR, 'button.btn.btn-success.btn-lg.btn-block.X-SearchButton').click()\n",
    "# browser.windows.current = browser.windows[1]\n",
    "\n",
    "# while browser.is_element_not_present_by_css('div.campervan-result'):\n",
    "#     continue"
   ]
  },
  {
   "cell_type": "code",
   "execution_count": 143,
   "metadata": {},
   "outputs": [
    {
     "ename": "AttributeError",
     "evalue": "'WebDriver' object has no attribute 'windows'",
     "output_type": "error",
     "traceback": [
      "\u001b[1;31m---------------------------------------------------------------------------\u001b[0m",
      "\u001b[1;31mAttributeError\u001b[0m                            Traceback (most recent call last)",
      "\u001b[1;32mc:\\Users\\mriedeman\\Documents\\Python Scripts\\atbs_selenium.ipynb Cell 24\u001b[0m in \u001b[0;36m<cell line: 1>\u001b[1;34m()\u001b[0m\n\u001b[1;32m----> <a href='vscode-notebook-cell:/c%3A/Users/mriedeman/Documents/Python%20Scripts/atbs_selenium.ipynb#X45sZmlsZQ%3D%3D?line=0'>1</a>\u001b[0m browser\u001b[39m.\u001b[39mwindows\u001b[39m.\u001b[39mcurrent \u001b[39m=\u001b[39m browser\u001b[39m.\u001b[39;49mwindows[\u001b[39m1\u001b[39m]\n",
      "\u001b[1;31mAttributeError\u001b[0m: 'WebDriver' object has no attribute 'windows'"
     ]
    }
   ],
   "source": [
    "browser.windows.current = browser.windows[1]"
   ]
  },
  {
   "cell_type": "code",
   "execution_count": null,
   "metadata": {},
   "outputs": [],
   "source": [
    "cities = [{'city':'San Francisco','state':'CA', 'abbr':'SFO', 'country':'USA'},\n",
    "          {'city':'Las Vegas','state':'NV', 'abbr':'LAS', 'country':'USA'},\n",
    "          {'city':'Los Angeles','state':'CA', 'abbr':'LAX', 'country':'USA'},\n",
    "          {'city':'Seattle','state':'WA', 'abbr':'SEA', 'country':'USA'},\n",
    "          {'city':'Salt Lake City','state':'UT', 'abbr':'SLC', 'country':'USA'},\n",
    "          {'city':'Denver','state':'CO', 'abbr':'DEN', 'country':'USA'},\n",
    "          {'city':'Chicago','state':'IL', 'abbr':'CHI', 'country':'USA'},\n",
    "          {'city':'Dallas','state':'TX', 'abbr':'DFW', 'country':'USA'},\n",
    "          {'city':'Orlando','state':'FL', 'abbr':'MCO', 'country':'USA'}]\n",
    "\n",
    "for city in cities:\n",
    "\n",
    "    browser.find_element(By.XPATH,\"//*[@id='c1-5-2-widget-pickupLocation']\").click()\n",
    "    time.sleep(3)    \n",
    "  \n",
    "    browser.find_element(By.XPATH,\"//*[@id='c1-5-2-widget-pickupLocation']\").send_keys(f\"{city['city']}\"+ \" \")\n",
    "    time.sleep(3)\n",
    "\n",
    "    browser.find_element(By.XPATH,\"//*[@id='c1-5-2-widget-pickupLocation']\").send_keys(Keys.RETURN)"
   ]
  }
 ],
 "metadata": {
  "kernelspec": {
   "display_name": "Python 3.9.12 ('webscraper')",
   "language": "python",
   "name": "python3"
  },
  "language_info": {
   "codemirror_mode": {
    "name": "ipython",
    "version": 3
   },
   "file_extension": ".py",
   "mimetype": "text/x-python",
   "name": "python",
   "nbconvert_exporter": "python",
   "pygments_lexer": "ipython3",
   "version": "3.9.12"
  },
  "orig_nbformat": 4,
  "vscode": {
   "interpreter": {
    "hash": "c780947fbb818c7495fd9532412a3eb8d06e8fa4b61a49db8737789eaef9d63e"
   }
  }
 },
 "nbformat": 4,
 "nbformat_minor": 2
}

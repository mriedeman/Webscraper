{
 "cells": [
  {
   "cell_type": "code",
   "execution_count": 56,
   "metadata": {},
   "outputs": [],
   "source": [
    "from selenium import webdriver\n",
    "from webdriver_manager.chrome import ChromeDriverManager\n",
    "from selenium.webdriver.chrome.service import Service\n",
    "from selenium.webdriver.common.by import By\n",
    "from selenium.webdriver.common.keys import Keys\n",
    "from selenium.webdriver.support.ui import WebDriverWait\n",
    "from selenium.webdriver.support import expected_conditions as EC\n",
    "from selenium.webdriver.support.ui import Select\n",
    "from selenium.common.exceptions import TimeoutException\n",
    "from selenium.common.exceptions import ElementClickInterceptedException, JavascriptException, NoSuchElementException\n",
    "import time\n",
    "from datetime import date, datetime, timedelta \n",
    "import numpy as np\n",
    "import pandas as pd\n",
    "import os\n",
    "from functions import allMondays, intHolidayClosures, create_trips, country_holidays"
   ]
  },
  {
   "cell_type": "code",
   "execution_count": 59,
   "metadata": {},
   "outputs": [],
   "source": [
    "#constants\n",
    "URL = 'https://www.travelhome.nl/amerika/camperhuur-vergelijken'\n",
    "DELAY = 3\n",
    "PAGE_LOAD_ID = \"anwbrGiveConsent\"\n",
    "PICKUP_LOC_ID = 'pickUpLocation'\n",
    "PICKUP_LOC_XPATH = \"//select[@id = 'pickUpLocation]\""
   ]
  },
  {
   "cell_type": "code",
   "execution_count": 83,
   "metadata": {},
   "outputs": [
    {
     "name": "stdout",
     "output_type": "stream",
     "text": [
      "Page is ready!\n"
     ]
    }
   ],
   "source": [
    "\n",
    "\n",
    "def create_browser(URL, ELEMENT_ID):\n",
    "\n",
    "    \"\"\"Creates the browser and loads the page given url and webelement\"\"\"\n",
    "    \n",
    "    s=Service(ChromeDriverManager().install())\n",
    "    browser = webdriver.Chrome(service=s)\n",
    "\n",
    "    browser.get(URL)\n",
    "\n",
    "    try:\n",
    "        myElem = WebDriverWait(browser, DELAY).until(EC.presence_of_element_located((By.ID, PAGE_LOAD_ID)))\n",
    "        print (\"Page is ready!\")\n",
    "    except TimeoutException:\n",
    "        print (\"Couldn't find element\")\n",
    "\n",
    "    return browser\n",
    "\n",
    "\n",
    "browser = create_browser(URL, PAGE_LOAD_ID)"
   ]
  },
  {
   "cell_type": "code",
   "execution_count": 84,
   "metadata": {},
   "outputs": [],
   "source": [
    "    # s=Service(ChromeDriverManager().install())\n",
    "    # browser = webdriver.Chrome(service=s)\n",
    "\n",
    "    # browser.get(URL)\n",
    "\n",
    "    # try:\n",
    "    #     myElem = WebDriverWait(browser, DELAY).until(EC.presence_of_element_located((By.ID, PAGE_LOAD_ID)))\n",
    "    #     print (\"Page is ready!\")\n",
    "    # except TimeoutException:\n",
    "    #     print (\"Couldn't find element\")\n",
    "\n",
    "browser.find_element(By.ID, PAGE_LOAD_ID).click()"
   ]
  },
  {
   "cell_type": "code",
   "execution_count": 74,
   "metadata": {},
   "outputs": [],
   "source": [
    "shadowroot = browser.execute_script(\"\"\"return document.getElementsByClassName('placeholder rendering-travelhome-camper-frame')[0]\"\"\")"
   ]
  },
  {
   "cell_type": "code",
   "execution_count": 85,
   "metadata": {},
   "outputs": [],
   "source": [
    "REMOVE_SHADOWDOM = \"\"\"\n",
    "const getShadowDomHtml = (shadowRoot) => {\n",
    "    let shadowHTML = '';\n",
    "    for (let el of shadowRoot.childNodes) {\n",
    "        shadowHTML += el.nodeValue || el.outerHTML;\n",
    "    }\n",
    "    return shadowHTML;\n",
    "};\n",
    "\n",
    "\n",
    "\n",
    "const replaceShadowDomsWithHtml = (rootElement) => {\n",
    "    for (let el of rootElement.querySelectorAll('*')) {\n",
    "        if (el.shadowRoot) {\n",
    "            replaceShadowDomsWithHtml(el.shadowRoot)\n",
    "            el.innerHTML += getShadowDomHtml(el.shadowRoot);\n",
    "        }\n",
    "    }\n",
    "};\n",
    "\n",
    "\n",
    "replaceShadowDomsWithHtml(document.body)\n",
    "\n",
    "\n",
    "\"\"\"\n",
    "\n",
    "\n",
    "HTML_FORM = browser.execute_script(f\"return {REMOVE_SHADOWDOM}\")\n",
    "\n",
    "HTML_FORM"
   ]
  },
  {
   "cell_type": "code",
   "execution_count": 87,
   "metadata": {},
   "outputs": [
    {
     "ename": "NoSuchElementException",
     "evalue": "Message: no such element: Unable to locate element: {\"method\":\"css selector\",\"selector\":\".country\"}\n  (Session info: chrome=104.0.5112.102)\nStacktrace:\nBacktrace:\n\tOrdinal0 [0x002878B3+2193587]\n\tOrdinal0 [0x00220681+1771137]\n\tOrdinal0 [0x001341A8+803240]\n\tOrdinal0 [0x001624A0+992416]\n\tOrdinal0 [0x0016273B+993083]\n\tOrdinal0 [0x0018F7C2+1177538]\n\tOrdinal0 [0x0017D7F4+1103860]\n\tOrdinal0 [0x0018DAE2+1170146]\n\tOrdinal0 [0x0017D5C6+1103302]\n\tOrdinal0 [0x001577E0+948192]\n\tOrdinal0 [0x001586E6+952038]\n\tGetHandleVerifier [0x00530CB2+2738370]\n\tGetHandleVerifier [0x005221B8+2678216]\n\tGetHandleVerifier [0x003117AA+512954]\n\tGetHandleVerifier [0x00310856+509030]\n\tOrdinal0 [0x0022743B+1799227]\n\tOrdinal0 [0x0022BB68+1817448]\n\tOrdinal0 [0x0022BC55+1817685]\n\tOrdinal0 [0x00235230+1856048]\n\tBaseThreadInitThunk [0x76F9FA29+25]\n\tRtlGetAppContainerNamedObjectPath [0x77CC7A9E+286]\n\tRtlGetAppContainerNamedObjectPath [0x77CC7A6E+238]\n\t(No symbol) [0x00000000]\n",
     "output_type": "error",
     "traceback": [
      "\u001b[1;31m---------------------------------------------------------------------------\u001b[0m",
      "\u001b[1;31mNoSuchElementException\u001b[0m                    Traceback (most recent call last)",
      "\u001b[1;32mc:\\Users\\mriedeman\\Documents\\Python Scripts\\Webscraper\\code\\travelhome.ipynb Cell 7\u001b[0m in \u001b[0;36m<cell line: 1>\u001b[1;34m()\u001b[0m\n\u001b[1;32m----> <a href='vscode-notebook-cell:/c%3A/Users/mriedeman/Documents/Python%20Scripts/Webscraper/code/travelhome.ipynb#X35sZmlsZQ%3D%3D?line=0'>1</a>\u001b[0m browser\u001b[39m.\u001b[39;49mfind_element(By\u001b[39m.\u001b[39;49mCLASS_NAME, \u001b[39m'\u001b[39;49m\u001b[39mcountry\u001b[39;49m\u001b[39m'\u001b[39;49m)\n",
      "File \u001b[1;32mc:\\Users\\mriedeman\\Anaconda3\\envs\\webscraper\\lib\\site-packages\\selenium\\webdriver\\remote\\webdriver.py:856\u001b[0m, in \u001b[0;36mWebDriver.find_element\u001b[1;34m(self, by, value)\u001b[0m\n\u001b[0;32m    853\u001b[0m     by \u001b[39m=\u001b[39m By\u001b[39m.\u001b[39mCSS_SELECTOR\n\u001b[0;32m    854\u001b[0m     value \u001b[39m=\u001b[39m \u001b[39m'\u001b[39m\u001b[39m[name=\u001b[39m\u001b[39m\"\u001b[39m\u001b[39m%s\u001b[39;00m\u001b[39m\"\u001b[39m\u001b[39m]\u001b[39m\u001b[39m'\u001b[39m \u001b[39m%\u001b[39m value\n\u001b[1;32m--> 856\u001b[0m \u001b[39mreturn\u001b[39;00m \u001b[39mself\u001b[39;49m\u001b[39m.\u001b[39;49mexecute(Command\u001b[39m.\u001b[39;49mFIND_ELEMENT, {\n\u001b[0;32m    857\u001b[0m     \u001b[39m'\u001b[39;49m\u001b[39musing\u001b[39;49m\u001b[39m'\u001b[39;49m: by,\n\u001b[0;32m    858\u001b[0m     \u001b[39m'\u001b[39;49m\u001b[39mvalue\u001b[39;49m\u001b[39m'\u001b[39;49m: value})[\u001b[39m'\u001b[39m\u001b[39mvalue\u001b[39m\u001b[39m'\u001b[39m]\n",
      "File \u001b[1;32mc:\\Users\\mriedeman\\Anaconda3\\envs\\webscraper\\lib\\site-packages\\selenium\\webdriver\\remote\\webdriver.py:434\u001b[0m, in \u001b[0;36mWebDriver.execute\u001b[1;34m(self, driver_command, params)\u001b[0m\n\u001b[0;32m    432\u001b[0m response \u001b[39m=\u001b[39m \u001b[39mself\u001b[39m\u001b[39m.\u001b[39mcommand_executor\u001b[39m.\u001b[39mexecute(driver_command, params)\n\u001b[0;32m    433\u001b[0m \u001b[39mif\u001b[39;00m response:\n\u001b[1;32m--> 434\u001b[0m     \u001b[39mself\u001b[39;49m\u001b[39m.\u001b[39;49merror_handler\u001b[39m.\u001b[39;49mcheck_response(response)\n\u001b[0;32m    435\u001b[0m     response[\u001b[39m'\u001b[39m\u001b[39mvalue\u001b[39m\u001b[39m'\u001b[39m] \u001b[39m=\u001b[39m \u001b[39mself\u001b[39m\u001b[39m.\u001b[39m_unwrap_value(\n\u001b[0;32m    436\u001b[0m         response\u001b[39m.\u001b[39mget(\u001b[39m'\u001b[39m\u001b[39mvalue\u001b[39m\u001b[39m'\u001b[39m, \u001b[39mNone\u001b[39;00m))\n\u001b[0;32m    437\u001b[0m     \u001b[39mreturn\u001b[39;00m response\n",
      "File \u001b[1;32mc:\\Users\\mriedeman\\Anaconda3\\envs\\webscraper\\lib\\site-packages\\selenium\\webdriver\\remote\\errorhandler.py:243\u001b[0m, in \u001b[0;36mErrorHandler.check_response\u001b[1;34m(self, response)\u001b[0m\n\u001b[0;32m    241\u001b[0m         alert_text \u001b[39m=\u001b[39m value[\u001b[39m'\u001b[39m\u001b[39malert\u001b[39m\u001b[39m'\u001b[39m]\u001b[39m.\u001b[39mget(\u001b[39m'\u001b[39m\u001b[39mtext\u001b[39m\u001b[39m'\u001b[39m)\n\u001b[0;32m    242\u001b[0m     \u001b[39mraise\u001b[39;00m exception_class(message, screen, stacktrace, alert_text)  \u001b[39m# type: ignore[call-arg]  # mypy is not smart enough here\u001b[39;00m\n\u001b[1;32m--> 243\u001b[0m \u001b[39mraise\u001b[39;00m exception_class(message, screen, stacktrace)\n",
      "\u001b[1;31mNoSuchElementException\u001b[0m: Message: no such element: Unable to locate element: {\"method\":\"css selector\",\"selector\":\".country\"}\n  (Session info: chrome=104.0.5112.102)\nStacktrace:\nBacktrace:\n\tOrdinal0 [0x002878B3+2193587]\n\tOrdinal0 [0x00220681+1771137]\n\tOrdinal0 [0x001341A8+803240]\n\tOrdinal0 [0x001624A0+992416]\n\tOrdinal0 [0x0016273B+993083]\n\tOrdinal0 [0x0018F7C2+1177538]\n\tOrdinal0 [0x0017D7F4+1103860]\n\tOrdinal0 [0x0018DAE2+1170146]\n\tOrdinal0 [0x0017D5C6+1103302]\n\tOrdinal0 [0x001577E0+948192]\n\tOrdinal0 [0x001586E6+952038]\n\tGetHandleVerifier [0x00530CB2+2738370]\n\tGetHandleVerifier [0x005221B8+2678216]\n\tGetHandleVerifier [0x003117AA+512954]\n\tGetHandleVerifier [0x00310856+509030]\n\tOrdinal0 [0x0022743B+1799227]\n\tOrdinal0 [0x0022BB68+1817448]\n\tOrdinal0 [0x0022BC55+1817685]\n\tOrdinal0 [0x00235230+1856048]\n\tBaseThreadInitThunk [0x76F9FA29+25]\n\tRtlGetAppContainerNamedObjectPath [0x77CC7A9E+286]\n\tRtlGetAppContainerNamedObjectPath [0x77CC7A6E+238]\n\t(No symbol) [0x00000000]\n"
     ]
    }
   ],
   "source": [
    "browser.find_element(By.ID, 'country')"
   ]
  },
  {
   "cell_type": "code",
   "execution_count": 88,
   "metadata": {},
   "outputs": [
    {
     "ename": "JavascriptException",
     "evalue": "Message: javascript error: document.getElementByID is not a function\n  (Session info: chrome=104.0.5112.102)\nStacktrace:\nBacktrace:\n\tOrdinal0 [0x002878B3+2193587]\n\tOrdinal0 [0x00220681+1771137]\n\tOrdinal0 [0x001341A8+803240]\n\tOrdinal0 [0x00136BB4+814004]\n\tOrdinal0 [0x00136A72+813682]\n\tOrdinal0 [0x001373EA+816106]\n\tOrdinal0 [0x0018E519+1172761]\n\tOrdinal0 [0x0017D7AC+1103788]\n\tOrdinal0 [0x0018DAE2+1170146]\n\tOrdinal0 [0x0017D5C6+1103302]\n\tOrdinal0 [0x001577E0+948192]\n\tOrdinal0 [0x001586E6+952038]\n\tGetHandleVerifier [0x00530CB2+2738370]\n\tGetHandleVerifier [0x005221B8+2678216]\n\tGetHandleVerifier [0x003117AA+512954]\n\tGetHandleVerifier [0x00310856+509030]\n\tOrdinal0 [0x0022743B+1799227]\n\tOrdinal0 [0x0022BB68+1817448]\n\tOrdinal0 [0x0022BC55+1817685]\n\tOrdinal0 [0x00235230+1856048]\n\tBaseThreadInitThunk [0x76F9FA29+25]\n\tRtlGetAppContainerNamedObjectPath [0x77CC7A9E+286]\n\tRtlGetAppContainerNamedObjectPath [0x77CC7A6E+238]\n\t(No symbol) [0x00000000]\n",
     "output_type": "error",
     "traceback": [
      "\u001b[1;31m---------------------------------------------------------------------------\u001b[0m",
      "\u001b[1;31mJavascriptException\u001b[0m                       Traceback (most recent call last)",
      "\u001b[1;32mc:\\Users\\mriedeman\\Documents\\Python Scripts\\Webscraper\\code\\travelhome.ipynb Cell 10\u001b[0m in \u001b[0;36m<cell line: 1>\u001b[1;34m()\u001b[0m\n\u001b[1;32m----> <a href='vscode-notebook-cell:/c%3A/Users/mriedeman/Documents/Python%20Scripts/Webscraper/code/travelhome.ipynb#X33sZmlsZQ%3D%3D?line=0'>1</a>\u001b[0m TEST \u001b[39m=\u001b[39m browser\u001b[39m.\u001b[39;49mexecute_script(\u001b[39m\"\u001b[39;49m\u001b[39m return document.getElementByID(\u001b[39;49m\u001b[39m'\u001b[39;49m\u001b[39mcountry\u001b[39;49m\u001b[39m'\u001b[39;49m\u001b[39m)\u001b[39;49m\u001b[39m\"\u001b[39;49m)\n\u001b[0;32m      <a href='vscode-notebook-cell:/c%3A/Users/mriedeman/Documents/Python%20Scripts/Webscraper/code/travelhome.ipynb#X33sZmlsZQ%3D%3D?line=3'>4</a>\u001b[0m TEST\n",
      "File \u001b[1;32mc:\\Users\\mriedeman\\Anaconda3\\envs\\webscraper\\lib\\site-packages\\selenium\\webdriver\\remote\\webdriver.py:492\u001b[0m, in \u001b[0;36mWebDriver.execute_script\u001b[1;34m(self, script, *args)\u001b[0m\n\u001b[0;32m    489\u001b[0m converted_args \u001b[39m=\u001b[39m \u001b[39mlist\u001b[39m(args)\n\u001b[0;32m    490\u001b[0m command \u001b[39m=\u001b[39m Command\u001b[39m.\u001b[39mW3C_EXECUTE_SCRIPT\n\u001b[1;32m--> 492\u001b[0m \u001b[39mreturn\u001b[39;00m \u001b[39mself\u001b[39;49m\u001b[39m.\u001b[39;49mexecute(command, {\n\u001b[0;32m    493\u001b[0m     \u001b[39m'\u001b[39;49m\u001b[39mscript\u001b[39;49m\u001b[39m'\u001b[39;49m: script,\n\u001b[0;32m    494\u001b[0m     \u001b[39m'\u001b[39;49m\u001b[39margs\u001b[39;49m\u001b[39m'\u001b[39;49m: converted_args})[\u001b[39m'\u001b[39m\u001b[39mvalue\u001b[39m\u001b[39m'\u001b[39m]\n",
      "File \u001b[1;32mc:\\Users\\mriedeman\\Anaconda3\\envs\\webscraper\\lib\\site-packages\\selenium\\webdriver\\remote\\webdriver.py:434\u001b[0m, in \u001b[0;36mWebDriver.execute\u001b[1;34m(self, driver_command, params)\u001b[0m\n\u001b[0;32m    432\u001b[0m response \u001b[39m=\u001b[39m \u001b[39mself\u001b[39m\u001b[39m.\u001b[39mcommand_executor\u001b[39m.\u001b[39mexecute(driver_command, params)\n\u001b[0;32m    433\u001b[0m \u001b[39mif\u001b[39;00m response:\n\u001b[1;32m--> 434\u001b[0m     \u001b[39mself\u001b[39;49m\u001b[39m.\u001b[39;49merror_handler\u001b[39m.\u001b[39;49mcheck_response(response)\n\u001b[0;32m    435\u001b[0m     response[\u001b[39m'\u001b[39m\u001b[39mvalue\u001b[39m\u001b[39m'\u001b[39m] \u001b[39m=\u001b[39m \u001b[39mself\u001b[39m\u001b[39m.\u001b[39m_unwrap_value(\n\u001b[0;32m    436\u001b[0m         response\u001b[39m.\u001b[39mget(\u001b[39m'\u001b[39m\u001b[39mvalue\u001b[39m\u001b[39m'\u001b[39m, \u001b[39mNone\u001b[39;00m))\n\u001b[0;32m    437\u001b[0m     \u001b[39mreturn\u001b[39;00m response\n",
      "File \u001b[1;32mc:\\Users\\mriedeman\\Anaconda3\\envs\\webscraper\\lib\\site-packages\\selenium\\webdriver\\remote\\errorhandler.py:243\u001b[0m, in \u001b[0;36mErrorHandler.check_response\u001b[1;34m(self, response)\u001b[0m\n\u001b[0;32m    241\u001b[0m         alert_text \u001b[39m=\u001b[39m value[\u001b[39m'\u001b[39m\u001b[39malert\u001b[39m\u001b[39m'\u001b[39m]\u001b[39m.\u001b[39mget(\u001b[39m'\u001b[39m\u001b[39mtext\u001b[39m\u001b[39m'\u001b[39m)\n\u001b[0;32m    242\u001b[0m     \u001b[39mraise\u001b[39;00m exception_class(message, screen, stacktrace, alert_text)  \u001b[39m# type: ignore[call-arg]  # mypy is not smart enough here\u001b[39;00m\n\u001b[1;32m--> 243\u001b[0m \u001b[39mraise\u001b[39;00m exception_class(message, screen, stacktrace)\n",
      "\u001b[1;31mJavascriptException\u001b[0m: Message: javascript error: document.getElementByID is not a function\n  (Session info: chrome=104.0.5112.102)\nStacktrace:\nBacktrace:\n\tOrdinal0 [0x002878B3+2193587]\n\tOrdinal0 [0x00220681+1771137]\n\tOrdinal0 [0x001341A8+803240]\n\tOrdinal0 [0x00136BB4+814004]\n\tOrdinal0 [0x00136A72+813682]\n\tOrdinal0 [0x001373EA+816106]\n\tOrdinal0 [0x0018E519+1172761]\n\tOrdinal0 [0x0017D7AC+1103788]\n\tOrdinal0 [0x0018DAE2+1170146]\n\tOrdinal0 [0x0017D5C6+1103302]\n\tOrdinal0 [0x001577E0+948192]\n\tOrdinal0 [0x001586E6+952038]\n\tGetHandleVerifier [0x00530CB2+2738370]\n\tGetHandleVerifier [0x005221B8+2678216]\n\tGetHandleVerifier [0x003117AA+512954]\n\tGetHandleVerifier [0x00310856+509030]\n\tOrdinal0 [0x0022743B+1799227]\n\tOrdinal0 [0x0022BB68+1817448]\n\tOrdinal0 [0x0022BC55+1817685]\n\tOrdinal0 [0x00235230+1856048]\n\tBaseThreadInitThunk [0x76F9FA29+25]\n\tRtlGetAppContainerNamedObjectPath [0x77CC7A9E+286]\n\tRtlGetAppContainerNamedObjectPath [0x77CC7A6E+238]\n\t(No symbol) [0x00000000]\n"
     ]
    }
   ],
   "source": [
    "TEST = browser.execute_script(\" return document.getElementByID('country')\")\n",
    "\n",
    "\n",
    "TEST"
   ]
  },
  {
   "cell_type": "code",
   "execution_count": 77,
   "metadata": {},
   "outputs": [
    {
     "name": "stdout",
     "output_type": "stream",
     "text": [
      "None\n"
     ]
    }
   ],
   "source": [
    "print(HTML_FORM)"
   ]
  },
  {
   "cell_type": "code",
   "execution_count": 72,
   "metadata": {},
   "outputs": [
    {
     "ename": "NoSuchElementException",
     "evalue": "Message: no such element: Unable to locate element: {\"method\":\"xpath\",\"selector\":\"//*[@id='country']\"}\n  (Session info: chrome=104.0.5112.102)\nStacktrace:\nBacktrace:\n\tOrdinal0 [0x002878B3+2193587]\n\tOrdinal0 [0x00220681+1771137]\n\tOrdinal0 [0x001341A8+803240]\n\tOrdinal0 [0x001624A0+992416]\n\tOrdinal0 [0x0016273B+993083]\n\tOrdinal0 [0x00158C81+953473]\n\tOrdinal0 [0x0017D7F4+1103860]\n\tOrdinal0 [0x00158C04+953348]\n\tOrdinal0 [0x0017D9C4+1104324]\n\tOrdinal0 [0x0018DAE2+1170146]\n\tOrdinal0 [0x0017D5C6+1103302]\n\tOrdinal0 [0x001577E0+948192]\n\tOrdinal0 [0x001586E6+952038]\n\tGetHandleVerifier [0x00530CB2+2738370]\n\tGetHandleVerifier [0x005221B8+2678216]\n\tGetHandleVerifier [0x003117AA+512954]\n\tGetHandleVerifier [0x00310856+509030]\n\tOrdinal0 [0x0022743B+1799227]\n\tOrdinal0 [0x0022BB68+1817448]\n\tOrdinal0 [0x0022BC55+1817685]\n\tOrdinal0 [0x00235230+1856048]\n\tBaseThreadInitThunk [0x76F9FA29+25]\n\tRtlGetAppContainerNamedObjectPath [0x77CC7A9E+286]\n\tRtlGetAppContainerNamedObjectPath [0x77CC7A6E+238]\n\t(No symbol) [0x00000000]\n",
     "output_type": "error",
     "traceback": [
      "\u001b[1;31m---------------------------------------------------------------------------\u001b[0m",
      "\u001b[1;31mNoSuchElementException\u001b[0m                    Traceback (most recent call last)",
      "\u001b[1;32mc:\\Users\\mriedeman\\Documents\\Python Scripts\\Webscraper\\code\\travelhome.ipynb Cell 6\u001b[0m in \u001b[0;36m<cell line: 1>\u001b[1;34m()\u001b[0m\n\u001b[1;32m----> <a href='vscode-notebook-cell:/c%3A/Users/mriedeman/Documents/Python%20Scripts/Webscraper/code/travelhome.ipynb#X24sZmlsZQ%3D%3D?line=0'>1</a>\u001b[0m shadowroot\u001b[39m.\u001b[39;49mfind_element(By\u001b[39m.\u001b[39;49mXPATH, \u001b[39m\"\u001b[39;49m\u001b[39m//*[@id=\u001b[39;49m\u001b[39m'\u001b[39;49m\u001b[39mcountry\u001b[39;49m\u001b[39m'\u001b[39;49m\u001b[39m]\u001b[39;49m\u001b[39m\"\u001b[39;49m)\n",
      "File \u001b[1;32mc:\\Users\\mriedeman\\Anaconda3\\envs\\webscraper\\lib\\site-packages\\selenium\\webdriver\\remote\\webelement.py:419\u001b[0m, in \u001b[0;36mWebElement.find_element\u001b[1;34m(self, by, value)\u001b[0m\n\u001b[0;32m    416\u001b[0m     by \u001b[39m=\u001b[39m By\u001b[39m.\u001b[39mCSS_SELECTOR\n\u001b[0;32m    417\u001b[0m     value \u001b[39m=\u001b[39m \u001b[39m'\u001b[39m\u001b[39m[name=\u001b[39m\u001b[39m\"\u001b[39m\u001b[39m%s\u001b[39;00m\u001b[39m\"\u001b[39m\u001b[39m]\u001b[39m\u001b[39m'\u001b[39m \u001b[39m%\u001b[39m value\n\u001b[1;32m--> 419\u001b[0m \u001b[39mreturn\u001b[39;00m \u001b[39mself\u001b[39;49m\u001b[39m.\u001b[39;49m_execute(Command\u001b[39m.\u001b[39;49mFIND_CHILD_ELEMENT,\n\u001b[0;32m    420\u001b[0m                      {\u001b[39m\"\u001b[39;49m\u001b[39musing\u001b[39;49m\u001b[39m\"\u001b[39;49m: by, \u001b[39m\"\u001b[39;49m\u001b[39mvalue\u001b[39;49m\u001b[39m\"\u001b[39;49m: value})[\u001b[39m'\u001b[39m\u001b[39mvalue\u001b[39m\u001b[39m'\u001b[39m]\n",
      "File \u001b[1;32mc:\\Users\\mriedeman\\Anaconda3\\envs\\webscraper\\lib\\site-packages\\selenium\\webdriver\\remote\\webelement.py:396\u001b[0m, in \u001b[0;36mWebElement._execute\u001b[1;34m(self, command, params)\u001b[0m\n\u001b[0;32m    394\u001b[0m     params \u001b[39m=\u001b[39m {}\n\u001b[0;32m    395\u001b[0m params[\u001b[39m'\u001b[39m\u001b[39mid\u001b[39m\u001b[39m'\u001b[39m] \u001b[39m=\u001b[39m \u001b[39mself\u001b[39m\u001b[39m.\u001b[39m_id\n\u001b[1;32m--> 396\u001b[0m \u001b[39mreturn\u001b[39;00m \u001b[39mself\u001b[39;49m\u001b[39m.\u001b[39;49m_parent\u001b[39m.\u001b[39;49mexecute(command, params)\n",
      "File \u001b[1;32mc:\\Users\\mriedeman\\Anaconda3\\envs\\webscraper\\lib\\site-packages\\selenium\\webdriver\\remote\\webdriver.py:434\u001b[0m, in \u001b[0;36mWebDriver.execute\u001b[1;34m(self, driver_command, params)\u001b[0m\n\u001b[0;32m    432\u001b[0m response \u001b[39m=\u001b[39m \u001b[39mself\u001b[39m\u001b[39m.\u001b[39mcommand_executor\u001b[39m.\u001b[39mexecute(driver_command, params)\n\u001b[0;32m    433\u001b[0m \u001b[39mif\u001b[39;00m response:\n\u001b[1;32m--> 434\u001b[0m     \u001b[39mself\u001b[39;49m\u001b[39m.\u001b[39;49merror_handler\u001b[39m.\u001b[39;49mcheck_response(response)\n\u001b[0;32m    435\u001b[0m     response[\u001b[39m'\u001b[39m\u001b[39mvalue\u001b[39m\u001b[39m'\u001b[39m] \u001b[39m=\u001b[39m \u001b[39mself\u001b[39m\u001b[39m.\u001b[39m_unwrap_value(\n\u001b[0;32m    436\u001b[0m         response\u001b[39m.\u001b[39mget(\u001b[39m'\u001b[39m\u001b[39mvalue\u001b[39m\u001b[39m'\u001b[39m, \u001b[39mNone\u001b[39;00m))\n\u001b[0;32m    437\u001b[0m     \u001b[39mreturn\u001b[39;00m response\n",
      "File \u001b[1;32mc:\\Users\\mriedeman\\Anaconda3\\envs\\webscraper\\lib\\site-packages\\selenium\\webdriver\\remote\\errorhandler.py:243\u001b[0m, in \u001b[0;36mErrorHandler.check_response\u001b[1;34m(self, response)\u001b[0m\n\u001b[0;32m    241\u001b[0m         alert_text \u001b[39m=\u001b[39m value[\u001b[39m'\u001b[39m\u001b[39malert\u001b[39m\u001b[39m'\u001b[39m]\u001b[39m.\u001b[39mget(\u001b[39m'\u001b[39m\u001b[39mtext\u001b[39m\u001b[39m'\u001b[39m)\n\u001b[0;32m    242\u001b[0m     \u001b[39mraise\u001b[39;00m exception_class(message, screen, stacktrace, alert_text)  \u001b[39m# type: ignore[call-arg]  # mypy is not smart enough here\u001b[39;00m\n\u001b[1;32m--> 243\u001b[0m \u001b[39mraise\u001b[39;00m exception_class(message, screen, stacktrace)\n",
      "\u001b[1;31mNoSuchElementException\u001b[0m: Message: no such element: Unable to locate element: {\"method\":\"xpath\",\"selector\":\"//*[@id='country']\"}\n  (Session info: chrome=104.0.5112.102)\nStacktrace:\nBacktrace:\n\tOrdinal0 [0x002878B3+2193587]\n\tOrdinal0 [0x00220681+1771137]\n\tOrdinal0 [0x001341A8+803240]\n\tOrdinal0 [0x001624A0+992416]\n\tOrdinal0 [0x0016273B+993083]\n\tOrdinal0 [0x00158C81+953473]\n\tOrdinal0 [0x0017D7F4+1103860]\n\tOrdinal0 [0x00158C04+953348]\n\tOrdinal0 [0x0017D9C4+1104324]\n\tOrdinal0 [0x0018DAE2+1170146]\n\tOrdinal0 [0x0017D5C6+1103302]\n\tOrdinal0 [0x001577E0+948192]\n\tOrdinal0 [0x001586E6+952038]\n\tGetHandleVerifier [0x00530CB2+2738370]\n\tGetHandleVerifier [0x005221B8+2678216]\n\tGetHandleVerifier [0x003117AA+512954]\n\tGetHandleVerifier [0x00310856+509030]\n\tOrdinal0 [0x0022743B+1799227]\n\tOrdinal0 [0x0022BB68+1817448]\n\tOrdinal0 [0x0022BC55+1817685]\n\tOrdinal0 [0x00235230+1856048]\n\tBaseThreadInitThunk [0x76F9FA29+25]\n\tRtlGetAppContainerNamedObjectPath [0x77CC7A9E+286]\n\tRtlGetAppContainerNamedObjectPath [0x77CC7A6E+238]\n\t(No symbol) [0x00000000]\n"
     ]
    }
   ],
   "source": [
    "shadowroot.find_element(By.XPATH, \"//*[@id='country']\")"
   ]
  },
  {
   "cell_type": "code",
   "execution_count": 69,
   "metadata": {},
   "outputs": [
    {
     "ename": "NoSuchElementException",
     "evalue": "Message: no such element: Unable to locate element: {\"method\":\"css selector\",\"selector\":\".travelhome-camper-frame\"}\n  (Session info: chrome=104.0.5112.102)\nStacktrace:\nBacktrace:\n\tOrdinal0 [0x002878B3+2193587]\n\tOrdinal0 [0x00220681+1771137]\n\tOrdinal0 [0x001341A8+803240]\n\tOrdinal0 [0x001624A0+992416]\n\tOrdinal0 [0x0016273B+993083]\n\tOrdinal0 [0x0018F7C2+1177538]\n\tOrdinal0 [0x0017D7F4+1103860]\n\tOrdinal0 [0x0018DAE2+1170146]\n\tOrdinal0 [0x0017D5C6+1103302]\n\tOrdinal0 [0x001577E0+948192]\n\tOrdinal0 [0x001586E6+952038]\n\tGetHandleVerifier [0x00530CB2+2738370]\n\tGetHandleVerifier [0x005221B8+2678216]\n\tGetHandleVerifier [0x003117AA+512954]\n\tGetHandleVerifier [0x00310856+509030]\n\tOrdinal0 [0x0022743B+1799227]\n\tOrdinal0 [0x0022BB68+1817448]\n\tOrdinal0 [0x0022BC55+1817685]\n\tOrdinal0 [0x00235230+1856048]\n\tBaseThreadInitThunk [0x76F9FA29+25]\n\tRtlGetAppContainerNamedObjectPath [0x77CC7A9E+286]\n\tRtlGetAppContainerNamedObjectPath [0x77CC7A6E+238]\n\t(No symbol) [0x00000000]\n",
     "output_type": "error",
     "traceback": [
      "\u001b[1;31m---------------------------------------------------------------------------\u001b[0m",
      "\u001b[1;31mNoSuchElementException\u001b[0m                    Traceback (most recent call last)",
      "\u001b[1;32mc:\\Users\\mriedeman\\Documents\\Python Scripts\\Webscraper\\code\\travelhome.ipynb Cell 5\u001b[0m in \u001b[0;36m<cell line: 1>\u001b[1;34m()\u001b[0m\n\u001b[1;32m----> <a href='vscode-notebook-cell:/c%3A/Users/mriedeman/Documents/Python%20Scripts/Webscraper/code/travelhome.ipynb#X21sZmlsZQ%3D%3D?line=0'>1</a>\u001b[0m browser\u001b[39m.\u001b[39;49mfind_element(By\u001b[39m.\u001b[39;49mCLASS_NAME, \u001b[39m\"\u001b[39;49m\u001b[39mtravelhome-camper-frame\u001b[39;49m\u001b[39m\"\u001b[39;49m)\n",
      "File \u001b[1;32mc:\\Users\\mriedeman\\Anaconda3\\envs\\webscraper\\lib\\site-packages\\selenium\\webdriver\\remote\\webdriver.py:856\u001b[0m, in \u001b[0;36mWebDriver.find_element\u001b[1;34m(self, by, value)\u001b[0m\n\u001b[0;32m    853\u001b[0m     by \u001b[39m=\u001b[39m By\u001b[39m.\u001b[39mCSS_SELECTOR\n\u001b[0;32m    854\u001b[0m     value \u001b[39m=\u001b[39m \u001b[39m'\u001b[39m\u001b[39m[name=\u001b[39m\u001b[39m\"\u001b[39m\u001b[39m%s\u001b[39;00m\u001b[39m\"\u001b[39m\u001b[39m]\u001b[39m\u001b[39m'\u001b[39m \u001b[39m%\u001b[39m value\n\u001b[1;32m--> 856\u001b[0m \u001b[39mreturn\u001b[39;00m \u001b[39mself\u001b[39;49m\u001b[39m.\u001b[39;49mexecute(Command\u001b[39m.\u001b[39;49mFIND_ELEMENT, {\n\u001b[0;32m    857\u001b[0m     \u001b[39m'\u001b[39;49m\u001b[39musing\u001b[39;49m\u001b[39m'\u001b[39;49m: by,\n\u001b[0;32m    858\u001b[0m     \u001b[39m'\u001b[39;49m\u001b[39mvalue\u001b[39;49m\u001b[39m'\u001b[39;49m: value})[\u001b[39m'\u001b[39m\u001b[39mvalue\u001b[39m\u001b[39m'\u001b[39m]\n",
      "File \u001b[1;32mc:\\Users\\mriedeman\\Anaconda3\\envs\\webscraper\\lib\\site-packages\\selenium\\webdriver\\remote\\webdriver.py:434\u001b[0m, in \u001b[0;36mWebDriver.execute\u001b[1;34m(self, driver_command, params)\u001b[0m\n\u001b[0;32m    432\u001b[0m response \u001b[39m=\u001b[39m \u001b[39mself\u001b[39m\u001b[39m.\u001b[39mcommand_executor\u001b[39m.\u001b[39mexecute(driver_command, params)\n\u001b[0;32m    433\u001b[0m \u001b[39mif\u001b[39;00m response:\n\u001b[1;32m--> 434\u001b[0m     \u001b[39mself\u001b[39;49m\u001b[39m.\u001b[39;49merror_handler\u001b[39m.\u001b[39;49mcheck_response(response)\n\u001b[0;32m    435\u001b[0m     response[\u001b[39m'\u001b[39m\u001b[39mvalue\u001b[39m\u001b[39m'\u001b[39m] \u001b[39m=\u001b[39m \u001b[39mself\u001b[39m\u001b[39m.\u001b[39m_unwrap_value(\n\u001b[0;32m    436\u001b[0m         response\u001b[39m.\u001b[39mget(\u001b[39m'\u001b[39m\u001b[39mvalue\u001b[39m\u001b[39m'\u001b[39m, \u001b[39mNone\u001b[39;00m))\n\u001b[0;32m    437\u001b[0m     \u001b[39mreturn\u001b[39;00m response\n",
      "File \u001b[1;32mc:\\Users\\mriedeman\\Anaconda3\\envs\\webscraper\\lib\\site-packages\\selenium\\webdriver\\remote\\errorhandler.py:243\u001b[0m, in \u001b[0;36mErrorHandler.check_response\u001b[1;34m(self, response)\u001b[0m\n\u001b[0;32m    241\u001b[0m         alert_text \u001b[39m=\u001b[39m value[\u001b[39m'\u001b[39m\u001b[39malert\u001b[39m\u001b[39m'\u001b[39m]\u001b[39m.\u001b[39mget(\u001b[39m'\u001b[39m\u001b[39mtext\u001b[39m\u001b[39m'\u001b[39m)\n\u001b[0;32m    242\u001b[0m     \u001b[39mraise\u001b[39;00m exception_class(message, screen, stacktrace, alert_text)  \u001b[39m# type: ignore[call-arg]  # mypy is not smart enough here\u001b[39;00m\n\u001b[1;32m--> 243\u001b[0m \u001b[39mraise\u001b[39;00m exception_class(message, screen, stacktrace)\n",
      "\u001b[1;31mNoSuchElementException\u001b[0m: Message: no such element: Unable to locate element: {\"method\":\"css selector\",\"selector\":\".travelhome-camper-frame\"}\n  (Session info: chrome=104.0.5112.102)\nStacktrace:\nBacktrace:\n\tOrdinal0 [0x002878B3+2193587]\n\tOrdinal0 [0x00220681+1771137]\n\tOrdinal0 [0x001341A8+803240]\n\tOrdinal0 [0x001624A0+992416]\n\tOrdinal0 [0x0016273B+993083]\n\tOrdinal0 [0x0018F7C2+1177538]\n\tOrdinal0 [0x0017D7F4+1103860]\n\tOrdinal0 [0x0018DAE2+1170146]\n\tOrdinal0 [0x0017D5C6+1103302]\n\tOrdinal0 [0x001577E0+948192]\n\tOrdinal0 [0x001586E6+952038]\n\tGetHandleVerifier [0x00530CB2+2738370]\n\tGetHandleVerifier [0x005221B8+2678216]\n\tGetHandleVerifier [0x003117AA+512954]\n\tGetHandleVerifier [0x00310856+509030]\n\tOrdinal0 [0x0022743B+1799227]\n\tOrdinal0 [0x0022BB68+1817448]\n\tOrdinal0 [0x0022BC55+1817685]\n\tOrdinal0 [0x00235230+1856048]\n\tBaseThreadInitThunk [0x76F9FA29+25]\n\tRtlGetAppContainerNamedObjectPath [0x77CC7A9E+286]\n\tRtlGetAppContainerNamedObjectPath [0x77CC7A6E+238]\n\t(No symbol) [0x00000000]\n"
     ]
    }
   ],
   "source": [
    "browser.find_element(By.CLASS_NAME, \"travelhome-camper-frame\")\n",
    "\n",
    "\n"
   ]
  },
  {
   "cell_type": "code",
   "execution_count": 67,
   "metadata": {},
   "outputs": [
    {
     "ename": "NoSuchElementException",
     "evalue": "Message: no such element: Unable to locate element: {\"method\":\"xpath\",\"selector\":\"//*[@id='target-e7514ddc-4f23-48b3-92ae-8dac782c0118']\"}\n  (Session info: chrome=104.0.5112.102)\nStacktrace:\nBacktrace:\n\tOrdinal0 [0x002878B3+2193587]\n\tOrdinal0 [0x00220681+1771137]\n\tOrdinal0 [0x001341A8+803240]\n\tOrdinal0 [0x001624A0+992416]\n\tOrdinal0 [0x0016273B+993083]\n\tOrdinal0 [0x0018F7C2+1177538]\n\tOrdinal0 [0x0017D7F4+1103860]\n\tOrdinal0 [0x0018DAE2+1170146]\n\tOrdinal0 [0x0017D5C6+1103302]\n\tOrdinal0 [0x001577E0+948192]\n\tOrdinal0 [0x001586E6+952038]\n\tGetHandleVerifier [0x00530CB2+2738370]\n\tGetHandleVerifier [0x005221B8+2678216]\n\tGetHandleVerifier [0x003117AA+512954]\n\tGetHandleVerifier [0x00310856+509030]\n\tOrdinal0 [0x0022743B+1799227]\n\tOrdinal0 [0x0022BB68+1817448]\n\tOrdinal0 [0x0022BC55+1817685]\n\tOrdinal0 [0x00235230+1856048]\n\tBaseThreadInitThunk [0x76F9FA29+25]\n\tRtlGetAppContainerNamedObjectPath [0x77CC7A9E+286]\n\tRtlGetAppContainerNamedObjectPath [0x77CC7A6E+238]\n\t(No symbol) [0x00000000]\n",
     "output_type": "error",
     "traceback": [
      "\u001b[1;31m---------------------------------------------------------------------------\u001b[0m",
      "\u001b[1;31mNoSuchElementException\u001b[0m                    Traceback (most recent call last)",
      "\u001b[1;32mc:\\Users\\mriedeman\\Documents\\Python Scripts\\Webscraper\\code\\travelhome.ipynb Cell 6\u001b[0m in \u001b[0;36m<cell line: 1>\u001b[1;34m()\u001b[0m\n\u001b[1;32m----> <a href='vscode-notebook-cell:/c%3A/Users/mriedeman/Documents/Python%20Scripts/Webscraper/code/travelhome.ipynb#X15sZmlsZQ%3D%3D?line=0'>1</a>\u001b[0m form \u001b[39m=\u001b[39m browser\u001b[39m.\u001b[39;49mfind_element(By\u001b[39m.\u001b[39;49mXPATH, \u001b[39m\"\u001b[39;49m\u001b[39m//*[@id=\u001b[39;49m\u001b[39m'\u001b[39;49m\u001b[39mtarget-e7514ddc-4f23-48b3-92ae-8dac782c0118\u001b[39;49m\u001b[39m'\u001b[39;49m\u001b[39m]\u001b[39;49m\u001b[39m\"\u001b[39;49m)\n\u001b[0;32m      <a href='vscode-notebook-cell:/c%3A/Users/mriedeman/Documents/Python%20Scripts/Webscraper/code/travelhome.ipynb#X15sZmlsZQ%3D%3D?line=6'>7</a>\u001b[0m form\n",
      "File \u001b[1;32mc:\\Users\\mriedeman\\Anaconda3\\envs\\webscraper\\lib\\site-packages\\selenium\\webdriver\\remote\\webdriver.py:856\u001b[0m, in \u001b[0;36mWebDriver.find_element\u001b[1;34m(self, by, value)\u001b[0m\n\u001b[0;32m    853\u001b[0m     by \u001b[39m=\u001b[39m By\u001b[39m.\u001b[39mCSS_SELECTOR\n\u001b[0;32m    854\u001b[0m     value \u001b[39m=\u001b[39m \u001b[39m'\u001b[39m\u001b[39m[name=\u001b[39m\u001b[39m\"\u001b[39m\u001b[39m%s\u001b[39;00m\u001b[39m\"\u001b[39m\u001b[39m]\u001b[39m\u001b[39m'\u001b[39m \u001b[39m%\u001b[39m value\n\u001b[1;32m--> 856\u001b[0m \u001b[39mreturn\u001b[39;00m \u001b[39mself\u001b[39;49m\u001b[39m.\u001b[39;49mexecute(Command\u001b[39m.\u001b[39;49mFIND_ELEMENT, {\n\u001b[0;32m    857\u001b[0m     \u001b[39m'\u001b[39;49m\u001b[39musing\u001b[39;49m\u001b[39m'\u001b[39;49m: by,\n\u001b[0;32m    858\u001b[0m     \u001b[39m'\u001b[39;49m\u001b[39mvalue\u001b[39;49m\u001b[39m'\u001b[39;49m: value})[\u001b[39m'\u001b[39m\u001b[39mvalue\u001b[39m\u001b[39m'\u001b[39m]\n",
      "File \u001b[1;32mc:\\Users\\mriedeman\\Anaconda3\\envs\\webscraper\\lib\\site-packages\\selenium\\webdriver\\remote\\webdriver.py:434\u001b[0m, in \u001b[0;36mWebDriver.execute\u001b[1;34m(self, driver_command, params)\u001b[0m\n\u001b[0;32m    432\u001b[0m response \u001b[39m=\u001b[39m \u001b[39mself\u001b[39m\u001b[39m.\u001b[39mcommand_executor\u001b[39m.\u001b[39mexecute(driver_command, params)\n\u001b[0;32m    433\u001b[0m \u001b[39mif\u001b[39;00m response:\n\u001b[1;32m--> 434\u001b[0m     \u001b[39mself\u001b[39;49m\u001b[39m.\u001b[39;49merror_handler\u001b[39m.\u001b[39;49mcheck_response(response)\n\u001b[0;32m    435\u001b[0m     response[\u001b[39m'\u001b[39m\u001b[39mvalue\u001b[39m\u001b[39m'\u001b[39m] \u001b[39m=\u001b[39m \u001b[39mself\u001b[39m\u001b[39m.\u001b[39m_unwrap_value(\n\u001b[0;32m    436\u001b[0m         response\u001b[39m.\u001b[39mget(\u001b[39m'\u001b[39m\u001b[39mvalue\u001b[39m\u001b[39m'\u001b[39m, \u001b[39mNone\u001b[39;00m))\n\u001b[0;32m    437\u001b[0m     \u001b[39mreturn\u001b[39;00m response\n",
      "File \u001b[1;32mc:\\Users\\mriedeman\\Anaconda3\\envs\\webscraper\\lib\\site-packages\\selenium\\webdriver\\remote\\errorhandler.py:243\u001b[0m, in \u001b[0;36mErrorHandler.check_response\u001b[1;34m(self, response)\u001b[0m\n\u001b[0;32m    241\u001b[0m         alert_text \u001b[39m=\u001b[39m value[\u001b[39m'\u001b[39m\u001b[39malert\u001b[39m\u001b[39m'\u001b[39m]\u001b[39m.\u001b[39mget(\u001b[39m'\u001b[39m\u001b[39mtext\u001b[39m\u001b[39m'\u001b[39m)\n\u001b[0;32m    242\u001b[0m     \u001b[39mraise\u001b[39;00m exception_class(message, screen, stacktrace, alert_text)  \u001b[39m# type: ignore[call-arg]  # mypy is not smart enough here\u001b[39;00m\n\u001b[1;32m--> 243\u001b[0m \u001b[39mraise\u001b[39;00m exception_class(message, screen, stacktrace)\n",
      "\u001b[1;31mNoSuchElementException\u001b[0m: Message: no such element: Unable to locate element: {\"method\":\"xpath\",\"selector\":\"//*[@id='target-e7514ddc-4f23-48b3-92ae-8dac782c0118']\"}\n  (Session info: chrome=104.0.5112.102)\nStacktrace:\nBacktrace:\n\tOrdinal0 [0x002878B3+2193587]\n\tOrdinal0 [0x00220681+1771137]\n\tOrdinal0 [0x001341A8+803240]\n\tOrdinal0 [0x001624A0+992416]\n\tOrdinal0 [0x0016273B+993083]\n\tOrdinal0 [0x0018F7C2+1177538]\n\tOrdinal0 [0x0017D7F4+1103860]\n\tOrdinal0 [0x0018DAE2+1170146]\n\tOrdinal0 [0x0017D5C6+1103302]\n\tOrdinal0 [0x001577E0+948192]\n\tOrdinal0 [0x001586E6+952038]\n\tGetHandleVerifier [0x00530CB2+2738370]\n\tGetHandleVerifier [0x005221B8+2678216]\n\tGetHandleVerifier [0x003117AA+512954]\n\tGetHandleVerifier [0x00310856+509030]\n\tOrdinal0 [0x0022743B+1799227]\n\tOrdinal0 [0x0022BB68+1817448]\n\tOrdinal0 [0x0022BC55+1817685]\n\tOrdinal0 [0x00235230+1856048]\n\tBaseThreadInitThunk [0x76F9FA29+25]\n\tRtlGetAppContainerNamedObjectPath [0x77CC7A9E+286]\n\tRtlGetAppContainerNamedObjectPath [0x77CC7A6E+238]\n\t(No symbol) [0x00000000]\n"
     ]
    }
   ],
   "source": [
    "form = browser.find_element(By.XPATH, \"//*[@id='target-e7514ddc-4f23-48b3-92ae-8dac782c0118']\")\n",
    "\n",
    "\n",
    "\n",
    "\n",
    "\n",
    "form\n"
   ]
  },
  {
   "cell_type": "code",
   "execution_count": 66,
   "metadata": {},
   "outputs": [
    {
     "ename": "StaleElementReferenceException",
     "evalue": "Message: stale element reference: element is not attached to the page document\n  (Session info: chrome=104.0.5112.102)\nStacktrace:\nBacktrace:\n\tOrdinal0 [0x002878B3+2193587]\n\tOrdinal0 [0x00220681+1771137]\n\tOrdinal0 [0x001341A8+803240]\n\tOrdinal0 [0x00136BB4+814004]\n\tOrdinal0 [0x00136A72+813682]\n\tOrdinal0 [0x001373EA+816106]\n\tOrdinal0 [0x0018E519+1172761]\n\tOrdinal0 [0x0017D7AC+1103788]\n\tOrdinal0 [0x0018DAE2+1170146]\n\tOrdinal0 [0x0017D5C6+1103302]\n\tOrdinal0 [0x001577E0+948192]\n\tOrdinal0 [0x001586E6+952038]\n\tGetHandleVerifier [0x00530CB2+2738370]\n\tGetHandleVerifier [0x005221B8+2678216]\n\tGetHandleVerifier [0x003117AA+512954]\n\tGetHandleVerifier [0x00310856+509030]\n\tOrdinal0 [0x0022743B+1799227]\n\tOrdinal0 [0x0022BB68+1817448]\n\tOrdinal0 [0x0022BC55+1817685]\n\tOrdinal0 [0x00235230+1856048]\n\tBaseThreadInitThunk [0x76F9FA29+25]\n\tRtlGetAppContainerNamedObjectPath [0x77CC7A9E+286]\n\tRtlGetAppContainerNamedObjectPath [0x77CC7A6E+238]\n\t(No symbol) [0x00000000]\n",
     "output_type": "error",
     "traceback": [
      "\u001b[1;31m---------------------------------------------------------------------------\u001b[0m",
      "\u001b[1;31mStaleElementReferenceException\u001b[0m            Traceback (most recent call last)",
      "\u001b[1;32mc:\\Users\\mriedeman\\Documents\\Python Scripts\\Webscraper\\code\\travelhome.ipynb Cell 7\u001b[0m in \u001b[0;36m<cell line: 1>\u001b[1;34m()\u001b[0m\n\u001b[1;32m----> <a href='vscode-notebook-cell:/c%3A/Users/mriedeman/Documents/Python%20Scripts/Webscraper/code/travelhome.ipynb#X22sZmlsZQ%3D%3D?line=0'>1</a>\u001b[0m shadow_root \u001b[39m=\u001b[39m browser\u001b[39m.\u001b[39;49mexecute_script(\u001b[39m\"\u001b[39;49m\u001b[39mreturn arguments[0].shadowRoot\u001b[39;49m\u001b[39m\"\u001b[39;49m, form)\n\u001b[0;32m      <a href='vscode-notebook-cell:/c%3A/Users/mriedeman/Documents/Python%20Scripts/Webscraper/code/travelhome.ipynb#X22sZmlsZQ%3D%3D?line=2'>3</a>\u001b[0m shadow_root\n",
      "File \u001b[1;32mc:\\Users\\mriedeman\\Anaconda3\\envs\\webscraper\\lib\\site-packages\\selenium\\webdriver\\remote\\webdriver.py:492\u001b[0m, in \u001b[0;36mWebDriver.execute_script\u001b[1;34m(self, script, *args)\u001b[0m\n\u001b[0;32m    489\u001b[0m converted_args \u001b[39m=\u001b[39m \u001b[39mlist\u001b[39m(args)\n\u001b[0;32m    490\u001b[0m command \u001b[39m=\u001b[39m Command\u001b[39m.\u001b[39mW3C_EXECUTE_SCRIPT\n\u001b[1;32m--> 492\u001b[0m \u001b[39mreturn\u001b[39;00m \u001b[39mself\u001b[39;49m\u001b[39m.\u001b[39;49mexecute(command, {\n\u001b[0;32m    493\u001b[0m     \u001b[39m'\u001b[39;49m\u001b[39mscript\u001b[39;49m\u001b[39m'\u001b[39;49m: script,\n\u001b[0;32m    494\u001b[0m     \u001b[39m'\u001b[39;49m\u001b[39margs\u001b[39;49m\u001b[39m'\u001b[39;49m: converted_args})[\u001b[39m'\u001b[39m\u001b[39mvalue\u001b[39m\u001b[39m'\u001b[39m]\n",
      "File \u001b[1;32mc:\\Users\\mriedeman\\Anaconda3\\envs\\webscraper\\lib\\site-packages\\selenium\\webdriver\\remote\\webdriver.py:434\u001b[0m, in \u001b[0;36mWebDriver.execute\u001b[1;34m(self, driver_command, params)\u001b[0m\n\u001b[0;32m    432\u001b[0m response \u001b[39m=\u001b[39m \u001b[39mself\u001b[39m\u001b[39m.\u001b[39mcommand_executor\u001b[39m.\u001b[39mexecute(driver_command, params)\n\u001b[0;32m    433\u001b[0m \u001b[39mif\u001b[39;00m response:\n\u001b[1;32m--> 434\u001b[0m     \u001b[39mself\u001b[39;49m\u001b[39m.\u001b[39;49merror_handler\u001b[39m.\u001b[39;49mcheck_response(response)\n\u001b[0;32m    435\u001b[0m     response[\u001b[39m'\u001b[39m\u001b[39mvalue\u001b[39m\u001b[39m'\u001b[39m] \u001b[39m=\u001b[39m \u001b[39mself\u001b[39m\u001b[39m.\u001b[39m_unwrap_value(\n\u001b[0;32m    436\u001b[0m         response\u001b[39m.\u001b[39mget(\u001b[39m'\u001b[39m\u001b[39mvalue\u001b[39m\u001b[39m'\u001b[39m, \u001b[39mNone\u001b[39;00m))\n\u001b[0;32m    437\u001b[0m     \u001b[39mreturn\u001b[39;00m response\n",
      "File \u001b[1;32mc:\\Users\\mriedeman\\Anaconda3\\envs\\webscraper\\lib\\site-packages\\selenium\\webdriver\\remote\\errorhandler.py:243\u001b[0m, in \u001b[0;36mErrorHandler.check_response\u001b[1;34m(self, response)\u001b[0m\n\u001b[0;32m    241\u001b[0m         alert_text \u001b[39m=\u001b[39m value[\u001b[39m'\u001b[39m\u001b[39malert\u001b[39m\u001b[39m'\u001b[39m]\u001b[39m.\u001b[39mget(\u001b[39m'\u001b[39m\u001b[39mtext\u001b[39m\u001b[39m'\u001b[39m)\n\u001b[0;32m    242\u001b[0m     \u001b[39mraise\u001b[39;00m exception_class(message, screen, stacktrace, alert_text)  \u001b[39m# type: ignore[call-arg]  # mypy is not smart enough here\u001b[39;00m\n\u001b[1;32m--> 243\u001b[0m \u001b[39mraise\u001b[39;00m exception_class(message, screen, stacktrace)\n",
      "\u001b[1;31mStaleElementReferenceException\u001b[0m: Message: stale element reference: element is not attached to the page document\n  (Session info: chrome=104.0.5112.102)\nStacktrace:\nBacktrace:\n\tOrdinal0 [0x002878B3+2193587]\n\tOrdinal0 [0x00220681+1771137]\n\tOrdinal0 [0x001341A8+803240]\n\tOrdinal0 [0x00136BB4+814004]\n\tOrdinal0 [0x00136A72+813682]\n\tOrdinal0 [0x001373EA+816106]\n\tOrdinal0 [0x0018E519+1172761]\n\tOrdinal0 [0x0017D7AC+1103788]\n\tOrdinal0 [0x0018DAE2+1170146]\n\tOrdinal0 [0x0017D5C6+1103302]\n\tOrdinal0 [0x001577E0+948192]\n\tOrdinal0 [0x001586E6+952038]\n\tGetHandleVerifier [0x00530CB2+2738370]\n\tGetHandleVerifier [0x005221B8+2678216]\n\tGetHandleVerifier [0x003117AA+512954]\n\tGetHandleVerifier [0x00310856+509030]\n\tOrdinal0 [0x0022743B+1799227]\n\tOrdinal0 [0x0022BB68+1817448]\n\tOrdinal0 [0x0022BC55+1817685]\n\tOrdinal0 [0x00235230+1856048]\n\tBaseThreadInitThunk [0x76F9FA29+25]\n\tRtlGetAppContainerNamedObjectPath [0x77CC7A9E+286]\n\tRtlGetAppContainerNamedObjectPath [0x77CC7A6E+238]\n\t(No symbol) [0x00000000]\n"
     ]
    }
   ],
   "source": [
    "shadow_root = , fbrowser.execute_script(\"return arguments[0].shadowRoot\"orm)\n",
    "\n",
    "shadow_root"
   ]
  },
  {
   "cell_type": "code",
   "execution_count": 55,
   "metadata": {},
   "outputs": [
    {
     "ename": "InvalidArgumentException",
     "evalue": "Message: invalid argument: invalid locator\n  (Session info: chrome=104.0.5112.102)\nStacktrace:\nBacktrace:\n\tOrdinal0 [0x002878B3+2193587]\n\tOrdinal0 [0x00220681+1771137]\n\tOrdinal0 [0x001341A8+803240]\n\tOrdinal0 [0x00162631+992817]\n\tOrdinal0 [0x0016278B+993163]\n\tOrdinal0 [0x00158CE1+953569]\n\tOrdinal0 [0x0017D7F4+1103860]\n\tOrdinal0 [0x00158C04+953348]\n\tOrdinal0 [0x0017D9C4+1104324]\n\tOrdinal0 [0x0018DAE2+1170146]\n\tOrdinal0 [0x0017D5C6+1103302]\n\tOrdinal0 [0x001577E0+948192]\n\tOrdinal0 [0x001586E6+952038]\n\tGetHandleVerifier [0x00530CB2+2738370]\n\tGetHandleVerifier [0x005221B8+2678216]\n\tGetHandleVerifier [0x003117AA+512954]\n\tGetHandleVerifier [0x00310856+509030]\n\tOrdinal0 [0x0022743B+1799227]\n\tOrdinal0 [0x0022BB68+1817448]\n\tOrdinal0 [0x0022BC55+1817685]\n\tOrdinal0 [0x00235230+1856048]\n\tBaseThreadInitThunk [0x76F9FA29+25]\n\tRtlGetAppContainerNamedObjectPath [0x77CC7A9E+286]\n\tRtlGetAppContainerNamedObjectPath [0x77CC7A6E+238]\n\t(No symbol) [0x00000000]\n",
     "output_type": "error",
     "traceback": [
      "\u001b[1;31m---------------------------------------------------------------------------\u001b[0m",
      "\u001b[1;31mInvalidArgumentException\u001b[0m                  Traceback (most recent call last)",
      "\u001b[1;32mc:\\Users\\mriedeman\\Documents\\Python Scripts\\Webscraper\\code\\travelhome.ipynb Cell 6\u001b[0m in \u001b[0;36m<cell line: 4>\u001b[1;34m()\u001b[0m\n\u001b[0;32m      <a href='vscode-notebook-cell:/c%3A/Users/mriedeman/Documents/Python%20Scripts/Webscraper/code/travelhome.ipynb#X16sZmlsZQ%3D%3D?line=0'>1</a>\u001b[0m shadow_root \u001b[39m=\u001b[39m browser\u001b[39m.\u001b[39mexecute_script(\u001b[39m\"\u001b[39m\u001b[39mreturn arguments[0].shadowRoot\u001b[39m\u001b[39m\"\u001b[39m, form)\n\u001b[1;32m----> <a href='vscode-notebook-cell:/c%3A/Users/mriedeman/Documents/Python%20Scripts/Webscraper/code/travelhome.ipynb#X16sZmlsZQ%3D%3D?line=3'>4</a>\u001b[0m shadow_root\u001b[39m.\u001b[39;49mfind_elements(By\u001b[39m.\u001b[39;49mXPATH, \u001b[39m'\u001b[39;49m\u001b[39m//*[@id]\u001b[39;49m\u001b[39m'\u001b[39;49m)\n",
      "File \u001b[1;32mc:\\Users\\mriedeman\\Anaconda3\\envs\\webscraper\\lib\\site-packages\\selenium\\webdriver\\remote\\shadowroot.py:69\u001b[0m, in \u001b[0;36mShadowRoot.find_elements\u001b[1;34m(self, by, value)\u001b[0m\n\u001b[0;32m     66\u001b[0m     by \u001b[39m=\u001b[39m By\u001b[39m.\u001b[39mCSS_SELECTOR\n\u001b[0;32m     67\u001b[0m     value \u001b[39m=\u001b[39m \u001b[39m'\u001b[39m\u001b[39m[name=\u001b[39m\u001b[39m\"\u001b[39m\u001b[39m%s\u001b[39;00m\u001b[39m\"\u001b[39m\u001b[39m]\u001b[39m\u001b[39m'\u001b[39m \u001b[39m%\u001b[39m value\n\u001b[1;32m---> 69\u001b[0m \u001b[39mreturn\u001b[39;00m \u001b[39mself\u001b[39;49m\u001b[39m.\u001b[39;49m_execute(\n\u001b[0;32m     70\u001b[0m     Command\u001b[39m.\u001b[39;49mFIND_ELEMENTS_FROM_SHADOW_ROOT, {\u001b[39m\"\u001b[39;49m\u001b[39musing\u001b[39;49m\u001b[39m\"\u001b[39;49m: by, \u001b[39m\"\u001b[39;49m\u001b[39mvalue\u001b[39;49m\u001b[39m\"\u001b[39;49m: value}\n\u001b[0;32m     71\u001b[0m )[\u001b[39m\"\u001b[39m\u001b[39mvalue\u001b[39m\u001b[39m\"\u001b[39m]\n",
      "File \u001b[1;32mc:\\Users\\mriedeman\\Anaconda3\\envs\\webscraper\\lib\\site-packages\\selenium\\webdriver\\remote\\shadowroot.py:87\u001b[0m, in \u001b[0;36mShadowRoot._execute\u001b[1;34m(self, command, params)\u001b[0m\n\u001b[0;32m     85\u001b[0m     params \u001b[39m=\u001b[39m {}\n\u001b[0;32m     86\u001b[0m params[\u001b[39m\"\u001b[39m\u001b[39mshadowId\u001b[39m\u001b[39m\"\u001b[39m] \u001b[39m=\u001b[39m \u001b[39mself\u001b[39m\u001b[39m.\u001b[39m_id\n\u001b[1;32m---> 87\u001b[0m \u001b[39mreturn\u001b[39;00m \u001b[39mself\u001b[39;49m\u001b[39m.\u001b[39;49msession\u001b[39m.\u001b[39;49mexecute(command, params)\n",
      "File \u001b[1;32mc:\\Users\\mriedeman\\Anaconda3\\envs\\webscraper\\lib\\site-packages\\selenium\\webdriver\\remote\\webdriver.py:434\u001b[0m, in \u001b[0;36mWebDriver.execute\u001b[1;34m(self, driver_command, params)\u001b[0m\n\u001b[0;32m    432\u001b[0m response \u001b[39m=\u001b[39m \u001b[39mself\u001b[39m\u001b[39m.\u001b[39mcommand_executor\u001b[39m.\u001b[39mexecute(driver_command, params)\n\u001b[0;32m    433\u001b[0m \u001b[39mif\u001b[39;00m response:\n\u001b[1;32m--> 434\u001b[0m     \u001b[39mself\u001b[39;49m\u001b[39m.\u001b[39;49merror_handler\u001b[39m.\u001b[39;49mcheck_response(response)\n\u001b[0;32m    435\u001b[0m     response[\u001b[39m'\u001b[39m\u001b[39mvalue\u001b[39m\u001b[39m'\u001b[39m] \u001b[39m=\u001b[39m \u001b[39mself\u001b[39m\u001b[39m.\u001b[39m_unwrap_value(\n\u001b[0;32m    436\u001b[0m         response\u001b[39m.\u001b[39mget(\u001b[39m'\u001b[39m\u001b[39mvalue\u001b[39m\u001b[39m'\u001b[39m, \u001b[39mNone\u001b[39;00m))\n\u001b[0;32m    437\u001b[0m     \u001b[39mreturn\u001b[39;00m response\n",
      "File \u001b[1;32mc:\\Users\\mriedeman\\Anaconda3\\envs\\webscraper\\lib\\site-packages\\selenium\\webdriver\\remote\\errorhandler.py:243\u001b[0m, in \u001b[0;36mErrorHandler.check_response\u001b[1;34m(self, response)\u001b[0m\n\u001b[0;32m    241\u001b[0m         alert_text \u001b[39m=\u001b[39m value[\u001b[39m'\u001b[39m\u001b[39malert\u001b[39m\u001b[39m'\u001b[39m]\u001b[39m.\u001b[39mget(\u001b[39m'\u001b[39m\u001b[39mtext\u001b[39m\u001b[39m'\u001b[39m)\n\u001b[0;32m    242\u001b[0m     \u001b[39mraise\u001b[39;00m exception_class(message, screen, stacktrace, alert_text)  \u001b[39m# type: ignore[call-arg]  # mypy is not smart enough here\u001b[39;00m\n\u001b[1;32m--> 243\u001b[0m \u001b[39mraise\u001b[39;00m exception_class(message, screen, stacktrace)\n",
      "\u001b[1;31mInvalidArgumentException\u001b[0m: Message: invalid argument: invalid locator\n  (Session info: chrome=104.0.5112.102)\nStacktrace:\nBacktrace:\n\tOrdinal0 [0x002878B3+2193587]\n\tOrdinal0 [0x00220681+1771137]\n\tOrdinal0 [0x001341A8+803240]\n\tOrdinal0 [0x00162631+992817]\n\tOrdinal0 [0x0016278B+993163]\n\tOrdinal0 [0x00158CE1+953569]\n\tOrdinal0 [0x0017D7F4+1103860]\n\tOrdinal0 [0x00158C04+953348]\n\tOrdinal0 [0x0017D9C4+1104324]\n\tOrdinal0 [0x0018DAE2+1170146]\n\tOrdinal0 [0x0017D5C6+1103302]\n\tOrdinal0 [0x001577E0+948192]\n\tOrdinal0 [0x001586E6+952038]\n\tGetHandleVerifier [0x00530CB2+2738370]\n\tGetHandleVerifier [0x005221B8+2678216]\n\tGetHandleVerifier [0x003117AA+512954]\n\tGetHandleVerifier [0x00310856+509030]\n\tOrdinal0 [0x0022743B+1799227]\n\tOrdinal0 [0x0022BB68+1817448]\n\tOrdinal0 [0x0022BC55+1817685]\n\tOrdinal0 [0x00235230+1856048]\n\tBaseThreadInitThunk [0x76F9FA29+25]\n\tRtlGetAppContainerNamedObjectPath [0x77CC7A9E+286]\n\tRtlGetAppContainerNamedObjectPath [0x77CC7A6E+238]\n\t(No symbol) [0x00000000]\n"
     ]
    }
   ],
   "source": [
    "shadow_root = browser.execute_script(\"return arguments[0].shadowRoot\", form)\n",
    "\n",
    "\n",
    "shadow_root.find_elements(By.XPATH, '//*[@id]')"
   ]
  },
  {
   "cell_type": "code",
   "execution_count": null,
   "metadata": {},
   "outputs": [],
   "source": [
    "<div id=\"target-e7514ddc-4f23-48b3-92ae-8dac782c0118\" class=\"framecontainer camperwizardhost cwzd-68\" data-reactroot=\"\"></div>"
   ]
  },
  {
   "cell_type": "code",
   "execution_count": 41,
   "metadata": {},
   "outputs": [
    {
     "ename": "NoSuchElementException",
     "evalue": "Message: no such element: Unable to locate element: {\"method\":\"css selector\",\"selector\":\"[name=\"pickUpLocation\"]\"}\n  (Session info: chrome=104.0.5112.102)\nStacktrace:\nBacktrace:\n\tOrdinal0 [0x002878B3+2193587]\n\tOrdinal0 [0x00220681+1771137]\n\tOrdinal0 [0x001341A8+803240]\n\tOrdinal0 [0x001624A0+992416]\n\tOrdinal0 [0x0016273B+993083]\n\tOrdinal0 [0x0018F7C2+1177538]\n\tOrdinal0 [0x0017D7F4+1103860]\n\tOrdinal0 [0x0018DAE2+1170146]\n\tOrdinal0 [0x0017D5C6+1103302]\n\tOrdinal0 [0x001577E0+948192]\n\tOrdinal0 [0x001586E6+952038]\n\tGetHandleVerifier [0x00530CB2+2738370]\n\tGetHandleVerifier [0x005221B8+2678216]\n\tGetHandleVerifier [0x003117AA+512954]\n\tGetHandleVerifier [0x00310856+509030]\n\tOrdinal0 [0x0022743B+1799227]\n\tOrdinal0 [0x0022BB68+1817448]\n\tOrdinal0 [0x0022BC55+1817685]\n\tOrdinal0 [0x00235230+1856048]\n\tBaseThreadInitThunk [0x76F9FA29+25]\n\tRtlGetAppContainerNamedObjectPath [0x77CC7A9E+286]\n\tRtlGetAppContainerNamedObjectPath [0x77CC7A6E+238]\n\t(No symbol) [0x00000000]\n",
     "output_type": "error",
     "traceback": [
      "\u001b[1;31m---------------------------------------------------------------------------\u001b[0m",
      "\u001b[1;31mNoSuchElementException\u001b[0m                    Traceback (most recent call last)",
      "\u001b[1;32mc:\\Users\\mriedeman\\Documents\\Python Scripts\\Webscraper\\code\\travelhome.ipynb Cell 5\u001b[0m in \u001b[0;36m<cell line: 1>\u001b[1;34m()\u001b[0m\n\u001b[1;32m----> <a href='vscode-notebook-cell:/c%3A/Users/mriedeman/Documents/Python%20Scripts/Webscraper/code/travelhome.ipynb#X10sZmlsZQ%3D%3D?line=0'>1</a>\u001b[0m browser\u001b[39m.\u001b[39;49mfind_element(By\u001b[39m.\u001b[39;49mNAME, \u001b[39m\"\u001b[39;49m\u001b[39mpickUpLocation\u001b[39;49m\u001b[39m\"\u001b[39;49m)\u001b[39m.\u001b[39mclick()\n",
      "File \u001b[1;32mc:\\Users\\mriedeman\\Anaconda3\\envs\\webscraper\\lib\\site-packages\\selenium\\webdriver\\remote\\webdriver.py:856\u001b[0m, in \u001b[0;36mWebDriver.find_element\u001b[1;34m(self, by, value)\u001b[0m\n\u001b[0;32m    853\u001b[0m     by \u001b[39m=\u001b[39m By\u001b[39m.\u001b[39mCSS_SELECTOR\n\u001b[0;32m    854\u001b[0m     value \u001b[39m=\u001b[39m \u001b[39m'\u001b[39m\u001b[39m[name=\u001b[39m\u001b[39m\"\u001b[39m\u001b[39m%s\u001b[39;00m\u001b[39m\"\u001b[39m\u001b[39m]\u001b[39m\u001b[39m'\u001b[39m \u001b[39m%\u001b[39m value\n\u001b[1;32m--> 856\u001b[0m \u001b[39mreturn\u001b[39;00m \u001b[39mself\u001b[39;49m\u001b[39m.\u001b[39;49mexecute(Command\u001b[39m.\u001b[39;49mFIND_ELEMENT, {\n\u001b[0;32m    857\u001b[0m     \u001b[39m'\u001b[39;49m\u001b[39musing\u001b[39;49m\u001b[39m'\u001b[39;49m: by,\n\u001b[0;32m    858\u001b[0m     \u001b[39m'\u001b[39;49m\u001b[39mvalue\u001b[39;49m\u001b[39m'\u001b[39;49m: value})[\u001b[39m'\u001b[39m\u001b[39mvalue\u001b[39m\u001b[39m'\u001b[39m]\n",
      "File \u001b[1;32mc:\\Users\\mriedeman\\Anaconda3\\envs\\webscraper\\lib\\site-packages\\selenium\\webdriver\\remote\\webdriver.py:434\u001b[0m, in \u001b[0;36mWebDriver.execute\u001b[1;34m(self, driver_command, params)\u001b[0m\n\u001b[0;32m    432\u001b[0m response \u001b[39m=\u001b[39m \u001b[39mself\u001b[39m\u001b[39m.\u001b[39mcommand_executor\u001b[39m.\u001b[39mexecute(driver_command, params)\n\u001b[0;32m    433\u001b[0m \u001b[39mif\u001b[39;00m response:\n\u001b[1;32m--> 434\u001b[0m     \u001b[39mself\u001b[39;49m\u001b[39m.\u001b[39;49merror_handler\u001b[39m.\u001b[39;49mcheck_response(response)\n\u001b[0;32m    435\u001b[0m     response[\u001b[39m'\u001b[39m\u001b[39mvalue\u001b[39m\u001b[39m'\u001b[39m] \u001b[39m=\u001b[39m \u001b[39mself\u001b[39m\u001b[39m.\u001b[39m_unwrap_value(\n\u001b[0;32m    436\u001b[0m         response\u001b[39m.\u001b[39mget(\u001b[39m'\u001b[39m\u001b[39mvalue\u001b[39m\u001b[39m'\u001b[39m, \u001b[39mNone\u001b[39;00m))\n\u001b[0;32m    437\u001b[0m     \u001b[39mreturn\u001b[39;00m response\n",
      "File \u001b[1;32mc:\\Users\\mriedeman\\Anaconda3\\envs\\webscraper\\lib\\site-packages\\selenium\\webdriver\\remote\\errorhandler.py:243\u001b[0m, in \u001b[0;36mErrorHandler.check_response\u001b[1;34m(self, response)\u001b[0m\n\u001b[0;32m    241\u001b[0m         alert_text \u001b[39m=\u001b[39m value[\u001b[39m'\u001b[39m\u001b[39malert\u001b[39m\u001b[39m'\u001b[39m]\u001b[39m.\u001b[39mget(\u001b[39m'\u001b[39m\u001b[39mtext\u001b[39m\u001b[39m'\u001b[39m)\n\u001b[0;32m    242\u001b[0m     \u001b[39mraise\u001b[39;00m exception_class(message, screen, stacktrace, alert_text)  \u001b[39m# type: ignore[call-arg]  # mypy is not smart enough here\u001b[39;00m\n\u001b[1;32m--> 243\u001b[0m \u001b[39mraise\u001b[39;00m exception_class(message, screen, stacktrace)\n",
      "\u001b[1;31mNoSuchElementException\u001b[0m: Message: no such element: Unable to locate element: {\"method\":\"css selector\",\"selector\":\"[name=\"pickUpLocation\"]\"}\n  (Session info: chrome=104.0.5112.102)\nStacktrace:\nBacktrace:\n\tOrdinal0 [0x002878B3+2193587]\n\tOrdinal0 [0x00220681+1771137]\n\tOrdinal0 [0x001341A8+803240]\n\tOrdinal0 [0x001624A0+992416]\n\tOrdinal0 [0x0016273B+993083]\n\tOrdinal0 [0x0018F7C2+1177538]\n\tOrdinal0 [0x0017D7F4+1103860]\n\tOrdinal0 [0x0018DAE2+1170146]\n\tOrdinal0 [0x0017D5C6+1103302]\n\tOrdinal0 [0x001577E0+948192]\n\tOrdinal0 [0x001586E6+952038]\n\tGetHandleVerifier [0x00530CB2+2738370]\n\tGetHandleVerifier [0x005221B8+2678216]\n\tGetHandleVerifier [0x003117AA+512954]\n\tGetHandleVerifier [0x00310856+509030]\n\tOrdinal0 [0x0022743B+1799227]\n\tOrdinal0 [0x0022BB68+1817448]\n\tOrdinal0 [0x0022BC55+1817685]\n\tOrdinal0 [0x00235230+1856048]\n\tBaseThreadInitThunk [0x76F9FA29+25]\n\tRtlGetAppContainerNamedObjectPath [0x77CC7A9E+286]\n\tRtlGetAppContainerNamedObjectPath [0x77CC7A6E+238]\n\t(No symbol) [0x00000000]\n"
     ]
    }
   ],
   "source": [
    "browser.find_element(By.NAME, \"pickUpLocation\").click()"
   ]
  },
  {
   "cell_type": "code",
   "execution_count": 29,
   "metadata": {},
   "outputs": [],
   "source": [
    "browser.maximize_window()"
   ]
  },
  {
   "cell_type": "code",
   "execution_count": 33,
   "metadata": {},
   "outputs": [
    {
     "name": "stdout",
     "output_type": "stream",
     "text": [
      "cookieStylesheet\n",
      "cwzd-68\n",
      "pcwidget-styles\n",
      "pcwidget-styles_vars\n",
      "react_LQvemy8GdkSw5zLMdHZw\n",
      "react_kC0BiSv6LUGn2E3SVE8YQ\n",
      "nav-trigger\n",
      "headersearchmobile\n",
      "react_92zfqB5xJk6o1APejm0oQQ\n",
      "react_sXNS8XKiUKqKpHnT7ITQ\n",
      "react_bIsBUy2rUkLW3p8DOo17Q\n",
      "react_yq7WpuOX00mCiJTE0nSPnQ\n",
      "target-e7514ddc-4f23-48b3-92ae-8dac782c0118\n",
      "react_09AlLI6hUy3oqtXNPCa9w\n",
      "dceLink-1\n",
      "dceLink-3\n",
      "react_qCxvrCxXBEC1wVGTP2TYaw\n",
      "react_abrsLCXJI0KGeDZxgvU1SQ\n",
      "cookiesettings\n",
      "react_zVvvc4R1TUK6lCX33gUfkA\n",
      "back-to-top\n",
      "cookieLayer\n",
      "cookieManager\n",
      "cookieManagerHeader\n",
      "cookieManagerContent\n",
      "cookieManagerContentPage1\n",
      "cookieManagerContentPage2\n",
      "cookiePicker\n",
      "cookiePickerOption3\n",
      "cookiePickerOption2\n",
      "cookiePickerOption1\n",
      "cookieManagerContentPage3\n",
      "cookieManagerFooter\n",
      "anwbrGiveConsent\n",
      "anwbrGoAdvanced\n",
      "anwbrMoreInfoAndGoAdvanced\n",
      "anwbrMoreInfo\n",
      "\n",
      "\n",
      "\n",
      "batBeacon535749435116\n",
      "batBeacon918910647556\n",
      "PureChatWidget\n",
      "pc-svgicon\n",
      "pc-svgicon-download\n",
      "pc-svgicon-photo\n",
      "pc-svgicon-chat\n",
      "pc-svgicon-email\n",
      "pc-svgicon-phone\n",
      "pc-svgicon-twitter\n",
      "pc-svgicon-location\n",
      "pc-svgicon-expand\n",
      "pc-svgicon-arrow-down\n",
      "pc-svgicon-arrow-up\n",
      "pc-svgicon-no-sound\n",
      "pc-svgicon-sound\n",
      "pc-svgicon-sad-face\n",
      "pc-svgicon-happy-face\n",
      "pc-svgicon-re-queue\n",
      "pc-svgicon-close\n",
      "pc-svgicon-close-filled\n",
      "pc-svgicon-play\n",
      "pc-svgicon-paperclip\n",
      "pc-svgicon-notification\n",
      "pc-filter-tails\n",
      "pc-svgicon-tail-left\n",
      "pc-svgicon-tail-right\n"
     ]
    }
   ],
   "source": [
    "ids = browser.find_elements(By.XPATH, '//*[@id]')\n",
    "\n",
    "for ii in ids:\n",
    "\n",
    "    print (ii.get_attribute('id'))"
   ]
  },
  {
   "cell_type": "code",
   "execution_count": 37,
   "metadata": {},
   "outputs": [
    {
     "data": {
      "text/plain": [
       "67"
      ]
     },
     "execution_count": 37,
     "metadata": {},
     "output_type": "execute_result"
    }
   ],
   "source": [
    "len(ids)"
   ]
  },
  {
   "cell_type": "code",
   "execution_count": 40,
   "metadata": {},
   "outputs": [
    {
     "data": {
      "text/plain": [
       "['cookiePickerOption1',\n",
       " 'cookieManagerContentPage3',\n",
       " 'cookieManagerFooter',\n",
       " 'anwbrGiveConsent',\n",
       " 'anwbrGoAdvanced',\n",
       " 'anwbrMoreInfoAndGoAdvanced',\n",
       " 'anwbrMoreInfo',\n",
       " '',\n",
       " '',\n",
       " '',\n",
       " 'batBeacon535749435116',\n",
       " 'batBeacon918910647556',\n",
       " 'PureChatWidget',\n",
       " 'pc-svgicon',\n",
       " 'pc-svgicon-download',\n",
       " 'pc-svgicon-photo',\n",
       " 'pc-svgicon-chat',\n",
       " 'pc-svgicon-email',\n",
       " 'pc-svgicon-phone',\n",
       " 'pc-svgicon-twitter',\n",
       " 'pc-svgicon-location',\n",
       " 'pc-svgicon-expand',\n",
       " 'pc-svgicon-arrow-down',\n",
       " 'pc-svgicon-arrow-up',\n",
       " 'pc-svgicon-no-sound',\n",
       " 'pc-svgicon-sound',\n",
       " 'pc-svgicon-sad-face',\n",
       " 'pc-svgicon-happy-face',\n",
       " 'pc-svgicon-re-queue',\n",
       " 'pc-svgicon-close',\n",
       " 'pc-svgicon-close-filled',\n",
       " 'pc-svgicon-play',\n",
       " 'pc-svgicon-paperclip',\n",
       " 'pc-svgicon-notification',\n",
       " 'pc-filter-tails',\n",
       " 'pc-svgicon-tail-left',\n",
       " 'pc-svgicon-tail-right']"
      ]
     },
     "execution_count": 40,
     "metadata": {},
     "output_type": "execute_result"
    }
   ],
   "source": [
    "[i.get_attribute('id') for i in ids[30:]]"
   ]
  },
  {
   "cell_type": "code",
   "execution_count": 30,
   "metadata": {},
   "outputs": [
    {
     "ename": "NoSuchElementException",
     "evalue": "Message: no such element: Unable to locate element: {\"method\":\"css selector\",\"selector\":\".px8y5N5r\"}\n  (Session info: chrome=104.0.5112.102)\nStacktrace:\nBacktrace:\n\tOrdinal0 [0x002878B3+2193587]\n\tOrdinal0 [0x00220681+1771137]\n\tOrdinal0 [0x001341A8+803240]\n\tOrdinal0 [0x001624A0+992416]\n\tOrdinal0 [0x0016273B+993083]\n\tOrdinal0 [0x0018F7C2+1177538]\n\tOrdinal0 [0x0017D7F4+1103860]\n\tOrdinal0 [0x0018DAE2+1170146]\n\tOrdinal0 [0x0017D5C6+1103302]\n\tOrdinal0 [0x001577E0+948192]\n\tOrdinal0 [0x001586E6+952038]\n\tGetHandleVerifier [0x00530CB2+2738370]\n\tGetHandleVerifier [0x005221B8+2678216]\n\tGetHandleVerifier [0x003117AA+512954]\n\tGetHandleVerifier [0x00310856+509030]\n\tOrdinal0 [0x0022743B+1799227]\n\tOrdinal0 [0x0022BB68+1817448]\n\tOrdinal0 [0x0022BC55+1817685]\n\tOrdinal0 [0x00235230+1856048]\n\tBaseThreadInitThunk [0x76F9FA29+25]\n\tRtlGetAppContainerNamedObjectPath [0x77CC7A9E+286]\n\tRtlGetAppContainerNamedObjectPath [0x77CC7A6E+238]\n\t(No symbol) [0x00000000]\n",
     "output_type": "error",
     "traceback": [
      "\u001b[1;31m---------------------------------------------------------------------------\u001b[0m",
      "\u001b[1;31mNoSuchElementException\u001b[0m                    Traceback (most recent call last)",
      "\u001b[1;32mc:\\Users\\mriedeman\\Documents\\Python Scripts\\Webscraper\\code\\travelhome.ipynb Cell 7\u001b[0m in \u001b[0;36m<cell line: 2>\u001b[1;34m()\u001b[0m\n\u001b[0;32m      <a href='vscode-notebook-cell:/c%3A/Users/mriedeman/Documents/Python%20Scripts/Webscraper/code/travelhome.ipynb#W4sZmlsZQ%3D%3D?line=0'>1</a>\u001b[0m \u001b[39m#allows cookies\u001b[39;00m\n\u001b[1;32m----> <a href='vscode-notebook-cell:/c%3A/Users/mriedeman/Documents/Python%20Scripts/Webscraper/code/travelhome.ipynb#W4sZmlsZQ%3D%3D?line=1'>2</a>\u001b[0m browser\u001b[39m.\u001b[39;49mfind_element(By\u001b[39m.\u001b[39;49mCLASS_NAME,\u001b[39m'\u001b[39;49m\u001b[39mpx8y5N5r\u001b[39;49m\u001b[39m'\u001b[39;49m )\n",
      "File \u001b[1;32mc:\\Users\\mriedeman\\Anaconda3\\envs\\webscraper\\lib\\site-packages\\selenium\\webdriver\\remote\\webdriver.py:856\u001b[0m, in \u001b[0;36mWebDriver.find_element\u001b[1;34m(self, by, value)\u001b[0m\n\u001b[0;32m    853\u001b[0m     by \u001b[39m=\u001b[39m By\u001b[39m.\u001b[39mCSS_SELECTOR\n\u001b[0;32m    854\u001b[0m     value \u001b[39m=\u001b[39m \u001b[39m'\u001b[39m\u001b[39m[name=\u001b[39m\u001b[39m\"\u001b[39m\u001b[39m%s\u001b[39;00m\u001b[39m\"\u001b[39m\u001b[39m]\u001b[39m\u001b[39m'\u001b[39m \u001b[39m%\u001b[39m value\n\u001b[1;32m--> 856\u001b[0m \u001b[39mreturn\u001b[39;00m \u001b[39mself\u001b[39;49m\u001b[39m.\u001b[39;49mexecute(Command\u001b[39m.\u001b[39;49mFIND_ELEMENT, {\n\u001b[0;32m    857\u001b[0m     \u001b[39m'\u001b[39;49m\u001b[39musing\u001b[39;49m\u001b[39m'\u001b[39;49m: by,\n\u001b[0;32m    858\u001b[0m     \u001b[39m'\u001b[39;49m\u001b[39mvalue\u001b[39;49m\u001b[39m'\u001b[39;49m: value})[\u001b[39m'\u001b[39m\u001b[39mvalue\u001b[39m\u001b[39m'\u001b[39m]\n",
      "File \u001b[1;32mc:\\Users\\mriedeman\\Anaconda3\\envs\\webscraper\\lib\\site-packages\\selenium\\webdriver\\remote\\webdriver.py:434\u001b[0m, in \u001b[0;36mWebDriver.execute\u001b[1;34m(self, driver_command, params)\u001b[0m\n\u001b[0;32m    432\u001b[0m response \u001b[39m=\u001b[39m \u001b[39mself\u001b[39m\u001b[39m.\u001b[39mcommand_executor\u001b[39m.\u001b[39mexecute(driver_command, params)\n\u001b[0;32m    433\u001b[0m \u001b[39mif\u001b[39;00m response:\n\u001b[1;32m--> 434\u001b[0m     \u001b[39mself\u001b[39;49m\u001b[39m.\u001b[39;49merror_handler\u001b[39m.\u001b[39;49mcheck_response(response)\n\u001b[0;32m    435\u001b[0m     response[\u001b[39m'\u001b[39m\u001b[39mvalue\u001b[39m\u001b[39m'\u001b[39m] \u001b[39m=\u001b[39m \u001b[39mself\u001b[39m\u001b[39m.\u001b[39m_unwrap_value(\n\u001b[0;32m    436\u001b[0m         response\u001b[39m.\u001b[39mget(\u001b[39m'\u001b[39m\u001b[39mvalue\u001b[39m\u001b[39m'\u001b[39m, \u001b[39mNone\u001b[39;00m))\n\u001b[0;32m    437\u001b[0m     \u001b[39mreturn\u001b[39;00m response\n",
      "File \u001b[1;32mc:\\Users\\mriedeman\\Anaconda3\\envs\\webscraper\\lib\\site-packages\\selenium\\webdriver\\remote\\errorhandler.py:243\u001b[0m, in \u001b[0;36mErrorHandler.check_response\u001b[1;34m(self, response)\u001b[0m\n\u001b[0;32m    241\u001b[0m         alert_text \u001b[39m=\u001b[39m value[\u001b[39m'\u001b[39m\u001b[39malert\u001b[39m\u001b[39m'\u001b[39m]\u001b[39m.\u001b[39mget(\u001b[39m'\u001b[39m\u001b[39mtext\u001b[39m\u001b[39m'\u001b[39m)\n\u001b[0;32m    242\u001b[0m     \u001b[39mraise\u001b[39;00m exception_class(message, screen, stacktrace, alert_text)  \u001b[39m# type: ignore[call-arg]  # mypy is not smart enough here\u001b[39;00m\n\u001b[1;32m--> 243\u001b[0m \u001b[39mraise\u001b[39;00m exception_class(message, screen, stacktrace)\n",
      "\u001b[1;31mNoSuchElementException\u001b[0m: Message: no such element: Unable to locate element: {\"method\":\"css selector\",\"selector\":\".px8y5N5r\"}\n  (Session info: chrome=104.0.5112.102)\nStacktrace:\nBacktrace:\n\tOrdinal0 [0x002878B3+2193587]\n\tOrdinal0 [0x00220681+1771137]\n\tOrdinal0 [0x001341A8+803240]\n\tOrdinal0 [0x001624A0+992416]\n\tOrdinal0 [0x0016273B+993083]\n\tOrdinal0 [0x0018F7C2+1177538]\n\tOrdinal0 [0x0017D7F4+1103860]\n\tOrdinal0 [0x0018DAE2+1170146]\n\tOrdinal0 [0x0017D5C6+1103302]\n\tOrdinal0 [0x001577E0+948192]\n\tOrdinal0 [0x001586E6+952038]\n\tGetHandleVerifier [0x00530CB2+2738370]\n\tGetHandleVerifier [0x005221B8+2678216]\n\tGetHandleVerifier [0x003117AA+512954]\n\tGetHandleVerifier [0x00310856+509030]\n\tOrdinal0 [0x0022743B+1799227]\n\tOrdinal0 [0x0022BB68+1817448]\n\tOrdinal0 [0x0022BC55+1817685]\n\tOrdinal0 [0x00235230+1856048]\n\tBaseThreadInitThunk [0x76F9FA29+25]\n\tRtlGetAppContainerNamedObjectPath [0x77CC7A9E+286]\n\tRtlGetAppContainerNamedObjectPath [0x77CC7A6E+238]\n\t(No symbol) [0x00000000]\n"
     ]
    }
   ],
   "source": [
    "#allows cookies\n",
    "browser.find_element(By.CLASS_NAME,'px8y5N5r' )"
   ]
  },
  {
   "cell_type": "code",
   "execution_count": 31,
   "metadata": {},
   "outputs": [
    {
     "ename": "NoSuchElementException",
     "evalue": "Message: no such element: Unable to locate element: {\"method\":\"css selector\",\"selector\":\"[id=\"pickUpLocation\"]\"}\n  (Session info: chrome=104.0.5112.102)\nStacktrace:\nBacktrace:\n\tOrdinal0 [0x002878B3+2193587]\n\tOrdinal0 [0x00220681+1771137]\n\tOrdinal0 [0x001341A8+803240]\n\tOrdinal0 [0x001624A0+992416]\n\tOrdinal0 [0x0016273B+993083]\n\tOrdinal0 [0x0018F7C2+1177538]\n\tOrdinal0 [0x0017D7F4+1103860]\n\tOrdinal0 [0x0018DAE2+1170146]\n\tOrdinal0 [0x0017D5C6+1103302]\n\tOrdinal0 [0x001577E0+948192]\n\tOrdinal0 [0x001586E6+952038]\n\tGetHandleVerifier [0x00530CB2+2738370]\n\tGetHandleVerifier [0x005221B8+2678216]\n\tGetHandleVerifier [0x003117AA+512954]\n\tGetHandleVerifier [0x00310856+509030]\n\tOrdinal0 [0x0022743B+1799227]\n\tOrdinal0 [0x0022BB68+1817448]\n\tOrdinal0 [0x0022BC55+1817685]\n\tOrdinal0 [0x00235230+1856048]\n\tBaseThreadInitThunk [0x76F9FA29+25]\n\tRtlGetAppContainerNamedObjectPath [0x77CC7A9E+286]\n\tRtlGetAppContainerNamedObjectPath [0x77CC7A6E+238]\n\t(No symbol) [0x00000000]\n",
     "output_type": "error",
     "traceback": [
      "\u001b[1;31m---------------------------------------------------------------------------\u001b[0m",
      "\u001b[1;31mNoSuchElementException\u001b[0m                    Traceback (most recent call last)",
      "\u001b[1;32mc:\\Users\\mriedeman\\Documents\\Python Scripts\\Webscraper\\code\\travelhome.ipynb Cell 8\u001b[0m in \u001b[0;36m<cell line: 1>\u001b[1;34m()\u001b[0m\n\u001b[1;32m----> <a href='vscode-notebook-cell:/c%3A/Users/mriedeman/Documents/Python%20Scripts/Webscraper/code/travelhome.ipynb#W2sZmlsZQ%3D%3D?line=0'>1</a>\u001b[0m Select(browser\u001b[39m.\u001b[39;49mfind_element(By\u001b[39m.\u001b[39;49mID, PICKUP_LOC_ID))\n",
      "File \u001b[1;32mc:\\Users\\mriedeman\\Anaconda3\\envs\\webscraper\\lib\\site-packages\\selenium\\webdriver\\remote\\webdriver.py:856\u001b[0m, in \u001b[0;36mWebDriver.find_element\u001b[1;34m(self, by, value)\u001b[0m\n\u001b[0;32m    853\u001b[0m     by \u001b[39m=\u001b[39m By\u001b[39m.\u001b[39mCSS_SELECTOR\n\u001b[0;32m    854\u001b[0m     value \u001b[39m=\u001b[39m \u001b[39m'\u001b[39m\u001b[39m[name=\u001b[39m\u001b[39m\"\u001b[39m\u001b[39m%s\u001b[39;00m\u001b[39m\"\u001b[39m\u001b[39m]\u001b[39m\u001b[39m'\u001b[39m \u001b[39m%\u001b[39m value\n\u001b[1;32m--> 856\u001b[0m \u001b[39mreturn\u001b[39;00m \u001b[39mself\u001b[39;49m\u001b[39m.\u001b[39;49mexecute(Command\u001b[39m.\u001b[39;49mFIND_ELEMENT, {\n\u001b[0;32m    857\u001b[0m     \u001b[39m'\u001b[39;49m\u001b[39musing\u001b[39;49m\u001b[39m'\u001b[39;49m: by,\n\u001b[0;32m    858\u001b[0m     \u001b[39m'\u001b[39;49m\u001b[39mvalue\u001b[39;49m\u001b[39m'\u001b[39;49m: value})[\u001b[39m'\u001b[39m\u001b[39mvalue\u001b[39m\u001b[39m'\u001b[39m]\n",
      "File \u001b[1;32mc:\\Users\\mriedeman\\Anaconda3\\envs\\webscraper\\lib\\site-packages\\selenium\\webdriver\\remote\\webdriver.py:434\u001b[0m, in \u001b[0;36mWebDriver.execute\u001b[1;34m(self, driver_command, params)\u001b[0m\n\u001b[0;32m    432\u001b[0m response \u001b[39m=\u001b[39m \u001b[39mself\u001b[39m\u001b[39m.\u001b[39mcommand_executor\u001b[39m.\u001b[39mexecute(driver_command, params)\n\u001b[0;32m    433\u001b[0m \u001b[39mif\u001b[39;00m response:\n\u001b[1;32m--> 434\u001b[0m     \u001b[39mself\u001b[39;49m\u001b[39m.\u001b[39;49merror_handler\u001b[39m.\u001b[39;49mcheck_response(response)\n\u001b[0;32m    435\u001b[0m     response[\u001b[39m'\u001b[39m\u001b[39mvalue\u001b[39m\u001b[39m'\u001b[39m] \u001b[39m=\u001b[39m \u001b[39mself\u001b[39m\u001b[39m.\u001b[39m_unwrap_value(\n\u001b[0;32m    436\u001b[0m         response\u001b[39m.\u001b[39mget(\u001b[39m'\u001b[39m\u001b[39mvalue\u001b[39m\u001b[39m'\u001b[39m, \u001b[39mNone\u001b[39;00m))\n\u001b[0;32m    437\u001b[0m     \u001b[39mreturn\u001b[39;00m response\n",
      "File \u001b[1;32mc:\\Users\\mriedeman\\Anaconda3\\envs\\webscraper\\lib\\site-packages\\selenium\\webdriver\\remote\\errorhandler.py:243\u001b[0m, in \u001b[0;36mErrorHandler.check_response\u001b[1;34m(self, response)\u001b[0m\n\u001b[0;32m    241\u001b[0m         alert_text \u001b[39m=\u001b[39m value[\u001b[39m'\u001b[39m\u001b[39malert\u001b[39m\u001b[39m'\u001b[39m]\u001b[39m.\u001b[39mget(\u001b[39m'\u001b[39m\u001b[39mtext\u001b[39m\u001b[39m'\u001b[39m)\n\u001b[0;32m    242\u001b[0m     \u001b[39mraise\u001b[39;00m exception_class(message, screen, stacktrace, alert_text)  \u001b[39m# type: ignore[call-arg]  # mypy is not smart enough here\u001b[39;00m\n\u001b[1;32m--> 243\u001b[0m \u001b[39mraise\u001b[39;00m exception_class(message, screen, stacktrace)\n",
      "\u001b[1;31mNoSuchElementException\u001b[0m: Message: no such element: Unable to locate element: {\"method\":\"css selector\",\"selector\":\"[id=\"pickUpLocation\"]\"}\n  (Session info: chrome=104.0.5112.102)\nStacktrace:\nBacktrace:\n\tOrdinal0 [0x002878B3+2193587]\n\tOrdinal0 [0x00220681+1771137]\n\tOrdinal0 [0x001341A8+803240]\n\tOrdinal0 [0x001624A0+992416]\n\tOrdinal0 [0x0016273B+993083]\n\tOrdinal0 [0x0018F7C2+1177538]\n\tOrdinal0 [0x0017D7F4+1103860]\n\tOrdinal0 [0x0018DAE2+1170146]\n\tOrdinal0 [0x0017D5C6+1103302]\n\tOrdinal0 [0x001577E0+948192]\n\tOrdinal0 [0x001586E6+952038]\n\tGetHandleVerifier [0x00530CB2+2738370]\n\tGetHandleVerifier [0x005221B8+2678216]\n\tGetHandleVerifier [0x003117AA+512954]\n\tGetHandleVerifier [0x00310856+509030]\n\tOrdinal0 [0x0022743B+1799227]\n\tOrdinal0 [0x0022BB68+1817448]\n\tOrdinal0 [0x0022BC55+1817685]\n\tOrdinal0 [0x00235230+1856048]\n\tBaseThreadInitThunk [0x76F9FA29+25]\n\tRtlGetAppContainerNamedObjectPath [0x77CC7A9E+286]\n\tRtlGetAppContainerNamedObjectPath [0x77CC7A6E+238]\n\t(No symbol) [0x00000000]\n"
     ]
    }
   ],
   "source": [
    "Select(browser.find_element(By.ID, PICKUP_LOC_ID))"
   ]
  },
  {
   "cell_type": "code",
   "execution_count": null,
   "metadata": {},
   "outputs": [],
   "source": []
  }
 ],
 "metadata": {
  "kernelspec": {
   "display_name": "Python 3.9.12 ('webscraper')",
   "language": "python",
   "name": "python3"
  },
  "language_info": {
   "codemirror_mode": {
    "name": "ipython",
    "version": 3
   },
   "file_extension": ".py",
   "mimetype": "text/x-python",
   "name": "python",
   "nbconvert_exporter": "python",
   "pygments_lexer": "ipython3",
   "version": "3.9.12"
  },
  "orig_nbformat": 4,
  "vscode": {
   "interpreter": {
    "hash": "c780947fbb818c7495fd9532412a3eb8d06e8fa4b61a49db8737789eaef9d63e"
   }
  }
 },
 "nbformat": 4,
 "nbformat_minor": 2
}

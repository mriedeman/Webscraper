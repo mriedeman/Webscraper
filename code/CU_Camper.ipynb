{
 "cells": [
  {
   "cell_type": "code",
   "execution_count": 3,
   "metadata": {},
   "outputs": [],
   "source": [
    "from selenium import webdriver\n",
    "from selenium.webdriver.common.by import By\n",
    "from selenium.webdriver.common.keys import Keys"
   ]
  },
  {
   "cell_type": "code",
   "execution_count": 8,
   "metadata": {},
   "outputs": [
    {
     "name": "stderr",
     "output_type": "stream",
     "text": [
      "C:\\Users\\mriedeman\\AppData\\Local\\Temp\\ipykernel_10288\\2841388858.py:1: DeprecationWarning: executable_path has been deprecated, please pass in a Service object\n",
      "  browser = webdriver.Chrome(executable_path = \"C:\\Program Files\\Chromedriver\\chromedriver.exe\")\n"
     ]
    }
   ],
   "source": [
    "browser = webdriver.Chrome(executable_path = \"C:\\Program Files\\Chromedriver\\chromedriver.exe\")\n",
    "url = 'https://www.cu-camper.com/en/' #'https://www.campertravelusa.com/'\n",
    "browser.get(url)\n"
   ]
  },
  {
   "cell_type": "code",
   "execution_count": 9,
   "metadata": {},
   "outputs": [
    {
     "ename": "ElementClickInterceptedException",
     "evalue": "Message: element click intercepted: Element <input class=\"cu-inpt-elem cu-cntrl-elem has-secondary-dark-color\" aria-label=\"Pick-up\" placeholder=\"Where are you going?\" name=\"phrase1\" type=\"text\" id=\"from_1\" value=\"Vancouver\" data-amp-bind-class=\"'cu-inpt-elem cu-cntrl-elem has-secondary-dark-color' + (cuSearchFields.from.active ? ' cu-cntrl-elem--active' : '')\" data-amp-bind-value=\"cuSearchFields.from.value\" on=\"input-debounced:AMP.setState({ cuSearchFields: { from: { value: event.value }}}), cuSearch_activateFrom2.execute(); tap:cuSearch_activateFrom.execute()\" role=\"\" tabindex=\"0\" i-amphtml-binding=\"\"> is not clickable at point (286, 395). Other element would receive the click: <div class=\"cu-search-location cu-search-trggr\" on=\"tap:cuSearch_activateFrom.execute(), cuSearch_openLightbox.execute()\" role=\"button\" tabindex=\"-1\">...</div>\n  (Session info: chrome=104.0.5112.80)\nStacktrace:\nBacktrace:\n\tOrdinal0 [0x005E78B3+2193587]\n\tOrdinal0 [0x00580681+1771137]\n\tOrdinal0 [0x004941A8+803240]\n\tOrdinal0 [0x004C8C84+1019012]\n\tOrdinal0 [0x004C6C48+1010760]\n\tOrdinal0 [0x004C493B+1001787]\n\tOrdinal0 [0x004C3699+997017]\n\tOrdinal0 [0x004B9223+954915]\n\tOrdinal0 [0x004DD7AC+1103788]\n\tOrdinal0 [0x004B8C04+953348]\n\tOrdinal0 [0x004DD9C4+1104324]\n\tOrdinal0 [0x004EDAE2+1170146]\n\tOrdinal0 [0x004DD5C6+1103302]\n\tOrdinal0 [0x004B77E0+948192]\n\tOrdinal0 [0x004B86E6+952038]\n\tGetHandleVerifier [0x00890CB2+2738370]\n\tGetHandleVerifier [0x008821B8+2678216]\n\tGetHandleVerifier [0x006717AA+512954]\n\tGetHandleVerifier [0x00670856+509030]\n\tOrdinal0 [0x0058743B+1799227]\n\tOrdinal0 [0x0058BB68+1817448]\n\tOrdinal0 [0x0058BC55+1817685]\n\tOrdinal0 [0x00595230+1856048]\n\tBaseThreadInitThunk [0x75ABFA29+25]\n\tRtlGetAppContainerNamedObjectPath [0x77607A9E+286]\n\tRtlGetAppContainerNamedObjectPath [0x77607A6E+238]\n",
     "output_type": "error",
     "traceback": [
      "\u001b[1;31m---------------------------------------------------------------------------\u001b[0m",
      "\u001b[1;31mElementClickInterceptedException\u001b[0m          Traceback (most recent call last)",
      "\u001b[1;32mc:\\Users\\mriedeman\\Documents\\Python Scripts\\Webscraper\\CU_Camper.ipynb Cell 3\u001b[0m in \u001b[0;36m<cell line: 1>\u001b[1;34m()\u001b[0m\n\u001b[1;32m----> <a href='vscode-notebook-cell:/c%3A/Users/mriedeman/Documents/Python%20Scripts/Webscraper/CU_Camper.ipynb#W3sZmlsZQ%3D%3D?line=0'>1</a>\u001b[0m browser\u001b[39m.\u001b[39;49mfind_element(By\u001b[39m.\u001b[39;49mXPATH,\u001b[39m\"\u001b[39;49m\u001b[39m//*[@id=\u001b[39;49m\u001b[39m'\u001b[39;49m\u001b[39mfrom_1\u001b[39;49m\u001b[39m'\u001b[39;49m\u001b[39m]\u001b[39;49m\u001b[39m\"\u001b[39;49m)\u001b[39m.\u001b[39;49mclick()\n",
      "File \u001b[1;32mc:\\Users\\mriedeman\\Anaconda3\\lib\\site-packages\\selenium\\webdriver\\remote\\webelement.py:88\u001b[0m, in \u001b[0;36mWebElement.click\u001b[1;34m(self)\u001b[0m\n\u001b[0;32m     86\u001b[0m \u001b[39mdef\u001b[39;00m \u001b[39mclick\u001b[39m(\u001b[39mself\u001b[39m) \u001b[39m-\u001b[39m\u001b[39m>\u001b[39m \u001b[39mNone\u001b[39;00m:\n\u001b[0;32m     87\u001b[0m     \u001b[39m\"\"\"Clicks the element.\"\"\"\u001b[39;00m\n\u001b[1;32m---> 88\u001b[0m     \u001b[39mself\u001b[39;49m\u001b[39m.\u001b[39;49m_execute(Command\u001b[39m.\u001b[39;49mCLICK_ELEMENT)\n",
      "File \u001b[1;32mc:\\Users\\mriedeman\\Anaconda3\\lib\\site-packages\\selenium\\webdriver\\remote\\webelement.py:396\u001b[0m, in \u001b[0;36mWebElement._execute\u001b[1;34m(self, command, params)\u001b[0m\n\u001b[0;32m    394\u001b[0m     params \u001b[39m=\u001b[39m {}\n\u001b[0;32m    395\u001b[0m params[\u001b[39m'\u001b[39m\u001b[39mid\u001b[39m\u001b[39m'\u001b[39m] \u001b[39m=\u001b[39m \u001b[39mself\u001b[39m\u001b[39m.\u001b[39m_id\n\u001b[1;32m--> 396\u001b[0m \u001b[39mreturn\u001b[39;00m \u001b[39mself\u001b[39;49m\u001b[39m.\u001b[39;49m_parent\u001b[39m.\u001b[39;49mexecute(command, params)\n",
      "File \u001b[1;32mc:\\Users\\mriedeman\\Anaconda3\\lib\\site-packages\\selenium\\webdriver\\remote\\webdriver.py:435\u001b[0m, in \u001b[0;36mWebDriver.execute\u001b[1;34m(self, driver_command, params)\u001b[0m\n\u001b[0;32m    433\u001b[0m response \u001b[39m=\u001b[39m \u001b[39mself\u001b[39m\u001b[39m.\u001b[39mcommand_executor\u001b[39m.\u001b[39mexecute(driver_command, params)\n\u001b[0;32m    434\u001b[0m \u001b[39mif\u001b[39;00m response:\n\u001b[1;32m--> 435\u001b[0m     \u001b[39mself\u001b[39;49m\u001b[39m.\u001b[39;49merror_handler\u001b[39m.\u001b[39;49mcheck_response(response)\n\u001b[0;32m    436\u001b[0m     response[\u001b[39m'\u001b[39m\u001b[39mvalue\u001b[39m\u001b[39m'\u001b[39m] \u001b[39m=\u001b[39m \u001b[39mself\u001b[39m\u001b[39m.\u001b[39m_unwrap_value(\n\u001b[0;32m    437\u001b[0m         response\u001b[39m.\u001b[39mget(\u001b[39m'\u001b[39m\u001b[39mvalue\u001b[39m\u001b[39m'\u001b[39m, \u001b[39mNone\u001b[39;00m))\n\u001b[0;32m    438\u001b[0m     \u001b[39mreturn\u001b[39;00m response\n",
      "File \u001b[1;32mc:\\Users\\mriedeman\\Anaconda3\\lib\\site-packages\\selenium\\webdriver\\remote\\errorhandler.py:247\u001b[0m, in \u001b[0;36mErrorHandler.check_response\u001b[1;34m(self, response)\u001b[0m\n\u001b[0;32m    245\u001b[0m         alert_text \u001b[39m=\u001b[39m value[\u001b[39m'\u001b[39m\u001b[39malert\u001b[39m\u001b[39m'\u001b[39m]\u001b[39m.\u001b[39mget(\u001b[39m'\u001b[39m\u001b[39mtext\u001b[39m\u001b[39m'\u001b[39m)\n\u001b[0;32m    246\u001b[0m     \u001b[39mraise\u001b[39;00m exception_class(message, screen, stacktrace, alert_text)  \u001b[39m# type: ignore[call-arg]  # mypy is not smart enough here\u001b[39;00m\n\u001b[1;32m--> 247\u001b[0m \u001b[39mraise\u001b[39;00m exception_class(message, screen, stacktrace)\n",
      "\u001b[1;31mElementClickInterceptedException\u001b[0m: Message: element click intercepted: Element <input class=\"cu-inpt-elem cu-cntrl-elem has-secondary-dark-color\" aria-label=\"Pick-up\" placeholder=\"Where are you going?\" name=\"phrase1\" type=\"text\" id=\"from_1\" value=\"Vancouver\" data-amp-bind-class=\"'cu-inpt-elem cu-cntrl-elem has-secondary-dark-color' + (cuSearchFields.from.active ? ' cu-cntrl-elem--active' : '')\" data-amp-bind-value=\"cuSearchFields.from.value\" on=\"input-debounced:AMP.setState({ cuSearchFields: { from: { value: event.value }}}), cuSearch_activateFrom2.execute(); tap:cuSearch_activateFrom.execute()\" role=\"\" tabindex=\"0\" i-amphtml-binding=\"\"> is not clickable at point (286, 395). Other element would receive the click: <div class=\"cu-search-location cu-search-trggr\" on=\"tap:cuSearch_activateFrom.execute(), cuSearch_openLightbox.execute()\" role=\"button\" tabindex=\"-1\">...</div>\n  (Session info: chrome=104.0.5112.80)\nStacktrace:\nBacktrace:\n\tOrdinal0 [0x005E78B3+2193587]\n\tOrdinal0 [0x00580681+1771137]\n\tOrdinal0 [0x004941A8+803240]\n\tOrdinal0 [0x004C8C84+1019012]\n\tOrdinal0 [0x004C6C48+1010760]\n\tOrdinal0 [0x004C493B+1001787]\n\tOrdinal0 [0x004C3699+997017]\n\tOrdinal0 [0x004B9223+954915]\n\tOrdinal0 [0x004DD7AC+1103788]\n\tOrdinal0 [0x004B8C04+953348]\n\tOrdinal0 [0x004DD9C4+1104324]\n\tOrdinal0 [0x004EDAE2+1170146]\n\tOrdinal0 [0x004DD5C6+1103302]\n\tOrdinal0 [0x004B77E0+948192]\n\tOrdinal0 [0x004B86E6+952038]\n\tGetHandleVerifier [0x00890CB2+2738370]\n\tGetHandleVerifier [0x008821B8+2678216]\n\tGetHandleVerifier [0x006717AA+512954]\n\tGetHandleVerifier [0x00670856+509030]\n\tOrdinal0 [0x0058743B+1799227]\n\tOrdinal0 [0x0058BB68+1817448]\n\tOrdinal0 [0x0058BC55+1817685]\n\tOrdinal0 [0x00595230+1856048]\n\tBaseThreadInitThunk [0x75ABFA29+25]\n\tRtlGetAppContainerNamedObjectPath [0x77607A9E+286]\n\tRtlGetAppContainerNamedObjectPath [0x77607A6E+238]\n"
     ]
    }
   ],
   "source": [
    "browser.find_element(By.XPATH,\"//*[@id='from_1']\").click()\n",
    "\n",
    "//*[@id=\"post-30988\"]/div[1]/header/div[2]/div/div/div/div/div[2]/form/div[1]/div[1]/div[1]"
   ]
  },
  {
   "cell_type": "code",
   "execution_count": null,
   "metadata": {},
   "outputs": [],
   "source": [
    "<div class=\"cu-search-location cu-search-trggr\" on=\"tap:cuSearch_activateFrom.execute(), cuSearch_openLightbox.execute()\" role=\"button\" tabindex=\"-1\">\n",
    "\t\t<div class=\"cu-cntrl cu-cntrl--big cu-inpt cu-inpt--big cu-cntrl--with-icn  cu-inpt--with-dlt \">\n",
    "\t\t    \n",
    "\t\t\t<div class=\"cu-inpt-in cu-cntrl-in \">\n",
    "\t\t\t\t\n",
    "\t\t\t<amp-state id=\"cuSearchFields\" class=\"i-amphtml-layout-container i-amphtml-element i-amphtml-built\" i-amphtml-layout=\"container\" hidden=\"\" aria-hidden=\"true\"><script type=\"application/json\">{\"from\":{\"value\":\"Vancouver\"}}</script></amp-state>\n",
    "\t\t\t\t<input class=\"cu-inpt-elem cu-cntrl-elem has-secondary-dark-color\" aria-label=\"Pick-up\" placeholder=\"Where are you going?\" name=\"phrase1\" type=\"text\" id=\"from_1\" value=\"Vancouver\" data-amp-bind-class=\"'cu-inpt-elem cu-cntrl-elem has-secondary-dark-color' + (cuSearchFields.from.active ? ' cu-cntrl-elem--active' : '')\" data-amp-bind-value=\"cuSearchFields.from.value\" on=\"input-debounced:AMP.setState({ cuSearchFields: { from: { value: event.value }}}), cuSearch_activateFrom2.execute(); tap:cuSearch_activateFrom.execute()\" role=\"\" tabindex=\"0\" i-amphtml-binding=\"\">\n",
    "\t\t\t\t<div class=\"cu-inpt-olay cu-cntrl-olay\">\n",
    "\t\t\t\t\t<div class=\"cu-inpt-icn cu-cntrl-icn has-house-light-color\"><svg class=\"cu-icon cu-icon-m \"><use xlink:href=\"#cu-location-start\"></use></svg></div>\n",
    "\t\t\t\t\t\n",
    "\t\t\t\t\t<div class=\"cu-inpt-dlt has-primary-dark-color\" role=\"button\" tabindex=\"-1\" on=\"tap:AMP.setState({ cuSearchFields: { from: { value: &quot;&quot; }}}), cuSearch_activateFrom.execute(), from_1.focus\" data-amp-bind-hidden=\"cuSearchFields.from.value == ''\" aria-label=\"aria-label='Pick-up' entfernen\" i-amphtml-binding=\"\"><svg class=\"cu-icon cu-icon-m has-primary-medium-background-color\"><use xlink:href=\"#cu-close\"></use></svg></div>\n",
    "\t\t\t\t</div>\n",
    "\t\t\t</div>\n",
    "\t\t</div></div>"
   ]
  }
 ],
 "metadata": {
  "kernelspec": {
   "display_name": "Python 3.9.12 ('base')",
   "language": "python",
   "name": "python3"
  },
  "language_info": {
   "codemirror_mode": {
    "name": "ipython",
    "version": 3
   },
   "file_extension": ".py",
   "mimetype": "text/x-python",
   "name": "python",
   "nbconvert_exporter": "python",
   "pygments_lexer": "ipython3",
   "version": "3.9.12"
  },
  "orig_nbformat": 4,
  "vscode": {
   "interpreter": {
    "hash": "29b3082124edaad559b18bf6d45f1f8684191a0c4a23f8bc3b2f284e4ccc27be"
   }
  }
 },
 "nbformat": 4,
 "nbformat_minor": 2
}

{
 "cells": [
  {
   "cell_type": "code",
   "execution_count": 1,
   "metadata": {},
   "outputs": [],
   "source": [
    "from selenium import webdriver\n",
    "from webdriver_manager.chrome import ChromeDriverManager\n",
    "from selenium.webdriver.chrome.service import Service\n",
    "from selenium.webdriver.common.by import By\n",
    "from selenium.webdriver.common.keys import Keys\n",
    "from selenium.webdriver.support.ui import WebDriverWait\n",
    "from selenium.webdriver.support import expected_conditions as EC\n",
    "from selenium.webdriver.support.ui import Select\n",
    "from selenium.common.exceptions import TimeoutException\n",
    "from selenium.common.exceptions import ElementClickInterceptedException, JavascriptException, NoSuchElementException\n",
    "import time\n",
    "from datetime import date, datetime, timedelta \n",
    "import numpy as np\n",
    "import pandas as pd\n",
    "import os\n",
    "import re"
   ]
  },
  {
   "cell_type": "code",
   "execution_count": null,
   "metadata": {},
   "outputs": [],
   "source": [
    "URL = 'https://camper.fti.de/'\n",
    "DELAY = 3\n",
    "PAGE_LOAD_ID = \"SearchMask\"\n",
    "COOKIE_ID = '//*[@id=\"uc-center-container\"]/div[2]/div/div[1]/div/button'\n",
    "COOKIE_JS_PATH = 'document.querySelector(\"#usercentrics-root\").shadowRoot.querySelector(\"#uc-center-container > div.sc-gWXbKe.fSIThp > div > div.sc-cxpSdN.ihpUDX > div > button\")'\n",
    "NOTIFICATION_JS_PATH = 'document.querySelector(\"#pid-14572 > div.cleverpush-confirm.cleverpush-confirm-modal.cleverpush-confirm-windows.cleverpush-confirm-chrome.cleverpush-confirm-chrome.cleverpush-confirm-1 > div.cleverpush-confirm-wrap > div.cleverpush-clearfix.cleverpush-clearfix-bottom > div.cleverpush-confirm-buttons > button.cleverpush-confirm-btn.cleverpush-confirm-btn-deny\")'\n",
    "POPUP_JS_PATH = 'document.querySelector(\"#trboModule_12920_202268_88_container > div.trbo-closeButton.trbo-theme-0.trboType-icon > i\")'\n",
    "CITY = 'Los Angeles'\n",
    "CITY_JS_PATH = 'document.querySelector(\"#SearchMask > div.flexContainer.location > div:nth-child(1) > div:nth-child(1) > div > div > input\")'\n",
    "CAL_ELEMS_XPATH = \"//span[contains(@class, 'cell day')]\"\n",
    "PU_CALENDAR_JS_PATH = 'document.querySelector(\"#SearchMask > div:nth-child(2) > div:nth-child(1) > div > div > div:nth-child(1) > input\")'\n",
    "DO_CALENDAR_JS_PATH = \"document.querySelector('#SearchMask > div:nth-child(2) > div:nth-child(2) > div > div > div:nth-child(1) > input')\"\n",
    "DO_MONTH_JS_PATH = \"document.querySelector('#SearchMask > div:nth-child(2) > div:nth-child(2) > div > div > div:nth-child(2) > header > span.day__month_btn.up')\"\n",
    "PU_MONTH_TEXT_CLASS_NAME = \"vdp-datepicker__calendar\"\n",
    "PU_MONTH_NEXT_BTN_CLASS_NAME = \"span[class = 'next']\"\n",
    "DO_MONTH_TEXT_XPATH = \"//*[@id='SearchMask']/div[2]/div[2]/div/div/div[2]/header/span[3]\"\n",
    "SUBMIT_BUTTON_ID = \"SubmitButton\"\n",
    "LOAD_MORE_RESULTS = \"document.querySelector('#ResultList > button')\""
   ]
  },
  {
   "cell_type": "code",
   "execution_count": null,
   "metadata": {},
   "outputs": [],
   "source": []
  }
 ],
 "metadata": {
  "kernelspec": {
   "display_name": "Python 3.9.12 ('webscraper')",
   "language": "python",
   "name": "python3"
  },
  "language_info": {
   "codemirror_mode": {
    "name": "ipython",
    "version": 3
   },
   "file_extension": ".py",
   "mimetype": "text/x-python",
   "name": "python",
   "nbconvert_exporter": "python",
   "pygments_lexer": "ipython3",
   "version": "3.9.12"
  },
  "orig_nbformat": 4,
  "vscode": {
   "interpreter": {
    "hash": "c780947fbb818c7495fd9532412a3eb8d06e8fa4b61a49db8737789eaef9d63e"
   }
  }
 },
 "nbformat": 4,
 "nbformat_minor": 2
}

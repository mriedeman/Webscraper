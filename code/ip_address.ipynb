{
 "cells": [
  {
   "cell_type": "code",
   "execution_count": 40,
   "metadata": {},
   "outputs": [],
   "source": [
    "from selenium import webdriver\n",
    "from selenium.webdriver.support.ui import WebDriverWait\n",
    "from selenium.webdriver.common.by import By\n",
    "from selenium.webdriver.support import expected_conditions as EC\n",
    "from selenium.common.exceptions import TimeoutException\n",
    "from selenium.webdriver.chrome.service import Service\n",
    "from webdriver_manager.chrome import ChromeDriverManager"
   ]
  },
  {
   "cell_type": "code",
   "execution_count": 41,
   "metadata": {},
   "outputs": [],
   "source": [
    "\n",
    "def get_proxies():\n",
    "\n",
    "    options = webdriver.ChromeOptions()\n",
    "    #maximize argument\n",
    "    options.add_argument(\"start-maximized\")\n",
    "\n",
    "    #removes \"chrome is being controlled by automated software\"\n",
    "    options.add_experimental_option(\"excludeSwitches\", [\"enable-automation\"])\n",
    "    options.add_experimental_option('useAutomationExtension', False)\n",
    "\n",
    "    s=Service(ChromeDriverManager().install())\n",
    "    driver = webdriver.Chrome(service=s, chrome_options= options)\n",
    "    driver.get(\"https://sslproxies.org/\")\n",
    "\n",
    "    #scroll to the table\n",
    "    driver.execute_script(\"return arguments[0].scrollIntoView(true);\", WebDriverWait(driver, 20).until(EC.visibility_of_element_located((By.XPATH, \"//table[@class='table table-striped table-bordered']//th[contains(., 'IP Address')]\"))))\n",
    "\n",
    "    ips = [my_elem.get_attribute(\"innerHTML\") for my_elem in WebDriverWait(driver, 5).until(EC.visibility_of_all_elements_located((By.XPATH, \"//table[@class='table table-striped table-bordered']//tbody//tr/td[position() = 1]\")))]\n",
    "    ports = [my_elem.get_attribute(\"innerHTML\") for my_elem in WebDriverWait(driver, 5).until(EC.visibility_of_all_elements_located((By.XPATH, \"//table[@class='table table-striped table-bordered']//tbody//tr/td[position() = 2]\")))]\n",
    "\n",
    "    proxies = []\n",
    "    for i in range(0, len(ips)):\n",
    "        proxies.append(ips[i]+':'+ports[i])\n",
    "    #print(proxies)\n",
    "    \n",
    "    driver.quit()\n",
    "\n",
    "    return proxies\n"
   ]
  },
  {
   "cell_type": "code",
   "execution_count": 42,
   "metadata": {},
   "outputs": [
    {
     "name": "stderr",
     "output_type": "stream",
     "text": [
      "[WDM] - Downloading: 100%|██████████| 6.21M/6.21M [00:01<00:00, 5.09MB/s]\n",
      "C:\\Users\\mriedeman\\AppData\\Local\\Temp\\ipykernel_27604\\3955894342.py:12: DeprecationWarning: use options instead of chrome_options\n",
      "  driver = webdriver.Chrome(service=s, chrome_options= options)\n"
     ]
    },
    {
     "data": {
      "text/plain": [
       "['51.159.207.156:3128',\n",
       " '20.54.56.26:8080',\n",
       " '45.169.162.1:3128',\n",
       " '177.12.238.100:3128',\n",
       " '177.12.238.1:3128',\n",
       " '96.126.103.64:9991',\n",
       " '43.158.209.151:8888',\n",
       " '200.105.215.18:33630',\n",
       " '47.253.214.60:57114',\n",
       " '172.105.25.190:8020',\n",
       " '41.65.252.103:1981',\n",
       " '45.79.111.38:9994',\n",
       " '157.230.34.152:41885',\n",
       " '51.159.120.129:8001',\n",
       " '149.129.213.200:8080',\n",
       " '5.189.184.6:80',\n",
       " '192.53.163.144:3128',\n",
       " '85.159.214.61:1080',\n",
       " '139.162.182.54:49165',\n",
       " '178.128.55.68:36894',\n",
       " '45.56.75.90:5344',\n",
       " '47.91.56.120:8080',\n",
       " '149.129.131.46:8080',\n",
       " '172.105.107.25:999',\n",
       " '110.238.74.184:8080',\n",
       " '194.195.240.60:8080',\n",
       " '139.162.44.152:57114',\n",
       " '161.97.126.37:8118',\n",
       " '45.56.98.229:49857',\n",
       " '197.14.14.238:80',\n",
       " '103.17.182.14:9191',\n",
       " '35.233.30.201:3128',\n",
       " '173.212.200.30:3128',\n",
       " '145.40.121.155:3128',\n",
       " '131.100.48.73:999',\n",
       " '96.95.164.41:3128',\n",
       " '103.245.204.214:8080',\n",
       " '159.203.31.27:8118',\n",
       " '157.100.12.138:999',\n",
       " '201.222.45.66:999',\n",
       " '190.109.6.113:999',\n",
       " '68.183.230.116:39517',\n",
       " '149.129.191.110:8080',\n",
       " '116.63.128.247:9000',\n",
       " '23.224.198.5:8888',\n",
       " '114.116.2.116:8001',\n",
       " '134.84.66.194:3128',\n",
       " '49.247.24.133:3128',\n",
       " '189.173.168.174:999',\n",
       " '182.253.136.26:8080',\n",
       " '14.140.131.82:3128',\n",
       " '103.60.26.178:3128',\n",
       " '103.252.1.137:3128',\n",
       " '152.231.98.56:999',\n",
       " '157.230.34.219:3128',\n",
       " '85.14.243.31:3128',\n",
       " '188.165.255.116:3128',\n",
       " '190.92.35.102:999',\n",
       " '5.161.49.165:80',\n",
       " '45.175.237.35:999',\n",
       " '210.212.227.67:3128',\n",
       " '51.159.162.151:80',\n",
       " '152.231.98.51:999',\n",
       " '147.28.155.79:3128',\n",
       " '13.229.185.149:80',\n",
       " '154.236.184.70:1975',\n",
       " '122.117.186.169:8888',\n",
       " '198.167.193.87:8118',\n",
       " '176.56.107.214:43930',\n",
       " '157.230.249.183:8888',\n",
       " '43.135.135.118:59394',\n",
       " '43.135.136.20:59394',\n",
       " '43.135.138.51:59394',\n",
       " '185.226.119.240:80',\n",
       " '82.200.150.194:443',\n",
       " '101.79.73.42:8090',\n",
       " '139.255.88.52:3128',\n",
       " '177.220.131.186:3128',\n",
       " '209.97.152.208:8888',\n",
       " '105.112.191.250:3128',\n",
       " '145.40.121.21:3128',\n",
       " '182.253.109.213:8080',\n",
       " '130.185.119.20:3128',\n",
       " '89.38.96.219:3128',\n",
       " '24.109.252.48:80',\n",
       " '45.94.209.80:3128',\n",
       " '200.60.87.202:999',\n",
       " '163.172.215.211:3128',\n",
       " '167.172.173.210:41469',\n",
       " '111.225.153.75:8089',\n",
       " '111.225.152.100:8089',\n",
       " '111.225.152.121:8089',\n",
       " '111.225.152.241:8089',\n",
       " '88.248.104.37:34034',\n",
       " '70.177.15.10:8080',\n",
       " '8.242.176.37:9992',\n",
       " '39.99.227.194:7777',\n",
       " '41.65.174.120:1981',\n",
       " '13.37.250.42:12005',\n",
       " '154.236.184.71:1976']"
      ]
     },
     "execution_count": 42,
     "metadata": {},
     "output_type": "execute_result"
    }
   ],
   "source": [
    "proxies = get_proxies()\n",
    "\n",
    "\n",
    "proxies"
   ]
  },
  {
   "cell_type": "code",
   "execution_count": 43,
   "metadata": {},
   "outputs": [
    {
     "name": "stdout",
     "output_type": "stream",
     "text": [
      "Proxy selected: 39.99.227.194:7777\n"
     ]
    },
    {
     "name": "stderr",
     "output_type": "stream",
     "text": [
      "C:\\Users\\mriedeman\\AppData\\Local\\Temp\\ipykernel_27604\\3587803550.py:23: DeprecationWarning: use options instead of chrome_options\n",
      "  driver = webdriver.Chrome(service=s, chrome_options= options, desired_capabilities=caps)\n"
     ]
    },
    {
     "name": "stdout",
     "output_type": "stream",
     "text": [
      "exception\n"
     ]
    }
   ],
   "source": [
    "proxies[-4]\n",
    "\n",
    "try:\n",
    "    print(f\"Proxy selected: {proxies[-4]}\")\n",
    "    \n",
    "    options = webdriver.ChromeOptions()\n",
    "    \n",
    "    options.add_argument(f'--proxy-server={proxies[-4]}')\n",
    "    #options.add_argument('--headless')\n",
    "\n",
    "\n",
    "    # options.add_argument('--allow-insecure-localhost') # differ on driver version. can ignore. \n",
    "    # caps = options.to_capabilities()\n",
    "    # caps[\"acceptInsecureCerts\"] = True\n",
    "\n",
    "\n",
    "\n",
    "\n",
    "    #options.add_argument('--ignore-ssl-errors=yes')\n",
    "    #options.add_argument('--ignore-certificate-errors')\n",
    "\n",
    "    s=Service(ChromeDriverManager().install())\n",
    "    driver = webdriver.Chrome(service=s, chrome_options= options, desired_capabilities=caps)\n",
    "\n",
    "\n",
    "    driver.get(\"https://www.whatismyip.com/\")\n",
    "\n",
    "    #driver.get(\"https://www.whatismyip.com/proxy-check/?iref=home\")\n",
    "\n",
    "except Exception:\n",
    "    print(\"exception\")\n"
   ]
  },
  {
   "cell_type": "code",
   "execution_count": 44,
   "metadata": {},
   "outputs": [
    {
     "name": "stdout",
     "output_type": "stream",
     "text": [
      "Proxy selected: 51.159.207.156:3128\n"
     ]
    },
    {
     "name": "stderr",
     "output_type": "stream",
     "text": [
      "C:\\Users\\mriedeman\\AppData\\Local\\Temp\\ipykernel_27604\\2261884032.py:8: DeprecationWarning: use options instead of chrome_options\n",
      "  driver = webdriver.Chrome(service=s, chrome_options= options)\n"
     ]
    },
    {
     "name": "stdout",
     "output_type": "stream",
     "text": [
      "Proxy selected: 20.54.56.26:8080\n",
      "Proxy selected: 45.169.162.1:3128\n"
     ]
    },
    {
     "ename": "KeyboardInterrupt",
     "evalue": "",
     "output_type": "error",
     "traceback": [
      "\u001b[1;31m---------------------------------------------------------------------------\u001b[0m",
      "\u001b[1;31mKeyboardInterrupt\u001b[0m                         Traceback (most recent call last)",
      "\u001b[1;32mc:\\Users\\mriedeman\\Documents\\Python Scripts\\Webscraper\\code\\ip_address.ipynb Cell 5\u001b[0m in \u001b[0;36m<cell line: 1>\u001b[1;34m()\u001b[0m\n\u001b[0;32m      <a href='vscode-notebook-cell:/c%3A/Users/mriedeman/Documents/Python%20Scripts/Webscraper/code/ip_address.ipynb#X13sZmlsZQ%3D%3D?line=3'>4</a>\u001b[0m options \u001b[39m=\u001b[39m webdriver\u001b[39m.\u001b[39mChromeOptions()\n\u001b[0;32m      <a href='vscode-notebook-cell:/c%3A/Users/mriedeman/Documents/Python%20Scripts/Webscraper/code/ip_address.ipynb#X13sZmlsZQ%3D%3D?line=4'>5</a>\u001b[0m options\u001b[39m.\u001b[39madd_argument(\u001b[39m'\u001b[39m\u001b[39m--proxy-server=\u001b[39m\u001b[39m{}\u001b[39;00m\u001b[39m'\u001b[39m\u001b[39m.\u001b[39mformat(proxies[i]))\n\u001b[1;32m----> <a href='vscode-notebook-cell:/c%3A/Users/mriedeman/Documents/Python%20Scripts/Webscraper/code/ip_address.ipynb#X13sZmlsZQ%3D%3D?line=6'>7</a>\u001b[0m s\u001b[39m=\u001b[39mService(ChromeDriverManager()\u001b[39m.\u001b[39;49minstall())\n\u001b[0;32m      <a href='vscode-notebook-cell:/c%3A/Users/mriedeman/Documents/Python%20Scripts/Webscraper/code/ip_address.ipynb#X13sZmlsZQ%3D%3D?line=7'>8</a>\u001b[0m driver \u001b[39m=\u001b[39m webdriver\u001b[39m.\u001b[39mChrome(service\u001b[39m=\u001b[39ms, chrome_options\u001b[39m=\u001b[39m options)\n\u001b[0;32m      <a href='vscode-notebook-cell:/c%3A/Users/mriedeman/Documents/Python%20Scripts/Webscraper/code/ip_address.ipynb#X13sZmlsZQ%3D%3D?line=8'>9</a>\u001b[0m \u001b[39m#driver = webdriver.Chrome(options=options, executable_path=r'C:\\WebDrivers\\chromedriver.exe')\u001b[39;00m\n",
      "File \u001b[1;32mc:\\Users\\mriedeman\\Anaconda3\\envs\\webscraper\\lib\\site-packages\\webdriver_manager\\chrome.py:39\u001b[0m, in \u001b[0;36mChromeDriverManager.install\u001b[1;34m(self)\u001b[0m\n\u001b[0;32m     38\u001b[0m \u001b[39mdef\u001b[39;00m \u001b[39minstall\u001b[39m(\u001b[39mself\u001b[39m) \u001b[39m-\u001b[39m\u001b[39m>\u001b[39m \u001b[39mstr\u001b[39m:\n\u001b[1;32m---> 39\u001b[0m     driver_path \u001b[39m=\u001b[39m \u001b[39mself\u001b[39;49m\u001b[39m.\u001b[39;49m_get_driver_path(\u001b[39mself\u001b[39;49m\u001b[39m.\u001b[39;49mdriver)\n\u001b[0;32m     40\u001b[0m     os\u001b[39m.\u001b[39mchmod(driver_path, \u001b[39m0o755\u001b[39m)\n\u001b[0;32m     41\u001b[0m     \u001b[39mreturn\u001b[39;00m driver_path\n",
      "File \u001b[1;32mc:\\Users\\mriedeman\\Anaconda3\\envs\\webscraper\\lib\\site-packages\\webdriver_manager\\core\\manager.py:26\u001b[0m, in \u001b[0;36mDriverManager._get_driver_path\u001b[1;34m(self, driver)\u001b[0m\n\u001b[0;32m     25\u001b[0m \u001b[39mdef\u001b[39;00m \u001b[39m_get_driver_path\u001b[39m(\u001b[39mself\u001b[39m, driver):\n\u001b[1;32m---> 26\u001b[0m     binary_path \u001b[39m=\u001b[39m \u001b[39mself\u001b[39;49m\u001b[39m.\u001b[39;49mdriver_cache\u001b[39m.\u001b[39;49mfind_driver(driver)\n\u001b[0;32m     27\u001b[0m     \u001b[39mif\u001b[39;00m binary_path:\n\u001b[0;32m     28\u001b[0m         \u001b[39mreturn\u001b[39;00m binary_path\n",
      "File \u001b[1;32mc:\\Users\\mriedeman\\Anaconda3\\envs\\webscraper\\lib\\site-packages\\webdriver_manager\\core\\driver_cache.py:97\u001b[0m, in \u001b[0;36mDriverCache.find_driver\u001b[1;34m(self, driver)\u001b[0m\n\u001b[0;32m     95\u001b[0m driver_name \u001b[39m=\u001b[39m driver\u001b[39m.\u001b[39mget_name()\n\u001b[0;32m     96\u001b[0m driver_version \u001b[39m=\u001b[39m driver\u001b[39m.\u001b[39mget_version()\n\u001b[1;32m---> 97\u001b[0m browser_version \u001b[39m=\u001b[39m driver\u001b[39m.\u001b[39;49mget_browser_version()\n\u001b[0;32m     98\u001b[0m browser_type \u001b[39m=\u001b[39m driver\u001b[39m.\u001b[39mget_browser_type()\n\u001b[0;32m     99\u001b[0m unified_version \u001b[39m=\u001b[39m format_version(browser_type, driver_version)\n",
      "File \u001b[1;32mc:\\Users\\mriedeman\\Anaconda3\\envs\\webscraper\\lib\\site-packages\\webdriver_manager\\core\\driver.py:55\u001b[0m, in \u001b[0;36mDriver.get_browser_version\u001b[1;34m(self)\u001b[0m\n\u001b[0;32m     54\u001b[0m \u001b[39mdef\u001b[39;00m \u001b[39mget_browser_version\u001b[39m(\u001b[39mself\u001b[39m):\n\u001b[1;32m---> 55\u001b[0m     \u001b[39mreturn\u001b[39;00m get_browser_version_from_os(\u001b[39mself\u001b[39;49m\u001b[39m.\u001b[39;49mget_browser_type())\n",
      "File \u001b[1;32mc:\\Users\\mriedeman\\Anaconda3\\envs\\webscraper\\lib\\site-packages\\webdriver_manager\\core\\utils.py:181\u001b[0m, in \u001b[0;36mget_browser_version_from_os\u001b[1;34m(browser_type)\u001b[0m\n\u001b[0;32m    130\u001b[0m \u001b[39mdef\u001b[39;00m \u001b[39mget_browser_version_from_os\u001b[39m(browser_type\u001b[39m=\u001b[39m\u001b[39mNone\u001b[39;00m):\n\u001b[0;32m    131\u001b[0m     \u001b[39m\"\"\"Return installed browser version.\"\"\"\u001b[39;00m\n\u001b[0;32m    132\u001b[0m     cmd_mapping \u001b[39m=\u001b[39m {\n\u001b[0;32m    133\u001b[0m         ChromeType\u001b[39m.\u001b[39mGOOGLE: {\n\u001b[0;32m    134\u001b[0m             OSType\u001b[39m.\u001b[39mLINUX: linux_browser_apps_to_cmd(\n\u001b[0;32m    135\u001b[0m                 \u001b[39m\"\u001b[39m\u001b[39mgoogle-chrome\u001b[39m\u001b[39m\"\u001b[39m,\n\u001b[0;32m    136\u001b[0m                 \u001b[39m\"\u001b[39m\u001b[39mgoogle-chrome-stable\u001b[39m\u001b[39m\"\u001b[39m,\n\u001b[0;32m    137\u001b[0m                 \u001b[39m\"\u001b[39m\u001b[39mgoogle-chrome-beta\u001b[39m\u001b[39m\"\u001b[39m,\n\u001b[0;32m    138\u001b[0m                 \u001b[39m\"\u001b[39m\u001b[39mgoogle-chrome-dev\u001b[39m\u001b[39m\"\u001b[39m,\n\u001b[0;32m    139\u001b[0m             ),\n\u001b[0;32m    140\u001b[0m             OSType\u001b[39m.\u001b[39mMAC: \u001b[39mr\u001b[39m\u001b[39m\"\u001b[39m\u001b[39m/Applications/Google\u001b[39m\u001b[39m\\\u001b[39m\u001b[39m Chrome.app/Contents/MacOS/Google\u001b[39m\u001b[39m\\\u001b[39m\u001b[39m Chrome --version\u001b[39m\u001b[39m\"\u001b[39m,\n\u001b[0;32m    141\u001b[0m             OSType\u001b[39m.\u001b[39mWIN: windows_browser_apps_to_cmd(\n\u001b[0;32m    142\u001b[0m                 \u001b[39mr\u001b[39m\u001b[39m'\u001b[39m\u001b[39m(Get-Item -Path \u001b[39m\u001b[39m\"\u001b[39m\u001b[39m$env:PROGRAMFILES\u001b[39m\u001b[39m\\\u001b[39m\u001b[39mGoogle\u001b[39m\u001b[39m\\\u001b[39m\u001b[39mChrome\u001b[39m\u001b[39m\\\u001b[39m\u001b[39mApplication\u001b[39m\u001b[39m\\\u001b[39m\u001b[39mchrome.exe\u001b[39m\u001b[39m\"\u001b[39m\u001b[39m).VersionInfo.FileVersion\u001b[39m\u001b[39m'\u001b[39m,\n\u001b[0;32m    143\u001b[0m                 \u001b[39mr\u001b[39m\u001b[39m'\u001b[39m\u001b[39m(Get-Item -Path \u001b[39m\u001b[39m\"\u001b[39m\u001b[39m$env:PROGRAMFILES (x86)\u001b[39m\u001b[39m\\\u001b[39m\u001b[39mGoogle\u001b[39m\u001b[39m\\\u001b[39m\u001b[39mChrome\u001b[39m\u001b[39m\\\u001b[39m\u001b[39mApplication\u001b[39m\u001b[39m\\\u001b[39m\u001b[39mchrome.exe\u001b[39m\u001b[39m\"\u001b[39m\u001b[39m).VersionInfo.FileVersion\u001b[39m\u001b[39m'\u001b[39m,\n\u001b[0;32m    144\u001b[0m                 \u001b[39mr\u001b[39m\u001b[39m'\u001b[39m\u001b[39m(Get-Item -Path \u001b[39m\u001b[39m\"\u001b[39m\u001b[39m$env:LOCALAPPDATA\u001b[39m\u001b[39m\\\u001b[39m\u001b[39mGoogle\u001b[39m\u001b[39m\\\u001b[39m\u001b[39mChrome\u001b[39m\u001b[39m\\\u001b[39m\u001b[39mApplication\u001b[39m\u001b[39m\\\u001b[39m\u001b[39mchrome.exe\u001b[39m\u001b[39m\"\u001b[39m\u001b[39m).VersionInfo.FileVersion\u001b[39m\u001b[39m'\u001b[39m,\n\u001b[0;32m    145\u001b[0m                 \u001b[39mr\u001b[39m\u001b[39m'\u001b[39m\u001b[39m(Get-ItemProperty -Path Registry::\u001b[39m\u001b[39m\"\u001b[39m\u001b[39mHKCU\u001b[39m\u001b[39m\\\u001b[39m\u001b[39mSOFTWARE\u001b[39m\u001b[39m\\\u001b[39m\u001b[39mGoogle\u001b[39m\u001b[39m\\\u001b[39m\u001b[39mChrome\u001b[39m\u001b[39m\\\u001b[39m\u001b[39mBLBeacon\u001b[39m\u001b[39m\"\u001b[39m\u001b[39m).version\u001b[39m\u001b[39m'\u001b[39m,\n\u001b[0;32m    146\u001b[0m                 \u001b[39mr\u001b[39m\u001b[39m'\u001b[39m\u001b[39m(Get-ItemProperty -Path Registry::\u001b[39m\u001b[39m\"\u001b[39m\u001b[39mHKLM\u001b[39m\u001b[39m\\\u001b[39m\u001b[39mSOFTWARE\u001b[39m\u001b[39m\\\u001b[39m\u001b[39mWow6432Node\u001b[39m\u001b[39m\\\u001b[39m\u001b[39mMicrosoft\u001b[39m\u001b[39m\\\u001b[39m\u001b[39mWindows\u001b[39m\u001b[39m\\\u001b[39m\u001b[39mCurrentVersion\u001b[39m\u001b[39m\\\u001b[39m\u001b[39mUninstall\u001b[39m\u001b[39m\\\u001b[39m\u001b[39mGoogle Chrome\u001b[39m\u001b[39m\"\u001b[39m\u001b[39m).version\u001b[39m\u001b[39m'\u001b[39m,\n\u001b[0;32m    147\u001b[0m             ),\n\u001b[0;32m    148\u001b[0m         },\n\u001b[0;32m    149\u001b[0m         ChromeType\u001b[39m.\u001b[39mCHROMIUM: {\n\u001b[0;32m    150\u001b[0m             OSType\u001b[39m.\u001b[39mLINUX: linux_browser_apps_to_cmd(\u001b[39m\"\u001b[39m\u001b[39mchromium\u001b[39m\u001b[39m\"\u001b[39m, \u001b[39m\"\u001b[39m\u001b[39mchromium-browser\u001b[39m\u001b[39m\"\u001b[39m),\n\u001b[0;32m    151\u001b[0m             OSType\u001b[39m.\u001b[39mMAC: \u001b[39mr\u001b[39m\u001b[39m\"\u001b[39m\u001b[39m/Applications/Chromium.app/Contents/MacOS/Chromium --version\u001b[39m\u001b[39m\"\u001b[39m,\n\u001b[0;32m    152\u001b[0m             OSType\u001b[39m.\u001b[39mWIN: windows_browser_apps_to_cmd(\n\u001b[0;32m    153\u001b[0m                 \u001b[39mr\u001b[39m\u001b[39m'\u001b[39m\u001b[39m(Get-Item -Path \u001b[39m\u001b[39m\"\u001b[39m\u001b[39m$env:PROGRAMFILES\u001b[39m\u001b[39m\\\u001b[39m\u001b[39mChromium\u001b[39m\u001b[39m\\\u001b[39m\u001b[39mApplication\u001b[39m\u001b[39m\\\u001b[39m\u001b[39mchrome.exe\u001b[39m\u001b[39m\"\u001b[39m\u001b[39m).VersionInfo.FileVersion\u001b[39m\u001b[39m'\u001b[39m,\n\u001b[0;32m    154\u001b[0m                 \u001b[39mr\u001b[39m\u001b[39m'\u001b[39m\u001b[39m(Get-Item -Path \u001b[39m\u001b[39m\"\u001b[39m\u001b[39m$env:PROGRAMFILES (x86)\u001b[39m\u001b[39m\\\u001b[39m\u001b[39mChromium\u001b[39m\u001b[39m\\\u001b[39m\u001b[39mApplication\u001b[39m\u001b[39m\\\u001b[39m\u001b[39mchrome.exe\u001b[39m\u001b[39m\"\u001b[39m\u001b[39m).VersionInfo.FileVersion\u001b[39m\u001b[39m'\u001b[39m,\n\u001b[0;32m    155\u001b[0m                 \u001b[39mr\u001b[39m\u001b[39m'\u001b[39m\u001b[39m(Get-Item -Path \u001b[39m\u001b[39m\"\u001b[39m\u001b[39m$env:LOCALAPPDATA\u001b[39m\u001b[39m\\\u001b[39m\u001b[39mChromium\u001b[39m\u001b[39m\\\u001b[39m\u001b[39mApplication\u001b[39m\u001b[39m\\\u001b[39m\u001b[39mchrome.exe\u001b[39m\u001b[39m\"\u001b[39m\u001b[39m).VersionInfo.FileVersion\u001b[39m\u001b[39m'\u001b[39m,\n\u001b[0;32m    156\u001b[0m                 \u001b[39mr\u001b[39m\u001b[39m'\u001b[39m\u001b[39m(Get-ItemProperty -Path Registry::\u001b[39m\u001b[39m\"\u001b[39m\u001b[39mHKCU\u001b[39m\u001b[39m\\\u001b[39m\u001b[39mSOFTWARE\u001b[39m\u001b[39m\\\u001b[39m\u001b[39mChromium\u001b[39m\u001b[39m\\\u001b[39m\u001b[39mBLBeacon\u001b[39m\u001b[39m\"\u001b[39m\u001b[39m).version\u001b[39m\u001b[39m'\u001b[39m,\n\u001b[0;32m    157\u001b[0m                 \u001b[39mr\u001b[39m\u001b[39m'\u001b[39m\u001b[39m(Get-ItemProperty -Path Registry::\u001b[39m\u001b[39m\"\u001b[39m\u001b[39mHKLM\u001b[39m\u001b[39m\\\u001b[39m\u001b[39mSOFTWARE\u001b[39m\u001b[39m\\\u001b[39m\u001b[39mWow6432Node\u001b[39m\u001b[39m\\\u001b[39m\u001b[39mMicrosoft\u001b[39m\u001b[39m\\\u001b[39m\u001b[39mWindows\u001b[39m\u001b[39m\\\u001b[39m\u001b[39mCurrentVersion\u001b[39m\u001b[39m\\\u001b[39m\u001b[39mUninstall\u001b[39m\u001b[39m\\\u001b[39m\u001b[39mChromium\u001b[39m\u001b[39m\"\u001b[39m\u001b[39m).version\u001b[39m\u001b[39m'\u001b[39m,\n\u001b[0;32m    158\u001b[0m             ),\n\u001b[0;32m    159\u001b[0m         },\n\u001b[0;32m    160\u001b[0m         ChromeType\u001b[39m.\u001b[39mBRAVE: {\n\u001b[0;32m    161\u001b[0m             OSType\u001b[39m.\u001b[39mLINUX: linux_browser_apps_to_cmd(\n\u001b[0;32m    162\u001b[0m                 \u001b[39m\"\u001b[39m\u001b[39mbrave-browser\u001b[39m\u001b[39m\"\u001b[39m, \u001b[39m\"\u001b[39m\u001b[39mbrave-browser-beta\u001b[39m\u001b[39m\"\u001b[39m, \u001b[39m\"\u001b[39m\u001b[39mbrave-browser-nightly\u001b[39m\u001b[39m\"\u001b[39m\n\u001b[0;32m    163\u001b[0m             ),\n\u001b[0;32m    164\u001b[0m             OSType\u001b[39m.\u001b[39mMAC: \u001b[39mr\u001b[39m\u001b[39m\"\u001b[39m\u001b[39m/Applications/Brave\u001b[39m\u001b[39m\\\u001b[39m\u001b[39m Browser.app/Contents/MacOS/Brave\u001b[39m\u001b[39m\\\u001b[39m\u001b[39m Browser --version\u001b[39m\u001b[39m\"\u001b[39m,\n\u001b[0;32m    165\u001b[0m             OSType\u001b[39m.\u001b[39mWIN: windows_browser_apps_to_cmd(\n\u001b[0;32m    166\u001b[0m                 \u001b[39mr\u001b[39m\u001b[39m'\u001b[39m\u001b[39m(Get-Item -Path \u001b[39m\u001b[39m\"\u001b[39m\u001b[39m$env:PROGRAMFILES\u001b[39m\u001b[39m\\\u001b[39m\u001b[39mBraveSoftware\u001b[39m\u001b[39m\\\u001b[39m\u001b[39mBrave-Browser\u001b[39m\u001b[39m\\\u001b[39m\u001b[39mApplication\u001b[39m\u001b[39m\\\u001b[39m\u001b[39mbrave.exe\u001b[39m\u001b[39m\"\u001b[39m\u001b[39m).VersionInfo.FileVersion\u001b[39m\u001b[39m'\u001b[39m,\n\u001b[0;32m    167\u001b[0m                 \u001b[39mr\u001b[39m\u001b[39m'\u001b[39m\u001b[39m(Get-Item -Path \u001b[39m\u001b[39m\"\u001b[39m\u001b[39m$env:PROGRAMFILES (x86)\u001b[39m\u001b[39m\\\u001b[39m\u001b[39mBraveSoftware\u001b[39m\u001b[39m\\\u001b[39m\u001b[39mBrave-Browser\u001b[39m\u001b[39m\\\u001b[39m\u001b[39mApplication\u001b[39m\u001b[39m\\\u001b[39m\u001b[39mbrave.exe\u001b[39m\u001b[39m\"\u001b[39m\u001b[39m).VersionInfo.FileVersion\u001b[39m\u001b[39m'\u001b[39m,\n\u001b[0;32m    168\u001b[0m                 \u001b[39mr\u001b[39m\u001b[39m'\u001b[39m\u001b[39m(Get-Item -Path \u001b[39m\u001b[39m\"\u001b[39m\u001b[39m$env:LOCALAPPDATA\u001b[39m\u001b[39m\\\u001b[39m\u001b[39mBraveSoftware\u001b[39m\u001b[39m\\\u001b[39m\u001b[39mBrave-Browser\u001b[39m\u001b[39m\\\u001b[39m\u001b[39mApplication\u001b[39m\u001b[39m\\\u001b[39m\u001b[39mbrave.exe\u001b[39m\u001b[39m\"\u001b[39m\u001b[39m).VersionInfo.FileVersion\u001b[39m\u001b[39m'\u001b[39m,\n\u001b[0;32m    169\u001b[0m                 \u001b[39mr\u001b[39m\u001b[39m'\u001b[39m\u001b[39m(Get-ItemProperty -Path Registry::\u001b[39m\u001b[39m\"\u001b[39m\u001b[39mHKCU\u001b[39m\u001b[39m\\\u001b[39m\u001b[39mSOFTWARE\u001b[39m\u001b[39m\\\u001b[39m\u001b[39mBraveSoftware\u001b[39m\u001b[39m\\\u001b[39m\u001b[39mBrave-Browser\u001b[39m\u001b[39m\\\u001b[39m\u001b[39mBLBeacon\u001b[39m\u001b[39m\"\u001b[39m\u001b[39m).version\u001b[39m\u001b[39m'\u001b[39m,\n\u001b[0;32m    170\u001b[0m                 \u001b[39mr\u001b[39m\u001b[39m'\u001b[39m\u001b[39m(Get-ItemProperty -Path Registry::\u001b[39m\u001b[39m\"\u001b[39m\u001b[39mHKLM\u001b[39m\u001b[39m\\\u001b[39m\u001b[39mSOFTWARE\u001b[39m\u001b[39m\\\u001b[39m\u001b[39mWow6432Node\u001b[39m\u001b[39m\\\u001b[39m\u001b[39mMicrosoft\u001b[39m\u001b[39m\\\u001b[39m\u001b[39mWindows\u001b[39m\u001b[39m\\\u001b[39m\u001b[39mCurrentVersion\u001b[39m\u001b[39m\\\u001b[39m\u001b[39mUninstall\u001b[39m\u001b[39m\\\u001b[39m\u001b[39mBraveSoftware Brave-Browser\u001b[39m\u001b[39m\"\u001b[39m\u001b[39m).version\u001b[39m\u001b[39m'\u001b[39m,\n\u001b[0;32m    171\u001b[0m             ),\n\u001b[0;32m    172\u001b[0m         },\n\u001b[0;32m    173\u001b[0m         ChromeType\u001b[39m.\u001b[39mMSEDGE: {\n\u001b[0;32m    174\u001b[0m             OSType\u001b[39m.\u001b[39mLINUX: linux_browser_apps_to_cmd(\n\u001b[0;32m    175\u001b[0m                 \u001b[39m\"\u001b[39m\u001b[39mmicrosoft-edge\u001b[39m\u001b[39m\"\u001b[39m,\n\u001b[0;32m    176\u001b[0m                 \u001b[39m\"\u001b[39m\u001b[39mmicrosoft-edge-stable\u001b[39m\u001b[39m\"\u001b[39m,\n\u001b[0;32m    177\u001b[0m                 \u001b[39m\"\u001b[39m\u001b[39mmicrosoft-edge-beta\u001b[39m\u001b[39m\"\u001b[39m,\n\u001b[0;32m    178\u001b[0m                 \u001b[39m\"\u001b[39m\u001b[39mmicrosoft-edge-dev\u001b[39m\u001b[39m\"\u001b[39m,\n\u001b[0;32m    179\u001b[0m             ),\n\u001b[0;32m    180\u001b[0m             OSType\u001b[39m.\u001b[39mMAC: \u001b[39mr\u001b[39m\u001b[39m\"\u001b[39m\u001b[39m/Applications/Microsoft\u001b[39m\u001b[39m\\\u001b[39m\u001b[39m Edge.app/Contents/MacOS/Microsoft\u001b[39m\u001b[39m\\\u001b[39m\u001b[39m Edge --version\u001b[39m\u001b[39m\"\u001b[39m,\n\u001b[1;32m--> 181\u001b[0m             OSType\u001b[39m.\u001b[39mWIN: windows_browser_apps_to_cmd(\n\u001b[0;32m    182\u001b[0m                 \u001b[39m# stable edge\u001b[39;49;00m\n\u001b[0;32m    183\u001b[0m                 \u001b[39mr\u001b[39;49m\u001b[39m'\u001b[39;49m\u001b[39m(Get-Item -Path \u001b[39;49m\u001b[39m\"\u001b[39;49m\u001b[39m$env:PROGRAMFILES\u001b[39;49m\u001b[39m\\\u001b[39;49m\u001b[39mMicrosoft\u001b[39;49m\u001b[39m\\\u001b[39;49m\u001b[39mEdge\u001b[39;49m\u001b[39m\\\u001b[39;49m\u001b[39mApplication\u001b[39;49m\u001b[39m\\\u001b[39;49m\u001b[39mmsedge.exe\u001b[39;49m\u001b[39m\"\u001b[39;49m\u001b[39m).VersionInfo.FileVersion\u001b[39;49m\u001b[39m'\u001b[39;49m,\n\u001b[0;32m    184\u001b[0m                 \u001b[39mr\u001b[39;49m\u001b[39m'\u001b[39;49m\u001b[39m(Get-Item -Path \u001b[39;49m\u001b[39m\"\u001b[39;49m\u001b[39m$env:PROGRAMFILES (x86)\u001b[39;49m\u001b[39m\\\u001b[39;49m\u001b[39mMicrosoft\u001b[39;49m\u001b[39m\\\u001b[39;49m\u001b[39mEdge\u001b[39;49m\u001b[39m\\\u001b[39;49m\u001b[39mApplication\u001b[39;49m\u001b[39m\\\u001b[39;49m\u001b[39mmsedge.exe\u001b[39;49m\u001b[39m\"\u001b[39;49m\u001b[39m).VersionInfo.FileVersion\u001b[39;49m\u001b[39m'\u001b[39;49m,\n\u001b[0;32m    185\u001b[0m                 \u001b[39mr\u001b[39;49m\u001b[39m'\u001b[39;49m\u001b[39m(Get-ItemProperty -Path Registry::\u001b[39;49m\u001b[39m\"\u001b[39;49m\u001b[39mHKCU\u001b[39;49m\u001b[39m\\\u001b[39;49m\u001b[39mSOFTWARE\u001b[39;49m\u001b[39m\\\u001b[39;49m\u001b[39mMicrosoft\u001b[39;49m\u001b[39m\\\u001b[39;49m\u001b[39mEdge\u001b[39;49m\u001b[39m\\\u001b[39;49m\u001b[39mBLBeacon\u001b[39;49m\u001b[39m\"\u001b[39;49m\u001b[39m).version\u001b[39;49m\u001b[39m'\u001b[39;49m,\n\u001b[0;32m    186\u001b[0m                 \u001b[39mr\u001b[39;49m\u001b[39m'\u001b[39;49m\u001b[39m(Get-ItemProperty -Path Registry::\u001b[39;49m\u001b[39m\"\u001b[39;49m\u001b[39mHKLM\u001b[39;49m\u001b[39m\\\u001b[39;49m\u001b[39mSOFTWARE\u001b[39;49m\u001b[39m\\\u001b[39;49m\u001b[39mMicrosoft\u001b[39;49m\u001b[39m\\\u001b[39;49m\u001b[39mEdgeUpdate\u001b[39;49m\u001b[39m\\\u001b[39;49m\u001b[39mClients\u001b[39;49m\u001b[39m\\\u001b[39;49m\u001b[39m{\u001b[39;49m\u001b[39m56EB18F8-8008-4CBD-B6D2-8C97FE7E9062}\u001b[39;49m\u001b[39m\"\u001b[39;49m\u001b[39m).pv\u001b[39;49m\u001b[39m'\u001b[39;49m,\n\u001b[0;32m    187\u001b[0m                 \u001b[39m# beta edge\u001b[39;49;00m\n\u001b[0;32m    188\u001b[0m                 \u001b[39mr\u001b[39;49m\u001b[39m'\u001b[39;49m\u001b[39m(Get-Item -Path \u001b[39;49m\u001b[39m\"\u001b[39;49m\u001b[39m$env:LOCALAPPDATA\u001b[39;49m\u001b[39m\\\u001b[39;49m\u001b[39mMicrosoft\u001b[39;49m\u001b[39m\\\u001b[39;49m\u001b[39mEdge Beta\u001b[39;49m\u001b[39m\\\u001b[39;49m\u001b[39mApplication\u001b[39;49m\u001b[39m\\\u001b[39;49m\u001b[39mmsedge.exe\u001b[39;49m\u001b[39m\"\u001b[39;49m\u001b[39m).VersionInfo.FileVersion\u001b[39;49m\u001b[39m'\u001b[39;49m,\n\u001b[0;32m    189\u001b[0m                 \u001b[39mr\u001b[39;49m\u001b[39m'\u001b[39;49m\u001b[39m(Get-Item -Path \u001b[39;49m\u001b[39m\"\u001b[39;49m\u001b[39m$env:PROGRAMFILES\u001b[39;49m\u001b[39m\\\u001b[39;49m\u001b[39mMicrosoft\u001b[39;49m\u001b[39m\\\u001b[39;49m\u001b[39mEdge Beta\u001b[39;49m\u001b[39m\\\u001b[39;49m\u001b[39mApplication\u001b[39;49m\u001b[39m\\\u001b[39;49m\u001b[39mmsedge.exe\u001b[39;49m\u001b[39m\"\u001b[39;49m\u001b[39m).VersionInfo.FileVersion\u001b[39;49m\u001b[39m'\u001b[39;49m,\n\u001b[0;32m    190\u001b[0m                 \u001b[39mr\u001b[39;49m\u001b[39m'\u001b[39;49m\u001b[39m(Get-Item -Path \u001b[39;49m\u001b[39m\"\u001b[39;49m\u001b[39m$env:PROGRAMFILES (x86)\u001b[39;49m\u001b[39m\\\u001b[39;49m\u001b[39mMicrosoft\u001b[39;49m\u001b[39m\\\u001b[39;49m\u001b[39mEdge Beta\u001b[39;49m\u001b[39m\\\u001b[39;49m\u001b[39mApplication\u001b[39;49m\u001b[39m\\\u001b[39;49m\u001b[39mmsedge.exe\u001b[39;49m\u001b[39m\"\u001b[39;49m\u001b[39m).VersionInfo.FileVersion\u001b[39;49m\u001b[39m'\u001b[39;49m,\n\u001b[0;32m    191\u001b[0m                 \u001b[39mr\u001b[39;49m\u001b[39m'\u001b[39;49m\u001b[39m(Get-ItemProperty -Path Registry::\u001b[39;49m\u001b[39m\"\u001b[39;49m\u001b[39mHKCU\u001b[39;49m\u001b[39m\\\u001b[39;49m\u001b[39mSOFTWARE\u001b[39;49m\u001b[39m\\\u001b[39;49m\u001b[39mMicrosoft\u001b[39;49m\u001b[39m\\\u001b[39;49m\u001b[39mEdge Beta\u001b[39;49m\u001b[39m\\\u001b[39;49m\u001b[39mBLBeacon\u001b[39;49m\u001b[39m\"\u001b[39;49m\u001b[39m).version\u001b[39;49m\u001b[39m'\u001b[39;49m,\n\u001b[0;32m    192\u001b[0m                 \u001b[39m# dev edge\u001b[39;49;00m\n\u001b[0;32m    193\u001b[0m                 \u001b[39mr\u001b[39;49m\u001b[39m'\u001b[39;49m\u001b[39m(Get-Item -Path \u001b[39;49m\u001b[39m\"\u001b[39;49m\u001b[39m$env:LOCALAPPDATA\u001b[39;49m\u001b[39m\\\u001b[39;49m\u001b[39mMicrosoft\u001b[39;49m\u001b[39m\\\u001b[39;49m\u001b[39mEdge Dev\u001b[39;49m\u001b[39m\\\u001b[39;49m\u001b[39mApplication\u001b[39;49m\u001b[39m\\\u001b[39;49m\u001b[39mmsedge.exe\u001b[39;49m\u001b[39m\"\u001b[39;49m\u001b[39m).VersionInfo.FileVersion\u001b[39;49m\u001b[39m'\u001b[39;49m,\n\u001b[0;32m    194\u001b[0m                 \u001b[39mr\u001b[39;49m\u001b[39m'\u001b[39;49m\u001b[39m(Get-Item -Path \u001b[39;49m\u001b[39m\"\u001b[39;49m\u001b[39m$env:PROGRAMFILES\u001b[39;49m\u001b[39m\\\u001b[39;49m\u001b[39mMicrosoft\u001b[39;49m\u001b[39m\\\u001b[39;49m\u001b[39mEdge Dev\u001b[39;49m\u001b[39m\\\u001b[39;49m\u001b[39mApplication\u001b[39;49m\u001b[39m\\\u001b[39;49m\u001b[39mmsedge.exe\u001b[39;49m\u001b[39m\"\u001b[39;49m\u001b[39m).VersionInfo.FileVersion\u001b[39;49m\u001b[39m'\u001b[39;49m,\n\u001b[0;32m    195\u001b[0m                 \u001b[39mr\u001b[39;49m\u001b[39m'\u001b[39;49m\u001b[39m(Get-Item -Path \u001b[39;49m\u001b[39m\"\u001b[39;49m\u001b[39m$env:PROGRAMFILES (x86)\u001b[39;49m\u001b[39m\\\u001b[39;49m\u001b[39mMicrosoft\u001b[39;49m\u001b[39m\\\u001b[39;49m\u001b[39mEdge Dev\u001b[39;49m\u001b[39m\\\u001b[39;49m\u001b[39mApplication\u001b[39;49m\u001b[39m\\\u001b[39;49m\u001b[39mmsedge.exe\u001b[39;49m\u001b[39m\"\u001b[39;49m\u001b[39m).VersionInfo.FileVersion\u001b[39;49m\u001b[39m'\u001b[39;49m,\n\u001b[0;32m    196\u001b[0m                 \u001b[39mr\u001b[39;49m\u001b[39m'\u001b[39;49m\u001b[39m(Get-ItemProperty -Path Registry::\u001b[39;49m\u001b[39m\"\u001b[39;49m\u001b[39mHKCU\u001b[39;49m\u001b[39m\\\u001b[39;49m\u001b[39mSOFTWARE\u001b[39;49m\u001b[39m\\\u001b[39;49m\u001b[39mMicrosoft\u001b[39;49m\u001b[39m\\\u001b[39;49m\u001b[39mEdge Dev\u001b[39;49m\u001b[39m\\\u001b[39;49m\u001b[39mBLBeacon\u001b[39;49m\u001b[39m\"\u001b[39;49m\u001b[39m).version\u001b[39;49m\u001b[39m'\u001b[39;49m,\n\u001b[0;32m    197\u001b[0m                 \u001b[39m# canary edge\u001b[39;49;00m\n\u001b[0;32m    198\u001b[0m                 \u001b[39mr\u001b[39;49m\u001b[39m'\u001b[39;49m\u001b[39m(Get-Item -Path \u001b[39;49m\u001b[39m\"\u001b[39;49m\u001b[39m$env:LOCALAPPDATA\u001b[39;49m\u001b[39m\\\u001b[39;49m\u001b[39mMicrosoft\u001b[39;49m\u001b[39m\\\u001b[39;49m\u001b[39mEdge SxS\u001b[39;49m\u001b[39m\\\u001b[39;49m\u001b[39mApplication\u001b[39;49m\u001b[39m\\\u001b[39;49m\u001b[39mmsedge.exe\u001b[39;49m\u001b[39m\"\u001b[39;49m\u001b[39m).VersionInfo.FileVersion\u001b[39;49m\u001b[39m'\u001b[39;49m,\n\u001b[0;32m    199\u001b[0m                 \u001b[39mr\u001b[39;49m\u001b[39m'\u001b[39;49m\u001b[39m(Get-ItemProperty -Path Registry::\u001b[39;49m\u001b[39m\"\u001b[39;49m\u001b[39mHKCU\u001b[39;49m\u001b[39m\\\u001b[39;49m\u001b[39mSOFTWARE\u001b[39;49m\u001b[39m\\\u001b[39;49m\u001b[39mMicrosoft\u001b[39;49m\u001b[39m\\\u001b[39;49m\u001b[39mEdge SxS\u001b[39;49m\u001b[39m\\\u001b[39;49m\u001b[39mBLBeacon\u001b[39;49m\u001b[39m\"\u001b[39;49m\u001b[39m).version\u001b[39;49m\u001b[39m'\u001b[39;49m,\n\u001b[0;32m    200\u001b[0m                 \u001b[39m# highest edge\u001b[39;49;00m\n\u001b[0;32m    201\u001b[0m                 \u001b[39mr\u001b[39;49m\u001b[39m\"\u001b[39;49m\u001b[39m(Get-Item (Get-ItemProperty \u001b[39;49m\u001b[39m'\u001b[39;49m\u001b[39mHKLM:\u001b[39;49m\u001b[39m\\\u001b[39;49m\u001b[39mSOFTWARE\u001b[39;49m\u001b[39m\\\u001b[39;49m\u001b[39mMicrosoft\u001b[39;49m\u001b[39m\\\u001b[39;49m\u001b[39mWindows\u001b[39;49m\u001b[39m\\\u001b[39;49m\u001b[39mCurrentVersion\u001b[39;49m\u001b[39m\\\u001b[39;49m\u001b[39mApp Paths\u001b[39;49m\u001b[39m\\\u001b[39;49m\u001b[39mmsedge.exe\u001b[39;49m\u001b[39m'\u001b[39;49m\u001b[39m).\u001b[39;49m\u001b[39m'\u001b[39;49m\u001b[39m(Default)\u001b[39;49m\u001b[39m'\u001b[39;49m\u001b[39m).VersionInfo.ProductVersion\u001b[39;49m\u001b[39m\"\u001b[39;49m,\n\u001b[0;32m    202\u001b[0m                 \u001b[39mr\u001b[39;49m\u001b[39m\"\u001b[39;49m\u001b[39m[System.Diagnostics.FileVersionInfo]::GetVersionInfo((Get-ItemProperty \u001b[39;49m\u001b[39m'\u001b[39;49m\u001b[39mHKLM:\u001b[39;49m\u001b[39m\\\u001b[39;49m\u001b[39mSOFTWARE\u001b[39;49m\u001b[39m\\\u001b[39;49m\u001b[39mMicrosoft\u001b[39;49m\u001b[39m\\\u001b[39;49m\u001b[39mWindows\u001b[39;49m\u001b[39m\\\u001b[39;49m\u001b[39mCurrentVersion\u001b[39;49m\u001b[39m\\\u001b[39;49m\u001b[39mApp Paths\u001b[39;49m\u001b[39m\\\u001b[39;49m\u001b[39mmsedge.exe\u001b[39;49m\u001b[39m'\u001b[39;49m\u001b[39m).\u001b[39;49m\u001b[39m'\u001b[39;49m\u001b[39m(Default)\u001b[39;49m\u001b[39m'\u001b[39;49m\u001b[39m).ProductVersion\u001b[39;49m\u001b[39m\"\u001b[39;49m,\n\u001b[0;32m    203\u001b[0m                 \u001b[39mr\u001b[39;49m\u001b[39m\"\u001b[39;49m\u001b[39mGet-AppxPackage -Name *MicrosoftEdge.* | Foreach Version\u001b[39;49m\u001b[39m\"\u001b[39;49m,\n\u001b[0;32m    204\u001b[0m                 \u001b[39mr\u001b[39;49m\u001b[39m'\u001b[39;49m\u001b[39m(Get-ItemProperty -Path Registry::\u001b[39;49m\u001b[39m\"\u001b[39;49m\u001b[39mHKLM\u001b[39;49m\u001b[39m\\\u001b[39;49m\u001b[39mSOFTWARE\u001b[39;49m\u001b[39m\\\u001b[39;49m\u001b[39mWow6432Node\u001b[39;49m\u001b[39m\\\u001b[39;49m\u001b[39mMicrosoft\u001b[39;49m\u001b[39m\\\u001b[39;49m\u001b[39mWindows\u001b[39;49m\u001b[39m\\\u001b[39;49m\u001b[39mCurrentVersion\u001b[39;49m\u001b[39m\\\u001b[39;49m\u001b[39mUninstall\u001b[39;49m\u001b[39m\\\u001b[39;49m\u001b[39mMicrosoft Edge\u001b[39;49m\u001b[39m\"\u001b[39;49m\u001b[39m).version\u001b[39;49m\u001b[39m'\u001b[39;49m,\n\u001b[0;32m    205\u001b[0m             ),\n\u001b[0;32m    206\u001b[0m         },\n\u001b[0;32m    207\u001b[0m         \u001b[39m\"\u001b[39m\u001b[39mfirefox\u001b[39m\u001b[39m\"\u001b[39m: {\n\u001b[0;32m    208\u001b[0m             OSType\u001b[39m.\u001b[39mLINUX: linux_browser_apps_to_cmd(\u001b[39m\"\u001b[39m\u001b[39mfirefox\u001b[39m\u001b[39m\"\u001b[39m),\n\u001b[0;32m    209\u001b[0m             OSType\u001b[39m.\u001b[39mMAC: \u001b[39mr\u001b[39m\u001b[39m\"\u001b[39m\u001b[39m/Applications/Firefox.app/Contents/MacOS/firefox --version\u001b[39m\u001b[39m\"\u001b[39m,\n\u001b[0;32m    210\u001b[0m             OSType\u001b[39m.\u001b[39mWIN: windows_browser_apps_to_cmd(\n\u001b[0;32m    211\u001b[0m                 \u001b[39mr\u001b[39m\u001b[39m'\u001b[39m\u001b[39m(Get-Item -Path \u001b[39m\u001b[39m\"\u001b[39m\u001b[39m$env:PROGRAMFILES\u001b[39m\u001b[39m\\\u001b[39m\u001b[39mMozilla Firefox\u001b[39m\u001b[39m\\\u001b[39m\u001b[39mfirefox.exe\u001b[39m\u001b[39m\"\u001b[39m\u001b[39m).VersionInfo.FileVersion\u001b[39m\u001b[39m'\u001b[39m,\n\u001b[0;32m    212\u001b[0m                 \u001b[39mr\u001b[39m\u001b[39m'\u001b[39m\u001b[39m(Get-Item -Path \u001b[39m\u001b[39m\"\u001b[39m\u001b[39m$env:PROGRAMFILES (x86)\u001b[39m\u001b[39m\\\u001b[39m\u001b[39mMozilla Firefox\u001b[39m\u001b[39m\\\u001b[39m\u001b[39mfirefox.exe\u001b[39m\u001b[39m\"\u001b[39m\u001b[39m).VersionInfo.FileVersion\u001b[39m\u001b[39m'\u001b[39m,\n\u001b[0;32m    213\u001b[0m                 \u001b[39mr\u001b[39m\u001b[39m\"\u001b[39m\u001b[39m(Get-Item (Get-ItemProperty \u001b[39m\u001b[39m'\u001b[39m\u001b[39mHKLM:\u001b[39m\u001b[39m\\\u001b[39m\u001b[39mSOFTWARE\u001b[39m\u001b[39m\\\u001b[39m\u001b[39mMicrosoft\u001b[39m\u001b[39m\\\u001b[39m\u001b[39mWindows\u001b[39m\u001b[39m\\\u001b[39m\u001b[39mCurrentVersion\u001b[39m\u001b[39m\\\u001b[39m\u001b[39mApp Paths\u001b[39m\u001b[39m\\\u001b[39m\u001b[39mfirefox.exe\u001b[39m\u001b[39m'\u001b[39m\u001b[39m).\u001b[39m\u001b[39m'\u001b[39m\u001b[39m(Default)\u001b[39m\u001b[39m'\u001b[39m\u001b[39m).VersionInfo.ProductVersion\u001b[39m\u001b[39m\"\u001b[39m,\n\u001b[0;32m    214\u001b[0m                 \u001b[39mr\u001b[39m\u001b[39m'\u001b[39m\u001b[39m(Get-ItemProperty -Path Registry::\u001b[39m\u001b[39m\"\u001b[39m\u001b[39mHKLM\u001b[39m\u001b[39m\\\u001b[39m\u001b[39mSOFTWARE\u001b[39m\u001b[39m\\\u001b[39m\u001b[39mMozilla\u001b[39m\u001b[39m\\\u001b[39m\u001b[39mMozilla Firefox\u001b[39m\u001b[39m\"\u001b[39m\u001b[39m).CurrentVersion\u001b[39m\u001b[39m'\u001b[39m,\n\u001b[0;32m    215\u001b[0m             ),\n\u001b[0;32m    216\u001b[0m         },\n\u001b[0;32m    217\u001b[0m     }\n\u001b[0;32m    219\u001b[0m     \u001b[39mtry\u001b[39;00m:\n\u001b[0;32m    220\u001b[0m         cmd_mapping \u001b[39m=\u001b[39m cmd_mapping[browser_type][os_name()]\n",
      "File \u001b[1;32mc:\\Users\\mriedeman\\Anaconda3\\envs\\webscraper\\lib\\site-packages\\webdriver_manager\\core\\utils.py:120\u001b[0m, in \u001b[0;36mwindows_browser_apps_to_cmd\u001b[1;34m(*apps)\u001b[0m\n\u001b[0;32m    118\u001b[0m \u001b[39mdef\u001b[39;00m \u001b[39mwindows_browser_apps_to_cmd\u001b[39m(\u001b[39m*\u001b[39mapps: \u001b[39mstr\u001b[39m) \u001b[39m-\u001b[39m\u001b[39m>\u001b[39m \u001b[39mstr\u001b[39m:\n\u001b[0;32m    119\u001b[0m     \u001b[39m\"\"\"Create analogue of browser --version command for windows.\"\"\"\u001b[39;00m\n\u001b[1;32m--> 120\u001b[0m     powershell \u001b[39m=\u001b[39m determine_powershell()\n\u001b[0;32m    122\u001b[0m     first_hit_template \u001b[39m=\u001b[39m \u001b[39m\"\"\"\u001b[39m\u001b[39m$tmp = \u001b[39m\u001b[39m{expression}\u001b[39;00m\u001b[39m; if ($tmp) \u001b[39m\u001b[39m{{\u001b[39m\u001b[39mecho $tmp; Exit;}};\u001b[39m\u001b[39m\"\"\"\u001b[39m\n\u001b[0;32m    123\u001b[0m     script \u001b[39m=\u001b[39m \u001b[39m\"\u001b[39m\u001b[39m$ErrorActionPreference=\u001b[39m\u001b[39m'\u001b[39m\u001b[39msilentlycontinue\u001b[39m\u001b[39m'\u001b[39m\u001b[39m; \u001b[39m\u001b[39m\"\u001b[39m \u001b[39m+\u001b[39m \u001b[39m\"\u001b[39m\u001b[39m \u001b[39m\u001b[39m\"\u001b[39m\u001b[39m.\u001b[39mjoin(\n\u001b[0;32m    124\u001b[0m         first_hit_template\u001b[39m.\u001b[39mformat(expression\u001b[39m=\u001b[39me) \u001b[39mfor\u001b[39;00m e \u001b[39min\u001b[39;00m apps\n\u001b[0;32m    125\u001b[0m     )\n",
      "File \u001b[1;32mc:\\Users\\mriedeman\\Anaconda3\\envs\\webscraper\\lib\\site-packages\\webdriver_manager\\core\\utils.py:279\u001b[0m, in \u001b[0;36mdetermine_powershell\u001b[1;34m()\u001b[0m\n\u001b[0;32m    271\u001b[0m cmd \u001b[39m=\u001b[39m \u001b[39m\"\u001b[39m\u001b[39m(dir 2>&1 *`|echo CMD);&<# rem #>echo powershell\u001b[39m\u001b[39m\"\u001b[39m\n\u001b[0;32m    272\u001b[0m \u001b[39mwith\u001b[39;00m subprocess\u001b[39m.\u001b[39mPopen(\n\u001b[0;32m    273\u001b[0m         cmd,\n\u001b[0;32m    274\u001b[0m         stdout\u001b[39m=\u001b[39msubprocess\u001b[39m.\u001b[39mPIPE,\n\u001b[1;32m   (...)\u001b[0m\n\u001b[0;32m    277\u001b[0m         shell\u001b[39m=\u001b[39m\u001b[39mTrue\u001b[39;00m,\n\u001b[0;32m    278\u001b[0m ) \u001b[39mas\u001b[39;00m stream:\n\u001b[1;32m--> 279\u001b[0m     stdout \u001b[39m=\u001b[39m stream\u001b[39m.\u001b[39;49mcommunicate()[\u001b[39m0\u001b[39m]\u001b[39m.\u001b[39mdecode()\n\u001b[0;32m    280\u001b[0m \u001b[39mreturn\u001b[39;00m \u001b[39m\"\u001b[39m\u001b[39m\"\u001b[39m \u001b[39mif\u001b[39;00m stdout \u001b[39m==\u001b[39m \u001b[39m\"\u001b[39m\u001b[39mpowershell\u001b[39m\u001b[39m\"\u001b[39m \u001b[39melse\u001b[39;00m \u001b[39m\"\u001b[39m\u001b[39mpowershell\u001b[39m\u001b[39m\"\u001b[39m\n",
      "File \u001b[1;32mc:\\Users\\mriedeman\\Anaconda3\\envs\\webscraper\\lib\\subprocess.py:1121\u001b[0m, in \u001b[0;36mPopen.communicate\u001b[1;34m(self, input, timeout)\u001b[0m\n\u001b[0;32m   1119\u001b[0m     \u001b[39mself\u001b[39m\u001b[39m.\u001b[39m_stdin_write(\u001b[39minput\u001b[39m)\n\u001b[0;32m   1120\u001b[0m \u001b[39melif\u001b[39;00m \u001b[39mself\u001b[39m\u001b[39m.\u001b[39mstdout:\n\u001b[1;32m-> 1121\u001b[0m     stdout \u001b[39m=\u001b[39m \u001b[39mself\u001b[39;49m\u001b[39m.\u001b[39;49mstdout\u001b[39m.\u001b[39;49mread()\n\u001b[0;32m   1122\u001b[0m     \u001b[39mself\u001b[39m\u001b[39m.\u001b[39mstdout\u001b[39m.\u001b[39mclose()\n\u001b[0;32m   1123\u001b[0m \u001b[39melif\u001b[39;00m \u001b[39mself\u001b[39m\u001b[39m.\u001b[39mstderr:\n",
      "\u001b[1;31mKeyboardInterrupt\u001b[0m: "
     ]
    }
   ],
   "source": [
    "for i in range(0, len(proxies)):\n",
    "    try:\n",
    "        print(\"Proxy selected: {}\".format(proxies[i]))\n",
    "        options = webdriver.ChromeOptions()\n",
    "        options.add_argument('--proxy-server={}'.format(proxies[i]))\n",
    "\n",
    "        s=Service(ChromeDriverManager().install())\n",
    "        driver = webdriver.Chrome(service=s, chrome_options= options)\n",
    "        #driver = webdriver.Chrome(options=options, executable_path=r'C:\\WebDrivers\\chromedriver.exe')\n",
    "        driver.get(\"https://www.whatismyip.com/proxy-check/?iref=home\")\n",
    "        if \"Proxy Type\" in WebDriverWait(driver, 5).until(EC.visibility_of_element_located((By.CSS_SELECTOR, \"p.card-text\"))):\n",
    "            break\n",
    "    except Exception:\n",
    "        driver.quit()\n",
    "print(\"Proxy Invoked\")"
   ]
  },
  {
   "cell_type": "code",
   "execution_count": null,
   "metadata": {},
   "outputs": [],
   "source": [
    "from selenium import webdriver\n",
    "from selenium.webdriver.support.ui import WebDriverWait\n",
    "from selenium.webdriver.common.by import By\n",
    "from selenium.webdriver.support import expected_conditions as EC\n",
    "from selenium.common.exceptions import TimeoutException\n",
    "\n",
    "options = webdriver.ChromeOptions()\n",
    "options.add_argument(\"start-maximized\")\n",
    "options.add_experimental_option(\"excludeSwitches\", [\"enable-automation\"])\n",
    "options.add_experimental_option('useAutomationExtension', False)\n",
    "\n",
    "driver = webdriver.Chrome(chrome_options=options, executable_path=r'C:\\WebDrivers\\chromedriver.exe')\n",
    "driver.get(\"https://sslproxies.org/\")\n",
    "\n",
    "driver.execute_script(\"return arguments[0].scrollIntoView(true);\", WebDriverWait(driver, 20).until(EC.visibility_of_element_located((By.XPATH, \"//table[@class='table table-striped table-bordered dataTable']//th[contains(., 'IP Address')]\"))))\n",
    "ips = [my_elem.get_attribute(\"innerHTML\") for my_elem in WebDriverWait(driver, 5).until(EC.visibility_of_all_elements_located((By.XPATH, \"//table[@class='table table-striped table-bordered dataTable']//tbody//tr[@role='row']/td[position() = 1]\")))]\n",
    "ports = [my_elem.get_attribute(\"innerHTML\") for my_elem in WebDriverWait(driver, 5).until(EC.visibility_of_all_elements_located((By.XPATH, \"//table[@class='table table-striped table-bordered dataTable']//tbody//tr[@role='row']/td[position() = 2]\")))]\n",
    "driver.quit()\n",
    "proxies = []\n",
    "for i in range(0, len(ips)):\n",
    "    proxies.append(ips[i]+':'+ports[i])\n",
    "print(proxies)\n",
    "for i in range(0, len(proxies)):\n",
    "    try:\n",
    "        print(\"Proxy selected: {}\".format(proxies[i]))\n",
    "        options = webdriver.ChromeOptions()\n",
    "        options.add_argument('--proxy-server={}'.format(proxies[i]))\n",
    "        driver = webdriver.Chrome(options=options, executable_path=r'C:\\WebDrivers\\chromedriver.exe')\n",
    "        driver.get(\"https://www.whatismyip.com/proxy-check/?iref=home\")\n",
    "        if \"Proxy Type\" in WebDriverWait(driver, 5).until(EC.visibility_of_element_located((By.CSS_SELECTOR, \"p.card-text\"))):\n",
    "            break\n",
    "    except Exception:\n",
    "        driver.quit()\n",
    "print(\"Proxy Invoked\")"
   ]
  }
 ],
 "metadata": {
  "kernelspec": {
   "display_name": "Python 3.9.12 ('webscraper')",
   "language": "python",
   "name": "python3"
  },
  "language_info": {
   "codemirror_mode": {
    "name": "ipython",
    "version": 3
   },
   "file_extension": ".py",
   "mimetype": "text/x-python",
   "name": "python",
   "nbconvert_exporter": "python",
   "pygments_lexer": "ipython3",
   "version": "3.9.12"
  },
  "orig_nbformat": 4,
  "vscode": {
   "interpreter": {
    "hash": "c780947fbb818c7495fd9532412a3eb8d06e8fa4b61a49db8737789eaef9d63e"
   }
  }
 },
 "nbformat": 4,
 "nbformat_minor": 2
}

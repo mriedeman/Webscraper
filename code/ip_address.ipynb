{
 "cells": [
  {
   "cell_type": "code",
   "execution_count": 3,
   "metadata": {},
   "outputs": [],
   "source": [
    "from selenium import webdriver\n",
    "from selenium.webdriver.support.ui import WebDriverWait\n",
    "from selenium.webdriver.common.by import By\n",
    "from selenium.webdriver.support import expected_conditions as EC\n",
    "from selenium.common.exceptions import TimeoutException\n",
    "from selenium.webdriver.chrome.service import Service\n",
    "from webdriver_manager.chrome import ChromeDriverManager"
   ]
  },
  {
   "cell_type": "code",
   "execution_count": 36,
   "metadata": {},
   "outputs": [],
   "source": [
    "\n",
    "def get_proxies():\n",
    "\n",
    "    options = webdriver.ChromeOptions()\n",
    "    #maximize argument\n",
    "    options.add_argument(\"start-maximized\")\n",
    "\n",
    "    #removes \"chrome is being controlled by automated software\"\n",
    "    options.add_experimental_option(\"excludeSwitches\", [\"enable-automation\"])\n",
    "    options.add_experimental_option('useAutomationExtension', False)\n",
    "\n",
    "    s=Service(ChromeDriverManager().install())\n",
    "    driver = webdriver.Chrome(service=s, chrome_options= options)\n",
    "    driver.get(\"https://sslproxies.org/\")\n",
    "\n",
    "    #scroll to the table\n",
    "    driver.execute_script(\"return arguments[0].scrollIntoView(true);\", WebDriverWait(driver, 20).until(EC.visibility_of_element_located((By.XPATH, \"//table[@class='table table-striped table-bordered']//th[contains(., 'IP Address')]\"))))\n",
    "\n",
    "    ips = [my_elem.get_attribute(\"innerHTML\") for my_elem in WebDriverWait(driver, 5).until(EC.visibility_of_all_elements_located((By.XPATH, \"//table[@class='table table-striped table-bordered']//tbody//tr/td[position() = 1]\")))]\n",
    "    ports = [my_elem.get_attribute(\"innerHTML\") for my_elem in WebDriverWait(driver, 5).until(EC.visibility_of_all_elements_located((By.XPATH, \"//table[@class='table table-striped table-bordered']//tbody//tr/td[position() = 2]\")))]\n",
    "\n",
    "    proxies = []\n",
    "    for i in range(0, len(ips)):\n",
    "        proxies.append(ips[i]+':'+ports[i])\n",
    "    #print(proxies)\n",
    "    \n",
    "    driver.quit()\n",
    "\n",
    "    return proxies\n"
   ]
  },
  {
   "cell_type": "code",
   "execution_count": 38,
   "metadata": {},
   "outputs": [
    {
     "name": "stderr",
     "output_type": "stream",
     "text": [
      "C:\\Users\\mriedeman\\AppData\\Local\\Temp\\ipykernel_27604\\1014552481.py:12: DeprecationWarning: use options instead of chrome_options\n",
      "  driver = webdriver.Chrome(service=s, chrome_options= options)\n"
     ]
    },
    {
     "name": "stdout",
     "output_type": "stream",
     "text": [
      "['71.86.129.131:8080', '41.65.174.120:1981', '83.229.73.175:80', '130.41.55.190:8080', '134.84.66.194:3128', '3.14.253.82:80', '5.202.95.147:8080', '172.104.241.29:8081', '201.229.250.22:8080', '110.238.113.119:8080', '51.159.207.156:3128', '110.238.109.146:8080', '147.139.133.146:8080', '49.0.2.242:8090', '149.129.239.170:8080', '20.54.56.26:8080', '161.97.126.37:8118', '35.187.4.12:8888', '149.129.184.250:8080', '178.79.191.47:54417', '45.33.12.251:8080', '47.245.34.161:8080', '172.104.252.86:80', '45.79.27.210:44554', '172.105.196.53:9000', '45.79.253.142:3128', '154.236.177.100:1981', '198.11.175.192:8080', '95.79.25.77:3128', '45.79.208.64:44554', '213.222.34.200:53281', '103.145.253.237:3128', '96.126.124.197:81', '47.254.195.196:8080', '176.56.107.184:52210', '114.116.2.116:8001', '178.79.138.253:8080', '189.173.168.174:999', '46.229.214.206:3128', '157.100.12.138:999', '173.212.200.30:3128', '130.185.119.20:3128', '43.204.1.146:80', '167.172.178.193:37105', '64.227.7.192:5566', '111.225.152.92:8089', '129.226.162.177:443', '157.230.241.133:33273', '52.47.89.153:8080', '157.230.34.152:41885', '23.224.198.233:24004', '45.153.130.241:10014', '159.223.20.18:10022', '115.96.208.124:8080', '13.37.250.42:12005', '159.192.253.235:8080', '210.212.227.67:3128', '105.112.191.250:3128', '14.140.131.82:3128', '103.252.1.137:3128', '103.159.168.80:3128', '24.109.252.48:80', '92.114.18.11:80', '106.249.44.10:3128', '114.30.79.171:3128', '144.217.131.61:3148', '79.168.38.147:8080', '95.154.104.147:44393', '154.236.184.70:1975', '45.56.83.46:8012', '88.248.104.37:34034', '68.33.238.181:8118', '163.53.208.93:8080', '158.69.71.245:9300', '88.198.180.202:80', '125.63.90.215:80', '117.121.202.62:8888', '198.167.193.87:8118', '158.69.53.132:9300', '45.160.92.9:8080', '181.129.2.90:8081', '161.97.160.180:3128', '1.10.234.53:8080', '45.70.236.125:999', '186.5.94.202:999', '96.95.164.41:3128', '103.175.236.189:8080', '51.79.152.70:3128', '201.71.2.97:999', '209.97.134.22:3128', '163.172.210.222:4542', '167.235.253.64:80', '193.164.17.64:2019', '45.5.119.178:8080', '163.172.215.211:3128', '121.37.203.216:8080', '85.239.54.111:3128', '103.59.42.114:14455', '176.9.218.190:3128', '171.97.15.93:8080']\n"
     ]
    },
    {
     "data": {
      "text/plain": [
       "['71.86.129.131:8080',\n",
       " '41.65.174.120:1981',\n",
       " '83.229.73.175:80',\n",
       " '130.41.55.190:8080',\n",
       " '134.84.66.194:3128',\n",
       " '3.14.253.82:80',\n",
       " '5.202.95.147:8080',\n",
       " '172.104.241.29:8081',\n",
       " '201.229.250.22:8080',\n",
       " '110.238.113.119:8080',\n",
       " '51.159.207.156:3128',\n",
       " '110.238.109.146:8080',\n",
       " '147.139.133.146:8080',\n",
       " '49.0.2.242:8090',\n",
       " '149.129.239.170:8080',\n",
       " '20.54.56.26:8080',\n",
       " '161.97.126.37:8118',\n",
       " '35.187.4.12:8888',\n",
       " '149.129.184.250:8080',\n",
       " '178.79.191.47:54417',\n",
       " '45.33.12.251:8080',\n",
       " '47.245.34.161:8080',\n",
       " '172.104.252.86:80',\n",
       " '45.79.27.210:44554',\n",
       " '172.105.196.53:9000',\n",
       " '45.79.253.142:3128',\n",
       " '154.236.177.100:1981',\n",
       " '198.11.175.192:8080',\n",
       " '95.79.25.77:3128',\n",
       " '45.79.208.64:44554',\n",
       " '213.222.34.200:53281',\n",
       " '103.145.253.237:3128',\n",
       " '96.126.124.197:81',\n",
       " '47.254.195.196:8080',\n",
       " '176.56.107.184:52210',\n",
       " '114.116.2.116:8001',\n",
       " '178.79.138.253:8080',\n",
       " '189.173.168.174:999',\n",
       " '46.229.214.206:3128',\n",
       " '157.100.12.138:999',\n",
       " '173.212.200.30:3128',\n",
       " '130.185.119.20:3128',\n",
       " '43.204.1.146:80',\n",
       " '167.172.178.193:37105',\n",
       " '64.227.7.192:5566',\n",
       " '111.225.152.92:8089',\n",
       " '129.226.162.177:443',\n",
       " '157.230.241.133:33273',\n",
       " '52.47.89.153:8080',\n",
       " '157.230.34.152:41885',\n",
       " '23.224.198.233:24004',\n",
       " '45.153.130.241:10014',\n",
       " '159.223.20.18:10022',\n",
       " '115.96.208.124:8080',\n",
       " '13.37.250.42:12005',\n",
       " '159.192.253.235:8080',\n",
       " '210.212.227.67:3128',\n",
       " '105.112.191.250:3128',\n",
       " '14.140.131.82:3128',\n",
       " '103.252.1.137:3128',\n",
       " '103.159.168.80:3128',\n",
       " '24.109.252.48:80',\n",
       " '92.114.18.11:80',\n",
       " '106.249.44.10:3128',\n",
       " '114.30.79.171:3128',\n",
       " '144.217.131.61:3148',\n",
       " '79.168.38.147:8080',\n",
       " '95.154.104.147:44393',\n",
       " '154.236.184.70:1975',\n",
       " '45.56.83.46:8012',\n",
       " '88.248.104.37:34034',\n",
       " '68.33.238.181:8118',\n",
       " '163.53.208.93:8080',\n",
       " '158.69.71.245:9300',\n",
       " '88.198.180.202:80',\n",
       " '125.63.90.215:80',\n",
       " '117.121.202.62:8888',\n",
       " '198.167.193.87:8118',\n",
       " '158.69.53.132:9300',\n",
       " '45.160.92.9:8080',\n",
       " '181.129.2.90:8081',\n",
       " '161.97.160.180:3128',\n",
       " '1.10.234.53:8080',\n",
       " '45.70.236.125:999',\n",
       " '186.5.94.202:999',\n",
       " '96.95.164.41:3128',\n",
       " '103.175.236.189:8080',\n",
       " '51.79.152.70:3128',\n",
       " '201.71.2.97:999',\n",
       " '209.97.134.22:3128',\n",
       " '163.172.210.222:4542',\n",
       " '167.235.253.64:80',\n",
       " '193.164.17.64:2019',\n",
       " '45.5.119.178:8080',\n",
       " '163.172.215.211:3128',\n",
       " '121.37.203.216:8080',\n",
       " '85.239.54.111:3128',\n",
       " '103.59.42.114:14455',\n",
       " '176.9.218.190:3128',\n",
       " '171.97.15.93:8080']"
      ]
     },
     "execution_count": 38,
     "metadata": {},
     "output_type": "execute_result"
    }
   ],
   "source": [
    "proxies = get_proxies()\n",
    "\n",
    "\n",
    "proxies"
   ]
  },
  {
   "cell_type": "code",
   "execution_count": 34,
   "metadata": {},
   "outputs": [
    {
     "name": "stdout",
     "output_type": "stream",
     "text": [
      "Proxy selected: 71.86.129.131:8080\n"
     ]
    },
    {
     "name": "stderr",
     "output_type": "stream",
     "text": [
      "C:\\Users\\mriedeman\\AppData\\Local\\Temp\\ipykernel_27604\\2257298111.py:23: DeprecationWarning: use options instead of chrome_options\n",
      "  driver = webdriver.Chrome(service=s, chrome_options= options, desired_capabilities=caps)\n"
     ]
    }
   ],
   "source": [
    "proxies[0]\n",
    "\n",
    "try:\n",
    "    print(f\"Proxy selected: {proxies[0]}\")\n",
    "    \n",
    "    options = webdriver.ChromeOptions()\n",
    "    \n",
    "    options.add_argument(f'--proxy-server={proxies[0]}')\n",
    "    #options.add_argument('--headless')\n",
    "\n",
    "\n",
    "    # options.add_argument('--allow-insecure-localhost') # differ on driver version. can ignore. \n",
    "    # caps = options.to_capabilities()\n",
    "    # caps[\"acceptInsecureCerts\"] = True\n",
    "\n",
    "\n",
    "\n",
    "\n",
    "    #options.add_argument('--ignore-ssl-errors=yes')\n",
    "    #options.add_argument('--ignore-certificate-errors')\n",
    "\n",
    "    s=Service(ChromeDriverManager().install())\n",
    "    driver = webdriver.Chrome(service=s, chrome_options= options, desired_capabilities=caps)\n",
    "\n",
    "\n",
    "    driver.get(\"https://www.whatismyip.com/\")\n",
    "\n",
    "    #driver.get(\"https://www.whatismyip.com/proxy-check/?iref=home\")\n",
    "\n",
    "except Exception:\n",
    "    print(\"exception\")\n"
   ]
  },
  {
   "cell_type": "code",
   "execution_count": 35,
   "metadata": {},
   "outputs": [
    {
     "name": "stdout",
     "output_type": "stream",
     "text": [
      "Proxy selected: 71.86.129.131:8080\n"
     ]
    },
    {
     "name": "stderr",
     "output_type": "stream",
     "text": [
      "C:\\Users\\mriedeman\\AppData\\Local\\Temp\\ipykernel_27604\\2261884032.py:8: DeprecationWarning: use options instead of chrome_options\n",
      "  driver = webdriver.Chrome(service=s, chrome_options= options)\n"
     ]
    },
    {
     "name": "stdout",
     "output_type": "stream",
     "text": [
      "Proxy selected: 161.97.126.37:8118\n",
      "Proxy selected: 130.41.55.190:8080\n",
      "Proxy selected: 35.187.4.12:8888\n",
      "Proxy selected: 8.209.64.208:8080\n",
      "Proxy selected: 172.104.252.86:80\n",
      "Proxy selected: 45.79.27.210:44554\n",
      "Proxy selected: 20.54.56.26:8080\n",
      "Proxy selected: 45.33.12.251:8080\n",
      "Proxy selected: 47.245.34.161:8080\n",
      "Proxy selected: 149.129.184.250:8080\n",
      "Proxy selected: 178.79.191.47:54417\n",
      "Proxy selected: 172.105.196.53:9000\n",
      "Proxy selected: 45.79.253.142:3128\n",
      "Proxy selected: 83.229.73.175:80\n",
      "Proxy selected: 154.236.177.100:1981\n"
     ]
    },
    {
     "ename": "KeyboardInterrupt",
     "evalue": "",
     "output_type": "error",
     "traceback": [
      "\u001b[1;31m---------------------------------------------------------------------------\u001b[0m",
      "\u001b[1;31mKeyboardInterrupt\u001b[0m                         Traceback (most recent call last)",
      "\u001b[1;32mc:\\Users\\mriedeman\\Documents\\Python Scripts\\Webscraper\\code\\ip_address.ipynb Cell 5\u001b[0m in \u001b[0;36m<cell line: 1>\u001b[1;34m()\u001b[0m\n\u001b[0;32m      <a href='vscode-notebook-cell:/c%3A/Users/mriedeman/Documents/Python%20Scripts/Webscraper/code/ip_address.ipynb#X13sZmlsZQ%3D%3D?line=3'>4</a>\u001b[0m options \u001b[39m=\u001b[39m webdriver\u001b[39m.\u001b[39mChromeOptions()\n\u001b[0;32m      <a href='vscode-notebook-cell:/c%3A/Users/mriedeman/Documents/Python%20Scripts/Webscraper/code/ip_address.ipynb#X13sZmlsZQ%3D%3D?line=4'>5</a>\u001b[0m options\u001b[39m.\u001b[39madd_argument(\u001b[39m'\u001b[39m\u001b[39m--proxy-server=\u001b[39m\u001b[39m{}\u001b[39;00m\u001b[39m'\u001b[39m\u001b[39m.\u001b[39mformat(proxies[i]))\n\u001b[1;32m----> <a href='vscode-notebook-cell:/c%3A/Users/mriedeman/Documents/Python%20Scripts/Webscraper/code/ip_address.ipynb#X13sZmlsZQ%3D%3D?line=6'>7</a>\u001b[0m s\u001b[39m=\u001b[39mService(ChromeDriverManager()\u001b[39m.\u001b[39;49minstall())\n\u001b[0;32m      <a href='vscode-notebook-cell:/c%3A/Users/mriedeman/Documents/Python%20Scripts/Webscraper/code/ip_address.ipynb#X13sZmlsZQ%3D%3D?line=7'>8</a>\u001b[0m driver \u001b[39m=\u001b[39m webdriver\u001b[39m.\u001b[39mChrome(service\u001b[39m=\u001b[39ms, chrome_options\u001b[39m=\u001b[39m options)\n\u001b[0;32m      <a href='vscode-notebook-cell:/c%3A/Users/mriedeman/Documents/Python%20Scripts/Webscraper/code/ip_address.ipynb#X13sZmlsZQ%3D%3D?line=8'>9</a>\u001b[0m \u001b[39m#driver = webdriver.Chrome(options=options, executable_path=r'C:\\WebDrivers\\chromedriver.exe')\u001b[39;00m\n",
      "File \u001b[1;32mc:\\Users\\mriedeman\\Anaconda3\\envs\\webscraper\\lib\\site-packages\\webdriver_manager\\chrome.py:39\u001b[0m, in \u001b[0;36mChromeDriverManager.install\u001b[1;34m(self)\u001b[0m\n\u001b[0;32m     38\u001b[0m \u001b[39mdef\u001b[39;00m \u001b[39minstall\u001b[39m(\u001b[39mself\u001b[39m) \u001b[39m-\u001b[39m\u001b[39m>\u001b[39m \u001b[39mstr\u001b[39m:\n\u001b[1;32m---> 39\u001b[0m     driver_path \u001b[39m=\u001b[39m \u001b[39mself\u001b[39;49m\u001b[39m.\u001b[39;49m_get_driver_path(\u001b[39mself\u001b[39;49m\u001b[39m.\u001b[39;49mdriver)\n\u001b[0;32m     40\u001b[0m     os\u001b[39m.\u001b[39mchmod(driver_path, \u001b[39m0o755\u001b[39m)\n\u001b[0;32m     41\u001b[0m     \u001b[39mreturn\u001b[39;00m driver_path\n",
      "File \u001b[1;32mc:\\Users\\mriedeman\\Anaconda3\\envs\\webscraper\\lib\\site-packages\\webdriver_manager\\core\\manager.py:26\u001b[0m, in \u001b[0;36mDriverManager._get_driver_path\u001b[1;34m(self, driver)\u001b[0m\n\u001b[0;32m     25\u001b[0m \u001b[39mdef\u001b[39;00m \u001b[39m_get_driver_path\u001b[39m(\u001b[39mself\u001b[39m, driver):\n\u001b[1;32m---> 26\u001b[0m     binary_path \u001b[39m=\u001b[39m \u001b[39mself\u001b[39;49m\u001b[39m.\u001b[39;49mdriver_cache\u001b[39m.\u001b[39;49mfind_driver(driver)\n\u001b[0;32m     27\u001b[0m     \u001b[39mif\u001b[39;00m binary_path:\n\u001b[0;32m     28\u001b[0m         \u001b[39mreturn\u001b[39;00m binary_path\n",
      "File \u001b[1;32mc:\\Users\\mriedeman\\Anaconda3\\envs\\webscraper\\lib\\site-packages\\webdriver_manager\\core\\driver_cache.py:96\u001b[0m, in \u001b[0;36mDriverCache.find_driver\u001b[1;34m(self, driver)\u001b[0m\n\u001b[0;32m     94\u001b[0m os_type \u001b[39m=\u001b[39m driver\u001b[39m.\u001b[39mget_os_type()\n\u001b[0;32m     95\u001b[0m driver_name \u001b[39m=\u001b[39m driver\u001b[39m.\u001b[39mget_name()\n\u001b[1;32m---> 96\u001b[0m driver_version \u001b[39m=\u001b[39m driver\u001b[39m.\u001b[39;49mget_version()\n\u001b[0;32m     97\u001b[0m browser_version \u001b[39m=\u001b[39m driver\u001b[39m.\u001b[39mget_browser_version()\n\u001b[0;32m     98\u001b[0m browser_type \u001b[39m=\u001b[39m driver\u001b[39m.\u001b[39mget_browser_type()\n",
      "File \u001b[1;32mc:\\Users\\mriedeman\\Anaconda3\\envs\\webscraper\\lib\\site-packages\\webdriver_manager\\core\\driver.py:45\u001b[0m, in \u001b[0;36mDriver.get_version\u001b[1;34m(self)\u001b[0m\n\u001b[0;32m     43\u001b[0m \u001b[39mif\u001b[39;00m \u001b[39mnot\u001b[39;00m \u001b[39mself\u001b[39m\u001b[39m.\u001b[39m_version:\n\u001b[0;32m     44\u001b[0m     \u001b[39mtry\u001b[39;00m:\n\u001b[1;32m---> 45\u001b[0m         \u001b[39mreturn\u001b[39;00m \u001b[39mself\u001b[39;49m\u001b[39m.\u001b[39;49mget_latest_release_version()\n\u001b[0;32m     46\u001b[0m     \u001b[39mexcept\u001b[39;00m \u001b[39mException\u001b[39;00m:\n\u001b[0;32m     47\u001b[0m         \u001b[39mreturn\u001b[39;00m \u001b[39mself\u001b[39m\u001b[39m.\u001b[39mget_browser_version()\n",
      "File \u001b[1;32mc:\\Users\\mriedeman\\Anaconda3\\envs\\webscraper\\lib\\site-packages\\webdriver_manager\\drivers\\chrome.py:40\u001b[0m, in \u001b[0;36mChromeDriver.get_latest_release_version\u001b[1;34m(self)\u001b[0m\n\u001b[0;32m     39\u001b[0m \u001b[39mdef\u001b[39;00m \u001b[39mget_latest_release_version\u001b[39m(\u001b[39mself\u001b[39m):\n\u001b[1;32m---> 40\u001b[0m     browser_version \u001b[39m=\u001b[39m \u001b[39mself\u001b[39;49m\u001b[39m.\u001b[39;49mget_browser_version()\n\u001b[0;32m     41\u001b[0m     log(\u001b[39mf\u001b[39m\u001b[39m\"\u001b[39m\u001b[39mGet LATEST \u001b[39m\u001b[39m{\u001b[39;00m\u001b[39mself\u001b[39m\u001b[39m.\u001b[39m_name\u001b[39m}\u001b[39;00m\u001b[39m version for \u001b[39m\u001b[39m{\u001b[39;00m\u001b[39mself\u001b[39m\u001b[39m.\u001b[39mget_browser_type()\u001b[39m}\u001b[39;00m\u001b[39m \u001b[39m\u001b[39m{\u001b[39;00mbrowser_version\u001b[39m}\u001b[39;00m\u001b[39m\"\u001b[39m)\n\u001b[0;32m     42\u001b[0m     latest_release_url \u001b[39m=\u001b[39m (\n\u001b[0;32m     43\u001b[0m         \u001b[39mf\u001b[39m\u001b[39m\"\u001b[39m\u001b[39m{\u001b[39;00m\u001b[39mself\u001b[39m\u001b[39m.\u001b[39m_latest_release_url\u001b[39m}\u001b[39;00m\u001b[39m_\u001b[39m\u001b[39m{\u001b[39;00mbrowser_version\u001b[39m}\u001b[39;00m\u001b[39m\"\u001b[39m\n\u001b[0;32m     44\u001b[0m         \u001b[39mif\u001b[39;00m browser_version\n\u001b[0;32m     45\u001b[0m         \u001b[39melse\u001b[39;00m \u001b[39mself\u001b[39m\u001b[39m.\u001b[39m_latest_release_url\n\u001b[0;32m     46\u001b[0m     )\n",
      "File \u001b[1;32mc:\\Users\\mriedeman\\Anaconda3\\envs\\webscraper\\lib\\site-packages\\webdriver_manager\\core\\driver.py:55\u001b[0m, in \u001b[0;36mDriver.get_browser_version\u001b[1;34m(self)\u001b[0m\n\u001b[0;32m     54\u001b[0m \u001b[39mdef\u001b[39;00m \u001b[39mget_browser_version\u001b[39m(\u001b[39mself\u001b[39m):\n\u001b[1;32m---> 55\u001b[0m     \u001b[39mreturn\u001b[39;00m get_browser_version_from_os(\u001b[39mself\u001b[39;49m\u001b[39m.\u001b[39;49mget_browser_type())\n",
      "File \u001b[1;32mc:\\Users\\mriedeman\\Anaconda3\\envs\\webscraper\\lib\\site-packages\\webdriver_manager\\core\\utils.py:222\u001b[0m, in \u001b[0;36mget_browser_version_from_os\u001b[1;34m(browser_type)\u001b[0m\n\u001b[0;32m    220\u001b[0m     cmd_mapping \u001b[39m=\u001b[39m cmd_mapping[browser_type][os_name()]\n\u001b[0;32m    221\u001b[0m     pattern \u001b[39m=\u001b[39m PATTERN[browser_type]\n\u001b[1;32m--> 222\u001b[0m     version \u001b[39m=\u001b[39m read_version_from_cmd(cmd_mapping, pattern)\n\u001b[0;32m    223\u001b[0m     \u001b[39mreturn\u001b[39;00m version\n\u001b[0;32m    224\u001b[0m \u001b[39mexcept\u001b[39;00m \u001b[39mException\u001b[39;00m:\n",
      "File \u001b[1;32mc:\\Users\\mriedeman\\Anaconda3\\envs\\webscraper\\lib\\site-packages\\webdriver_manager\\core\\utils.py:263\u001b[0m, in \u001b[0;36mread_version_from_cmd\u001b[1;34m(cmd, pattern)\u001b[0m\n\u001b[0;32m    255\u001b[0m \u001b[39mdef\u001b[39;00m \u001b[39mread_version_from_cmd\u001b[39m(cmd, pattern):\n\u001b[0;32m    256\u001b[0m     \u001b[39mwith\u001b[39;00m subprocess\u001b[39m.\u001b[39mPopen(\n\u001b[0;32m    257\u001b[0m             cmd,\n\u001b[0;32m    258\u001b[0m             stdout\u001b[39m=\u001b[39msubprocess\u001b[39m.\u001b[39mPIPE,\n\u001b[1;32m   (...)\u001b[0m\n\u001b[0;32m    261\u001b[0m             shell\u001b[39m=\u001b[39m\u001b[39mTrue\u001b[39;00m,\n\u001b[0;32m    262\u001b[0m     ) \u001b[39mas\u001b[39;00m stream:\n\u001b[1;32m--> 263\u001b[0m         stdout \u001b[39m=\u001b[39m stream\u001b[39m.\u001b[39;49mcommunicate()[\u001b[39m0\u001b[39m]\u001b[39m.\u001b[39mdecode()\n\u001b[0;32m    264\u001b[0m         version \u001b[39m=\u001b[39m re\u001b[39m.\u001b[39msearch(pattern, stdout)\n\u001b[0;32m    265\u001b[0m         version \u001b[39m=\u001b[39m version\u001b[39m.\u001b[39mgroup(\u001b[39m0\u001b[39m) \u001b[39mif\u001b[39;00m version \u001b[39melse\u001b[39;00m \u001b[39mNone\u001b[39;00m\n",
      "File \u001b[1;32mc:\\Users\\mriedeman\\Anaconda3\\envs\\webscraper\\lib\\subprocess.py:1121\u001b[0m, in \u001b[0;36mPopen.communicate\u001b[1;34m(self, input, timeout)\u001b[0m\n\u001b[0;32m   1119\u001b[0m     \u001b[39mself\u001b[39m\u001b[39m.\u001b[39m_stdin_write(\u001b[39minput\u001b[39m)\n\u001b[0;32m   1120\u001b[0m \u001b[39melif\u001b[39;00m \u001b[39mself\u001b[39m\u001b[39m.\u001b[39mstdout:\n\u001b[1;32m-> 1121\u001b[0m     stdout \u001b[39m=\u001b[39m \u001b[39mself\u001b[39;49m\u001b[39m.\u001b[39;49mstdout\u001b[39m.\u001b[39;49mread()\n\u001b[0;32m   1122\u001b[0m     \u001b[39mself\u001b[39m\u001b[39m.\u001b[39mstdout\u001b[39m.\u001b[39mclose()\n\u001b[0;32m   1123\u001b[0m \u001b[39melif\u001b[39;00m \u001b[39mself\u001b[39m\u001b[39m.\u001b[39mstderr:\n",
      "\u001b[1;31mKeyboardInterrupt\u001b[0m: "
     ]
    }
   ],
   "source": [
    "for i in range(0, len(proxies)):\n",
    "    try:\n",
    "        print(\"Proxy selected: {}\".format(proxies[i]))\n",
    "        options = webdriver.ChromeOptions()\n",
    "        options.add_argument('--proxy-server={}'.format(proxies[i]))\n",
    "\n",
    "        s=Service(ChromeDriverManager().install())\n",
    "        driver = webdriver.Chrome(service=s, chrome_options= options)\n",
    "        #driver = webdriver.Chrome(options=options, executable_path=r'C:\\WebDrivers\\chromedriver.exe')\n",
    "        driver.get(\"https://www.whatismyip.com/proxy-check/?iref=home\")\n",
    "        if \"Proxy Type\" in WebDriverWait(driver, 5).until(EC.visibility_of_element_located((By.CSS_SELECTOR, \"p.card-text\"))):\n",
    "            break\n",
    "    except Exception:\n",
    "        driver.quit()\n",
    "print(\"Proxy Invoked\")"
   ]
  },
  {
   "cell_type": "code",
   "execution_count": null,
   "metadata": {},
   "outputs": [],
   "source": [
    "from selenium import webdriver\n",
    "from selenium.webdriver.support.ui import WebDriverWait\n",
    "from selenium.webdriver.common.by import By\n",
    "from selenium.webdriver.support import expected_conditions as EC\n",
    "from selenium.common.exceptions import TimeoutException\n",
    "\n",
    "options = webdriver.ChromeOptions()\n",
    "options.add_argument(\"start-maximized\")\n",
    "options.add_experimental_option(\"excludeSwitches\", [\"enable-automation\"])\n",
    "options.add_experimental_option('useAutomationExtension', False)\n",
    "\n",
    "driver = webdriver.Chrome(chrome_options=options, executable_path=r'C:\\WebDrivers\\chromedriver.exe')\n",
    "driver.get(\"https://sslproxies.org/\")\n",
    "\n",
    "driver.execute_script(\"return arguments[0].scrollIntoView(true);\", WebDriverWait(driver, 20).until(EC.visibility_of_element_located((By.XPATH, \"//table[@class='table table-striped table-bordered dataTable']//th[contains(., 'IP Address')]\"))))\n",
    "ips = [my_elem.get_attribute(\"innerHTML\") for my_elem in WebDriverWait(driver, 5).until(EC.visibility_of_all_elements_located((By.XPATH, \"//table[@class='table table-striped table-bordered dataTable']//tbody//tr[@role='row']/td[position() = 1]\")))]\n",
    "ports = [my_elem.get_attribute(\"innerHTML\") for my_elem in WebDriverWait(driver, 5).until(EC.visibility_of_all_elements_located((By.XPATH, \"//table[@class='table table-striped table-bordered dataTable']//tbody//tr[@role='row']/td[position() = 2]\")))]\n",
    "driver.quit()\n",
    "proxies = []\n",
    "for i in range(0, len(ips)):\n",
    "    proxies.append(ips[i]+':'+ports[i])\n",
    "print(proxies)\n",
    "for i in range(0, len(proxies)):\n",
    "    try:\n",
    "        print(\"Proxy selected: {}\".format(proxies[i]))\n",
    "        options = webdriver.ChromeOptions()\n",
    "        options.add_argument('--proxy-server={}'.format(proxies[i]))\n",
    "        driver = webdriver.Chrome(options=options, executable_path=r'C:\\WebDrivers\\chromedriver.exe')\n",
    "        driver.get(\"https://www.whatismyip.com/proxy-check/?iref=home\")\n",
    "        if \"Proxy Type\" in WebDriverWait(driver, 5).until(EC.visibility_of_element_located((By.CSS_SELECTOR, \"p.card-text\"))):\n",
    "            break\n",
    "    except Exception:\n",
    "        driver.quit()\n",
    "print(\"Proxy Invoked\")"
   ]
  }
 ],
 "metadata": {
  "kernelspec": {
   "display_name": "Python 3.9.12 ('webscraper')",
   "language": "python",
   "name": "python3"
  },
  "language_info": {
   "codemirror_mode": {
    "name": "ipython",
    "version": 3
   },
   "file_extension": ".py",
   "mimetype": "text/x-python",
   "name": "python",
   "nbconvert_exporter": "python",
   "pygments_lexer": "ipython3",
   "version": "3.9.12"
  },
  "orig_nbformat": 4,
  "vscode": {
   "interpreter": {
    "hash": "c780947fbb818c7495fd9532412a3eb8d06e8fa4b61a49db8737789eaef9d63e"
   }
  }
 },
 "nbformat": 4,
 "nbformat_minor": 2
}

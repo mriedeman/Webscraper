{
 "cells": [
  {
   "cell_type": "code",
   "execution_count": 8,
   "metadata": {},
   "outputs": [],
   "source": [
    "from selenium import webdriver\n",
    "from datetime import date, timedelta\n",
    "import holidays\n",
    "import os \n"
   ]
  },
  {
   "cell_type": "code",
   "execution_count": 9,
   "metadata": {},
   "outputs": [],
   "source": [
    "# end_date used to calculate all Mondays for trips\n",
    "int_stop_date = date(2022, 10, 31)\n",
    "dom_stop_date = date(2022, 10, 31)\n",
    "\n",
    "# list of closed holidays\n",
    "country_holidays = {\n",
    "    'USA': (\"Memorial\",\"Labor\",\"Independence\",\"Thanksgiving\",\"Christmas\",\"New Year's\"),\n",
    "    'CAN': (\"New Year's Day\",\"Family Day\",\"Victoria Day\",\"Canada Day\",\"Civic Holiday\",\"Labour Day\",\"Thanksgiving\",\"Remembrance Day\",\"Christmas Day\",\"Boxing Day\")\n",
    "}\n",
    "\n",
    "executable_path = \"C:\\Program Files\\Chromedriver\\chromedriver.exe\""
   ]
  },
  {
   "cell_type": "code",
   "execution_count": 20,
   "metadata": {},
   "outputs": [
    {
     "data": {
      "text/plain": [
       "datetime.date(2022, 10, 31)"
      ]
     },
     "execution_count": 20,
     "metadata": {},
     "output_type": "execute_result"
    }
   ],
   "source": [
    "# year, month day format\n",
    "dom_stop_date"
   ]
  },
  {
   "cell_type": "markdown",
   "metadata": {},
   "source": [
    "## The allFridays, allMondays\n",
    "### Test methods"
   ]
  },
  {
   "cell_type": "code",
   "execution_count": 16,
   "metadata": {},
   "outputs": [
    {
     "name": "stdout",
     "output_type": "stream",
     "text": [
      "0\n",
      "1\n",
      "2\n",
      "3\n",
      "4\n",
      "5\n",
      "6\n"
     ]
    }
   ],
   "source": [
    "#today is tuesday\n",
    "\n",
    "tuesday = date.today() #same format as dom_stop_date\n",
    "monday = tuesday - timedelta(1)\n",
    "wednesday = tuesday + timedelta(1)\n",
    "thursday = wednesday + timedelta(1)\n",
    "friday = thursday + timedelta(1)\n",
    "saturday = friday + timedelta(1)\n",
    "sunday = saturday + timedelta(1)\n",
    "\n",
    "#numbers correspond to the day of the week starting from 0, \n",
    "print(monday.weekday())\n",
    "print(tuesday.weekday()) \n",
    "print(wednesday.weekday())\n",
    "print(thursday.weekday())\n",
    "print(friday.weekday())\n",
    "print(saturday.weekday())\n",
    "print(sunday.weekday())"
   ]
  },
  {
   "cell_type": "markdown",
   "metadata": {},
   "source": [
    "### Add Comments to Function"
   ]
  },
  {
   "cell_type": "code",
   "execution_count": 28,
   "metadata": {},
   "outputs": [],
   "source": [
    "\n",
    "def allFridays(dom_stop_date):\n",
    "    \"\"\" This function generates a list of all Fridays after today, until the specified end date\"\"\"\n",
    "\n",
    "    d = date.today()\n",
    "    #while it is not friday, add 1 day\n",
    "    while d.weekday() != 4:\n",
    "        d += timedelta(1)\n",
    "    #create a generator of all the fridays until the specified stop date starting \n",
    "    while d <= dom_stop_date:\n",
    "        yield d\n",
    "        d += timedelta(days=7)"
   ]
  },
  {
   "cell_type": "code",
   "execution_count": 25,
   "metadata": {},
   "outputs": [
    {
     "name": "stdout",
     "output_type": "stream",
     "text": [
      "1\n",
      "8\n",
      "27\n",
      "64\n",
      "125\n",
      "216\n",
      "343\n",
      "512\n",
      "729\n",
      "1000\n"
     ]
    }
   ],
   "source": [
    "def cubes():\n",
    "    \n",
    "    i = 1\n",
    "    while True:\n",
    "        \n",
    "        cubed = i * i * i\n",
    "\n",
    "        if cubed > 1000:\n",
    "            break\n",
    "        else:\n",
    "            yield cubed\n",
    "            i += 1\n",
    "\n",
    "for num in cubes():\n",
    "    print(num)\n",
    "            "
   ]
  },
  {
   "cell_type": "code",
   "execution_count": 27,
   "metadata": {},
   "outputs": [
    {
     "name": "stdout",
     "output_type": "stream",
     "text": [
      "0 2022-08-19\n",
      "1 2022-08-26\n",
      "2 2022-09-02\n",
      "3 2022-09-09\n",
      "4 2022-09-16\n",
      "5 2022-09-23\n",
      "6 2022-09-30\n",
      "7 2022-10-07\n",
      "8 2022-10-14\n",
      "9 2022-10-21\n",
      "10 2022-10-28\n"
     ]
    }
   ],
   "source": [
    "# yield creates a generator object that is iterable, generator \n",
    "#https://www.machinelearningplus.com/python/what-does-yield-keyword-do/#:~:text=yield%20in%20Python%20can%20be,using%20the%20next()%20function.\n",
    "\n",
    "for i, day in enumerate(allFridays(dom_stop_date)):\n",
    "    print(i, day)"
   ]
  },
  {
   "cell_type": "code",
   "execution_count": null,
   "metadata": {},
   "outputs": [],
   "source": [
    "now = datetime.now()\n",
    "year = now.strftime(\"%Y\")\n",
    "month = now.strftime(\"%M\")\n",
    "day = now.strftime(\"%d\")\n",
    "\n",
    "print(now)\n",
    "print(year, month, day)"
   ]
  },
  {
   "cell_type": "code",
   "execution_count": null,
   "metadata": {},
   "outputs": [],
   "source": []
  },
  {
   "cell_type": "code",
   "execution_count": 37,
   "metadata": {},
   "outputs": [
    {
     "name": "stdout",
     "output_type": "stream",
     "text": [
      "0\n",
      "1\n",
      "2\n",
      "3\n",
      "4\n",
      "5\n",
      "6\n",
      "current_day: 2022-08-08\n",
      "cd_weekday: 0\n",
      "timechange: 7 days, 0:00:00\n",
      "...\n",
      "next_monday: 2022-08-15\n"
     ]
    }
   ],
   "source": [
    "tuesday = date.today() #same format as dom_stop_date\n",
    "monday = tuesday - timedelta(1)\n",
    "wednesday = tuesday + timedelta(1)\n",
    "thursday = wednesday + timedelta(1)\n",
    "friday = thursday + timedelta(1)\n",
    "saturday = friday + timedelta(1)\n",
    "sunday = saturday + timedelta(1)\n",
    "\n",
    "#numbers correspond to the day of the week starting from 0, \n",
    "print(monday.weekday())\n",
    "print(tuesday.weekday()) \n",
    "print(wednesday.weekday())\n",
    "print(thursday.weekday())\n",
    "print(friday.weekday())\n",
    "print(saturday.weekday())\n",
    "print(sunday.weekday())\n",
    "\n",
    "\n",
    "current_day = wednesday.weekday()\n",
    "\n",
    "print(f\"current_day: {current_day}\")\n",
    "print(f\"cd_weekday: {current_day()}\")\n",
    "\n",
    "timechange = timedelta(7-current_day)\n",
    "print(f\"timechange: {timechange}\")\n",
    "\n",
    "\n",
    "print('...')\n",
    "\n",
    "next_monday = current_day + timechange\n",
    "\n",
    "print(f'next_monday: {next_monday}')\n",
    "\n"
   ]
  },
  {
   "cell_type": "code",
   "execution_count": 38,
   "metadata": {},
   "outputs": [],
   "source": [
    "# function to generate list of mondays\n",
    "def allMondays(int_stop_date):\n",
    "    \"\"\" This function generates a list of all Mondays after today, until the specified end date\"\"\"\n",
    "    d = date.today()\n",
    "    # d = date(2022, 1, 1)\n",
    "\n",
    "    #algorithm: d.weekday is a number 0 to 6, subtract that from 7 to determine how many days must be added to the current date to find the next monday\n",
    "    #once monday is found, add it to the generator, continue to add 7 and add that number to the generator until the stop date is reached\n",
    "    d += timedelta(7 - d.weekday())\n",
    "    while d <= int_stop_date:\n",
    "        yield d\n",
    "        d += timedelta(days = 7)"
   ]
  },
  {
   "cell_type": "code",
   "execution_count": 39,
   "metadata": {},
   "outputs": [
    {
     "data": {
      "text/plain": [
       "<generator object allMondays at 0x0000026317FE8A50>"
      ]
     },
     "execution_count": 39,
     "metadata": {},
     "output_type": "execute_result"
    }
   ],
   "source": [
    "allMondays(int_stop_date)"
   ]
  },
  {
   "cell_type": "code",
   "execution_count": 40,
   "metadata": {},
   "outputs": [
    {
     "name": "stdout",
     "output_type": "stream",
     "text": [
      "0 2022-08-15 <class 'datetime.date'>\n",
      "1 2022-08-22 <class 'datetime.date'>\n",
      "2 2022-08-29 <class 'datetime.date'>\n",
      "3 2022-09-05 <class 'datetime.date'>\n",
      "4 2022-09-12 <class 'datetime.date'>\n",
      "5 2022-09-19 <class 'datetime.date'>\n",
      "6 2022-09-26 <class 'datetime.date'>\n",
      "7 2022-10-03 <class 'datetime.date'>\n",
      "8 2022-10-10 <class 'datetime.date'>\n",
      "9 2022-10-17 <class 'datetime.date'>\n",
      "10 2022-10-24 <class 'datetime.date'>\n",
      "11 2022-10-31 <class 'datetime.date'>\n"
     ]
    }
   ],
   "source": [
    "for index, mundayzzz in enumerate(allMondays(int_stop_date)):\n",
    "\n",
    "    print(index, mundayzzz, type(mundayzzz))"
   ]
  },
  {
   "cell_type": "code",
   "execution_count": 49,
   "metadata": {},
   "outputs": [
    {
     "name": "stdout",
     "output_type": "stream",
     "text": [
      "2022\n",
      "[2022, 2023, 2024]\n",
      "('Memorial', 'Labor', 'Independence', 'Thanksgiving', 'Christmas', \"New Year's\")\n"
     ]
    },
    {
     "data": {
      "text/plain": [
       "[(datetime.date(2024, 1, 1), \"New Year's Day\"),\n",
       " (datetime.date(2024, 1, 15), 'Martin Luther King Jr. Day'),\n",
       " (datetime.date(2024, 2, 19), \"Washington's Birthday\"),\n",
       " (datetime.date(2024, 5, 27), 'Memorial Day'),\n",
       " (datetime.date(2024, 6, 19), 'Juneteenth National Independence Day'),\n",
       " (datetime.date(2024, 7, 4), 'Independence Day'),\n",
       " (datetime.date(2024, 9, 2), 'Labor Day'),\n",
       " (datetime.date(2024, 10, 14), 'Columbus Day'),\n",
       " (datetime.date(2024, 11, 11), 'Veterans Day'),\n",
       " (datetime.date(2024, 11, 28), 'Thanksgiving'),\n",
       " (datetime.date(2024, 12, 25), 'Christmas Day'),\n",
       " (datetime.date(2022, 1, 1), \"New Year's Day\"),\n",
       " (datetime.date(2022, 1, 17), 'Martin Luther King Jr. Day'),\n",
       " (datetime.date(2022, 2, 21), \"Washington's Birthday\"),\n",
       " (datetime.date(2022, 5, 30), 'Memorial Day'),\n",
       " (datetime.date(2022, 6, 19), 'Juneteenth National Independence Day'),\n",
       " (datetime.date(2022, 6, 20),\n",
       "  'Juneteenth National Independence Day (Observed)'),\n",
       " (datetime.date(2022, 7, 4), 'Independence Day'),\n",
       " (datetime.date(2022, 9, 5), 'Labor Day'),\n",
       " (datetime.date(2022, 10, 10), 'Columbus Day'),\n",
       " (datetime.date(2022, 11, 11), 'Veterans Day'),\n",
       " (datetime.date(2022, 11, 24), 'Thanksgiving'),\n",
       " (datetime.date(2022, 12, 25), 'Christmas Day'),\n",
       " (datetime.date(2022, 12, 26), 'Christmas Day (Observed)'),\n",
       " (datetime.date(2023, 1, 1), \"New Year's Day\"),\n",
       " (datetime.date(2023, 1, 2), \"New Year's Day (Observed)\"),\n",
       " (datetime.date(2023, 1, 16), 'Martin Luther King Jr. Day'),\n",
       " (datetime.date(2023, 2, 20), \"Washington's Birthday\"),\n",
       " (datetime.date(2023, 5, 29), 'Memorial Day'),\n",
       " (datetime.date(2023, 6, 19), 'Juneteenth National Independence Day'),\n",
       " (datetime.date(2023, 7, 4), 'Independence Day'),\n",
       " (datetime.date(2023, 9, 4), 'Labor Day'),\n",
       " (datetime.date(2023, 10, 9), 'Columbus Day'),\n",
       " (datetime.date(2023, 11, 11), 'Veterans Day'),\n",
       " (datetime.date(2023, 11, 10), 'Veterans Day (Observed)'),\n",
       " (datetime.date(2023, 11, 23), 'Thanksgiving'),\n",
       " (datetime.date(2023, 12, 25), 'Christmas Day')]"
      ]
     },
     "execution_count": 49,
     "metadata": {},
     "output_type": "execute_result"
    }
   ],
   "source": [
    "year = date.today().year\n",
    "print(year)\n",
    "years = [year, year + 1, year + 2]\n",
    "print(years)\n",
    "\n",
    "holiday_days = country_holidays['USA']\n",
    "print(holiday_days)\n",
    "\n",
    "list(holidays.US(years = years).items())\n",
    "\n",
    "#there is a line before intoHolidayClosures and creatrips functions are called that specifies if US is true or false based on \n",
    "# US = True if city['country'] == 'USA' else False\n",
    "\n"
   ]
  },
  {
   "cell_type": "code",
   "execution_count": 50,
   "metadata": {},
   "outputs": [
    {
     "data": {
      "text/plain": [
       "[datetime.date(2024, 1, 1),\n",
       " datetime.date(2024, 1, 15),\n",
       " datetime.date(2024, 2, 19),\n",
       " datetime.date(2024, 5, 27),\n",
       " datetime.date(2024, 6, 19),\n",
       " datetime.date(2024, 7, 4),\n",
       " datetime.date(2024, 9, 2),\n",
       " datetime.date(2024, 10, 14),\n",
       " datetime.date(2024, 11, 11),\n",
       " datetime.date(2024, 11, 28),\n",
       " datetime.date(2024, 12, 25),\n",
       " datetime.date(2022, 1, 1),\n",
       " datetime.date(2022, 1, 17),\n",
       " datetime.date(2022, 2, 21),\n",
       " datetime.date(2022, 5, 30),\n",
       " datetime.date(2022, 6, 19),\n",
       " datetime.date(2022, 6, 20),\n",
       " datetime.date(2022, 7, 4),\n",
       " datetime.date(2022, 9, 5),\n",
       " datetime.date(2022, 10, 10),\n",
       " datetime.date(2022, 11, 11),\n",
       " datetime.date(2022, 11, 24),\n",
       " datetime.date(2022, 12, 25),\n",
       " datetime.date(2022, 12, 26),\n",
       " datetime.date(2023, 1, 1),\n",
       " datetime.date(2023, 1, 2),\n",
       " datetime.date(2023, 1, 16),\n",
       " datetime.date(2023, 2, 20),\n",
       " datetime.date(2023, 5, 29),\n",
       " datetime.date(2023, 6, 19),\n",
       " datetime.date(2023, 7, 4),\n",
       " datetime.date(2023, 9, 4),\n",
       " datetime.date(2023, 10, 9),\n",
       " datetime.date(2023, 11, 11),\n",
       " datetime.date(2023, 11, 10),\n",
       " datetime.date(2023, 11, 23),\n",
       " datetime.date(2023, 12, 25)]"
      ]
     },
     "execution_count": 50,
     "metadata": {},
     "output_type": "execute_result"
    }
   ],
   "source": [
    "list(holidays.US(years = years))"
   ]
  },
  {
   "cell_type": "code",
   "execution_count": 51,
   "metadata": {},
   "outputs": [
    {
     "name": "stdout",
     "output_type": "stream",
     "text": [
      "Memorial\n",
      "Labor\n",
      "Independence\n",
      "Thanksgiving\n",
      "Christmas\n",
      "New Year's\n"
     ]
    }
   ],
   "source": [
    "for item in holiday_days:\n",
    "    print(item)"
   ]
  },
  {
   "cell_type": "code",
   "execution_count": 53,
   "metadata": {},
   "outputs": [
    {
     "name": "stdout",
     "output_type": "stream",
     "text": [
      "Memorial (datetime.date(2024, 1, 1), \"New Year's Day\")\n",
      "Memorial (datetime.date(2024, 1, 15), 'Martin Luther King Jr. Day')\n",
      "Memorial (datetime.date(2024, 2, 19), \"Washington's Birthday\")\n",
      "Memorial (datetime.date(2024, 5, 27), 'Memorial Day')\n",
      "Memorial (datetime.date(2024, 6, 19), 'Juneteenth National Independence Day')\n",
      "Memorial (datetime.date(2024, 7, 4), 'Independence Day')\n",
      "Memorial (datetime.date(2024, 9, 2), 'Labor Day')\n",
      "Memorial (datetime.date(2024, 10, 14), 'Columbus Day')\n",
      "Memorial (datetime.date(2024, 11, 11), 'Veterans Day')\n",
      "Memorial (datetime.date(2024, 11, 28), 'Thanksgiving')\n",
      "Memorial (datetime.date(2024, 12, 25), 'Christmas Day')\n",
      "Memorial (datetime.date(2022, 1, 1), \"New Year's Day\")\n",
      "Memorial (datetime.date(2022, 1, 17), 'Martin Luther King Jr. Day')\n",
      "Memorial (datetime.date(2022, 2, 21), \"Washington's Birthday\")\n",
      "Memorial (datetime.date(2022, 5, 30), 'Memorial Day')\n",
      "Memorial (datetime.date(2022, 6, 19), 'Juneteenth National Independence Day')\n",
      "Memorial (datetime.date(2022, 6, 20), 'Juneteenth National Independence Day (Observed)')\n",
      "Memorial (datetime.date(2022, 7, 4), 'Independence Day')\n",
      "Memorial (datetime.date(2022, 9, 5), 'Labor Day')\n",
      "Memorial (datetime.date(2022, 10, 10), 'Columbus Day')\n",
      "Memorial (datetime.date(2022, 11, 11), 'Veterans Day')\n",
      "Memorial (datetime.date(2022, 11, 24), 'Thanksgiving')\n",
      "Memorial (datetime.date(2022, 12, 25), 'Christmas Day')\n",
      "Memorial (datetime.date(2022, 12, 26), 'Christmas Day (Observed)')\n",
      "Memorial (datetime.date(2023, 1, 1), \"New Year's Day\")\n",
      "Memorial (datetime.date(2023, 1, 2), \"New Year's Day (Observed)\")\n",
      "Memorial (datetime.date(2023, 1, 16), 'Martin Luther King Jr. Day')\n",
      "Memorial (datetime.date(2023, 2, 20), \"Washington's Birthday\")\n",
      "Memorial (datetime.date(2023, 5, 29), 'Memorial Day')\n",
      "Memorial (datetime.date(2023, 6, 19), 'Juneteenth National Independence Day')\n",
      "Memorial (datetime.date(2023, 7, 4), 'Independence Day')\n",
      "Memorial (datetime.date(2023, 9, 4), 'Labor Day')\n",
      "Memorial (datetime.date(2023, 10, 9), 'Columbus Day')\n",
      "Memorial (datetime.date(2023, 11, 11), 'Veterans Day')\n",
      "Memorial (datetime.date(2023, 11, 10), 'Veterans Day (Observed)')\n",
      "Memorial (datetime.date(2023, 11, 23), 'Thanksgiving')\n",
      "Memorial (datetime.date(2023, 12, 25), 'Christmas Day')\n",
      "Labor (datetime.date(2024, 1, 1), \"New Year's Day\")\n",
      "Labor (datetime.date(2024, 1, 15), 'Martin Luther King Jr. Day')\n",
      "Labor (datetime.date(2024, 2, 19), \"Washington's Birthday\")\n",
      "Labor (datetime.date(2024, 5, 27), 'Memorial Day')\n",
      "Labor (datetime.date(2024, 6, 19), 'Juneteenth National Independence Day')\n",
      "Labor (datetime.date(2024, 7, 4), 'Independence Day')\n",
      "Labor (datetime.date(2024, 9, 2), 'Labor Day')\n",
      "Labor (datetime.date(2024, 10, 14), 'Columbus Day')\n",
      "Labor (datetime.date(2024, 11, 11), 'Veterans Day')\n",
      "Labor (datetime.date(2024, 11, 28), 'Thanksgiving')\n",
      "Labor (datetime.date(2024, 12, 25), 'Christmas Day')\n",
      "Labor (datetime.date(2022, 1, 1), \"New Year's Day\")\n",
      "Labor (datetime.date(2022, 1, 17), 'Martin Luther King Jr. Day')\n",
      "Labor (datetime.date(2022, 2, 21), \"Washington's Birthday\")\n",
      "Labor (datetime.date(2022, 5, 30), 'Memorial Day')\n",
      "Labor (datetime.date(2022, 6, 19), 'Juneteenth National Independence Day')\n",
      "Labor (datetime.date(2022, 6, 20), 'Juneteenth National Independence Day (Observed)')\n",
      "Labor (datetime.date(2022, 7, 4), 'Independence Day')\n",
      "Labor (datetime.date(2022, 9, 5), 'Labor Day')\n",
      "Labor (datetime.date(2022, 10, 10), 'Columbus Day')\n",
      "Labor (datetime.date(2022, 11, 11), 'Veterans Day')\n",
      "Labor (datetime.date(2022, 11, 24), 'Thanksgiving')\n",
      "Labor (datetime.date(2022, 12, 25), 'Christmas Day')\n",
      "Labor (datetime.date(2022, 12, 26), 'Christmas Day (Observed)')\n",
      "Labor (datetime.date(2023, 1, 1), \"New Year's Day\")\n",
      "Labor (datetime.date(2023, 1, 2), \"New Year's Day (Observed)\")\n",
      "Labor (datetime.date(2023, 1, 16), 'Martin Luther King Jr. Day')\n",
      "Labor (datetime.date(2023, 2, 20), \"Washington's Birthday\")\n",
      "Labor (datetime.date(2023, 5, 29), 'Memorial Day')\n",
      "Labor (datetime.date(2023, 6, 19), 'Juneteenth National Independence Day')\n",
      "Labor (datetime.date(2023, 7, 4), 'Independence Day')\n",
      "Labor (datetime.date(2023, 9, 4), 'Labor Day')\n",
      "Labor (datetime.date(2023, 10, 9), 'Columbus Day')\n",
      "Labor (datetime.date(2023, 11, 11), 'Veterans Day')\n",
      "Labor (datetime.date(2023, 11, 10), 'Veterans Day (Observed)')\n",
      "Labor (datetime.date(2023, 11, 23), 'Thanksgiving')\n",
      "Labor (datetime.date(2023, 12, 25), 'Christmas Day')\n",
      "Independence (datetime.date(2024, 1, 1), \"New Year's Day\")\n",
      "Independence (datetime.date(2024, 1, 15), 'Martin Luther King Jr. Day')\n",
      "Independence (datetime.date(2024, 2, 19), \"Washington's Birthday\")\n",
      "Independence (datetime.date(2024, 5, 27), 'Memorial Day')\n",
      "Independence (datetime.date(2024, 6, 19), 'Juneteenth National Independence Day')\n",
      "Independence (datetime.date(2024, 7, 4), 'Independence Day')\n",
      "Independence (datetime.date(2024, 9, 2), 'Labor Day')\n",
      "Independence (datetime.date(2024, 10, 14), 'Columbus Day')\n",
      "Independence (datetime.date(2024, 11, 11), 'Veterans Day')\n",
      "Independence (datetime.date(2024, 11, 28), 'Thanksgiving')\n",
      "Independence (datetime.date(2024, 12, 25), 'Christmas Day')\n",
      "Independence (datetime.date(2022, 1, 1), \"New Year's Day\")\n",
      "Independence (datetime.date(2022, 1, 17), 'Martin Luther King Jr. Day')\n",
      "Independence (datetime.date(2022, 2, 21), \"Washington's Birthday\")\n",
      "Independence (datetime.date(2022, 5, 30), 'Memorial Day')\n",
      "Independence (datetime.date(2022, 6, 19), 'Juneteenth National Independence Day')\n",
      "Independence (datetime.date(2022, 6, 20), 'Juneteenth National Independence Day (Observed)')\n",
      "Independence (datetime.date(2022, 7, 4), 'Independence Day')\n",
      "Independence (datetime.date(2022, 9, 5), 'Labor Day')\n",
      "Independence (datetime.date(2022, 10, 10), 'Columbus Day')\n",
      "Independence (datetime.date(2022, 11, 11), 'Veterans Day')\n",
      "Independence (datetime.date(2022, 11, 24), 'Thanksgiving')\n",
      "Independence (datetime.date(2022, 12, 25), 'Christmas Day')\n",
      "Independence (datetime.date(2022, 12, 26), 'Christmas Day (Observed)')\n",
      "Independence (datetime.date(2023, 1, 1), \"New Year's Day\")\n",
      "Independence (datetime.date(2023, 1, 2), \"New Year's Day (Observed)\")\n",
      "Independence (datetime.date(2023, 1, 16), 'Martin Luther King Jr. Day')\n",
      "Independence (datetime.date(2023, 2, 20), \"Washington's Birthday\")\n",
      "Independence (datetime.date(2023, 5, 29), 'Memorial Day')\n",
      "Independence (datetime.date(2023, 6, 19), 'Juneteenth National Independence Day')\n",
      "Independence (datetime.date(2023, 7, 4), 'Independence Day')\n",
      "Independence (datetime.date(2023, 9, 4), 'Labor Day')\n",
      "Independence (datetime.date(2023, 10, 9), 'Columbus Day')\n",
      "Independence (datetime.date(2023, 11, 11), 'Veterans Day')\n",
      "Independence (datetime.date(2023, 11, 10), 'Veterans Day (Observed)')\n",
      "Independence (datetime.date(2023, 11, 23), 'Thanksgiving')\n",
      "Independence (datetime.date(2023, 12, 25), 'Christmas Day')\n",
      "Thanksgiving (datetime.date(2024, 1, 1), \"New Year's Day\")\n",
      "Thanksgiving (datetime.date(2024, 1, 15), 'Martin Luther King Jr. Day')\n",
      "Thanksgiving (datetime.date(2024, 2, 19), \"Washington's Birthday\")\n",
      "Thanksgiving (datetime.date(2024, 5, 27), 'Memorial Day')\n",
      "Thanksgiving (datetime.date(2024, 6, 19), 'Juneteenth National Independence Day')\n",
      "Thanksgiving (datetime.date(2024, 7, 4), 'Independence Day')\n",
      "Thanksgiving (datetime.date(2024, 9, 2), 'Labor Day')\n",
      "Thanksgiving (datetime.date(2024, 10, 14), 'Columbus Day')\n",
      "Thanksgiving (datetime.date(2024, 11, 11), 'Veterans Day')\n",
      "Thanksgiving (datetime.date(2024, 11, 28), 'Thanksgiving')\n",
      "Thanksgiving (datetime.date(2024, 12, 25), 'Christmas Day')\n",
      "Thanksgiving (datetime.date(2022, 1, 1), \"New Year's Day\")\n",
      "Thanksgiving (datetime.date(2022, 1, 17), 'Martin Luther King Jr. Day')\n",
      "Thanksgiving (datetime.date(2022, 2, 21), \"Washington's Birthday\")\n",
      "Thanksgiving (datetime.date(2022, 5, 30), 'Memorial Day')\n",
      "Thanksgiving (datetime.date(2022, 6, 19), 'Juneteenth National Independence Day')\n",
      "Thanksgiving (datetime.date(2022, 6, 20), 'Juneteenth National Independence Day (Observed)')\n",
      "Thanksgiving (datetime.date(2022, 7, 4), 'Independence Day')\n",
      "Thanksgiving (datetime.date(2022, 9, 5), 'Labor Day')\n",
      "Thanksgiving (datetime.date(2022, 10, 10), 'Columbus Day')\n",
      "Thanksgiving (datetime.date(2022, 11, 11), 'Veterans Day')\n",
      "Thanksgiving (datetime.date(2022, 11, 24), 'Thanksgiving')\n",
      "Thanksgiving (datetime.date(2022, 12, 25), 'Christmas Day')\n",
      "Thanksgiving (datetime.date(2022, 12, 26), 'Christmas Day (Observed)')\n",
      "Thanksgiving (datetime.date(2023, 1, 1), \"New Year's Day\")\n",
      "Thanksgiving (datetime.date(2023, 1, 2), \"New Year's Day (Observed)\")\n",
      "Thanksgiving (datetime.date(2023, 1, 16), 'Martin Luther King Jr. Day')\n",
      "Thanksgiving (datetime.date(2023, 2, 20), \"Washington's Birthday\")\n",
      "Thanksgiving (datetime.date(2023, 5, 29), 'Memorial Day')\n",
      "Thanksgiving (datetime.date(2023, 6, 19), 'Juneteenth National Independence Day')\n",
      "Thanksgiving (datetime.date(2023, 7, 4), 'Independence Day')\n",
      "Thanksgiving (datetime.date(2023, 9, 4), 'Labor Day')\n",
      "Thanksgiving (datetime.date(2023, 10, 9), 'Columbus Day')\n",
      "Thanksgiving (datetime.date(2023, 11, 11), 'Veterans Day')\n",
      "Thanksgiving (datetime.date(2023, 11, 10), 'Veterans Day (Observed)')\n",
      "Thanksgiving (datetime.date(2023, 11, 23), 'Thanksgiving')\n",
      "Thanksgiving (datetime.date(2023, 12, 25), 'Christmas Day')\n",
      "Christmas (datetime.date(2024, 1, 1), \"New Year's Day\")\n",
      "Christmas (datetime.date(2024, 1, 15), 'Martin Luther King Jr. Day')\n",
      "Christmas (datetime.date(2024, 2, 19), \"Washington's Birthday\")\n",
      "Christmas (datetime.date(2024, 5, 27), 'Memorial Day')\n",
      "Christmas (datetime.date(2024, 6, 19), 'Juneteenth National Independence Day')\n",
      "Christmas (datetime.date(2024, 7, 4), 'Independence Day')\n",
      "Christmas (datetime.date(2024, 9, 2), 'Labor Day')\n",
      "Christmas (datetime.date(2024, 10, 14), 'Columbus Day')\n",
      "Christmas (datetime.date(2024, 11, 11), 'Veterans Day')\n",
      "Christmas (datetime.date(2024, 11, 28), 'Thanksgiving')\n",
      "Christmas (datetime.date(2024, 12, 25), 'Christmas Day')\n",
      "Christmas (datetime.date(2022, 1, 1), \"New Year's Day\")\n",
      "Christmas (datetime.date(2022, 1, 17), 'Martin Luther King Jr. Day')\n",
      "Christmas (datetime.date(2022, 2, 21), \"Washington's Birthday\")\n",
      "Christmas (datetime.date(2022, 5, 30), 'Memorial Day')\n",
      "Christmas (datetime.date(2022, 6, 19), 'Juneteenth National Independence Day')\n",
      "Christmas (datetime.date(2022, 6, 20), 'Juneteenth National Independence Day (Observed)')\n",
      "Christmas (datetime.date(2022, 7, 4), 'Independence Day')\n",
      "Christmas (datetime.date(2022, 9, 5), 'Labor Day')\n",
      "Christmas (datetime.date(2022, 10, 10), 'Columbus Day')\n",
      "Christmas (datetime.date(2022, 11, 11), 'Veterans Day')\n",
      "Christmas (datetime.date(2022, 11, 24), 'Thanksgiving')\n",
      "Christmas (datetime.date(2022, 12, 25), 'Christmas Day')\n",
      "Christmas (datetime.date(2022, 12, 26), 'Christmas Day (Observed)')\n",
      "Christmas (datetime.date(2023, 1, 1), \"New Year's Day\")\n",
      "Christmas (datetime.date(2023, 1, 2), \"New Year's Day (Observed)\")\n",
      "Christmas (datetime.date(2023, 1, 16), 'Martin Luther King Jr. Day')\n",
      "Christmas (datetime.date(2023, 2, 20), \"Washington's Birthday\")\n",
      "Christmas (datetime.date(2023, 5, 29), 'Memorial Day')\n",
      "Christmas (datetime.date(2023, 6, 19), 'Juneteenth National Independence Day')\n",
      "Christmas (datetime.date(2023, 7, 4), 'Independence Day')\n",
      "Christmas (datetime.date(2023, 9, 4), 'Labor Day')\n",
      "Christmas (datetime.date(2023, 10, 9), 'Columbus Day')\n",
      "Christmas (datetime.date(2023, 11, 11), 'Veterans Day')\n",
      "Christmas (datetime.date(2023, 11, 10), 'Veterans Day (Observed)')\n",
      "Christmas (datetime.date(2023, 11, 23), 'Thanksgiving')\n",
      "Christmas (datetime.date(2023, 12, 25), 'Christmas Day')\n",
      "New Year's (datetime.date(2024, 1, 1), \"New Year's Day\")\n",
      "New Year's (datetime.date(2024, 1, 15), 'Martin Luther King Jr. Day')\n",
      "New Year's (datetime.date(2024, 2, 19), \"Washington's Birthday\")\n",
      "New Year's (datetime.date(2024, 5, 27), 'Memorial Day')\n",
      "New Year's (datetime.date(2024, 6, 19), 'Juneteenth National Independence Day')\n",
      "New Year's (datetime.date(2024, 7, 4), 'Independence Day')\n",
      "New Year's (datetime.date(2024, 9, 2), 'Labor Day')\n",
      "New Year's (datetime.date(2024, 10, 14), 'Columbus Day')\n",
      "New Year's (datetime.date(2024, 11, 11), 'Veterans Day')\n",
      "New Year's (datetime.date(2024, 11, 28), 'Thanksgiving')\n",
      "New Year's (datetime.date(2024, 12, 25), 'Christmas Day')\n",
      "New Year's (datetime.date(2022, 1, 1), \"New Year's Day\")\n",
      "New Year's (datetime.date(2022, 1, 17), 'Martin Luther King Jr. Day')\n",
      "New Year's (datetime.date(2022, 2, 21), \"Washington's Birthday\")\n",
      "New Year's (datetime.date(2022, 5, 30), 'Memorial Day')\n",
      "New Year's (datetime.date(2022, 6, 19), 'Juneteenth National Independence Day')\n",
      "New Year's (datetime.date(2022, 6, 20), 'Juneteenth National Independence Day (Observed)')\n",
      "New Year's (datetime.date(2022, 7, 4), 'Independence Day')\n",
      "New Year's (datetime.date(2022, 9, 5), 'Labor Day')\n",
      "New Year's (datetime.date(2022, 10, 10), 'Columbus Day')\n",
      "New Year's (datetime.date(2022, 11, 11), 'Veterans Day')\n",
      "New Year's (datetime.date(2022, 11, 24), 'Thanksgiving')\n",
      "New Year's (datetime.date(2022, 12, 25), 'Christmas Day')\n",
      "New Year's (datetime.date(2022, 12, 26), 'Christmas Day (Observed)')\n",
      "New Year's (datetime.date(2023, 1, 1), \"New Year's Day\")\n",
      "New Year's (datetime.date(2023, 1, 2), \"New Year's Day (Observed)\")\n",
      "New Year's (datetime.date(2023, 1, 16), 'Martin Luther King Jr. Day')\n",
      "New Year's (datetime.date(2023, 2, 20), \"Washington's Birthday\")\n",
      "New Year's (datetime.date(2023, 5, 29), 'Memorial Day')\n",
      "New Year's (datetime.date(2023, 6, 19), 'Juneteenth National Independence Day')\n",
      "New Year's (datetime.date(2023, 7, 4), 'Independence Day')\n",
      "New Year's (datetime.date(2023, 9, 4), 'Labor Day')\n",
      "New Year's (datetime.date(2023, 10, 9), 'Columbus Day')\n",
      "New Year's (datetime.date(2023, 11, 11), 'Veterans Day')\n",
      "New Year's (datetime.date(2023, 11, 10), 'Veterans Day (Observed)')\n",
      "New Year's (datetime.date(2023, 11, 23), 'Thanksgiving')\n",
      "New Year's (datetime.date(2023, 12, 25), 'Christmas Day')\n"
     ]
    }
   ],
   "source": [
    "country = list(holidays.US(years = years).items())\n",
    "for item in holiday_days:\n",
    "    for x in country:\n",
    "        if item in x[1]:\n",
    "            yield x[0] #can't use yield outside of a function or lambda"
   ]
  },
  {
   "cell_type": "code",
   "execution_count": 57,
   "metadata": {},
   "outputs": [],
   "source": [
    "# function to filter all US or CA holidays down to closed holidays\n",
    "def intHolidayClosures(country_holidays, US):\n",
    "    \"\"\"Takes the list of holidays and checks the US/Canadian Holidays list.\n",
    "    Returns a date of every holiday existing in the countries list\"\"\"\n",
    "    year = date.today().year\n",
    "    years = [year, year + 1, year + 2]\n",
    "    if US:\n",
    "        holiday_days = country_holidays['USA']\n",
    "        country = list(holidays.US(years=years).items())\n",
    "    else:\n",
    "        holiday_days = country_holidays['CAN']\n",
    "        country = list(holidays.CA(years=years).items()) + [(date(x, 11, 11), \"Remembrance Day\") for x in years]\n",
    "    \n",
    "    for item in holiday_days:\n",
    "        for x in country:\n",
    "        # for x in intHolidays(date.today().year, date.today().year + 1, date.today().year + 2):\n",
    "            if item in x[1]:\n",
    "                yield x[0]\n"
   ]
  },
  {
   "cell_type": "code",
   "execution_count": 58,
   "metadata": {},
   "outputs": [
    {
     "data": {
      "text/plain": [
       "<generator object intHolidayClosures at 0x0000026318047890>"
      ]
     },
     "execution_count": 58,
     "metadata": {},
     "output_type": "execute_result"
    }
   ],
   "source": [
    "intHolidayClosures(country_holidays, True)"
   ]
  },
  {
   "cell_type": "code",
   "execution_count": 59,
   "metadata": {},
   "outputs": [
    {
     "name": "stdout",
     "output_type": "stream",
     "text": [
      "2024-05-27 <class 'datetime.date'>\n",
      "2022-05-30 <class 'datetime.date'>\n",
      "2023-05-29 <class 'datetime.date'>\n",
      "2024-09-02 <class 'datetime.date'>\n",
      "2022-09-05 <class 'datetime.date'>\n",
      "2023-09-04 <class 'datetime.date'>\n",
      "2024-06-19 <class 'datetime.date'>\n",
      "2024-07-04 <class 'datetime.date'>\n",
      "2022-06-19 <class 'datetime.date'>\n",
      "2022-06-20 <class 'datetime.date'>\n",
      "2022-07-04 <class 'datetime.date'>\n",
      "2023-06-19 <class 'datetime.date'>\n",
      "2023-07-04 <class 'datetime.date'>\n",
      "2024-11-28 <class 'datetime.date'>\n",
      "2022-11-24 <class 'datetime.date'>\n",
      "2023-11-23 <class 'datetime.date'>\n",
      "2024-12-25 <class 'datetime.date'>\n",
      "2022-12-25 <class 'datetime.date'>\n",
      "2022-12-26 <class 'datetime.date'>\n",
      "2023-12-25 <class 'datetime.date'>\n",
      "2024-01-01 <class 'datetime.date'>\n",
      "2022-01-01 <class 'datetime.date'>\n",
      "2023-01-01 <class 'datetime.date'>\n",
      "2023-01-02 <class 'datetime.date'>\n"
     ]
    }
   ],
   "source": [
    "\n",
    "for i in intHolidayClosures(country_holidays, True):\n",
    "    print(i, type(i))"
   ]
  },
  {
   "cell_type": "code",
   "execution_count": 5,
   "metadata": {},
   "outputs": [],
   "source": [
    "# function to filter all holidays down to closed holidays\n",
    "def domHolidayClosures(country_holidays, US):\n",
    "    year = date.today().year\n",
    "    years = [year, year + 1]\n",
    "    if US:\n",
    "        holiday_days = country_holidays['USA']\n",
    "        country = list(holidays.US(years=years).items())\n",
    "    else:\n",
    "        holiday_days = country_holidays['CAN']\n",
    "        country = list(holidays.CA(years=years).items()) + [(date(x, 11, 11), \"Remembrance Day\") for x in years]\n",
    "\n",
    "    for item in holiday_days:\n",
    "        for x in country:\n",
    "        # for x in intHolidays(date.today().year, date.today().year + 1, date.today().year + 2):\n",
    "            if item in x[1]:\n",
    "                yield x[0]"
   ]
  },
  {
   "cell_type": "code",
   "execution_count": 6,
   "metadata": {},
   "outputs": [],
   "source": [
    "def create_trips(int_stop_date, US):\n",
    "    for pu_d in allMondays(int_stop_date):\n",
    "        # drop off date is 17 days after today\n",
    "        do_d = pu_d + timedelta(17)\n",
    "        # Wed to Wed trips\n",
    "        pu_w = pu_d + timedelta(2)\n",
    "        do_w = pu_w + timedelta(7)\n",
    "        # for all mondays after today\n",
    "        if pu_d > date.today() + timedelta(10):\n",
    "            # if monday is a holiday, change pickup to Tuesday\n",
    "            if pu_d in intHolidayClosures(country_holidays, US):\n",
    "                pu_d += timedelta(1)\n",
    "            if pu_w in intHolidayClosures(country_holidays, US):\n",
    "                pu_w -= timedelta(1)\n",
    "            # if Thursday is a holiday, change drop off to Wednesday\n",
    "            if do_d in intHolidayClosures(country_holidays, US):\n",
    "                do_d -= timedelta(1)\n",
    "            if do_w in intHolidayClosures(country_holidays, US):\n",
    "                do_w += timedelta(1)\n",
    "\n",
    "            yield {'start_date':pu_d.strftime('%Y-%m-%d'),'start_day': pu_d.strftime('%d').lstrip('0'),'start_month': pu_d.strftime('%b'),'start_year': pu_d.strftime('%Y'),\n",
    "                   'start_wed_date':pu_w.strftime('%Y-%m-%d'),'start_wed_day': pu_w.strftime('%d').lstrip('0'),'start_wed_month': pu_w.strftime('%b'),'start_wed_year': pu_w.strftime('%Y'),\n",
    "                   'end_date':do_d.strftime('%Y-%m-%d'),'end_day':do_d.strftime('%d').lstrip('0'),'end_month':do_d.strftime('%b'),'end_year':do_d.strftime('%Y'),\n",
    "                   'end_wed_date':do_w.strftime('%Y-%m-%d'),'end_wed_day':do_w.strftime('%d').lstrip('0'),'end_wed_month':do_w.strftime('%b'),'end_wed_year':do_w.strftime('%Y')}"
   ]
  },
  {
   "cell_type": "code",
   "execution_count": 60,
   "metadata": {},
   "outputs": [],
   "source": [
    "# os.mkdir('./same_folder') makes a folder in the same direct\n",
    "# os.mkdir('../one_folder_up') goes up the directory tree once before creating the folder\n",
    "# os.mkdirs used to create multiple branches of a directory"
   ]
  },
  {
   "cell_type": "code",
   "execution_count": 62,
   "metadata": {},
   "outputs": [],
   "source": [
    "\n",
    "# function to create output filename\n",
    "def createFilename(site, log=False):\n",
    "    \"\"\"This function creates new file directories for the Wednesday International scraped data.\"\"\"\n",
    "    d = date.today()\n",
    "    while d.weekday() != 3:\n",
    "        d += timedelta(1)\n",
    "    d = d.strftime('%m-%d-%Y')\n",
    "    try: \n",
    "        os.makedirs(f'../Output Data/{d}')\n",
    "    except FileExistsError:\n",
    "        pass\n",
    "    try: \n",
    "        os.mkdir(f'../Output Data/{d}/International')\n",
    "    except FileExistsError:\n",
    "        pass\n",
    "    try:\n",
    "        os.mkdir(f'../Output Data/{d}/Logs')\n",
    "    except FileExistsError:\n",
    "        pass\n",
    "    if log:\n",
    "        filename = f'../Output Data/{d}/Logs/{site} Data Log.txt'\n",
    "    else:\n",
    "        filename = f'../Output Data/{d}/International/{site} Data {d}.csv'\n",
    "    return filename\n",
    "\n"
   ]
  },
  {
   "cell_type": "code",
   "execution_count": null,
   "metadata": {},
   "outputs": [],
   "source": []
  },
  {
   "cell_type": "code",
   "execution_count": 8,
   "metadata": {},
   "outputs": [],
   "source": [
    "# function to create output filename for wednesday trips\n",
    "def createWedFilename(site):\n",
    "    \"\"\"This function creates new file directories for the Wednesday International scraped data.\"\"\"\n",
    "    d = date.today()\n",
    "    while d.weekday() != 3:\n",
    "        d += timedelta(1)\n",
    "    d = d.strftime('%m-%d-%Y')\n",
    "    try: \n",
    "        os.mkdir(f'../Output Data/{d}')\n",
    "    except FileExistsError:\n",
    "        pass\n",
    "    try: \n",
    "        os.mkdir(f'../Output Data/{d}/International')\n",
    "    except FileExistsError:\n",
    "        pass\n",
    "    filename = f'../Output Data/{d}/International/{site} Wed. Data {d}.csv'\n",
    "    return filename\n"
   ]
  },
  {
   "cell_type": "code",
   "execution_count": 61,
   "metadata": {},
   "outputs": [],
   "source": [
    "\n",
    "# function to create output filename for domestic scrapes\n",
    "def createDomFilename(site, log=False):\n",
    "    \"\"\"This function creates new file directories for the Domestic scraped data.\"\"\"\n",
    "    d = date.today()\n",
    "    while d.weekday() != 3:\n",
    "        d += timedelta(1)\n",
    "    d = d.strftime('%m-%d-%Y')\n",
    "    try: \n",
    "        os.mkdir(f'../Output Data/{d}')\n",
    "    except FileExistsError:\n",
    "        pass\n",
    "    try: \n",
    "        os.mkdir(f'../Output Data/{d}/Domestic')\n",
    "    except FileExistsError:\n",
    "        pass\n",
    "    try:\n",
    "        os.mkdir(f'../Output Data/{d}/Logs')\n",
    "    except FileExistsError:\n",
    "        pass\n",
    "    if log:\n",
    "        filename = f'../Output Data/{d}/Logs/{site} Data Log.txt'\n",
    "    else:\n",
    "        filename = f'../Output Data/{d}/Domestic/{site} Data {d}.csv'\n",
    "    return filename"
   ]
  },
  {
   "cell_type": "markdown",
   "metadata": {},
   "source": [
    "## Splinter isn't compatible, etiher rewrite this function without splinter or find compatibility"
   ]
  },
  {
   "cell_type": "code",
   "execution_count": 63,
   "metadata": {},
   "outputs": [],
   "source": [
    "\n",
    "# returns browser with options set and handled\n",
    "def buildBrowser(executable_path, head=False):\n",
    "    chrome_options = webdriver.ChromeOptions()\n",
    "    chrome_options.add_argument('--ignore-certificate-errors')\n",
    "    chrome_options.add_argument('--ignore-ssl-errors')\n",
    "    chrome_options.add_argument(\"--disable-blink-features\")\n",
    "    chrome_options.add_argument(\"--disable-blink-features=AutomationControlled\")\n",
    "    chrome_options.add_experimental_option(\"excludeSwitches\", ['enable-automation'])\n",
    "    chrome_options.add_experimental_option('useAutomationExtension', False)\n",
    "    browser = Browser('chrome', options=chrome_options, **executable_path, headless=head)\n",
    "    browser.driver.set_window_position(-1915, 20)\n",
    "    browser.driver.set_window_size(1900, 1000)\n",
    "    browser.driver.set_page_load_timeout(60)\n",
    "    return browser"
   ]
  },
  {
   "cell_type": "code",
   "execution_count": 4,
   "metadata": {},
   "outputs": [],
   "source": [
    "#THIS APPEARS TO  WORK, MIGHT HAVE TO REVISE LATER\n",
    "# returns browser with options set and handled\n",
    "def buildBrowser(executable_path, head=False):\n",
    "    chrome_options = webdriver.ChromeOptions()\n",
    "    chrome_options.add_argument('--ignore-certificate-errors')\n",
    "    chrome_options.add_argument('--ignore-ssl-errors')\n",
    "    chrome_options.add_argument(\"--disable-blink-features\")\n",
    "    chrome_options.add_argument(\"--disable-blink-features=AutomationControlled\")\n",
    "    chrome_options.add_experimental_option(\"excludeSwitches\", ['enable-automation'])\n",
    "    chrome_options.add_experimental_option('useAutomationExtension', False)\n",
    "    \n",
    "    browser = webdriver.Chrome(executable_path,options = chrome_options)\n",
    "    \n",
    "    return browser\n",
    "\n",
    "\n",
    "\n"
   ]
  },
  {
   "cell_type": "code",
   "execution_count": 10,
   "metadata": {},
   "outputs": [
    {
     "name": "stderr",
     "output_type": "stream",
     "text": [
      "C:\\Users\\mriedeman\\AppData\\Local\\Temp\\ipykernel_22132\\621941248.py:11: DeprecationWarning: executable_path has been deprecated, please pass in a Service object\n",
      "  browser = webdriver.Chrome(executable_path,options = chrome_options)\n"
     ]
    }
   ],
   "source": [
    "#browser = webdriver.Chrome(executable_path = \"C:\\Program Files\\Chromedriver\\chromedriver.exe\")\n",
    "\n",
    "url = 'https://www.campertravelusa.com/'\n",
    "executable_path = \"C:\\Program Files\\Chromedriver\\chromedriver.exe\"\n",
    "browser = buildBrowser(executable_path)\n",
    "browser.get(url)"
   ]
  },
  {
   "cell_type": "code",
   "execution_count": null,
   "metadata": {},
   "outputs": [],
   "source": []
  }
 ],
 "metadata": {
  "kernelspec": {
   "display_name": "Python 3.9.12 ('base')",
   "language": "python",
   "name": "python3"
  },
  "language_info": {
   "codemirror_mode": {
    "name": "ipython",
    "version": 3
   },
   "file_extension": ".py",
   "mimetype": "text/x-python",
   "name": "python",
   "nbconvert_exporter": "python",
   "pygments_lexer": "ipython3",
   "version": "3.9.12"
  },
  "orig_nbformat": 4,
  "vscode": {
   "interpreter": {
    "hash": "29b3082124edaad559b18bf6d45f1f8684191a0c4a23f8bc3b2f284e4ccc27be"
   }
  }
 },
 "nbformat": 4,
 "nbformat_minor": 2
}
